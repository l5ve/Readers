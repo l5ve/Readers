{
 "cells": [
  {
   "cell_type": "code",
   "execution_count": 59,
   "metadata": {},
   "outputs": [],
   "source": [
    "from bs4 import BeautifulSoup\n",
    "from pprint import pprint\n",
    "import requests\n",
    "from selenium import webdriver\n",
    "from selenium.common.exceptions import NoSuchElementException\n",
    "import pymysql\n",
    "import re\n",
    "from urllib.parse import urlparse, parse_qs\n",
    "\n",
    "# mysql db connect\n",
    "db = pymysql.connect(host='52.78.23.232', user='root', password='readers7', port=3306, db='readers', charset='utf8', cursorclass=pymysql.cursors.DictCursor)\n",
    "cursor1 = db.cursor()\n",
    "cursor2 = db.cursor()\n",
    "cursor3 = db.cursor()\n",
    "cursor4 = db.cursor()"
   ]
  },
  {
   "cell_type": "code",
   "execution_count": 8,
   "metadata": {},
   "outputs": [],
   "source": [
    "# ------ 연재 웹툰 크롤링\n",
    "# 요일 탭 클릭\n",
    "def setDay(dayvalue):\n",
    "    day = browser.find_element_by_xpath(\"//*[@id=\\\"root\\\"]/div[3]/div[3]/div[2]/ul/li[\" + str(dayvalue) + \"]\")\n",
    "    day.click()\n",
    "    browser.implicitly_wait(3)\n",
    "\n",
    "def day_webtoon(day, num):\n",
    "    print('--', num)\n",
    "    webtoon = browser.find_element_by_xpath(\"//*[@id=\\\"root\\\"]/div[3]/div[3]/div[3]/ul/li[\" + str(num) + \"]/a\")\n",
    "    \n",
    "    # 작품 불러오기\n",
    "    toon_url = webtoon.get_attribute('href')\n",
    "    \n",
    "    # ID\n",
    "    toon_id = 'kakao_' + str(toon_url).replace(\"https://page.kakao.com/home?seriesId=\", '')\n",
    "    \n",
    "    # 요일 추출\n",
    "    if day == 1: weekday = 'mon'\n",
    "    if day == 2: weekday = 'tue'\n",
    "    if day == 3: weekday = 'wed'\n",
    "    if day == 4: weekday = 'thu'\n",
    "    if day == 5: weekday = 'fri'\n",
    "    if day == 6: weekday = 'sat'\n",
    "    if day == 7: weekday = 'sun'\n",
    "    cursor1.execute(weekday_sql, (toon_id, weekday))\n",
    "    \n",
    "    # 제목\n",
    "    name = webtoon.find_element_by_class_name('jsx-3847971416')\n",
    "    toon_name = name.text\n",
    "    \n",
    "    # 작가\n",
    "    writer = webtoon.find_element_by_class_name('author')\n",
    "    wrt_name = writer.text\n",
    "    \n",
    "    # 설명\n",
    "    description = webtoon.find_element_by_class_name('captionWrap')\n",
    "    desc = description.find_element_by_class_name('jsx-1134470472')\n",
    "    toon_desc = desc.text\n",
    "    \n",
    "    # 썸네일 주소\n",
    "    webtoon = browser.find_element_by_xpath(\"//*[@id=\\\"root\\\"]/div[3]/div[3]/div[3]/ul/li[\" + str(num) + \"]/a/div[1]/div[1]/div/img\")\n",
    "    browser.execute_script(\"arguments[0].scrollIntoView(true);\", webtoon) # Scroll to this webtoon element\n",
    "                         # Scroll to bottom is \"window.scrollTo(0,document.body.scrollHeight)\"\n",
    "    toon_thumb_url = 'https://page.kakao.com/static/common/bg_noImg.png?d0b47a2245ca6f22b0660775a3d5c27a'\n",
    "        # 이미지 로딩 안 된 현상 해결\n",
    "    while toon_thumb_url == 'https://page.kakao.com/static/common/bg_noImg.png?d0b47a2245ca6f22b0660775a3d5c27a':\n",
    "        toon_thumb_url = webtoon.get_attribute('src')\n",
    "        \n",
    "    print(toon_name)\n",
    "    \n",
    "    # toon_info\n",
    "    cursor1.execute(sel_sql)\n",
    "    result = cursor1.fetchall()\n",
    "    if (toon_id not in result):\n",
    "        cursor2.execute(ins_sql, (toon_id, toon_name, toon_url, toon_desc, 'kakao', wrt_name, 'X', toon_thumb_url))\n",
    "        #cursor3.execute(genre_sql, (toon_id, genre)) # 장르 정보 없음\n",
    "    db.commit()"
   ]
  },
  {
   "cell_type": "code",
   "execution_count": 9,
   "metadata": {
    "scrolled": true
   },
   "outputs": [
    {
     "name": "stdout",
     "output_type": "stream",
     "text": [
      "*********************\n",
      "1 day\n",
      "-- 1\n",
      "학사재생\n",
      "-- 2\n",
      "찬란한 액션 유치원"
     ]
    },
    {
     "name": "stderr",
     "output_type": "stream",
     "text": [
      "c:\\users\\administrator\\appdata\\local\\programs\\python\\python37\\lib\\site-packages\\pymysql\\cursors.py:329: Warning: (1062, \"Duplicate entry 'kakao_53956161-mon' for key 'PRIMARY'\")\n",
      "  self._do_get_result()\n"
     ]
    },
    {
     "name": "stdout",
     "output_type": "stream",
     "text": [
      "\n",
      "-- 3\n",
      "소금물 방\n"
     ]
    },
    {
     "name": "stderr",
     "output_type": "stream",
     "text": [
      "c:\\users\\administrator\\appdata\\local\\programs\\python\\python37\\lib\\site-packages\\pymysql\\cursors.py:329: Warning: (1062, \"Duplicate entry 'kakao_53784858-mon' for key 'PRIMARY'\")\n",
      "  self._do_get_result()\n"
     ]
    },
    {
     "name": "stdout",
     "output_type": "stream",
     "text": [
      "-- 4\n",
      "후궁계약\n"
     ]
    },
    {
     "name": "stderr",
     "output_type": "stream",
     "text": [
      "c:\\users\\administrator\\appdata\\local\\programs\\python\\python37\\lib\\site-packages\\pymysql\\cursors.py:329: Warning: (1062, \"Duplicate entry 'kakao_53462628-mon' for key 'PRIMARY'\")\n",
      "  self._do_get_result()\n"
     ]
    },
    {
     "name": "stdout",
     "output_type": "stream",
     "text": [
      "-- 5\n",
      "웽툰\n"
     ]
    },
    {
     "name": "stderr",
     "output_type": "stream",
     "text": [
      "c:\\users\\administrator\\appdata\\local\\programs\\python\\python37\\lib\\site-packages\\pymysql\\cursors.py:329: Warning: (1062, \"Duplicate entry 'kakao_53764524-mon' for key 'PRIMARY'\")\n",
      "  self._do_get_result()\n"
     ]
    },
    {
     "name": "stdout",
     "output_type": "stream",
     "text": [
      "-- 6\n",
      "트레이스-라스트\n"
     ]
    },
    {
     "name": "stderr",
     "output_type": "stream",
     "text": [
      "c:\\users\\administrator\\appdata\\local\\programs\\python\\python37\\lib\\site-packages\\pymysql\\cursors.py:329: Warning: (1062, \"Duplicate entry 'kakao_47497773-mon' for key 'PRIMARY'\")\n",
      "  self._do_get_result()\n",
      "c:\\users\\administrator\\appdata\\local\\programs\\python\\python37\\lib\\site-packages\\pymysql\\cursors.py:329: Warning: (1062, \"Duplicate entry 'kakao_52854334-mon' for key 'PRIMARY'\")\n",
      "  self._do_get_result()\n"
     ]
    },
    {
     "name": "stdout",
     "output_type": "stream",
     "text": [
      "-- 7\n",
      "과격자매단\n",
      "-- 8\n"
     ]
    },
    {
     "name": "stderr",
     "output_type": "stream",
     "text": [
      "c:\\users\\administrator\\appdata\\local\\programs\\python\\python37\\lib\\site-packages\\pymysql\\cursors.py:329: Warning: (1062, \"Duplicate entry 'kakao_46722380-mon' for key 'PRIMARY'\")\n",
      "  self._do_get_result()\n"
     ]
    },
    {
     "name": "stdout",
     "output_type": "stream",
     "text": [
      "창공의 크로이스\n",
      "-- 9\n",
      "정상회담 : 스틸레인3\n"
     ]
    },
    {
     "name": "stderr",
     "output_type": "stream",
     "text": [
      "c:\\users\\administrator\\appdata\\local\\programs\\python\\python37\\lib\\site-packages\\pymysql\\cursors.py:329: Warning: (1062, \"Duplicate entry 'kakao_53607692-mon' for key 'PRIMARY'\")\n",
      "  self._do_get_result()\n",
      "c:\\users\\administrator\\appdata\\local\\programs\\python\\python37\\lib\\site-packages\\pymysql\\cursors.py:329: Warning: (1062, \"Duplicate entry 'kakao_46810512-mon' for key 'PRIMARY'\")\n",
      "  self._do_get_result()\n"
     ]
    },
    {
     "name": "stdout",
     "output_type": "stream",
     "text": [
      "-- 10\n",
      "안티 안티 엔젤\n",
      "-- 11\n",
      "막내\n"
     ]
    },
    {
     "name": "stderr",
     "output_type": "stream",
     "text": [
      "c:\\users\\administrator\\appdata\\local\\programs\\python\\python37\\lib\\site-packages\\pymysql\\cursors.py:329: Warning: (1062, \"Duplicate entry 'kakao_51861833-mon' for key 'PRIMARY'\")\n",
      "  self._do_get_result()\n"
     ]
    },
    {
     "name": "stdout",
     "output_type": "stream",
     "text": [
      "-- 12\n",
      "해동고 짱짱맨 시즌2\n"
     ]
    },
    {
     "name": "stderr",
     "output_type": "stream",
     "text": [
      "c:\\users\\administrator\\appdata\\local\\programs\\python\\python37\\lib\\site-packages\\pymysql\\cursors.py:329: Warning: (1062, \"Duplicate entry 'kakao_50423236-mon' for key 'PRIMARY'\")\n",
      "  self._do_get_result()\n",
      "c:\\users\\administrator\\appdata\\local\\programs\\python\\python37\\lib\\site-packages\\pymysql\\cursors.py:329: Warning: (1062, \"Duplicate entry 'kakao_50320002-mon' for key 'PRIMARY'\")\n",
      "  self._do_get_result()\n"
     ]
    },
    {
     "name": "stdout",
     "output_type": "stream",
     "text": [
      "-- 13\n",
      "강철비\n",
      "-- 14\n",
      "*********************\n",
      "2 day\n",
      "-- 1\n",
      "달빛조각사\n",
      "-- 2\n",
      "우리 집 우렁이는\n"
     ]
    },
    {
     "name": "stderr",
     "output_type": "stream",
     "text": [
      "c:\\users\\administrator\\appdata\\local\\programs\\python\\python37\\lib\\site-packages\\pymysql\\cursors.py:329: Warning: (1062, \"Duplicate entry 'kakao_50764512-tue' for key 'PRIMARY'\")\n",
      "  self._do_get_result()\n"
     ]
    },
    {
     "name": "stdout",
     "output_type": "stream",
     "text": [
      "-- 3\n",
      "아비무쌍\n",
      "-- 4\n"
     ]
    },
    {
     "name": "stderr",
     "output_type": "stream",
     "text": [
      "c:\\users\\administrator\\appdata\\local\\programs\\python\\python37\\lib\\site-packages\\pymysql\\cursors.py:329: Warning: (1062, \"Duplicate entry 'kakao_52226628-tue' for key 'PRIMARY'\")\n",
      "  self._do_get_result()\n",
      "c:\\users\\administrator\\appdata\\local\\programs\\python\\python37\\lib\\site-packages\\pymysql\\cursors.py:329: Warning: (1062, \"Duplicate entry 'kakao_53868898-tue' for key 'PRIMARY'\")\n",
      "  self._do_get_result()\n"
     ]
    },
    {
     "name": "stdout",
     "output_type": "stream",
     "text": [
      "묘한 인생\n",
      "-- 5\n"
     ]
    },
    {
     "name": "stderr",
     "output_type": "stream",
     "text": [
      "c:\\users\\administrator\\appdata\\local\\programs\\python\\python37\\lib\\site-packages\\pymysql\\cursors.py:329: Warning: (1062, \"Duplicate entry 'kakao_53764524-tue' for key 'PRIMARY'\")\n",
      "  self._do_get_result()\n",
      "c:\\users\\administrator\\appdata\\local\\programs\\python\\python37\\lib\\site-packages\\pymysql\\cursors.py:329: Warning: (1062, \"Duplicate entry 'kakao_53764524' for key 'PRIMARY'\")\n",
      "  self._do_get_result()\n"
     ]
    },
    {
     "name": "stdout",
     "output_type": "stream",
     "text": [
      "웽툰\n",
      "-- 6\n"
     ]
    },
    {
     "name": "stderr",
     "output_type": "stream",
     "text": [
      "c:\\users\\administrator\\appdata\\local\\programs\\python\\python37\\lib\\site-packages\\pymysql\\cursors.py:329: Warning: (1062, \"Duplicate entry 'kakao_48225112-tue' for key 'PRIMARY'\")\n",
      "  self._do_get_result()\n",
      "c:\\users\\administrator\\appdata\\local\\programs\\python\\python37\\lib\\site-packages\\pymysql\\cursors.py:329: Warning: (1062, \"Duplicate entry 'kakao_51761551-tue' for key 'PRIMARY'\")\n",
      "  self._do_get_result()\n"
     ]
    },
    {
     "name": "stdout",
     "output_type": "stream",
     "text": [
      "엄마는 외국인 시즌3,4 [시즌4 연재]\n",
      "-- 7\n",
      "겟 레디 위드 미\n"
     ]
    },
    {
     "name": "stderr",
     "output_type": "stream",
     "text": [
      "c:\\users\\administrator\\appdata\\local\\programs\\python\\python37\\lib\\site-packages\\pymysql\\cursors.py:329: Warning: (1062, \"Duplicate entry 'kakao_53371781-tue' for key 'PRIMARY'\")\n",
      "  self._do_get_result()\n"
     ]
    },
    {
     "name": "stdout",
     "output_type": "stream",
     "text": [
      "-- 8\n",
      "빌린 몸\n",
      "-- 9\n"
     ]
    },
    {
     "name": "stderr",
     "output_type": "stream",
     "text": [
      "c:\\users\\administrator\\appdata\\local\\programs\\python\\python37\\lib\\site-packages\\pymysql\\cursors.py:329: Warning: (1062, \"Duplicate entry 'kakao_53635132-tue' for key 'PRIMARY'\")\n",
      "  self._do_get_result()\n",
      "c:\\users\\administrator\\appdata\\local\\programs\\python\\python37\\lib\\site-packages\\pymysql\\cursors.py:329: Warning: (1062, \"Duplicate entry 'kakao_51328791-tue' for key 'PRIMARY'\")\n",
      "  self._do_get_result()\n"
     ]
    },
    {
     "name": "stdout",
     "output_type": "stream",
     "text": [
      "미러게임\n",
      "-- 10\n",
      "해골병사는 던전을 지키지 못했다\n",
      "-- 11\n"
     ]
    },
    {
     "name": "stderr",
     "output_type": "stream",
     "text": [
      "c:\\users\\administrator\\appdata\\local\\programs\\python\\python37\\lib\\site-packages\\pymysql\\cursors.py:329: Warning: (1062, \"Duplicate entry 'kakao_51761548-tue' for key 'PRIMARY'\")\n",
      "  self._do_get_result()\n"
     ]
    },
    {
     "name": "stdout",
     "output_type": "stream",
     "text": [
      "헬로 마이 안드로이드\n",
      "-- 12\n"
     ]
    },
    {
     "name": "stderr",
     "output_type": "stream",
     "text": [
      "c:\\users\\administrator\\appdata\\local\\programs\\python\\python37\\lib\\site-packages\\pymysql\\cursors.py:329: Warning: (1062, \"Duplicate entry 'kakao_51601001-tue' for key 'PRIMARY'\")\n",
      "  self._do_get_result()\n"
     ]
    },
    {
     "name": "stdout",
     "output_type": "stream",
     "text": [
      "공중정원\n",
      "-- 13\n"
     ]
    },
    {
     "name": "stderr",
     "output_type": "stream",
     "text": [
      "c:\\users\\administrator\\appdata\\local\\programs\\python\\python37\\lib\\site-packages\\pymysql\\cursors.py:329: Warning: (1062, \"Duplicate entry 'kakao_53154557-tue' for key 'PRIMARY'\")\n",
      "  self._do_get_result()\n"
     ]
    },
    {
     "name": "stdout",
     "output_type": "stream",
     "text": [
      "체이서\n",
      "-- 14\n",
      "지옥사원\n"
     ]
    },
    {
     "name": "stderr",
     "output_type": "stream",
     "text": [
      "c:\\users\\administrator\\appdata\\local\\programs\\python\\python37\\lib\\site-packages\\pymysql\\cursors.py:329: Warning: (1062, \"Duplicate entry 'kakao_49887474-tue' for key 'PRIMARY'\")\n",
      "  self._do_get_result()\n"
     ]
    },
    {
     "name": "stdout",
     "output_type": "stream",
     "text": [
      "-- 15\n",
      "미생 두번째 시즌\n"
     ]
    },
    {
     "name": "stderr",
     "output_type": "stream",
     "text": [
      "c:\\users\\administrator\\appdata\\local\\programs\\python\\python37\\lib\\site-packages\\pymysql\\cursors.py:329: Warning: (1062, \"Duplicate entry 'kakao_47968772-tue' for key 'PRIMARY'\")\n",
      "  self._do_get_result()\n"
     ]
    },
    {
     "name": "stdout",
     "output_type": "stream",
     "text": [
      "-- 16\n",
      "저작재잘\n"
     ]
    },
    {
     "name": "stderr",
     "output_type": "stream",
     "text": [
      "c:\\users\\administrator\\appdata\\local\\programs\\python\\python37\\lib\\site-packages\\pymysql\\cursors.py:329: Warning: (1062, \"Duplicate entry 'kakao_53070165-tue' for key 'PRIMARY'\")\n",
      "  self._do_get_result()\n"
     ]
    },
    {
     "name": "stdout",
     "output_type": "stream",
     "text": [
      "-- 17\n",
      "*********************\n",
      "3 day\n",
      "-- 1\n",
      "FFF급 관심용사\n",
      "-- 2\n"
     ]
    },
    {
     "name": "stderr",
     "output_type": "stream",
     "text": [
      "c:\\users\\administrator\\appdata\\local\\programs\\python\\python37\\lib\\site-packages\\pymysql\\cursors.py:329: Warning: (1062, \"Duplicate entry 'kakao_53248339-wed' for key 'PRIMARY'\")\n",
      "  self._do_get_result()\n"
     ]
    },
    {
     "name": "stdout",
     "output_type": "stream",
     "text": [
      "여혜\n",
      "-- 3\n"
     ]
    },
    {
     "name": "stderr",
     "output_type": "stream",
     "text": [
      "c:\\users\\administrator\\appdata\\local\\programs\\python\\python37\\lib\\site-packages\\pymysql\\cursors.py:329: Warning: (1062, \"Duplicate entry 'kakao_50599523-wed' for key 'PRIMARY'\")\n",
      "  self._do_get_result()\n",
      "c:\\users\\administrator\\appdata\\local\\programs\\python\\python37\\lib\\site-packages\\pymysql\\cursors.py:329: Warning: (1062, \"Duplicate entry 'kakao_53457182-wed' for key 'PRIMARY'\")\n",
      "  self._do_get_result()\n"
     ]
    },
    {
     "name": "stdout",
     "output_type": "stream",
     "text": [
      "소녀샵\n",
      "-- 4\n",
      "키스해주세요\n",
      "-- 5\n",
      "왕자님의 막대사탕\n",
      "-- 6\n"
     ]
    },
    {
     "name": "stderr",
     "output_type": "stream",
     "text": [
      "c:\\users\\administrator\\appdata\\local\\programs\\python\\python37\\lib\\site-packages\\pymysql\\cursors.py:329: Warning: (1062, \"Duplicate entry 'kakao_51266991-wed' for key 'PRIMARY'\")\n",
      "  self._do_get_result()\n",
      "c:\\users\\administrator\\appdata\\local\\programs\\python\\python37\\lib\\site-packages\\pymysql\\cursors.py:329: Warning: (1062, \"Duplicate entry 'kakao_53764524-wed' for key 'PRIMARY'\")\n",
      "  self._do_get_result()\n"
     ]
    },
    {
     "name": "stdout",
     "output_type": "stream",
     "text": [
      "웽툰\n",
      "-- 7\n"
     ]
    },
    {
     "name": "stderr",
     "output_type": "stream",
     "text": [
      "c:\\users\\administrator\\appdata\\local\\programs\\python\\python37\\lib\\site-packages\\pymysql\\cursors.py:329: Warning: (1062, \"Duplicate entry 'kakao_51761530-wed' for key 'PRIMARY'\")\n",
      "  self._do_get_result()\n"
     ]
    },
    {
     "name": "stdout",
     "output_type": "stream",
     "text": [
      "헤븐즈 소울\n",
      "-- 8\n"
     ]
    },
    {
     "name": "stderr",
     "output_type": "stream",
     "text": [
      "c:\\users\\administrator\\appdata\\local\\programs\\python\\python37\\lib\\site-packages\\pymysql\\cursors.py:329: Warning: (1062, \"Duplicate entry 'kakao_53360073-wed' for key 'PRIMARY'\")\n",
      "  self._do_get_result()\n"
     ]
    },
    {
     "name": "stdout",
     "output_type": "stream",
     "text": [
      "포갓레인저 시즌3\n",
      "-- 9\n"
     ]
    },
    {
     "name": "stderr",
     "output_type": "stream",
     "text": [
      "c:\\users\\administrator\\appdata\\local\\programs\\python\\python37\\lib\\site-packages\\pymysql\\cursors.py:329: Warning: (1062, \"Duplicate entry 'kakao_52700399-wed' for key 'PRIMARY'\")\n",
      "  self._do_get_result()\n"
     ]
    },
    {
     "name": "stdout",
     "output_type": "stream",
     "text": [
      "카운터\n",
      "-- 10\n"
     ]
    },
    {
     "name": "stderr",
     "output_type": "stream",
     "text": [
      "c:\\users\\administrator\\appdata\\local\\programs\\python\\python37\\lib\\site-packages\\pymysql\\cursors.py:329: Warning: (1062, \"Duplicate entry 'kakao_53915501-wed' for key 'PRIMARY'\")\n",
      "  self._do_get_result()\n"
     ]
    },
    {
     "name": "stdout",
     "output_type": "stream",
     "text": [
      "마애 (磨崖)\n",
      "-- 11\n"
     ]
    },
    {
     "name": "stderr",
     "output_type": "stream",
     "text": [
      "c:\\users\\administrator\\appdata\\local\\programs\\python\\python37\\lib\\site-packages\\pymysql\\cursors.py:329: Warning: (1062, \"Duplicate entry 'kakao_48211158-wed' for key 'PRIMARY'\")\n",
      "  self._do_get_result()\n"
     ]
    },
    {
     "name": "stdout",
     "output_type": "stream",
     "text": [
      "좋아하면 울리는 시즌7\n",
      "-- 12\n"
     ]
    },
    {
     "name": "stderr",
     "output_type": "stream",
     "text": [
      "c:\\users\\administrator\\appdata\\local\\programs\\python\\python37\\lib\\site-packages\\pymysql\\cursors.py:329: Warning: (1062, \"Duplicate entry 'kakao_51099217-wed' for key 'PRIMARY'\")\n",
      "  self._do_get_result()\n"
     ]
    },
    {
     "name": "stdout",
     "output_type": "stream",
     "text": [
      "파티시에\n",
      "-- 13\n"
     ]
    },
    {
     "name": "stderr",
     "output_type": "stream",
     "text": [
      "c:\\users\\administrator\\appdata\\local\\programs\\python\\python37\\lib\\site-packages\\pymysql\\cursors.py:329: Warning: (1062, \"Duplicate entry 'kakao_51155742-wed' for key 'PRIMARY'\")\n",
      "  self._do_get_result()\n"
     ]
    },
    {
     "name": "stdout",
     "output_type": "stream",
     "text": [
      "아임 펫! 시즌4\n",
      "-- 14\n",
      "*********************\n",
      "4 day\n",
      "-- 1\n",
      "샬롯에게는 다섯 명의 제자가 있다\n",
      "-- 2\n"
     ]
    },
    {
     "name": "stderr",
     "output_type": "stream",
     "text": [
      "c:\\users\\administrator\\appdata\\local\\programs\\python\\python37\\lib\\site-packages\\pymysql\\cursors.py:329: Warning: (1062, \"Duplicate entry 'kakao_53930051-thu' for key 'PRIMARY'\")\n",
      "  self._do_get_result()\n"
     ]
    },
    {
     "name": "stdout",
     "output_type": "stream",
     "text": [
      "전지적 짝사랑 시점\n",
      "-- 3\n"
     ]
    },
    {
     "name": "stderr",
     "output_type": "stream",
     "text": [
      "c:\\users\\administrator\\appdata\\local\\programs\\python\\python37\\lib\\site-packages\\pymysql\\cursors.py:329: Warning: (1062, \"Duplicate entry 'kakao_53007019-thu' for key 'PRIMARY'\")\n",
      "  self._do_get_result()\n"
     ]
    },
    {
     "name": "stdout",
     "output_type": "stream",
     "text": [
      "블랙윈터\n",
      "-- 4\n",
      "꽃을 문 짐승\n"
     ]
    },
    {
     "name": "stderr",
     "output_type": "stream",
     "text": [
      "c:\\users\\administrator\\appdata\\local\\programs\\python\\python37\\lib\\site-packages\\pymysql\\cursors.py:329: Warning: (1062, \"Duplicate entry 'kakao_53580757-thu' for key 'PRIMARY'\")\n",
      "  self._do_get_result()\n",
      "c:\\users\\administrator\\appdata\\local\\programs\\python\\python37\\lib\\site-packages\\pymysql\\cursors.py:329: Warning: (1062, \"Duplicate entry 'kakao_52271074-thu' for key 'PRIMARY'\")\n",
      "  self._do_get_result()\n"
     ]
    },
    {
     "name": "stdout",
     "output_type": "stream",
     "text": [
      "-- 5\n",
      "승은이 망극하옵니다\n",
      "-- 6\n"
     ]
    },
    {
     "name": "stderr",
     "output_type": "stream",
     "text": [
      "c:\\users\\administrator\\appdata\\local\\programs\\python\\python37\\lib\\site-packages\\pymysql\\cursors.py:329: Warning: (1062, \"Duplicate entry 'kakao_53241986-thu' for key 'PRIMARY'\")\n",
      "  self._do_get_result()\n"
     ]
    },
    {
     "name": "stdout",
     "output_type": "stream",
     "text": [
      "스트레서\n",
      "-- 7\n"
     ]
    },
    {
     "name": "stderr",
     "output_type": "stream",
     "text": [
      "c:\\users\\administrator\\appdata\\local\\programs\\python\\python37\\lib\\site-packages\\pymysql\\cursors.py:329: Warning: (1062, \"Duplicate entry 'kakao_53764524-thu' for key 'PRIMARY'\")\n",
      "  self._do_get_result()\n"
     ]
    },
    {
     "name": "stdout",
     "output_type": "stream",
     "text": [
      "웽툰\n",
      "-- 8\n"
     ]
    },
    {
     "name": "stderr",
     "output_type": "stream",
     "text": [
      "c:\\users\\administrator\\appdata\\local\\programs\\python\\python37\\lib\\site-packages\\pymysql\\cursors.py:329: Warning: (1062, \"Duplicate entry 'kakao_48225112-thu' for key 'PRIMARY'\")\n",
      "  self._do_get_result()\n",
      "c:\\users\\administrator\\appdata\\local\\programs\\python\\python37\\lib\\site-packages\\pymysql\\cursors.py:329: Warning: (1062, \"Duplicate entry 'kakao_48225112' for key 'PRIMARY'\")\n",
      "  self._do_get_result()\n"
     ]
    },
    {
     "name": "stdout",
     "output_type": "stream",
     "text": [
      "엄마는 외국인 시즌3,4 [시즌4 연재]\n",
      "-- 9\n"
     ]
    },
    {
     "name": "stderr",
     "output_type": "stream",
     "text": [
      "c:\\users\\administrator\\appdata\\local\\programs\\python\\python37\\lib\\site-packages\\pymysql\\cursors.py:329: Warning: (1062, \"Duplicate entry 'kakao_53153957-thu' for key 'PRIMARY'\")\n",
      "  self._do_get_result()\n"
     ]
    },
    {
     "name": "stdout",
     "output_type": "stream",
     "text": [
      "배고픈 자들의 도시\n",
      "-- 10\n"
     ]
    },
    {
     "name": "stderr",
     "output_type": "stream",
     "text": [
      "c:\\users\\administrator\\appdata\\local\\programs\\python\\python37\\lib\\site-packages\\pymysql\\cursors.py:329: Warning: (1062, \"Duplicate entry 'kakao_52572591-thu' for key 'PRIMARY'\")\n",
      "  self._do_get_result()\n"
     ]
    },
    {
     "name": "stdout",
     "output_type": "stream",
     "text": [
      "머리 위로 부는 바람\n",
      "-- 11\n"
     ]
    },
    {
     "name": "stderr",
     "output_type": "stream",
     "text": [
      "c:\\users\\administrator\\appdata\\local\\programs\\python\\python37\\lib\\site-packages\\pymysql\\cursors.py:329: Warning: (1062, \"Duplicate entry 'kakao_52317281-thu' for key 'PRIMARY'\")\n",
      "  self._do_get_result()\n"
     ]
    },
    {
     "name": "stdout",
     "output_type": "stream",
     "text": [
      "크라이시스\n",
      "-- 12\n"
     ]
    },
    {
     "name": "stderr",
     "output_type": "stream",
     "text": [
      "c:\\users\\administrator\\appdata\\local\\programs\\python\\python37\\lib\\site-packages\\pymysql\\cursors.py:329: Warning: (1062, \"Duplicate entry 'kakao_53352504-thu' for key 'PRIMARY'\")\n",
      "  self._do_get_result()\n"
     ]
    },
    {
     "name": "stdout",
     "output_type": "stream",
     "text": [
      "사귀자\n",
      "-- 13\n",
      "구리의 구리구리 컴백\n",
      "-- 14\n"
     ]
    },
    {
     "name": "stderr",
     "output_type": "stream",
     "text": [
      "c:\\users\\administrator\\appdata\\local\\programs\\python\\python37\\lib\\site-packages\\pymysql\\cursors.py:329: Warning: (1062, \"Duplicate entry 'kakao_52757904-thu' for key 'PRIMARY'\")\n",
      "  self._do_get_result()\n",
      "c:\\users\\administrator\\appdata\\local\\programs\\python\\python37\\lib\\site-packages\\pymysql\\cursors.py:329: Warning: (1062, \"Duplicate entry 'kakao_46609998-thu' for key 'PRIMARY'\")\n",
      "  self._do_get_result()\n"
     ]
    },
    {
     "name": "stdout",
     "output_type": "stream",
     "text": [
      "요괴난전\n",
      "-- 15\n",
      "*********************\n",
      "5 day\n",
      "-- 1\n",
      "유리의 벽\n",
      "-- 2\n"
     ]
    },
    {
     "name": "stderr",
     "output_type": "stream",
     "text": [
      "c:\\users\\administrator\\appdata\\local\\programs\\python\\python37\\lib\\site-packages\\pymysql\\cursors.py:329: Warning: (1062, \"Duplicate entry 'kakao_50099907-fri' for key 'PRIMARY'\")\n",
      "  self._do_get_result()\n"
     ]
    },
    {
     "name": "stdout",
     "output_type": "stream",
     "text": [
      "뮈엘라의 수사관\n",
      "-- 3\n",
      "여혜\n"
     ]
    },
    {
     "name": "stderr",
     "output_type": "stream",
     "text": [
      "c:\\users\\administrator\\appdata\\local\\programs\\python\\python37\\lib\\site-packages\\pymysql\\cursors.py:329: Warning: (1062, \"Duplicate entry 'kakao_53248339-fri' for key 'PRIMARY'\")\n",
      "  self._do_get_result()\n",
      "c:\\users\\administrator\\appdata\\local\\programs\\python\\python37\\lib\\site-packages\\pymysql\\cursors.py:329: Warning: (1062, \"Duplicate entry 'kakao_53248339' for key 'PRIMARY'\")\n",
      "  self._do_get_result()\n"
     ]
    },
    {
     "name": "stdout",
     "output_type": "stream",
     "text": [
      "-- 4\n",
      "우리는 매일매일\n"
     ]
    },
    {
     "name": "stderr",
     "output_type": "stream",
     "text": [
      "c:\\users\\administrator\\appdata\\local\\programs\\python\\python37\\lib\\site-packages\\pymysql\\cursors.py:329: Warning: (1062, \"Duplicate entry 'kakao_53488000-fri' for key 'PRIMARY'\")\n",
      "  self._do_get_result()\n"
     ]
    },
    {
     "name": "stdout",
     "output_type": "stream",
     "text": [
      "-- 5\n",
      "네 살 차이\n",
      "-- 6\n"
     ]
    },
    {
     "name": "stderr",
     "output_type": "stream",
     "text": [
      "c:\\users\\administrator\\appdata\\local\\programs\\python\\python37\\lib\\site-packages\\pymysql\\cursors.py:329: Warning: (1062, \"Duplicate entry 'kakao_51880599-fri' for key 'PRIMARY'\")\n",
      "  self._do_get_result()\n",
      "c:\\users\\administrator\\appdata\\local\\programs\\python\\python37\\lib\\site-packages\\pymysql\\cursors.py:329: Warning: (1062, \"Duplicate entry 'kakao_53151520-fri' for key 'PRIMARY'\")\n",
      "  self._do_get_result()\n"
     ]
    },
    {
     "name": "stdout",
     "output_type": "stream",
     "text": [
      "51번째 남자\n",
      "-- 7\n"
     ]
    },
    {
     "name": "stderr",
     "output_type": "stream",
     "text": [
      "c:\\users\\administrator\\appdata\\local\\programs\\python\\python37\\lib\\site-packages\\pymysql\\cursors.py:329: Warning: (1062, \"Duplicate entry 'kakao_53764524-fri' for key 'PRIMARY'\")\n",
      "  self._do_get_result()\n"
     ]
    },
    {
     "name": "stdout",
     "output_type": "stream",
     "text": [
      "웽툰\n",
      "-- 8\n"
     ]
    },
    {
     "name": "stderr",
     "output_type": "stream",
     "text": [
      "c:\\users\\administrator\\appdata\\local\\programs\\python\\python37\\lib\\site-packages\\pymysql\\cursors.py:329: Warning: (1062, \"Duplicate entry 'kakao_50525897-fri' for key 'PRIMARY'\")\n",
      "  self._do_get_result()\n"
     ]
    },
    {
     "name": "stdout",
     "output_type": "stream",
     "text": [
      "판피아 전기\n",
      "-- 9\n"
     ]
    },
    {
     "name": "stderr",
     "output_type": "stream",
     "text": [
      "c:\\users\\administrator\\appdata\\local\\programs\\python\\python37\\lib\\site-packages\\pymysql\\cursors.py:329: Warning: (1062, \"Duplicate entry 'kakao_52854521-fri' for key 'PRIMARY'\")\n",
      "  self._do_get_result()\n"
     ]
    },
    {
     "name": "stdout",
     "output_type": "stream",
     "text": [
      "끼리끼리\n",
      "-- 10\n"
     ]
    },
    {
     "name": "stderr",
     "output_type": "stream",
     "text": [
      "c:\\users\\administrator\\appdata\\local\\programs\\python\\python37\\lib\\site-packages\\pymysql\\cursors.py:329: Warning: (1062, \"Duplicate entry 'kakao_53930054-fri' for key 'PRIMARY'\")\n",
      "  self._do_get_result()\n"
     ]
    },
    {
     "name": "stdout",
     "output_type": "stream",
     "text": [
      "씽커\n",
      "-- 11\n",
      "오늘도 꽐랄라라\n"
     ]
    },
    {
     "name": "stderr",
     "output_type": "stream",
     "text": [
      "c:\\users\\administrator\\appdata\\local\\programs\\python\\python37\\lib\\site-packages\\pymysql\\cursors.py:329: Warning: (1062, \"Duplicate entry 'kakao_53770814-fri' for key 'PRIMARY'\")\n",
      "  self._do_get_result()\n"
     ]
    },
    {
     "name": "stdout",
     "output_type": "stream",
     "text": [
      "-- 12\n"
     ]
    },
    {
     "name": "stderr",
     "output_type": "stream",
     "text": [
      "c:\\users\\administrator\\appdata\\local\\programs\\python\\python37\\lib\\site-packages\\pymysql\\cursors.py:329: Warning: (1062, \"Duplicate entry 'kakao_51880632-fri' for key 'PRIMARY'\")\n",
      "  self._do_get_result()\n"
     ]
    },
    {
     "name": "stdout",
     "output_type": "stream",
     "text": [
      "키몽의 호구로운 생활\n",
      "-- 13\n"
     ]
    },
    {
     "name": "stderr",
     "output_type": "stream",
     "text": [
      "c:\\users\\administrator\\appdata\\local\\programs\\python\\python37\\lib\\site-packages\\pymysql\\cursors.py:329: Warning: (1062, \"Duplicate entry 'kakao_49544034-fri' for key 'PRIMARY'\")\n",
      "  self._do_get_result()\n"
     ]
    },
    {
     "name": "stdout",
     "output_type": "stream",
     "text": [
      "소울아크\n",
      "-- 14\n"
     ]
    },
    {
     "name": "stderr",
     "output_type": "stream",
     "text": [
      "c:\\users\\administrator\\appdata\\local\\programs\\python\\python37\\lib\\site-packages\\pymysql\\cursors.py:329: Warning: (1062, \"Duplicate entry 'kakao_51785208-fri' for key 'PRIMARY'\")\n",
      "  self._do_get_result()\n"
     ]
    },
    {
     "name": "stdout",
     "output_type": "stream",
     "text": [
      "고등패왕전기\n",
      "-- 15\n"
     ]
    },
    {
     "name": "stderr",
     "output_type": "stream",
     "text": [
      "c:\\users\\administrator\\appdata\\local\\programs\\python\\python37\\lib\\site-packages\\pymysql\\cursors.py:329: Warning: (1062, \"Duplicate entry 'kakao_51155742-fri' for key 'PRIMARY'\")\n",
      "  self._do_get_result()\n",
      "c:\\users\\administrator\\appdata\\local\\programs\\python\\python37\\lib\\site-packages\\pymysql\\cursors.py:329: Warning: (1062, \"Duplicate entry 'kakao_51155742' for key 'PRIMARY'\")\n",
      "  self._do_get_result()\n"
     ]
    },
    {
     "name": "stdout",
     "output_type": "stream",
     "text": [
      "아임 펫! 시즌4\n",
      "-- 16\n",
      "저작재잘\n"
     ]
    },
    {
     "name": "stderr",
     "output_type": "stream",
     "text": [
      "c:\\users\\administrator\\appdata\\local\\programs\\python\\python37\\lib\\site-packages\\pymysql\\cursors.py:329: Warning: (1062, \"Duplicate entry 'kakao_53070165-fri' for key 'PRIMARY'\")\n",
      "  self._do_get_result()\n",
      "c:\\users\\administrator\\appdata\\local\\programs\\python\\python37\\lib\\site-packages\\pymysql\\cursors.py:329: Warning: (1062, \"Duplicate entry 'kakao_53070165' for key 'PRIMARY'\")\n",
      "  self._do_get_result()\n",
      "c:\\users\\administrator\\appdata\\local\\programs\\python\\python37\\lib\\site-packages\\pymysql\\cursors.py:329: Warning: (1062, \"Duplicate entry 'kakao_49202898-fri' for key 'PRIMARY'\")\n",
      "  self._do_get_result()\n"
     ]
    },
    {
     "name": "stdout",
     "output_type": "stream",
     "text": [
      "-- 17\n",
      "블랙마리아\n",
      "-- 18\n",
      "*********************\n",
      "6 day\n",
      "-- 1\n",
      "공작부인의 50가지 티 레시피\n",
      "-- 2\n",
      "악역의 구원자\n"
     ]
    },
    {
     "name": "stderr",
     "output_type": "stream",
     "text": [
      "c:\\users\\administrator\\appdata\\local\\programs\\python\\python37\\lib\\site-packages\\pymysql\\cursors.py:329: Warning: (1062, \"Duplicate entry 'kakao_52700402-sat' for key 'PRIMARY'\")\n",
      "  self._do_get_result()\n"
     ]
    },
    {
     "name": "stdout",
     "output_type": "stream",
     "text": [
      "-- 3\n"
     ]
    },
    {
     "name": "stderr",
     "output_type": "stream",
     "text": [
      "c:\\users\\administrator\\appdata\\local\\programs\\python\\python37\\lib\\site-packages\\pymysql\\cursors.py:329: Warning: (1062, \"Duplicate entry 'kakao_53956161-sat' for key 'PRIMARY'\")\n",
      "  self._do_get_result()\n"
     ]
    },
    {
     "name": "stdout",
     "output_type": "stream",
     "text": [
      "찬란한 액션 유치원\n",
      "-- 4\n"
     ]
    },
    {
     "name": "stderr",
     "output_type": "stream",
     "text": [
      "c:\\users\\administrator\\appdata\\local\\programs\\python\\python37\\lib\\site-packages\\pymysql\\cursors.py:329: Warning: (1062, \"Duplicate entry 'kakao_53956161' for key 'PRIMARY'\")\n",
      "  self._do_get_result()\n",
      "c:\\users\\administrator\\appdata\\local\\programs\\python\\python37\\lib\\site-packages\\pymysql\\cursors.py:329: Warning: (1062, \"Duplicate entry 'kakao_53397318-sat' for key 'PRIMARY'\")\n",
      "  self._do_get_result()\n"
     ]
    },
    {
     "name": "stdout",
     "output_type": "stream",
     "text": [
      "부기영화\n",
      "-- 5\n"
     ]
    },
    {
     "name": "stderr",
     "output_type": "stream",
     "text": [
      "c:\\users\\administrator\\appdata\\local\\programs\\python\\python37\\lib\\site-packages\\pymysql\\cursors.py:329: Warning: (1062, \"Duplicate entry 'kakao_53350026-sat' for key 'PRIMARY'\")\n",
      "  self._do_get_result()\n"
     ]
    },
    {
     "name": "stdout",
     "output_type": "stream",
     "text": [
      "전학생 오덕구\n",
      "-- 6\n"
     ]
    },
    {
     "name": "stderr",
     "output_type": "stream",
     "text": [
      "c:\\users\\administrator\\appdata\\local\\programs\\python\\python37\\lib\\site-packages\\pymysql\\cursors.py:329: Warning: (1062, \"Duplicate entry 'kakao_53162627-sat' for key 'PRIMARY'\")\n",
      "  self._do_get_result()\n"
     ]
    },
    {
     "name": "stdout",
     "output_type": "stream",
     "text": [
      "순정 히포크라테스\n",
      "-- 7\n"
     ]
    },
    {
     "name": "stderr",
     "output_type": "stream",
     "text": [
      "c:\\users\\administrator\\appdata\\local\\programs\\python\\python37\\lib\\site-packages\\pymysql\\cursors.py:329: Warning: (1062, \"Duplicate entry 'kakao_52760334-sat' for key 'PRIMARY'\")\n",
      "  self._do_get_result()\n"
     ]
    },
    {
     "name": "stdout",
     "output_type": "stream",
     "text": [
      "표류감옥\n",
      "-- 8\n"
     ]
    },
    {
     "name": "stderr",
     "output_type": "stream",
     "text": [
      "c:\\users\\administrator\\appdata\\local\\programs\\python\\python37\\lib\\site-packages\\pymysql\\cursors.py:329: Warning: (1062, \"Duplicate entry 'kakao_48176488-sat' for key 'PRIMARY'\")\n",
      "  self._do_get_result()\n"
     ]
    },
    {
     "name": "stdout",
     "output_type": "stream",
     "text": [
      "애니멀 아이즈\n",
      "-- 9\n"
     ]
    },
    {
     "name": "stderr",
     "output_type": "stream",
     "text": [
      "c:\\users\\administrator\\appdata\\local\\programs\\python\\python37\\lib\\site-packages\\pymysql\\cursors.py:329: Warning: (1062, \"Duplicate entry 'kakao_53491650-sat' for key 'PRIMARY'\")\n",
      "  self._do_get_result()\n"
     ]
    },
    {
     "name": "stdout",
     "output_type": "stream",
     "text": [
      "Go Bananas\n",
      "-- 10\n",
      "*********************\n",
      "7 day\n",
      "-- 1\n",
      "눈부시게 빛나는\n",
      "-- 2\n"
     ]
    },
    {
     "name": "stderr",
     "output_type": "stream",
     "text": [
      "c:\\users\\administrator\\appdata\\local\\programs\\python\\python37\\lib\\site-packages\\pymysql\\cursors.py:329: Warning: (1062, \"Duplicate entry 'kakao_53769306-sun' for key 'PRIMARY'\")\n",
      "  self._do_get_result()\n"
     ]
    },
    {
     "name": "stdout",
     "output_type": "stream",
     "text": [
      "대마법사의 딸\n",
      "-- 3\n"
     ]
    },
    {
     "name": "stderr",
     "output_type": "stream",
     "text": [
      "c:\\users\\administrator\\appdata\\local\\programs\\python\\python37\\lib\\site-packages\\pymysql\\cursors.py:329: Warning: (1062, \"Duplicate entry 'kakao_53491663-sun' for key 'PRIMARY'\")\n",
      "  self._do_get_result()\n"
     ]
    },
    {
     "name": "stdout",
     "output_type": "stream",
     "text": [
      "내 일진이 이렇게 귀여울리가 없어\n",
      "-- 4\n"
     ]
    },
    {
     "name": "stderr",
     "output_type": "stream",
     "text": [
      "c:\\users\\administrator\\appdata\\local\\programs\\python\\python37\\lib\\site-packages\\pymysql\\cursors.py:329: Warning: (1062, \"Duplicate entry 'kakao_51761556-sun' for key 'PRIMARY'\")\n",
      "  self._do_get_result()\n"
     ]
    },
    {
     "name": "stdout",
     "output_type": "stream",
     "text": [
      "대디보이\n",
      "-- 5\n",
      "하필 너야?!\n"
     ]
    },
    {
     "name": "stderr",
     "output_type": "stream",
     "text": [
      "c:\\users\\administrator\\appdata\\local\\programs\\python\\python37\\lib\\site-packages\\pymysql\\cursors.py:329: Warning: (1062, \"Duplicate entry 'kakao_53339353-sun' for key 'PRIMARY'\")\n",
      "  self._do_get_result()\n",
      "c:\\users\\administrator\\appdata\\local\\programs\\python\\python37\\lib\\site-packages\\pymysql\\cursors.py:329: Warning: (1062, \"Duplicate entry 'kakao_53607690-sun' for key 'PRIMARY'\")\n",
      "  self._do_get_result()\n"
     ]
    },
    {
     "name": "stdout",
     "output_type": "stream",
     "text": [
      "-- 6\n",
      "하렘생존기\n",
      "-- 7\n"
     ]
    },
    {
     "name": "stderr",
     "output_type": "stream",
     "text": [
      "c:\\users\\administrator\\appdata\\local\\programs\\python\\python37\\lib\\site-packages\\pymysql\\cursors.py:329: Warning: (1062, \"Duplicate entry 'kakao_53328740-sun' for key 'PRIMARY'\")\n",
      "  self._do_get_result()\n"
     ]
    },
    {
     "name": "stdout",
     "output_type": "stream",
     "text": [
      "일진사냥\n",
      "-- 8\n"
     ]
    },
    {
     "name": "stderr",
     "output_type": "stream",
     "text": [
      "c:\\users\\administrator\\appdata\\local\\programs\\python\\python37\\lib\\site-packages\\pymysql\\cursors.py:329: Warning: (1062, \"Duplicate entry 'kakao_51649140-sun' for key 'PRIMARY'\")\n",
      "  self._do_get_result()\n"
     ]
    },
    {
     "name": "stdout",
     "output_type": "stream",
     "text": [
      "항변신\n",
      "-- 9\n",
      "Go Bananas\n"
     ]
    },
    {
     "name": "stderr",
     "output_type": "stream",
     "text": [
      "c:\\users\\administrator\\appdata\\local\\programs\\python\\python37\\lib\\site-packages\\pymysql\\cursors.py:329: Warning: (1062, \"Duplicate entry 'kakao_53491650-sun' for key 'PRIMARY'\")\n",
      "  self._do_get_result()\n",
      "c:\\users\\administrator\\appdata\\local\\programs\\python\\python37\\lib\\site-packages\\pymysql\\cursors.py:329: Warning: (1062, \"Duplicate entry 'kakao_53491650' for key 'PRIMARY'\")\n",
      "  self._do_get_result()\n"
     ]
    },
    {
     "name": "stdout",
     "output_type": "stream",
     "text": [
      "-- 10\n",
      "스타폴:별을 위한 노래"
     ]
    },
    {
     "name": "stderr",
     "output_type": "stream",
     "text": [
      "c:\\users\\administrator\\appdata\\local\\programs\\python\\python37\\lib\\site-packages\\pymysql\\cursors.py:329: Warning: (1062, \"Duplicate entry 'kakao_48077823-sun' for key 'PRIMARY'\")\n",
      "  self._do_get_result()\n"
     ]
    },
    {
     "name": "stdout",
     "output_type": "stream",
     "text": [
      "\n",
      "-- 11\n"
     ]
    },
    {
     "name": "stderr",
     "output_type": "stream",
     "text": [
      "c:\\users\\administrator\\appdata\\local\\programs\\python\\python37\\lib\\site-packages\\pymysql\\cursors.py:329: Warning: (1062, \"Duplicate entry 'kakao_48211158-sun' for key 'PRIMARY'\")\n",
      "  self._do_get_result()\n",
      "c:\\users\\administrator\\appdata\\local\\programs\\python\\python37\\lib\\site-packages\\pymysql\\cursors.py:329: Warning: (1062, \"Duplicate entry 'kakao_48211158' for key 'PRIMARY'\")\n",
      "  self._do_get_result()\n"
     ]
    },
    {
     "name": "stdout",
     "output_type": "stream",
     "text": [
      "좋아하면 울리는 시즌7\n",
      "-- 12\n"
     ]
    }
   ],
   "source": [
    "sel_sql = \"select toon_id from toon_info\"\n",
    "ins_sql = \"insert ignore into toon_info(toon_id, toon_name, toon_url, toon_desc, toon_site, wrt_name, is_end, toon_thumb_url)\\\n",
    "           values (%s, %s, %s, %s, %s, %s, %s, %s)\"\n",
    "weekday_sql = \"insert ignore into toon_weekday(toon_id, toon_weekday)\\\n",
    "               values (%s, %s)\"\n",
    "'''\n",
    "genre_sql = \"insert ignore into toon_genre(toon_id, genre_name)\\\n",
    "             values (%s, %s)\"\n",
    "'''\n",
    "\n",
    "\n",
    "browser = webdriver.Chrome('C:/Users/Administrator/OneDrive/Readers/Crawling/chromedriver.exe')\n",
    "browser.get('https://page.kakao.com/main?categoryUid=10&subCategoryUid=1000')\n",
    "\n",
    "for day in range(1, 8):\n",
    "    # Scroll to Top 안 해주면 element 분석 못함;\n",
    "    # 크롤링 하는 중에 페이지 내에서 내가 스크롤 해도 갑자기 오류뜸ㅋ 예민한놈\n",
    "    browser.execute_script(\"window.scrollTo(0,0);\")\n",
    "    \n",
    "    setDay(day)\n",
    "    print('*********************')\n",
    "    print(day, 'day')\n",
    "    for num in range(1, 100):\n",
    "        try:\n",
    "            day_webtoon(day, num)\n",
    "        except:\n",
    "            break;\n",
    "db.close()"
   ]
  },
  {
   "cell_type": "code",
   "execution_count": 10,
   "metadata": {},
   "outputs": [],
   "source": []
  },
  {
   "cell_type": "code",
   "execution_count": null,
   "metadata": {
    "scrolled": true
   },
   "outputs": [],
   "source": [
    "# ------ 회차 정보\n",
    "browser = webdriver.Chrome('C:/Users/Administrator/OneDrive/Readers/Crawling/chromedriver.exe')\n",
    "\n",
    "sel_url_sql = 'select toon_id, toon_url from toon_info where toon_site = \"kakao\"'\n",
    "sel_dup_sql = 'select toon_id, epi_name from epi_info where toon_id = %s and epi_name = %s'\n",
    "ins_epi_info_sql = 'insert into epi_info(toon_id, epi_name, epi_url, epi_thumb_url, epi_date)\\\n",
    "                    values (%s, %s, %s, %s, %s)'\n",
    "\n",
    "cursor1.execute(sel_url_sql)\n",
    "result = cursor1.fetchall()\n",
    "   \n",
    "for row in result:\n",
    "    toon_id = row['toon_id']\n",
    "    toon_url = row['toon_url'] + '&page='\n",
    "    page = 1\n",
    "    #print('*********************************************')\n",
    "    #print('<' + toon_id + '>')\n",
    "    \n",
    "    num = 1 # episode 개수 탐색\n",
    "    while num < 99999:\n",
    "        try:\n",
    "            browser.get(toon_url+ str(page))\n",
    "            episode = browser.find_element_by_xpath(\"//*[@id=\\\"root\\\"]/div[3]/div/div/div[3]/ul/li[\" + str(num) + \"]\")\n",
    "            browser.execute_script(\"arguments[0].scrollIntoView(true);\", episode) # Scroll to this episode\n",
    "            browser.implicitly_wait(3)\n",
    "            \n",
    "            # 에피소드 제목\n",
    "            name = episode.find_element_by_xpath('div[2]/dl/dt/p')\n",
    "            epi_name = name.text\n",
    "            \n",
    "            \n",
    "            # 여기다 cursor2.fetchall 넣으면 될듯....\n",
    "            \n",
    "            # 에피소드 링크\n",
    "            epi_id = episode.get_attribute('data-productid')\n",
    "            epi_url = \"https://page.kakao.com/viewer?productId=\" + epi_id\n",
    "            \n",
    "            # 썸네일 링크\n",
    "            thumb = episode.find_element_by_xpath(\"div[1]/div/div/img\")\n",
    "                # 이미지 로딩 안 된 현상 해결\n",
    "            epi_thumb_url = 'https://page.kakao.com/static/common/bg_noImg.png?d0b47a2245ca6f22b0660775a3d5c27a'\n",
    "            while epi_thumb_url == 'https://page.kakao.com/static/common/bg_noImg.png?d0b47a2245ca6f22b0660775a3d5c27a':\n",
    "                epi_thumb_url = thumb.get_attribute('src')\n",
    "            \n",
    "            # 업데이트 날짜 추출\n",
    "            date = episode.find_element_by_xpath(\"div[2]/dl/dd\")\n",
    "            epi_date = date.text.replace(\".\", \"-\")\n",
    "            \n",
    "            \n",
    "            \n",
    "            cursor2.execute(sel_dup_sql, (toon_id, epi_name))\n",
    "            if cursor2.fetchall():\n",
    "                num += 1\n",
    "                continue\n",
    "            else:\n",
    "                cursor3.execute(ins_epi_info_sql, (toon_id, epi_name, epi_url, epi_thumb_url, epi_date))\n",
    "                db.commit()\n",
    "                \n",
    "            num += 1\n",
    "        except:\n",
    "            # 다음 페이지가 유효한 지 검사\n",
    "            browser.get(toon_url + str(page+1))\n",
    "            num = 1\n",
    "            try:\n",
    "                browser.find_element_by_xpath(\"//*[@id=\\\"root\\\"]/div[3]/div/div/div[3]/ul/li[\" + str(num) + \"]\")\n",
    "                page += 1\n",
    "                continue\n",
    "            except NoSuchElementException:\n",
    "                break\n",
    "db.close()"
   ]
  },
  {
   "cell_type": "code",
   "execution_count": null,
   "metadata": {},
   "outputs": [],
   "source": []
  }
 ],
 "metadata": {
  "kernelspec": {
   "display_name": "Python 3",
   "language": "python",
   "name": "python3"
  },
  "language_info": {
   "codemirror_mode": {
    "name": "ipython",
    "version": 3
   },
   "file_extension": ".py",
   "mimetype": "text/x-python",
   "name": "python",
   "nbconvert_exporter": "python",
   "pygments_lexer": "ipython3",
   "version": "3.7.2"
  }
 },
 "nbformat": 4,
 "nbformat_minor": 2
}
