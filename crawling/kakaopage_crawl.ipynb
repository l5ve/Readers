{
 "cells": [
  {
   "cell_type": "code",
   "execution_count": 18,
   "metadata": {},
   "outputs": [],
   "source": [
    "from bs4 import BeautifulSoup\n",
    "from pprint import pprint\n",
    "import requests\n",
    "from selenium import webdriver\n",
    "from selenium.common.exceptions import NoSuchElementException\n",
    "import pymysql\n",
    "import re\n",
    "from urllib.parse import urlparse, parse_qs\n",
    "\n",
    "# mysql db connect\n",
    "# need to fill below host, user, password\n",
    "#db = pymysql.connect(host='', user='', password='', port=3306, db='readers', charset='utf8', cursorclass=pymysql.cursors.DictCursor)\n",
    "cursor1 = db.cursor()\n",
    "cursor2 = db.cursor()\n",
    "cursor3 = db.cursor()\n",
    "cursor4 = db.cursor()"
   ]
  },
  {
   "cell_type": "code",
   "execution_count": 2,
   "metadata": {},
   "outputs": [],
   "source": [
    "# ------ 연재 웹툰 크롤링\n",
    "# 요일 탭 클릭\n",
    "def setDay(dayvalue):\n",
    "    day = browser.find_element_by_xpath(\"//*[@id=\\\"root\\\"]/div[3]/div[3]/div[2]/ul/li[\" + str(dayvalue) + \"]\")\n",
    "    day.click()\n",
    "    browser.implicitly_wait(3)\n",
    "\n",
    "def day_webtoon(day, num):\n",
    "    webtoon = browser.find_element_by_xpath(\"//*[@id=\\\"root\\\"]/div[3]/div[3]/div[3]/ul/li[\" + str(num) + \"]/a\")\n",
    "    \n",
    "    # 작품 불러오기\n",
    "    toon_url = webtoon.get_attribute('href')\n",
    "    \n",
    "    # ID\n",
    "    toon_id = 'kakao_' + str(toon_url).replace(\"https://page.kakao.com/home?seriesId=\", '')\n",
    "    \n",
    "    # 요일 추출\n",
    "    if day == 1: weekday = 'mon'\n",
    "    if day == 2: weekday = 'tue'\n",
    "    if day == 3: weekday = 'wed'\n",
    "    if day == 4: weekday = 'thu'\n",
    "    if day == 5: weekday = 'fri'\n",
    "    if day == 6: weekday = 'sat'\n",
    "    if day == 7: weekday = 'sun'\n",
    "    cursor1.execute(weekday_sql, (toon_id, weekday))\n",
    "    \n",
    "    # 제목\n",
    "    name = webtoon.find_element_by_class_name('jsx-3847971416')\n",
    "    toon_name = name.text\n",
    "    \n",
    "    # 작가\n",
    "    writer = webtoon.find_element_by_class_name('author')\n",
    "    wrt_name = writer.text\n",
    "    \n",
    "    # 설명\n",
    "    description = webtoon.find_element_by_class_name('captionWrap')\n",
    "    desc = description.find_element_by_class_name('jsx-1134470472')\n",
    "    toon_desc = desc.text\n",
    "    \n",
    "    # 썸네일 주소\n",
    "    webtoon = browser.find_element_by_xpath(\"//*[@id=\\\"root\\\"]/div[3]/div[3]/div[3]/ul/li[\" + str(num) + \"]/a/div[1]/div[1]/div/img\")\n",
    "    browser.execute_script(\"arguments[0].scrollIntoView(true);\", webtoon) # Scroll to this webtoon element\n",
    "                         # Scroll to bottom is \"window.scrollTo(0,document.body.scrollHeight)\"\n",
    "    toon_thumb_url = 'https://page.kakao.com/static/common/bg_noImg.png?d0b47a2245ca6f22b0660775a3d5c27a'\n",
    "        # 이미지 로딩 안 된 현상 해결\n",
    "    while toon_thumb_url == 'https://page.kakao.com/static/common/bg_noImg.png?d0b47a2245ca6f22b0660775a3d5c27a':\n",
    "        toon_thumb_url = webtoon.get_attribute('src')\n",
    "    # Also, blank page could be \"https://static-page.kakao.com/static/common/bg_noImg.png?d0b47a2245ca6f22b0660775a3d5c27a\";\n",
    "        \n",
    "    # toon_info\n",
    "    cursor1.execute(sel_sql)\n",
    "    result = cursor1.fetchall()\n",
    "    if (toon_id not in result):\n",
    "        cursor2.execute(ins_sql, (toon_id, toon_name, toon_url, toon_desc, 'kakao', wrt_name, 'X', toon_thumb_url))\n",
    "        #cursor3.execute(genre_sql, (toon_id, genre)) # 장르 정보 없음\n",
    "    db.commit()"
   ]
  },
  {
   "cell_type": "code",
   "execution_count": 3,
   "metadata": {
    "scrolled": true
   },
   "outputs": [
    {
     "name": "stdout",
     "output_type": "stream",
     "text": [
      "*********************\n",
      "1 day\n",
      "*********************\n",
      "2 day\n"
     ]
    },
    {
     "name": "stderr",
     "output_type": "stream",
     "text": [
      "c:\\users\\administrator\\appdata\\local\\programs\\python\\python37\\lib\\site-packages\\pymysql\\cursors.py:329: Warning: (1062, \"Duplicate entry 'kakao_53764524' for key 'PRIMARY'\")\n",
      "  self._do_get_result()\n"
     ]
    },
    {
     "name": "stdout",
     "output_type": "stream",
     "text": [
      "*********************\n",
      "3 day\n",
      "*********************\n",
      "4 day\n"
     ]
    },
    {
     "name": "stderr",
     "output_type": "stream",
     "text": [
      "c:\\users\\administrator\\appdata\\local\\programs\\python\\python37\\lib\\site-packages\\pymysql\\cursors.py:329: Warning: (1062, \"Duplicate entry 'kakao_48225112' for key 'PRIMARY'\")\n",
      "  self._do_get_result()\n"
     ]
    },
    {
     "name": "stdout",
     "output_type": "stream",
     "text": [
      "*********************\n",
      "5 day\n"
     ]
    },
    {
     "name": "stderr",
     "output_type": "stream",
     "text": [
      "c:\\users\\administrator\\appdata\\local\\programs\\python\\python37\\lib\\site-packages\\pymysql\\cursors.py:329: Warning: (1062, \"Duplicate entry 'kakao_53248339' for key 'PRIMARY'\")\n",
      "  self._do_get_result()\n",
      "c:\\users\\administrator\\appdata\\local\\programs\\python\\python37\\lib\\site-packages\\pymysql\\cursors.py:329: Warning: (1062, \"Duplicate entry 'kakao_51155742' for key 'PRIMARY'\")\n",
      "  self._do_get_result()\n",
      "c:\\users\\administrator\\appdata\\local\\programs\\python\\python37\\lib\\site-packages\\pymysql\\cursors.py:329: Warning: (1062, \"Duplicate entry 'kakao_53070165' for key 'PRIMARY'\")\n",
      "  self._do_get_result()\n"
     ]
    },
    {
     "name": "stdout",
     "output_type": "stream",
     "text": [
      "*********************\n",
      "6 day\n"
     ]
    },
    {
     "name": "stderr",
     "output_type": "stream",
     "text": [
      "c:\\users\\administrator\\appdata\\local\\programs\\python\\python37\\lib\\site-packages\\pymysql\\cursors.py:329: Warning: (1062, \"Duplicate entry 'kakao_53956161' for key 'PRIMARY'\")\n",
      "  self._do_get_result()\n"
     ]
    },
    {
     "name": "stdout",
     "output_type": "stream",
     "text": [
      "*********************\n",
      "7 day\n"
     ]
    },
    {
     "name": "stderr",
     "output_type": "stream",
     "text": [
      "c:\\users\\administrator\\appdata\\local\\programs\\python\\python37\\lib\\site-packages\\pymysql\\cursors.py:329: Warning: (1062, \"Duplicate entry 'kakao_48211158' for key 'PRIMARY'\")\n",
      "  self._do_get_result()\n",
      "c:\\users\\administrator\\appdata\\local\\programs\\python\\python37\\lib\\site-packages\\pymysql\\cursors.py:329: Warning: (1062, \"Duplicate entry 'kakao_53491650' for key 'PRIMARY'\")\n",
      "  self._do_get_result()\n"
     ]
    }
   ],
   "source": [
    "sel_sql = \"select toon_id from toon_info\"\n",
    "ins_sql = \"insert ignore into toon_info(toon_id, toon_name, toon_url, toon_desc, toon_site, wrt_name, is_end, toon_thumb_url)\\\n",
    "           values (%s, %s, %s, %s, %s, %s, %s, %s)\"\n",
    "weekday_sql = \"insert ignore into toon_weekday(toon_id, toon_weekday)\\\n",
    "               values (%s, %s)\"\n",
    "'''\n",
    "genre_sql = \"insert ignore into toon_genre(toon_id, genre_name)\\\n",
    "             values (%s, %s)\"\n",
    "'''\n",
    "\n",
    "\n",
    "#need to fill below webdriver path\n",
    "#browser = webdriver.Chrome('C:/.../chromedriver.exe')\n",
    "browser.get('https://page.kakao.com/main?categoryUid=10&subCategoryUid=1000')\n",
    "\n",
    "for day in range(1, 8):\n",
    "    # Scroll to Top 안 해주면 element 분석 못함;\n",
    "    # 크롤링 하는 중에 페이지 내에서 내가 스크롤 해도 갑자기 오류뜸ㅋ 예민한놈\n",
    "    browser.execute_script(\"window.scrollTo(0,0);\")\n",
    "    \n",
    "    setDay(day)\n",
    "    print('*********************')\n",
    "    print(day, 'day')\n",
    "    for num in range(1, 100):\n",
    "        try:\n",
    "            day_webtoon(day, num)\n",
    "        except:\n",
    "            break;"
   ]
  },
  {
   "cell_type": "code",
   "execution_count": null,
   "metadata": {},
   "outputs": [],
   "source": [
    "# 완결 작품 정보 없음"
   ]
  },
  {
   "cell_type": "code",
   "execution_count": 19,
   "metadata": {
    "scrolled": true
   },
   "outputs": [],
   "source": [
    "# ------ 회차 정보\n",
    "#need to fill below webdriver path\n",
    "#browser = webdriver.Chrome('C:/.../chromedriver.exe')\n",
    "\n",
    "sel_url_sql = 'select toon_id, toon_url from toon_info where toon_site = \"kakao\"'\n",
    "sel_dup_sql = 'select toon_id, epi_name from epi_info where toon_id = %s and epi_name = %s'\n",
    "ins_epi_info_sql = 'insert ignore into epi_info(toon_id, epi_name, epi_url, epi_thumb_url, epi_date)\\\n",
    "                    values (%s, %s, %s, %s, %s)'\n",
    "\n",
    "cursor1.execute(sel_url_sql)\n",
    "result = cursor1.fetchall()\n",
    "   \n",
    "for row in result:\n",
    "    toon_id = row['toon_id']\n",
    "    toon_url = row['toon_url'] + '&page='\n",
    "    page = 1\n",
    "    #print('*********************************************')\n",
    "    #print('<' + toon_id + '>')\n",
    "    \n",
    "    num = 1 # episode 개수 탐색\n",
    "    while num < 99999:\n",
    "        try:\n",
    "            browser.get(toon_url+ str(page))\n",
    "            episode = browser.find_element_by_xpath(\"//*[@id=\\\"root\\\"]/div[3]/div/div/div[3]/ul/li[\" + str(num) + \"]\")\n",
    "            browser.execute_script(\"arguments[0].scrollIntoView(true);\", episode) # Scroll to this episode\n",
    "            browser.implicitly_wait(3)\n",
    "            \n",
    "            # 에피소드 제목\n",
    "            name = episode.find_element_by_xpath('div[2]/dl/dt/p')\n",
    "            epi_name = name.text\n",
    "            \n",
    "            # 에피소드 링크\n",
    "            epi_id = episode.get_attribute('data-productid')\n",
    "            epi_url = \"https://page.kakao.com/viewer?productId=\" + epi_id\n",
    "            \n",
    "            # 썸네일 링크\n",
    "            thumb = episode.find_element_by_xpath(\"div[1]/div/div/img\")\n",
    "                # 이미지 로딩 안 된 현상 해결\n",
    "            epi_thumb_url = 'https://page.kakao.com/static/common/bg_noImg.png?d0b47a2245ca6f22b0660775a3d5c27a'\n",
    "            while \"bg_noImg.png\" in epi_thumb_url:\n",
    "                epi_thumb_url = thumb.get_attribute('src')\n",
    "            \n",
    "            # 업데이트 날짜 추출\n",
    "            date = episode.find_element_by_xpath(\"div[2]/dl/dd\")\n",
    "            epi_date = date.text.replace(\".\", \"-\")\n",
    "            \n",
    "            \n",
    "            \n",
    "            cursor2.execute(sel_dup_sql, (toon_id, epi_name))\n",
    "            if cursor2.fetchall():\n",
    "                num += 1\n",
    "                continue\n",
    "            else:\n",
    "                cursor3.execute(ins_epi_info_sql, (toon_id, epi_name, epi_url, epi_thumb_url, epi_date))\n",
    "                db.commit()\n",
    "                \n",
    "            num += 1\n",
    "        except:\n",
    "            # 다음 페이지가 유효한 지 검사\n",
    "            browser.get(toon_url + str(page+1))\n",
    "            num = 1\n",
    "            try:\n",
    "                browser.find_element_by_xpath(\"//*[@id=\\\"root\\\"]/div[3]/div/div/div[3]/ul/li[\" + str(num) + \"]\")\n",
    "                page += 1\n",
    "                continue\n",
    "            except NoSuchElementException:\n",
    "                break"
   ]
  },
  {
   "cell_type": "code",
   "execution_count": null,
   "metadata": {},
   "outputs": [],
   "source": []
  }
 ],
 "metadata": {
  "kernelspec": {
   "display_name": "Python 3",
   "language": "python",
   "name": "python3"
  },
  "language_info": {
   "codemirror_mode": {
    "name": "ipython",
    "version": 3
   },
   "file_extension": ".py",
   "mimetype": "text/x-python",
   "name": "python",
   "nbconvert_exporter": "python",
   "pygments_lexer": "ipython3",
   "version": "3.7.2"
  }
 },
 "nbformat": 4,
 "nbformat_minor": 2
}
