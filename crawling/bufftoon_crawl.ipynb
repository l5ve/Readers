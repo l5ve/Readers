{
 "cells": [
  {
   "cell_type": "code",
   "execution_count": 22,
   "metadata": {},
   "outputs": [],
   "source": [
    "from bs4 import BeautifulSoup\n",
    "from pprint import pprint\n",
    "import requests\n",
    "from selenium import webdriver\n",
    "from selenium.common.exceptions import NoSuchElementException\n",
    "import pymysql\n",
    "import re\n",
    "from urllib.parse import urlparse, parse_qs\n",
    "\n",
    "# mysql db connect\n",
    "db = pymysql.connect(host='52.78.23.232', user='root', password='readers7', port=3306, db='readers', charset='utf8', cursorclass=pymysql.cursors.DictCursor)\n",
    "cursor1 = db.cursor()\n",
    "cursor2 = db.cursor()\n",
    "cursor3 = db.cursor()\n",
    "cursor4 = db.cursor()"
   ]
  },
  {
   "cell_type": "code",
   "execution_count": 6,
   "metadata": {
    "scrolled": true
   },
   "outputs": [
    {
     "name": "stdout",
     "output_type": "stream",
     "text": [
      "*********************\n",
      "1 day\n"
     ]
    },
    {
     "name": "stderr",
     "output_type": "stream",
     "text": [
      "c:\\users\\administrator\\appdata\\local\\programs\\python\\python37\\lib\\site-packages\\pymysql\\cursors.py:329: Warning: (1062, \"Duplicate entry 'buff_1000384-판타지' for key 'PRIMARY'\")\n",
      "  self._do_get_result()\n",
      "c:\\users\\administrator\\appdata\\local\\programs\\python\\python37\\lib\\site-packages\\pymysql\\cursors.py:329: Warning: (1062, \"Duplicate entry 'buff_1000384-학원' for key 'PRIMARY'\")\n",
      "  self._do_get_result()\n",
      "c:\\users\\administrator\\appdata\\local\\programs\\python\\python37\\lib\\site-packages\\pymysql\\cursors.py:329: Warning: (1062, \"Duplicate entry 'buff_1000581-판타지' for key 'PRIMARY'\")\n",
      "  self._do_get_result()\n",
      "c:\\users\\administrator\\appdata\\local\\programs\\python\\python37\\lib\\site-packages\\pymysql\\cursors.py:329: Warning: (1062, \"Duplicate entry 'buff_1000581-드라마' for key 'PRIMARY'\")\n",
      "  self._do_get_result()\n",
      "c:\\users\\administrator\\appdata\\local\\programs\\python\\python37\\lib\\site-packages\\pymysql\\cursors.py:329: Warning: (1062, \"Duplicate entry 'buff_1001739-로맨스' for key 'PRIMARY'\")\n",
      "  self._do_get_result()\n",
      "c:\\users\\administrator\\appdata\\local\\programs\\python\\python37\\lib\\site-packages\\pymysql\\cursors.py:329: Warning: (1062, \"Duplicate entry 'buff_1001739-시대극' for key 'PRIMARY'\")\n",
      "  self._do_get_result()\n",
      "c:\\users\\administrator\\appdata\\local\\programs\\python\\python37\\lib\\site-packages\\pymysql\\cursors.py:329: Warning: (1062, \"Duplicate entry 'buff_1001404-개그' for key 'PRIMARY'\")\n",
      "  self._do_get_result()\n",
      "c:\\users\\administrator\\appdata\\local\\programs\\python\\python37\\lib\\site-packages\\pymysql\\cursors.py:329: Warning: (1062, \"Duplicate entry 'buff_1001404-드라마' for key 'PRIMARY'\")\n",
      "  self._do_get_result()\n",
      "c:\\users\\administrator\\appdata\\local\\programs\\python\\python37\\lib\\site-packages\\pymysql\\cursors.py:329: Warning: (1062, \"Duplicate entry 'buff_1000579-액션' for key 'PRIMARY'\")\n",
      "  self._do_get_result()\n",
      "c:\\users\\administrator\\appdata\\local\\programs\\python\\python37\\lib\\site-packages\\pymysql\\cursors.py:329: Warning: (1062, \"Duplicate entry 'buff_1000579-SF' for key 'PRIMARY'\")\n",
      "  self._do_get_result()\n",
      "c:\\users\\administrator\\appdata\\local\\programs\\python\\python37\\lib\\site-packages\\pymysql\\cursors.py:329: Warning: (1062, \"Duplicate entry 'buff_1000579-소년' for key 'PRIMARY'\")\n",
      "  self._do_get_result()\n",
      "c:\\users\\administrator\\appdata\\local\\programs\\python\\python37\\lib\\site-packages\\pymysql\\cursors.py:329: Warning: (1062, \"Duplicate entry 'buff_1000610-로맨스' for key 'PRIMARY'\")\n",
      "  self._do_get_result()\n",
      "c:\\users\\administrator\\appdata\\local\\programs\\python\\python37\\lib\\site-packages\\pymysql\\cursors.py:329: Warning: (1062, \"Duplicate entry 'buff_1000610-드라마' for key 'PRIMARY'\")\n",
      "  self._do_get_result()\n"
     ]
    },
    {
     "name": "stdout",
     "output_type": "stream",
     "text": [
      "ERROROROORR\n",
      "*********************\n",
      "2 day\n"
     ]
    },
    {
     "name": "stderr",
     "output_type": "stream",
     "text": [
      "c:\\users\\administrator\\appdata\\local\\programs\\python\\python37\\lib\\site-packages\\pymysql\\cursors.py:329: Warning: (1062, \"Duplicate entry 'buff_10085-로맨스' for key 'PRIMARY'\")\n",
      "  self._do_get_result()\n",
      "c:\\users\\administrator\\appdata\\local\\programs\\python\\python37\\lib\\site-packages\\pymysql\\cursors.py:329: Warning: (1062, \"Duplicate entry 'buff_10085-학원' for key 'PRIMARY'\")\n",
      "  self._do_get_result()\n",
      "c:\\users\\administrator\\appdata\\local\\programs\\python\\python37\\lib\\site-packages\\pymysql\\cursors.py:329: Warning: (1062, \"Duplicate entry 'buff_1000972-판타지' for key 'PRIMARY'\")\n",
      "  self._do_get_result()\n",
      "c:\\users\\administrator\\appdata\\local\\programs\\python\\python37\\lib\\site-packages\\pymysql\\cursors.py:329: Warning: (1062, \"Duplicate entry 'buff_1000972-게임' for key 'PRIMARY'\")\n",
      "  self._do_get_result()\n",
      "c:\\users\\administrator\\appdata\\local\\programs\\python\\python37\\lib\\site-packages\\pymysql\\cursors.py:329: Warning: (1062, \"Duplicate entry 'buff_1000574-개그' for key 'PRIMARY'\")\n",
      "  self._do_get_result()\n",
      "c:\\users\\administrator\\appdata\\local\\programs\\python\\python37\\lib\\site-packages\\pymysql\\cursors.py:329: Warning: (1062, \"Duplicate entry 'buff_1000574-학원' for key 'PRIMARY'\")\n",
      "  self._do_get_result()\n",
      "c:\\users\\administrator\\appdata\\local\\programs\\python\\python37\\lib\\site-packages\\pymysql\\cursors.py:329: Warning: (1062, \"Duplicate entry 'buff_1000356-tue' for key 'PRIMARY'\")\n",
      "  self._do_get_result()\n",
      "c:\\users\\administrator\\appdata\\local\\programs\\python\\python37\\lib\\site-packages\\pymysql\\cursors.py:329: Warning: (1062, \"Duplicate entry 'buff_1000356-로맨스' for key 'PRIMARY'\")\n",
      "  self._do_get_result()\n",
      "c:\\users\\administrator\\appdata\\local\\programs\\python\\python37\\lib\\site-packages\\pymysql\\cursors.py:329: Warning: (1062, \"Duplicate entry 'buff_10100-tue' for key 'PRIMARY'\")\n",
      "  self._do_get_result()\n",
      "c:\\users\\administrator\\appdata\\local\\programs\\python\\python37\\lib\\site-packages\\pymysql\\cursors.py:329: Warning: (1062, \"Duplicate entry 'buff_672931-tue' for key 'PRIMARY'\")\n",
      "  self._do_get_result()\n",
      "c:\\users\\administrator\\appdata\\local\\programs\\python\\python37\\lib\\site-packages\\pymysql\\cursors.py:329: Warning: (1062, \"Duplicate entry 'buff_672931-판타지' for key 'PRIMARY'\")\n",
      "  self._do_get_result()\n",
      "c:\\users\\administrator\\appdata\\local\\programs\\python\\python37\\lib\\site-packages\\pymysql\\cursors.py:329: Warning: (1062, \"Duplicate entry 'buff_1000833-tue' for key 'PRIMARY'\")\n",
      "  self._do_get_result()\n",
      "c:\\users\\administrator\\appdata\\local\\programs\\python\\python37\\lib\\site-packages\\pymysql\\cursors.py:329: Warning: (1062, \"Duplicate entry 'buff_1000833-판타지' for key 'PRIMARY'\")\n",
      "  self._do_get_result()\n",
      "c:\\users\\administrator\\appdata\\local\\programs\\python\\python37\\lib\\site-packages\\pymysql\\cursors.py:329: Warning: (1062, \"Duplicate entry 'buff_1001321-tue' for key 'PRIMARY'\")\n",
      "  self._do_get_result()\n",
      "c:\\users\\administrator\\appdata\\local\\programs\\python\\python37\\lib\\site-packages\\pymysql\\cursors.py:329: Warning: (1062, \"Duplicate entry 'buff_1001726-tue' for key 'PRIMARY'\")\n",
      "  self._do_get_result()\n",
      "c:\\users\\administrator\\appdata\\local\\programs\\python\\python37\\lib\\site-packages\\pymysql\\cursors.py:329: Warning: (1062, \"Duplicate entry 'buff_1001949-tue' for key 'PRIMARY'\")\n",
      "  self._do_get_result()\n",
      "c:\\users\\administrator\\appdata\\local\\programs\\python\\python37\\lib\\site-packages\\pymysql\\cursors.py:329: Warning: (1062, \"Duplicate entry 'buff_1001949-순정' for key 'PRIMARY'\")\n",
      "  self._do_get_result()\n",
      "c:\\users\\administrator\\appdata\\local\\programs\\python\\python37\\lib\\site-packages\\pymysql\\cursors.py:329: Warning: (1062, \"Duplicate entry 'buff_1000575-tue' for key 'PRIMARY'\")\n",
      "  self._do_get_result()\n",
      "c:\\users\\administrator\\appdata\\local\\programs\\python\\python37\\lib\\site-packages\\pymysql\\cursors.py:329: Warning: (1062, \"Duplicate entry 'buff_1001335-tue' for key 'PRIMARY'\")\n",
      "  self._do_get_result()\n",
      "c:\\users\\administrator\\appdata\\local\\programs\\python\\python37\\lib\\site-packages\\pymysql\\cursors.py:329: Warning: (1062, \"Duplicate entry 'buff_1001307-tue' for key 'PRIMARY'\")\n",
      "  self._do_get_result()\n",
      "c:\\users\\administrator\\appdata\\local\\programs\\python\\python37\\lib\\site-packages\\pymysql\\cursors.py:329: Warning: (1062, \"Duplicate entry 'buff_1001307-소년' for key 'PRIMARY'\")\n",
      "  self._do_get_result()\n",
      "c:\\users\\administrator\\appdata\\local\\programs\\python\\python37\\lib\\site-packages\\pymysql\\cursors.py:329: Warning: (1062, \"Duplicate entry 'buff_1000350-tue' for key 'PRIMARY'\")\n",
      "  self._do_get_result()\n",
      "c:\\users\\administrator\\appdata\\local\\programs\\python\\python37\\lib\\site-packages\\pymysql\\cursors.py:329: Warning: (1062, \"Duplicate entry 'buff_1000350-로맨스' for key 'PRIMARY'\")\n",
      "  self._do_get_result()\n",
      "c:\\users\\administrator\\appdata\\local\\programs\\python\\python37\\lib\\site-packages\\pymysql\\cursors.py:329: Warning: (1062, \"Duplicate entry 'buff_1001745-tue' for key 'PRIMARY'\")\n",
      "  self._do_get_result()\n",
      "c:\\users\\administrator\\appdata\\local\\programs\\python\\python37\\lib\\site-packages\\pymysql\\cursors.py:329: Warning: (1062, \"Duplicate entry 'buff_1001745-판타지' for key 'PRIMARY'\")\n",
      "  self._do_get_result()\n",
      "c:\\users\\administrator\\appdata\\local\\programs\\python\\python37\\lib\\site-packages\\pymysql\\cursors.py:329: Warning: (1062, \"Duplicate entry 'buff_1001365-tue' for key 'PRIMARY'\")\n",
      "  self._do_get_result()\n",
      "c:\\users\\administrator\\appdata\\local\\programs\\python\\python37\\lib\\site-packages\\pymysql\\cursors.py:329: Warning: (1062, \"Duplicate entry 'buff_1001365-순정' for key 'PRIMARY'\")\n",
      "  self._do_get_result()\n",
      "c:\\users\\administrator\\appdata\\local\\programs\\python\\python37\\lib\\site-packages\\pymysql\\cursors.py:329: Warning: (1062, \"Duplicate entry 'buff_1001372-tue' for key 'PRIMARY'\")\n",
      "  self._do_get_result()\n",
      "c:\\users\\administrator\\appdata\\local\\programs\\python\\python37\\lib\\site-packages\\pymysql\\cursors.py:329: Warning: (1062, \"Duplicate entry 'buff_1001372-순정' for key 'PRIMARY'\")\n",
      "  self._do_get_result()\n",
      "c:\\users\\administrator\\appdata\\local\\programs\\python\\python37\\lib\\site-packages\\pymysql\\cursors.py:329: Warning: (1062, \"Duplicate entry 'buff_1000343-tue' for key 'PRIMARY'\")\n",
      "  self._do_get_result()\n",
      "c:\\users\\administrator\\appdata\\local\\programs\\python\\python37\\lib\\site-packages\\pymysql\\cursors.py:329: Warning: (1062, \"Duplicate entry 'buff_1000343-판타지' for key 'PRIMARY'\")\n",
      "  self._do_get_result()\n",
      "c:\\users\\administrator\\appdata\\local\\programs\\python\\python37\\lib\\site-packages\\pymysql\\cursors.py:329: Warning: (1062, \"Duplicate entry 'buff_1001373-tue' for key 'PRIMARY'\")\n",
      "  self._do_get_result()\n",
      "c:\\users\\administrator\\appdata\\local\\programs\\python\\python37\\lib\\site-packages\\pymysql\\cursors.py:329: Warning: (1062, \"Duplicate entry 'buff_1001373-드라마' for key 'PRIMARY'\")\n",
      "  self._do_get_result()\n"
     ]
    },
    {
     "name": "stdout",
     "output_type": "stream",
     "text": [
      "ERROROROORR\n",
      "*********************\n",
      "3 day\n"
     ]
    },
    {
     "name": "stderr",
     "output_type": "stream",
     "text": [
      "c:\\users\\administrator\\appdata\\local\\programs\\python\\python37\\lib\\site-packages\\pymysql\\cursors.py:329: Warning: (1062, \"Duplicate entry 'buff_1001442-wed' for key 'PRIMARY'\")\n",
      "  self._do_get_result()\n",
      "c:\\users\\administrator\\appdata\\local\\programs\\python\\python37\\lib\\site-packages\\pymysql\\cursors.py:329: Warning: (1062, \"Duplicate entry 'buff_10106-wed' for key 'PRIMARY'\")\n",
      "  self._do_get_result()\n",
      "c:\\users\\administrator\\appdata\\local\\programs\\python\\python37\\lib\\site-packages\\pymysql\\cursors.py:329: Warning: (1062, \"Duplicate entry 'buff_10073-wed' for key 'PRIMARY'\")\n",
      "  self._do_get_result()\n",
      "c:\\users\\administrator\\appdata\\local\\programs\\python\\python37\\lib\\site-packages\\pymysql\\cursors.py:329: Warning: (1062, \"Duplicate entry 'buff_745052-wed' for key 'PRIMARY'\")\n",
      "  self._do_get_result()\n",
      "c:\\users\\administrator\\appdata\\local\\programs\\python\\python37\\lib\\site-packages\\pymysql\\cursors.py:329: Warning: (1062, \"Duplicate entry 'buff_745052-스릴러/호러' for key 'PRIMARY'\")\n",
      "  self._do_get_result()\n",
      "c:\\users\\administrator\\appdata\\local\\programs\\python\\python37\\lib\\site-packages\\pymysql\\cursors.py:329: Warning: (1062, \"Duplicate entry 'buff_10094-wed' for key 'PRIMARY'\")\n",
      "  self._do_get_result()\n",
      "c:\\users\\administrator\\appdata\\local\\programs\\python\\python37\\lib\\site-packages\\pymysql\\cursors.py:329: Warning: (1062, \"Duplicate entry 'buff_1001830-wed' for key 'PRIMARY'\")\n",
      "  self._do_get_result()\n",
      "c:\\users\\administrator\\appdata\\local\\programs\\python\\python37\\lib\\site-packages\\pymysql\\cursors.py:329: Warning: (1062, \"Duplicate entry 'buff_1000369-wed' for key 'PRIMARY'\")\n",
      "  self._do_get_result()\n",
      "c:\\users\\administrator\\appdata\\local\\programs\\python\\python37\\lib\\site-packages\\pymysql\\cursors.py:329: Warning: (1062, \"Duplicate entry 'buff_1000369-로맨스' for key 'PRIMARY'\")\n",
      "  self._do_get_result()\n",
      "c:\\users\\administrator\\appdata\\local\\programs\\python\\python37\\lib\\site-packages\\pymysql\\cursors.py:329: Warning: (1062, \"Duplicate entry 'buff_1001740-wed' for key 'PRIMARY'\")\n",
      "  self._do_get_result()\n",
      "c:\\users\\administrator\\appdata\\local\\programs\\python\\python37\\lib\\site-packages\\pymysql\\cursors.py:329: Warning: (1062, \"Duplicate entry 'buff_1001378-wed' for key 'PRIMARY'\")\n",
      "  self._do_get_result()\n",
      "c:\\users\\administrator\\appdata\\local\\programs\\python\\python37\\lib\\site-packages\\pymysql\\cursors.py:329: Warning: (1062, \"Duplicate entry 'buff_1001378-드라마' for key 'PRIMARY'\")\n",
      "  self._do_get_result()\n",
      "c:\\users\\administrator\\appdata\\local\\programs\\python\\python37\\lib\\site-packages\\pymysql\\cursors.py:329: Warning: (1062, \"Duplicate entry 'buff_1001917-wed' for key 'PRIMARY'\")\n",
      "  self._do_get_result()\n",
      "c:\\users\\administrator\\appdata\\local\\programs\\python\\python37\\lib\\site-packages\\pymysql\\cursors.py:329: Warning: (1062, \"Duplicate entry 'buff_1001918-wed' for key 'PRIMARY'\")\n",
      "  self._do_get_result()\n",
      "c:\\users\\administrator\\appdata\\local\\programs\\python\\python37\\lib\\site-packages\\pymysql\\cursors.py:329: Warning: (1062, \"Duplicate entry 'buff_1000375-wed' for key 'PRIMARY'\")\n",
      "  self._do_get_result()\n",
      "c:\\users\\administrator\\appdata\\local\\programs\\python\\python37\\lib\\site-packages\\pymysql\\cursors.py:329: Warning: (1062, \"Duplicate entry 'buff_1000375-개그' for key 'PRIMARY'\")\n",
      "  self._do_get_result()\n",
      "c:\\users\\administrator\\appdata\\local\\programs\\python\\python37\\lib\\site-packages\\pymysql\\cursors.py:329: Warning: (1062, \"Duplicate entry 'buff_1001836-wed' for key 'PRIMARY'\")\n",
      "  self._do_get_result()\n",
      "c:\\users\\administrator\\appdata\\local\\programs\\python\\python37\\lib\\site-packages\\pymysql\\cursors.py:329: Warning: (1062, \"Duplicate entry 'buff_1000354-wed' for key 'PRIMARY'\")\n",
      "  self._do_get_result()\n",
      "c:\\users\\administrator\\appdata\\local\\programs\\python\\python37\\lib\\site-packages\\pymysql\\cursors.py:329: Warning: (1062, \"Duplicate entry 'buff_1000354-로맨스' for key 'PRIMARY'\")\n",
      "  self._do_get_result()\n",
      "c:\\users\\administrator\\appdata\\local\\programs\\python\\python37\\lib\\site-packages\\pymysql\\cursors.py:329: Warning: (1062, \"Duplicate entry 'buff_1000347-wed' for key 'PRIMARY'\")\n",
      "  self._do_get_result()\n",
      "c:\\users\\administrator\\appdata\\local\\programs\\python\\python37\\lib\\site-packages\\pymysql\\cursors.py:329: Warning: (1062, \"Duplicate entry 'buff_1001827-wed' for key 'PRIMARY'\")\n",
      "  self._do_get_result()\n",
      "c:\\users\\administrator\\appdata\\local\\programs\\python\\python37\\lib\\site-packages\\pymysql\\cursors.py:329: Warning: (1062, \"Duplicate entry 'buff_698318-wed' for key 'PRIMARY'\")\n",
      "  self._do_get_result()\n",
      "c:\\users\\administrator\\appdata\\local\\programs\\python\\python37\\lib\\site-packages\\pymysql\\cursors.py:329: Warning: (1062, \"Duplicate entry 'buff_698318-판타지' for key 'PRIMARY'\")\n",
      "  self._do_get_result()\n",
      "c:\\users\\administrator\\appdata\\local\\programs\\python\\python37\\lib\\site-packages\\pymysql\\cursors.py:329: Warning: (1062, \"Duplicate entry 'buff_1001302-wed' for key 'PRIMARY'\")\n",
      "  self._do_get_result()\n",
      "c:\\users\\administrator\\appdata\\local\\programs\\python\\python37\\lib\\site-packages\\pymysql\\cursors.py:329: Warning: (1062, \"Duplicate entry 'buff_1001302-소년' for key 'PRIMARY'\")\n",
      "  self._do_get_result()\n",
      "c:\\users\\administrator\\appdata\\local\\programs\\python\\python37\\lib\\site-packages\\pymysql\\cursors.py:329: Warning: (1062, \"Duplicate entry 'buff_1000351-wed' for key 'PRIMARY'\")\n",
      "  self._do_get_result()\n",
      "c:\\users\\administrator\\appdata\\local\\programs\\python\\python37\\lib\\site-packages\\pymysql\\cursors.py:329: Warning: (1062, \"Duplicate entry 'buff_1000351-무협/시대극' for key 'PRIMARY'\")\n",
      "  self._do_get_result()\n",
      "c:\\users\\administrator\\appdata\\local\\programs\\python\\python37\\lib\\site-packages\\pymysql\\cursors.py:329: Warning: (1062, \"Duplicate entry 'buff_1001828-wed' for key 'PRIMARY'\")\n",
      "  self._do_get_result()\n",
      "c:\\users\\administrator\\appdata\\local\\programs\\python\\python37\\lib\\site-packages\\pymysql\\cursors.py:329: Warning: (1062, \"Duplicate entry 'buff_1000370-wed' for key 'PRIMARY'\")\n",
      "  self._do_get_result()\n",
      "c:\\users\\administrator\\appdata\\local\\programs\\python\\python37\\lib\\site-packages\\pymysql\\cursors.py:329: Warning: (1062, \"Duplicate entry 'buff_1000370-로맨스' for key 'PRIMARY'\")\n",
      "  self._do_get_result()\n",
      "c:\\users\\administrator\\appdata\\local\\programs\\python\\python37\\lib\\site-packages\\pymysql\\cursors.py:329: Warning: (1062, \"Duplicate entry 'buff_1001948-wed' for key 'PRIMARY'\")\n",
      "  self._do_get_result()\n",
      "c:\\users\\administrator\\appdata\\local\\programs\\python\\python37\\lib\\site-packages\\pymysql\\cursors.py:329: Warning: (1062, \"Duplicate entry 'buff_1001948-소년' for key 'PRIMARY'\")\n",
      "  self._do_get_result()\n",
      "c:\\users\\administrator\\appdata\\local\\programs\\python\\python37\\lib\\site-packages\\pymysql\\cursors.py:329: Warning: (1062, \"Duplicate entry 'buff_1001889-wed' for key 'PRIMARY'\")\n",
      "  self._do_get_result()\n",
      "c:\\users\\administrator\\appdata\\local\\programs\\python\\python37\\lib\\site-packages\\pymysql\\cursors.py:329: Warning: (1062, \"Duplicate entry 'buff_1001889-판타지' for key 'PRIMARY'\")\n",
      "  self._do_get_result()\n",
      "c:\\users\\administrator\\appdata\\local\\programs\\python\\python37\\lib\\site-packages\\pymysql\\cursors.py:329: Warning: (1062, \"Duplicate entry 'buff_1001379-wed' for key 'PRIMARY'\")\n",
      "  self._do_get_result()\n",
      "c:\\users\\administrator\\appdata\\local\\programs\\python\\python37\\lib\\site-packages\\pymysql\\cursors.py:329: Warning: (1062, \"Duplicate entry 'buff_1001379-소년' for key 'PRIMARY'\")\n",
      "  self._do_get_result()\n"
     ]
    },
    {
     "name": "stdout",
     "output_type": "stream",
     "text": [
      "ERROROROORR\n",
      "*********************\n",
      "4 day\n"
     ]
    },
    {
     "name": "stderr",
     "output_type": "stream",
     "text": [
      "c:\\users\\administrator\\appdata\\local\\programs\\python\\python37\\lib\\site-packages\\pymysql\\cursors.py:329: Warning: (1062, \"Duplicate entry 'buff_1000608-thu' for key 'PRIMARY'\")\n",
      "  self._do_get_result()\n",
      "c:\\users\\administrator\\appdata\\local\\programs\\python\\python37\\lib\\site-packages\\pymysql\\cursors.py:329: Warning: (1062, \"Duplicate entry 'buff_1000578-thu' for key 'PRIMARY'\")\n",
      "  self._do_get_result()\n",
      "c:\\users\\administrator\\appdata\\local\\programs\\python\\python37\\lib\\site-packages\\pymysql\\cursors.py:329: Warning: (1062, \"Duplicate entry 'buff_759046-thu' for key 'PRIMARY'\")\n",
      "  self._do_get_result()\n",
      "c:\\users\\administrator\\appdata\\local\\programs\\python\\python37\\lib\\site-packages\\pymysql\\cursors.py:329: Warning: (1062, \"Duplicate entry 'buff_759046-판타지' for key 'PRIMARY'\")\n",
      "  self._do_get_result()\n",
      "c:\\users\\administrator\\appdata\\local\\programs\\python\\python37\\lib\\site-packages\\pymysql\\cursors.py:329: Warning: (1062, \"Duplicate entry 'buff_1000367-thu' for key 'PRIMARY'\")\n",
      "  self._do_get_result()\n",
      "c:\\users\\administrator\\appdata\\local\\programs\\python\\python37\\lib\\site-packages\\pymysql\\cursors.py:329: Warning: (1062, \"Duplicate entry 'buff_10096-thu' for key 'PRIMARY'\")\n",
      "  self._do_get_result()\n",
      "c:\\users\\administrator\\appdata\\local\\programs\\python\\python37\\lib\\site-packages\\pymysql\\cursors.py:329: Warning: (1062, \"Duplicate entry 'buff_10105-thu' for key 'PRIMARY'\")\n",
      "  self._do_get_result()\n",
      "c:\\users\\administrator\\appdata\\local\\programs\\python\\python37\\lib\\site-packages\\pymysql\\cursors.py:329: Warning: (1062, \"Duplicate entry 'buff_10105-스릴러/호러' for key 'PRIMARY'\")\n",
      "  self._do_get_result()\n",
      "c:\\users\\administrator\\appdata\\local\\programs\\python\\python37\\lib\\site-packages\\pymysql\\cursors.py:329: Warning: (1062, \"Duplicate entry 'buff_1001369-thu' for key 'PRIMARY'\")\n",
      "  self._do_get_result()\n",
      "c:\\users\\administrator\\appdata\\local\\programs\\python\\python37\\lib\\site-packages\\pymysql\\cursors.py:329: Warning: (1062, \"Duplicate entry 'buff_1001917-thu' for key 'PRIMARY'\")\n",
      "  self._do_get_result()\n",
      "c:\\users\\administrator\\appdata\\local\\programs\\python\\python37\\lib\\site-packages\\pymysql\\cursors.py:329: Warning: (1062, \"Duplicate entry 'buff_1000338-thu' for key 'PRIMARY'\")\n",
      "  self._do_get_result()\n",
      "c:\\users\\administrator\\appdata\\local\\programs\\python\\python37\\lib\\site-packages\\pymysql\\cursors.py:329: Warning: (1062, \"Duplicate entry 'buff_100871-thu' for key 'PRIMARY'\")\n",
      "  self._do_get_result()\n",
      "c:\\users\\administrator\\appdata\\local\\programs\\python\\python37\\lib\\site-packages\\pymysql\\cursors.py:329: Warning: (1062, \"Duplicate entry 'buff_100871-판타지' for key 'PRIMARY'\")\n",
      "  self._do_get_result()\n",
      "c:\\users\\administrator\\appdata\\local\\programs\\python\\python37\\lib\\site-packages\\pymysql\\cursors.py:329: Warning: (1062, \"Duplicate entry 'buff_10077-thu' for key 'PRIMARY'\")\n",
      "  self._do_get_result()\n",
      "c:\\users\\administrator\\appdata\\local\\programs\\python\\python37\\lib\\site-packages\\pymysql\\cursors.py:329: Warning: (1062, \"Duplicate entry 'buff_10077-일상' for key 'PRIMARY'\")\n",
      "  self._do_get_result()\n",
      "c:\\users\\administrator\\appdata\\local\\programs\\python\\python37\\lib\\site-packages\\pymysql\\cursors.py:329: Warning: (1062, \"Duplicate entry 'buff_1000391-thu' for key 'PRIMARY'\")\n",
      "  self._do_get_result()\n",
      "c:\\users\\administrator\\appdata\\local\\programs\\python\\python37\\lib\\site-packages\\pymysql\\cursors.py:329: Warning: (1062, \"Duplicate entry 'buff_1000356-thu' for key 'PRIMARY'\")\n",
      "  self._do_get_result()\n",
      "c:\\users\\administrator\\appdata\\local\\programs\\python\\python37\\lib\\site-packages\\pymysql\\cursors.py:329: Warning: (1062, \"Duplicate entry 'buff_1001320-thu' for key 'PRIMARY'\")\n",
      "  self._do_get_result()\n",
      "c:\\users\\administrator\\appdata\\local\\programs\\python\\python37\\lib\\site-packages\\pymysql\\cursors.py:329: Warning: (1062, \"Duplicate entry 'buff_1001320-소년' for key 'PRIMARY'\")\n",
      "  self._do_get_result()\n",
      "c:\\users\\administrator\\appdata\\local\\programs\\python\\python37\\lib\\site-packages\\pymysql\\cursors.py:329: Warning: (1062, \"Duplicate entry 'buff_1000583-thu' for key 'PRIMARY'\")\n",
      "  self._do_get_result()\n",
      "c:\\users\\administrator\\appdata\\local\\programs\\python\\python37\\lib\\site-packages\\pymysql\\cursors.py:329: Warning: (1062, \"Duplicate entry 'buff_1000365-thu' for key 'PRIMARY'\")\n",
      "  self._do_get_result()\n",
      "c:\\users\\administrator\\appdata\\local\\programs\\python\\python37\\lib\\site-packages\\pymysql\\cursors.py:329: Warning: (1062, \"Duplicate entry 'buff_1000365-판타지' for key 'PRIMARY'\")\n",
      "  self._do_get_result()\n",
      "c:\\users\\administrator\\appdata\\local\\programs\\python\\python37\\lib\\site-packages\\pymysql\\cursors.py:329: Warning: (1062, \"Duplicate entry 'buff_1001949-thu' for key 'PRIMARY'\")\n",
      "  self._do_get_result()\n",
      "c:\\users\\administrator\\appdata\\local\\programs\\python\\python37\\lib\\site-packages\\pymysql\\cursors.py:329: Warning: (1062, \"Duplicate entry 'buff_1001307-thu' for key 'PRIMARY'\")\n",
      "  self._do_get_result()\n",
      "c:\\users\\administrator\\appdata\\local\\programs\\python\\python37\\lib\\site-packages\\pymysql\\cursors.py:329: Warning: (1062, \"Duplicate entry 'buff_1000350-thu' for key 'PRIMARY'\")\n",
      "  self._do_get_result()\n",
      "c:\\users\\administrator\\appdata\\local\\programs\\python\\python37\\lib\\site-packages\\pymysql\\cursors.py:329: Warning: (1062, \"Duplicate entry 'buff_1001323-thu' for key 'PRIMARY'\")\n",
      "  self._do_get_result()\n",
      "c:\\users\\administrator\\appdata\\local\\programs\\python\\python37\\lib\\site-packages\\pymysql\\cursors.py:329: Warning: (1062, \"Duplicate entry 'buff_1001323-소년' for key 'PRIMARY'\")\n",
      "  self._do_get_result()\n",
      "c:\\users\\administrator\\appdata\\local\\programs\\python\\python37\\lib\\site-packages\\pymysql\\cursors.py:329: Warning: (1062, \"Duplicate entry 'buff_1000582-thu' for key 'PRIMARY'\")\n",
      "  self._do_get_result()\n",
      "c:\\users\\administrator\\appdata\\local\\programs\\python\\python37\\lib\\site-packages\\pymysql\\cursors.py:329: Warning: (1062, \"Duplicate entry 'buff_1000582-스릴러/호러' for key 'PRIMARY'\")\n",
      "  self._do_get_result()\n",
      "c:\\users\\administrator\\appdata\\local\\programs\\python\\python37\\lib\\site-packages\\pymysql\\cursors.py:329: Warning: (1062, \"Duplicate entry 'buff_1001724-thu' for key 'PRIMARY'\")\n",
      "  self._do_get_result()\n",
      "c:\\users\\administrator\\appdata\\local\\programs\\python\\python37\\lib\\site-packages\\pymysql\\cursors.py:329: Warning: (1062, \"Duplicate entry 'buff_1001326-thu' for key 'PRIMARY'\")\n",
      "  self._do_get_result()\n",
      "c:\\users\\administrator\\appdata\\local\\programs\\python\\python37\\lib\\site-packages\\pymysql\\cursors.py:329: Warning: (1062, \"Duplicate entry 'buff_1001326-드라마' for key 'PRIMARY'\")\n",
      "  self._do_get_result()\n",
      "c:\\users\\administrator\\appdata\\local\\programs\\python\\python37\\lib\\site-packages\\pymysql\\cursors.py:329: Warning: (1062, \"Duplicate entry 'buff_1001890-thu' for key 'PRIMARY'\")\n",
      "  self._do_get_result()\n",
      "c:\\users\\administrator\\appdata\\local\\programs\\python\\python37\\lib\\site-packages\\pymysql\\cursors.py:329: Warning: (1062, \"Duplicate entry 'buff_1001890-판타지' for key 'PRIMARY'\")\n",
      "  self._do_get_result()\n",
      "c:\\users\\administrator\\appdata\\local\\programs\\python\\python37\\lib\\site-packages\\pymysql\\cursors.py:329: Warning: (1062, \"Duplicate entry 'buff_1001864-thu' for key 'PRIMARY'\")\n",
      "  self._do_get_result()\n"
     ]
    },
    {
     "name": "stdout",
     "output_type": "stream",
     "text": [
      "ERROROROORR\n",
      "*********************\n",
      "5 day\n"
     ]
    },
    {
     "name": "stderr",
     "output_type": "stream",
     "text": [
      "c:\\users\\administrator\\appdata\\local\\programs\\python\\python37\\lib\\site-packages\\pymysql\\cursors.py:329: Warning: (1062, \"Duplicate entry 'buff_10089-fri' for key 'PRIMARY'\")\n",
      "  self._do_get_result()\n",
      "c:\\users\\administrator\\appdata\\local\\programs\\python\\python37\\lib\\site-packages\\pymysql\\cursors.py:329: Warning: (1062, \"Duplicate entry 'buff_758341-fri' for key 'PRIMARY'\")\n",
      "  self._do_get_result()\n",
      "c:\\users\\administrator\\appdata\\local\\programs\\python\\python37\\lib\\site-packages\\pymysql\\cursors.py:329: Warning: (1062, \"Duplicate entry 'buff_10102-fri' for key 'PRIMARY'\")\n",
      "  self._do_get_result()\n",
      "c:\\users\\administrator\\appdata\\local\\programs\\python\\python37\\lib\\site-packages\\pymysql\\cursors.py:329: Warning: (1062, \"Duplicate entry 'buff_1000972-fri' for key 'PRIMARY'\")\n",
      "  self._do_get_result()\n",
      "c:\\users\\administrator\\appdata\\local\\programs\\python\\python37\\lib\\site-packages\\pymysql\\cursors.py:329: Warning: (1062, \"Duplicate entry 'buff_1001830-fri' for key 'PRIMARY'\")\n",
      "  self._do_get_result()\n",
      "c:\\users\\administrator\\appdata\\local\\programs\\python\\python37\\lib\\site-packages\\pymysql\\cursors.py:329: Warning: (1062, \"Duplicate entry 'buff_1001830-로맨스' for key 'PRIMARY'\")\n",
      "  self._do_get_result()\n",
      "c:\\users\\administrator\\appdata\\local\\programs\\python\\python37\\lib\\site-packages\\pymysql\\cursors.py:329: Warning: (1062, \"Duplicate entry 'buff_1001830-드라마' for key 'PRIMARY'\")\n",
      "  self._do_get_result()\n",
      "c:\\users\\administrator\\appdata\\local\\programs\\python\\python37\\lib\\site-packages\\pymysql\\cursors.py:329: Warning: (1062, \"Duplicate entry 'buff_1000369-fri' for key 'PRIMARY'\")\n",
      "  self._do_get_result()\n",
      "c:\\users\\administrator\\appdata\\local\\programs\\python\\python37\\lib\\site-packages\\pymysql\\cursors.py:329: Warning: (1062, \"Duplicate entry 'buff_1001917-fri' for key 'PRIMARY'\")\n",
      "  self._do_get_result()\n",
      "c:\\users\\administrator\\appdata\\local\\programs\\python\\python37\\lib\\site-packages\\pymysql\\cursors.py:329: Warning: (1062, \"Duplicate entry 'buff_758331-fri' for key 'PRIMARY'\")\n",
      "  self._do_get_result()\n",
      "c:\\users\\administrator\\appdata\\local\\programs\\python\\python37\\lib\\site-packages\\pymysql\\cursors.py:329: Warning: (1062, \"Duplicate entry 'buff_758331-판타지' for key 'PRIMARY'\")\n",
      "  self._do_get_result()\n",
      "c:\\users\\administrator\\appdata\\local\\programs\\python\\python37\\lib\\site-packages\\pymysql\\cursors.py:329: Warning: (1062, \"Duplicate entry 'buff_1000385-fri' for key 'PRIMARY'\")\n",
      "  self._do_get_result()\n",
      "c:\\users\\administrator\\appdata\\local\\programs\\python\\python37\\lib\\site-packages\\pymysql\\cursors.py:329: Warning: (1062, \"Duplicate entry 'buff_1000385-스릴러/호러' for key 'PRIMARY'\")\n",
      "  self._do_get_result()\n",
      "c:\\users\\administrator\\appdata\\local\\programs\\python\\python37\\lib\\site-packages\\pymysql\\cursors.py:329: Warning: (1062, \"Duplicate entry 'buff_1001817-fri' for key 'PRIMARY'\")\n",
      "  self._do_get_result()\n",
      "c:\\users\\administrator\\appdata\\local\\programs\\python\\python37\\lib\\site-packages\\pymysql\\cursors.py:329: Warning: (1062, \"Duplicate entry 'buff_1000347-fri' for key 'PRIMARY'\")\n",
      "  self._do_get_result()\n",
      "c:\\users\\administrator\\appdata\\local\\programs\\python\\python37\\lib\\site-packages\\pymysql\\cursors.py:329: Warning: (1062, \"Duplicate entry 'buff_1001827-fri' for key 'PRIMARY'\")\n",
      "  self._do_get_result()\n",
      "c:\\users\\administrator\\appdata\\local\\programs\\python\\python37\\lib\\site-packages\\pymysql\\cursors.py:329: Warning: (1062, \"Duplicate entry 'buff_1001827-스포츠' for key 'PRIMARY'\")\n",
      "  self._do_get_result()\n",
      "c:\\users\\administrator\\appdata\\local\\programs\\python\\python37\\lib\\site-packages\\pymysql\\cursors.py:329: Warning: (1062, \"Duplicate entry 'buff_1001827-로맨스' for key 'PRIMARY'\")\n",
      "  self._do_get_result()\n",
      "c:\\users\\administrator\\appdata\\local\\programs\\python\\python37\\lib\\site-packages\\pymysql\\cursors.py:329: Warning: (1062, \"Duplicate entry 'buff_1001829-fri' for key 'PRIMARY'\")\n",
      "  self._do_get_result()\n",
      "c:\\users\\administrator\\appdata\\local\\programs\\python\\python37\\lib\\site-packages\\pymysql\\cursors.py:329: Warning: (1062, \"Duplicate entry 'buff_1001321-fri' for key 'PRIMARY'\")\n",
      "  self._do_get_result()\n",
      "c:\\users\\administrator\\appdata\\local\\programs\\python\\python37\\lib\\site-packages\\pymysql\\cursors.py:329: Warning: (1062, \"Duplicate entry 'buff_1001321-판타지' for key 'PRIMARY'\")\n",
      "  self._do_get_result()\n",
      "c:\\users\\administrator\\appdata\\local\\programs\\python\\python37\\lib\\site-packages\\pymysql\\cursors.py:329: Warning: (1062, \"Duplicate entry 'buff_1001321-소년' for key 'PRIMARY'\")\n",
      "  self._do_get_result()\n",
      "c:\\users\\administrator\\appdata\\local\\programs\\python\\python37\\lib\\site-packages\\pymysql\\cursors.py:329: Warning: (1062, \"Duplicate entry 'buff_1001803-fri' for key 'PRIMARY'\")\n",
      "  self._do_get_result()\n",
      "c:\\users\\administrator\\appdata\\local\\programs\\python\\python37\\lib\\site-packages\\pymysql\\cursors.py:329: Warning: (1062, \"Duplicate entry 'buff_1001215-fri' for key 'PRIMARY'\")\n",
      "  self._do_get_result()\n",
      "c:\\users\\administrator\\appdata\\local\\programs\\python\\python37\\lib\\site-packages\\pymysql\\cursors.py:329: Warning: (1062, \"Duplicate entry 'buff_1000494-fri' for key 'PRIMARY'\")\n",
      "  self._do_get_result()\n",
      "c:\\users\\administrator\\appdata\\local\\programs\\python\\python37\\lib\\site-packages\\pymysql\\cursors.py:329: Warning: (1062, \"Duplicate entry 'buff_1001742-fri' for key 'PRIMARY'\")\n",
      "  self._do_get_result()\n",
      "c:\\users\\administrator\\appdata\\local\\programs\\python\\python37\\lib\\site-packages\\pymysql\\cursors.py:329: Warning: (1062, \"Duplicate entry 'buff_1001888-fri' for key 'PRIMARY'\")\n",
      "  self._do_get_result()\n",
      "c:\\users\\administrator\\appdata\\local\\programs\\python\\python37\\lib\\site-packages\\pymysql\\cursors.py:329: Warning: (1062, \"Duplicate entry 'buff_1001888-판타지' for key 'PRIMARY'\")\n",
      "  self._do_get_result()\n",
      "c:\\users\\administrator\\appdata\\local\\programs\\python\\python37\\lib\\site-packages\\pymysql\\cursors.py:329: Warning: (1062, \"Duplicate entry 'buff_1000374-fri' for key 'PRIMARY'\")\n",
      "  self._do_get_result()\n",
      "c:\\users\\administrator\\appdata\\local\\programs\\python\\python37\\lib\\site-packages\\pymysql\\cursors.py:329: Warning: (1062, \"Duplicate entry 'buff_1000374-로맨스' for key 'PRIMARY'\")\n",
      "  self._do_get_result()\n",
      "c:\\users\\administrator\\appdata\\local\\programs\\python\\python37\\lib\\site-packages\\pymysql\\cursors.py:329: Warning: (1062, \"Duplicate entry 'buff_1001768-fri' for key 'PRIMARY'\")\n",
      "  self._do_get_result()\n",
      "c:\\users\\administrator\\appdata\\local\\programs\\python\\python37\\lib\\site-packages\\pymysql\\cursors.py:329: Warning: (1062, \"Duplicate entry 'buff_1001828-fri' for key 'PRIMARY'\")\n",
      "  self._do_get_result()\n",
      "c:\\users\\administrator\\appdata\\local\\programs\\python\\python37\\lib\\site-packages\\pymysql\\cursors.py:329: Warning: (1062, \"Duplicate entry 'buff_1001828-판타지' for key 'PRIMARY'\")\n",
      "  self._do_get_result()\n",
      "c:\\users\\administrator\\appdata\\local\\programs\\python\\python37\\lib\\site-packages\\pymysql\\cursors.py:329: Warning: (1062, \"Duplicate entry 'buff_1001828-액션' for key 'PRIMARY'\")\n",
      "  self._do_get_result()\n",
      "c:\\users\\administrator\\appdata\\local\\programs\\python\\python37\\lib\\site-packages\\pymysql\\cursors.py:329: Warning: (1062, \"Duplicate entry 'buff_1000370-fri' for key 'PRIMARY'\")\n",
      "  self._do_get_result()\n",
      "c:\\users\\administrator\\appdata\\local\\programs\\python\\python37\\lib\\site-packages\\pymysql\\cursors.py:329: Warning: (1062, \"Duplicate entry 'buff_1001826-fri' for key 'PRIMARY'\")\n",
      "  self._do_get_result()\n",
      "c:\\users\\administrator\\appdata\\local\\programs\\python\\python37\\lib\\site-packages\\pymysql\\cursors.py:329: Warning: (1062, \"Duplicate entry 'buff_1001838-fri' for key 'PRIMARY'\")\n",
      "  self._do_get_result()\n"
     ]
    },
    {
     "name": "stdout",
     "output_type": "stream",
     "text": [
      "ERROROROORR\n",
      "*********************\n",
      "6 day\n"
     ]
    },
    {
     "name": "stderr",
     "output_type": "stream",
     "text": [
      "c:\\users\\administrator\\appdata\\local\\programs\\python\\python37\\lib\\site-packages\\pymysql\\cursors.py:329: Warning: (1062, \"Duplicate entry 'buff_697057-sat' for key 'PRIMARY'\")\n",
      "  self._do_get_result()\n",
      "c:\\users\\administrator\\appdata\\local\\programs\\python\\python37\\lib\\site-packages\\pymysql\\cursors.py:329: Warning: (1062, \"Duplicate entry 'buff_697057-드라마' for key 'PRIMARY'\")\n",
      "  self._do_get_result()\n",
      "c:\\users\\administrator\\appdata\\local\\programs\\python\\python37\\lib\\site-packages\\pymysql\\cursors.py:329: Warning: (1062, \"Duplicate entry 'buff_1001442-sat' for key 'PRIMARY'\")\n",
      "  self._do_get_result()\n",
      "c:\\users\\administrator\\appdata\\local\\programs\\python\\python37\\lib\\site-packages\\pymysql\\cursors.py:329: Warning: (1062, \"Duplicate entry 'buff_1001442-스릴러/호러' for key 'PRIMARY'\")\n",
      "  self._do_get_result()\n",
      "c:\\users\\administrator\\appdata\\local\\programs\\python\\python37\\lib\\site-packages\\pymysql\\cursors.py:329: Warning: (1062, \"Duplicate entry 'buff_1001442-드라마' for key 'PRIMARY'\")\n",
      "  self._do_get_result()\n",
      "c:\\users\\administrator\\appdata\\local\\programs\\python\\python37\\lib\\site-packages\\pymysql\\cursors.py:329: Warning: (1062, \"Duplicate entry 'buff_10081-sat' for key 'PRIMARY'\")\n",
      "  self._do_get_result()\n",
      "c:\\users\\administrator\\appdata\\local\\programs\\python\\python37\\lib\\site-packages\\pymysql\\cursors.py:329: Warning: (1062, \"Duplicate entry 'buff_1001767-sat' for key 'PRIMARY'\")\n",
      "  self._do_get_result()\n",
      "c:\\users\\administrator\\appdata\\local\\programs\\python\\python37\\lib\\site-packages\\pymysql\\cursors.py:329: Warning: (1062, \"Duplicate entry 'buff_10092-sat' for key 'PRIMARY'\")\n",
      "  self._do_get_result()\n",
      "c:\\users\\administrator\\appdata\\local\\programs\\python\\python37\\lib\\site-packages\\pymysql\\cursors.py:329: Warning: (1062, \"Duplicate entry 'buff_1000356-sat' for key 'PRIMARY'\")\n",
      "  self._do_get_result()\n",
      "c:\\users\\administrator\\appdata\\local\\programs\\python\\python37\\lib\\site-packages\\pymysql\\cursors.py:329: Warning: (1062, \"Duplicate entry 'buff_1001320-sat' for key 'PRIMARY'\")\n",
      "  self._do_get_result()\n",
      "c:\\users\\administrator\\appdata\\local\\programs\\python\\python37\\lib\\site-packages\\pymysql\\cursors.py:329: Warning: (1062, \"Duplicate entry 'buff_1000354-sat' for key 'PRIMARY'\")\n",
      "  self._do_get_result()\n",
      "c:\\users\\administrator\\appdata\\local\\programs\\python\\python37\\lib\\site-packages\\pymysql\\cursors.py:329: Warning: (1062, \"Duplicate entry 'buff_1000365-sat' for key 'PRIMARY'\")\n",
      "  self._do_get_result()\n",
      "c:\\users\\administrator\\appdata\\local\\programs\\python\\python37\\lib\\site-packages\\pymysql\\cursors.py:329: Warning: (1062, \"Duplicate entry 'buff_10082-sat' for key 'PRIMARY'\")\n",
      "  self._do_get_result()\n",
      "c:\\users\\administrator\\appdata\\local\\programs\\python\\python37\\lib\\site-packages\\pymysql\\cursors.py:329: Warning: (1062, \"Duplicate entry 'buff_1001307-sat' for key 'PRIMARY'\")\n",
      "  self._do_get_result()\n",
      "c:\\users\\administrator\\appdata\\local\\programs\\python\\python37\\lib\\site-packages\\pymysql\\cursors.py:329: Warning: (1062, \"Duplicate entry 'buff_1000573-sat' for key 'PRIMARY'\")\n",
      "  self._do_get_result()\n",
      "c:\\users\\administrator\\appdata\\local\\programs\\python\\python37\\lib\\site-packages\\pymysql\\cursors.py:329: Warning: (1062, \"Duplicate entry 'buff_1000372-sat' for key 'PRIMARY'\")\n",
      "  self._do_get_result()\n",
      "c:\\users\\administrator\\appdata\\local\\programs\\python\\python37\\lib\\site-packages\\pymysql\\cursors.py:329: Warning: (1062, \"Duplicate entry 'buff_1000372-로맨스' for key 'PRIMARY'\")\n",
      "  self._do_get_result()\n",
      "c:\\users\\administrator\\appdata\\local\\programs\\python\\python37\\lib\\site-packages\\pymysql\\cursors.py:329: Warning: (1062, \"Duplicate entry 'buff_1000321-sat' for key 'PRIMARY'\")\n",
      "  self._do_get_result()\n",
      "c:\\users\\administrator\\appdata\\local\\programs\\python\\python37\\lib\\site-packages\\pymysql\\cursors.py:329: Warning: (1062, \"Duplicate entry 'buff_1000351-sat' for key 'PRIMARY'\")\n",
      "  self._do_get_result()\n",
      "c:\\users\\administrator\\appdata\\local\\programs\\python\\python37\\lib\\site-packages\\pymysql\\cursors.py:329: Warning: (1062, \"Duplicate entry 'buff_1001351-sat' for key 'PRIMARY'\")\n",
      "  self._do_get_result()\n",
      "c:\\users\\administrator\\appdata\\local\\programs\\python\\python37\\lib\\site-packages\\pymysql\\cursors.py:329: Warning: (1062, \"Duplicate entry 'buff_1001351-순정' for key 'PRIMARY'\")\n",
      "  self._do_get_result()\n"
     ]
    },
    {
     "name": "stdout",
     "output_type": "stream",
     "text": [
      "ERROROROORR\n",
      "*********************\n",
      "7 day\n"
     ]
    },
    {
     "name": "stderr",
     "output_type": "stream",
     "text": [
      "c:\\users\\administrator\\appdata\\local\\programs\\python\\python37\\lib\\site-packages\\pymysql\\cursors.py:329: Warning: (1062, \"Duplicate entry 'buff_1000580-sun' for key 'PRIMARY'\")\n",
      "  self._do_get_result()\n",
      "c:\\users\\administrator\\appdata\\local\\programs\\python\\python37\\lib\\site-packages\\pymysql\\cursors.py:329: Warning: (1062, \"Duplicate entry 'buff_1000834-sun' for key 'PRIMARY'\")\n",
      "  self._do_get_result()\n",
      "c:\\users\\administrator\\appdata\\local\\programs\\python\\python37\\lib\\site-packages\\pymysql\\cursors.py:329: Warning: (1062, \"Duplicate entry 'buff_1001463-sun' for key 'PRIMARY'\")\n",
      "  self._do_get_result()\n",
      "c:\\users\\administrator\\appdata\\local\\programs\\python\\python37\\lib\\site-packages\\pymysql\\cursors.py:329: Warning: (1062, \"Duplicate entry 'buff_1001743-sun' for key 'PRIMARY'\")\n",
      "  self._do_get_result()\n",
      "c:\\users\\administrator\\appdata\\local\\programs\\python\\python37\\lib\\site-packages\\pymysql\\cursors.py:329: Warning: (1062, \"Duplicate entry 'buff_1000338-sun' for key 'PRIMARY'\")\n",
      "  self._do_get_result()\n",
      "c:\\users\\administrator\\appdata\\local\\programs\\python\\python37\\lib\\site-packages\\pymysql\\cursors.py:329: Warning: (1062, \"Duplicate entry 'buff_1000338-개그' for key 'PRIMARY'\")\n",
      "  self._do_get_result()\n",
      "c:\\users\\administrator\\appdata\\local\\programs\\python\\python37\\lib\\site-packages\\pymysql\\cursors.py:329: Warning: (1062, \"Duplicate entry 'buff_1000338-일상' for key 'PRIMARY'\")\n",
      "  self._do_get_result()\n",
      "c:\\users\\administrator\\appdata\\local\\programs\\python\\python37\\lib\\site-packages\\pymysql\\cursors.py:329: Warning: (1062, \"Duplicate entry 'buff_10077-sun' for key 'PRIMARY'\")\n",
      "  self._do_get_result()\n",
      "c:\\users\\administrator\\appdata\\local\\programs\\python\\python37\\lib\\site-packages\\pymysql\\cursors.py:329: Warning: (1062, \"Duplicate entry 'buff_1001867-sun' for key 'PRIMARY'\")\n",
      "  self._do_get_result()\n",
      "c:\\users\\administrator\\appdata\\local\\programs\\python\\python37\\lib\\site-packages\\pymysql\\cursors.py:329: Warning: (1062, \"Duplicate entry 'buff_10090-sun' for key 'PRIMARY'\")\n",
      "  self._do_get_result()\n",
      "c:\\users\\administrator\\appdata\\local\\programs\\python\\python37\\lib\\site-packages\\pymysql\\cursors.py:329: Warning: (1062, \"Duplicate entry 'buff_10090-기타' for key 'PRIMARY'\")\n",
      "  self._do_get_result()\n",
      "c:\\users\\administrator\\appdata\\local\\programs\\python\\python37\\lib\\site-packages\\pymysql\\cursors.py:329: Warning: (1062, \"Duplicate entry 'buff_10090-NC COMIX' for key 'PRIMARY'\")\n",
      "  self._do_get_result()\n",
      "c:\\users\\administrator\\appdata\\local\\programs\\python\\python37\\lib\\site-packages\\pymysql\\cursors.py:329: Warning: (1062, \"Duplicate entry 'buff_1001111-sun' for key 'PRIMARY'\")\n",
      "  self._do_get_result()\n",
      "c:\\users\\administrator\\appdata\\local\\programs\\python\\python37\\lib\\site-packages\\pymysql\\cursors.py:329: Warning: (1062, \"Duplicate entry 'buff_1001111-로맨스' for key 'PRIMARY'\")\n",
      "  self._do_get_result()\n",
      "c:\\users\\administrator\\appdata\\local\\programs\\python\\python37\\lib\\site-packages\\pymysql\\cursors.py:329: Warning: (1062, \"Duplicate entry 'buff_1001470-sun' for key 'PRIMARY'\")\n",
      "  self._do_get_result()\n",
      "c:\\users\\administrator\\appdata\\local\\programs\\python\\python37\\lib\\site-packages\\pymysql\\cursors.py:329: Warning: (1062, \"Duplicate entry 'buff_1000576-sun' for key 'PRIMARY'\")\n",
      "  self._do_get_result()\n",
      "c:\\users\\administrator\\appdata\\local\\programs\\python\\python37\\lib\\site-packages\\pymysql\\cursors.py:329: Warning: (1062, \"Duplicate entry 'buff_1001351-sun' for key 'PRIMARY'\")\n",
      "  self._do_get_result()\n",
      "c:\\users\\administrator\\appdata\\local\\programs\\python\\python37\\lib\\site-packages\\pymysql\\cursors.py:329: Warning: (1062, \"Duplicate entry 'buff_1001319-sun' for key 'PRIMARY'\")\n",
      "  self._do_get_result()\n",
      "c:\\users\\administrator\\appdata\\local\\programs\\python\\python37\\lib\\site-packages\\pymysql\\cursors.py:329: Warning: (1062, \"Duplicate entry 'buff_1001308-sun' for key 'PRIMARY'\")\n",
      "  self._do_get_result()\n",
      "c:\\users\\administrator\\appdata\\local\\programs\\python\\python37\\lib\\site-packages\\pymysql\\cursors.py:329: Warning: (1062, \"Duplicate entry 'buff_1001308-소년' for key 'PRIMARY'\")\n",
      "  self._do_get_result()\n",
      "c:\\users\\administrator\\appdata\\local\\programs\\python\\python37\\lib\\site-packages\\pymysql\\cursors.py:329: Warning: (1062, \"Duplicate entry 'buff_1001891-sun' for key 'PRIMARY'\")\n",
      "  self._do_get_result()\n",
      "c:\\users\\administrator\\appdata\\local\\programs\\python\\python37\\lib\\site-packages\\pymysql\\cursors.py:329: Warning: (1062, \"Duplicate entry 'buff_1001891-판타지' for key 'PRIMARY'\")\n",
      "  self._do_get_result()\n",
      "c:\\users\\administrator\\appdata\\local\\programs\\python\\python37\\lib\\site-packages\\pymysql\\cursors.py:329: Warning: (1062, \"Duplicate entry 'buff_1001348-sun' for key 'PRIMARY'\")\n",
      "  self._do_get_result()\n",
      "c:\\users\\administrator\\appdata\\local\\programs\\python\\python37\\lib\\site-packages\\pymysql\\cursors.py:329: Warning: (1062, \"Duplicate entry 'buff_1001348-소년' for key 'PRIMARY'\")\n",
      "  self._do_get_result()\n",
      "c:\\users\\administrator\\appdata\\local\\programs\\python\\python37\\lib\\site-packages\\pymysql\\cursors.py:329: Warning: (1062, \"Duplicate entry 'buff_1001376-sun' for key 'PRIMARY'\")\n",
      "  self._do_get_result()\n",
      "c:\\users\\administrator\\appdata\\local\\programs\\python\\python37\\lib\\site-packages\\pymysql\\cursors.py:329: Warning: (1062, \"Duplicate entry 'buff_1001376-소년' for key 'PRIMARY'\")\n",
      "  self._do_get_result()\n"
     ]
    },
    {
     "name": "stdout",
     "output_type": "stream",
     "text": [
      "ERROROROORR\n"
     ]
    }
   ],
   "source": [
    "# ------ 1. 연재 웹툰 크롤링\n",
    "# ************** 창 사이즈 줄이면 안 됨 !!!\n",
    "\n",
    "sel_sql = \"select toon_id from toon_info\"\n",
    "ins_sql = \"insert ignore into toon_info(toon_id, toon_name, toon_url, toon_desc, toon_site, wrt_name, is_end, toon_thumb_url)\\\n",
    "           values (%s, %s, %s, %s, %s, %s, %s, %s)\"\n",
    "weekday_sql = \"insert ignore into toon_weekday(toon_id, toon_weekday)\\\n",
    "               values (%s, %s)\"\n",
    "genre_sql = \"insert ignore into toon_genre(toon_id, genre_name)\\\n",
    "             values (%s, %s)\"\n",
    "\n",
    "\n",
    "browser = webdriver.Chrome('C:/Users/Administrator/OneDrive/Readers/Crawling/chromedriver.exe')\n",
    "\n",
    "for day in range(1, 8):\n",
    "    print('*********************')\n",
    "    print(day, 'day')\n",
    "    \n",
    "    for num in range(1, 100):\n",
    "        try:\n",
    "            browser.get('https://bufftoon.plaync.com/webtoon/scheduled')\n",
    "            daylist = browser.find_element_by_class_name('week-all')\n",
    "            webtoonlist = daylist.find_element_by_xpath(\"div/div[\"+ str(day) +\"]\")\n",
    "            browser.implicitly_wait(3)\n",
    "            webtoon = webtoonlist.find_element_by_xpath(\"ul/li[\"+ str(num) +\"]/a\")\n",
    "            #browser.execute_script(\"arguments[0].scrollIntoView(true);\", webtoon) # Scroll to this webtoon element\n",
    "            \n",
    "            # URL\n",
    "            toon_url = webtoon.get_attribute('href')\n",
    "            \n",
    "            # ID\n",
    "            toon_id = 'buff_' + str(toon_url).replace(\"https://bufftoon.plaync.com/series/\", '')\n",
    "            \n",
    "            # 요일 추출\n",
    "            if day == 1: weekday = 'mon'\n",
    "            if day == 2: weekday = 'tue'\n",
    "            if day == 3: weekday = 'wed'\n",
    "            if day == 4: weekday = 'thu'\n",
    "            if day == 5: weekday = 'fri'\n",
    "            if day == 6: weekday = 'sat'\n",
    "            if day == 7: weekday = 'sun'\n",
    "            cursor1.execute(weekday_sql, (toon_id, weekday))\n",
    "            \n",
    "            # 썸네일 주소\n",
    "            thumb = webtoon.find_element_by_xpath('div[1]/div[1]/img')\n",
    "            toon_thumb_url = thumb.get_attribute('data-src')\n",
    "            \n",
    "            # 제목\n",
    "            toon_name = thumb.get_attribute('alt')\n",
    "            \n",
    "            # 작가\n",
    "            wrt = webtoon.find_element_by_xpath('span')\n",
    "            wrt_name = wrt.text\n",
    "            \n",
    "            browser.get(toon_url)\n",
    "            \n",
    "            #장르\n",
    "            gn = browser.find_element_by_class_name(\"ellipsis\")\n",
    "            genres = gn.text\n",
    "            genre_list = genres.split(', ')\n",
    "            \n",
    "            #설명\n",
    "            desc = browser.find_element_by_class_name(\"des-one\")\n",
    "            toon_desc = desc.text\n",
    "            \n",
    "            # toon_info\n",
    "            cursor1.execute(sel_sql)\n",
    "            result = cursor1.fetchall()\n",
    "            if (toon_id not in result):\n",
    "                #cursor2.execute(ins_sql, (toon_id, toon_name, toon_url, toon_desc, 'buff', wrt_name, 'X', toon_thumb_url))\n",
    "                for genre_name in genre_list:\n",
    "                    cursor3.execute(genre_sql, (toon_id, genre_name))\n",
    "            db.commit()\n",
    "            \n",
    "            num += 1\n",
    "            \n",
    "        except NoSuchElementException:\n",
    "            print(\"ERROROROORR\")\n",
    "            break\n",
    "db.close()"
   ]
  },
  {
   "cell_type": "code",
   "execution_count": 20,
   "metadata": {},
   "outputs": [
    {
     "name": "stdout",
     "output_type": "stream",
     "text": [
      "ERROROROORR\n"
     ]
    }
   ],
   "source": [
    "# ------ 2. 완결 웹툰 크롤링\n",
    "\n",
    "sel_sql = \"select toon_id from toon_info\"\n",
    "ins_sql = \"insert ignore into toon_info(toon_id, toon_name, toon_url, toon_desc, toon_site, wrt_name, is_end, toon_thumb_url)\\\n",
    "           values (%s, %s, %s, %s, %s, %s, %s, %s)\"\n",
    "genre_sql = \"insert ignore into toon_genre(toon_id, genre_name)\\\n",
    "             values (%s, %s)\"\n",
    "\n",
    "\n",
    "browser = webdriver.Chrome('C:/Users/Administrator/OneDrive/Readers/Crawling/chromedriver.exe')\n",
    "\n",
    "for num in range(1, 999999):\n",
    "    try:\n",
    "        browser.get('https://bufftoon.plaync.com/webtoon/completed')\n",
    "        webtoonlist = browser.find_element_by_class_name('week-item')\n",
    "        webtoon = webtoonlist.find_element_by_xpath(\"ul/li[\"+ str(num) +\"]/a\")\n",
    "        browser.execute_script(\"arguments[0].scrollIntoView(true);\", webtoon) # Scroll to this webtoon element\n",
    "        browser.implicitly_wait(3)\n",
    "        \n",
    "        # URL\n",
    "        toon_url = webtoon.get_attribute('href')\n",
    "\n",
    "        # ID\n",
    "        toon_id = 'buff_' + str(toon_url).replace(\"https://bufftoon.plaync.com/series/\", '')\n",
    "        \n",
    "        # 썸네일 주소\n",
    "        thumb = webtoon.find_element_by_xpath('div[1]/div[1]/img')\n",
    "        toon_thumb_url = thumb.get_attribute('data-src')\n",
    "        \n",
    "        # 제목\n",
    "        name = webtoon.find_element_by_class_name('title')\n",
    "        toon_name = name.find_element_by_xpath('span').text\n",
    "        \n",
    "        # 작가\n",
    "        text = webtoon.find_element_by_class_name('text1')\n",
    "        wrt_name = text.find_element_by_xpath('div/span[2]').text\n",
    "        \n",
    "        toon_desc = ''\n",
    "        \n",
    "        # toon_info\n",
    "        cursor1.execute(sel_sql)\n",
    "        result = cursor1.fetchall()\n",
    "        if (toon_id not in result):\n",
    "            cursor2.execute(ins_sql, (toon_id, toon_name, toon_url, toon_desc, 'buff', wrt_name, 'O', toon_thumb_url))\n",
    "            '''\n",
    "            for genre_name in genre_list:\n",
    "                cursor3.execute(genre_sql, (toon_id, genre_name))\n",
    "            '''\n",
    "        db.commit()\n",
    "        \n",
    "        num += 1\n",
    "\n",
    "    except NoSuchElementException:\n",
    "        print(\"ERROROROORR\")\n",
    "        break\n",
    "db.close()"
   ]
  },
  {
   "cell_type": "code",
   "execution_count": 36,
   "metadata": {
    "scrolled": true
   },
   "outputs": [
    {
     "name": "stdout",
     "output_type": "stream",
     "text": [
      "*********************************************\n",
      "<buff_1000033>\n"
     ]
    },
    {
     "name": "stderr",
     "output_type": "stream",
     "text": [
      "c:\\users\\administrator\\appdata\\local\\programs\\python\\python37\\lib\\site-packages\\pymysql\\cursors.py:329: Warning: (1062, \"Duplicate entry 'buff_1000033-로맨스' for key 'PRIMARY'\")\n",
      "  self._do_get_result()\n",
      "c:\\users\\administrator\\appdata\\local\\programs\\python\\python37\\lib\\site-packages\\pymysql\\cursors.py:329: Warning: (1062, \"Duplicate entry 'buff_1000033-드라마' for key 'PRIMARY'\")\n",
      "  self._do_get_result()\n"
     ]
    },
    {
     "name": "stdout",
     "output_type": "stream",
     "text": [
      "!!!!!!! EROROR\n",
      "*********************************************\n",
      "<buff_1000282>\n",
      "!!!!!!! EROROR\n",
      "*********************************************\n",
      "<buff_1000321>\n"
     ]
    },
    {
     "name": "stderr",
     "output_type": "stream",
     "text": [
      "c:\\users\\administrator\\appdata\\local\\programs\\python\\python37\\lib\\site-packages\\pymysql\\cursors.py:329: Warning: (1062, \"Duplicate entry 'buff_1000321-개그' for key 'PRIMARY'\")\n",
      "  self._do_get_result()\n",
      "c:\\users\\administrator\\appdata\\local\\programs\\python\\python37\\lib\\site-packages\\pymysql\\cursors.py:329: Warning: (1062, \"Duplicate entry 'buff_1000321-일상' for key 'PRIMARY'\")\n",
      "  self._do_get_result()\n",
      "c:\\users\\administrator\\appdata\\local\\programs\\python\\python37\\lib\\site-packages\\pymysql\\cursors.py:329: Warning: (1062, \"Duplicate entry 'buff_1000321-로맨스' for key 'PRIMARY'\")\n",
      "  self._do_get_result()\n",
      "c:\\users\\administrator\\appdata\\local\\programs\\python\\python37\\lib\\site-packages\\pymysql\\cursors.py:329: Warning: (1062, \"Duplicate entry 'buff_1000321-드라마' for key 'PRIMARY'\")\n",
      "  self._do_get_result()\n",
      "c:\\users\\administrator\\appdata\\local\\programs\\python\\python37\\lib\\site-packages\\pymysql\\cursors.py:329: Warning: (1062, \"Duplicate entry 'buff_1000321-현대물' for key 'PRIMARY'\")\n",
      "  self._do_get_result()\n"
     ]
    },
    {
     "name": "stdout",
     "output_type": "stream",
     "text": [
      "!!!!!!! EROROR\n",
      "*********************************************\n",
      "<buff_1000337>\n",
      "!!!!!!! EROROR\n",
      "*********************************************\n",
      "<buff_1000338>\n",
      "!!!!!!! EROROR\n",
      "*********************************************\n",
      "<buff_1000343>\n",
      "!!!!!!! EROROR\n",
      "*********************************************\n",
      "<buff_1000346>\n",
      "!!!!!!! EROROR\n",
      "*********************************************\n",
      "<buff_1000347>\n",
      "!!!!!!! EROROR\n",
      "*********************************************\n",
      "<buff_1000350>\n",
      "!!!!!!! EROROR\n",
      "*********************************************\n",
      "<buff_1000351>\n",
      "!!!!!!! EROROR\n",
      "*********************************************\n",
      "<buff_1000353>\n",
      "!!!!!!! EROROR\n",
      "*********************************************\n",
      "<buff_1000354>\n",
      "!!!!!!! EROROR\n",
      "*********************************************\n",
      "<buff_1000356>\n",
      "!!!!!!! EROROR\n",
      "*********************************************\n",
      "<buff_1000365>\n",
      "!!!!!!! EROROR\n",
      "*********************************************\n",
      "<buff_1000366>\n",
      "!!!!!!! EROROR\n",
      "*********************************************\n",
      "<buff_1000367>\n",
      "!!!!!!! EROROR\n",
      "*********************************************\n",
      "<buff_1000369>\n",
      "!!!!!!! EROROR\n",
      "*********************************************\n",
      "<buff_1000370>\n",
      "!!!!!!! EROROR\n",
      "*********************************************\n",
      "<buff_1000371>\n",
      "!!!!!!! EROROR\n",
      "*********************************************\n",
      "<buff_1000372>\n",
      "!!!!!!! EROROR\n",
      "*********************************************\n",
      "<buff_1000374>\n",
      "!!!!!!! EROROR\n",
      "*********************************************\n",
      "<buff_1000375>\n",
      "!!!!!!! EROROR\n",
      "*********************************************\n",
      "<buff_1000378>\n",
      "!!!!!!! EROROR\n",
      "*********************************************\n",
      "<buff_1000381>\n",
      "!!!!!!! EROROR\n",
      "*********************************************\n",
      "<buff_1000384>\n",
      "!!!!!!! EROROR\n",
      "*********************************************\n",
      "<buff_1000385>\n",
      "!!!!!!! EROROR\n",
      "*********************************************\n",
      "<buff_1000391>\n",
      "!!!!!!! EROROR\n",
      "*********************************************\n",
      "<buff_1000494>\n"
     ]
    },
    {
     "name": "stderr",
     "output_type": "stream",
     "text": [
      "c:\\users\\administrator\\appdata\\local\\programs\\python\\python37\\lib\\site-packages\\pymysql\\cursors.py:329: Warning: (1062, \"Duplicate entry 'buff_1000494-개그' for key 'PRIMARY'\")\n",
      "  self._do_get_result()\n",
      "c:\\users\\administrator\\appdata\\local\\programs\\python\\python37\\lib\\site-packages\\pymysql\\cursors.py:329: Warning: (1062, \"Duplicate entry 'buff_1000494-일상' for key 'PRIMARY'\")\n",
      "  self._do_get_result()\n"
     ]
    },
    {
     "name": "stdout",
     "output_type": "stream",
     "text": [
      "!!!!!!! EROROR\n",
      "*********************************************\n",
      "<buff_1000573>\n"
     ]
    },
    {
     "name": "stderr",
     "output_type": "stream",
     "text": [
      "c:\\users\\administrator\\appdata\\local\\programs\\python\\python37\\lib\\site-packages\\pymysql\\cursors.py:329: Warning: (1062, \"Duplicate entry 'buff_1000573-로맨스' for key 'PRIMARY'\")\n",
      "  self._do_get_result()\n",
      "c:\\users\\administrator\\appdata\\local\\programs\\python\\python37\\lib\\site-packages\\pymysql\\cursors.py:329: Warning: (1062, \"Duplicate entry 'buff_1000573-스릴러/호러' for key 'PRIMARY'\")\n",
      "  self._do_get_result()\n"
     ]
    },
    {
     "name": "stdout",
     "output_type": "stream",
     "text": [
      "!!!!!!! EROROR\n",
      "*********************************************\n",
      "<buff_1000574>\n",
      "!!!!!!! EROROR\n",
      "*********************************************\n",
      "<buff_1000575>\n"
     ]
    },
    {
     "name": "stderr",
     "output_type": "stream",
     "text": [
      "c:\\users\\administrator\\appdata\\local\\programs\\python\\python37\\lib\\site-packages\\pymysql\\cursors.py:329: Warning: (1062, \"Duplicate entry 'buff_1000575-판타지' for key 'PRIMARY'\")\n",
      "  self._do_get_result()\n",
      "c:\\users\\administrator\\appdata\\local\\programs\\python\\python37\\lib\\site-packages\\pymysql\\cursors.py:329: Warning: (1062, \"Duplicate entry 'buff_1000575-액션' for key 'PRIMARY'\")\n",
      "  self._do_get_result()\n"
     ]
    },
    {
     "name": "stdout",
     "output_type": "stream",
     "text": [
      "!!!!!!! EROROR\n",
      "*********************************************\n",
      "<buff_1000576>\n"
     ]
    },
    {
     "name": "stderr",
     "output_type": "stream",
     "text": [
      "c:\\users\\administrator\\appdata\\local\\programs\\python\\python37\\lib\\site-packages\\pymysql\\cursors.py:329: Warning: (1062, \"Duplicate entry 'buff_1000576-판타지' for key 'PRIMARY'\")\n",
      "  self._do_get_result()\n",
      "c:\\users\\administrator\\appdata\\local\\programs\\python\\python37\\lib\\site-packages\\pymysql\\cursors.py:329: Warning: (1062, \"Duplicate entry 'buff_1000576-로맨스' for key 'PRIMARY'\")\n",
      "  self._do_get_result()\n"
     ]
    },
    {
     "name": "stdout",
     "output_type": "stream",
     "text": [
      "!!!!!!! EROROR\n",
      "*********************************************\n",
      "<buff_1000577>\n",
      "!!!!!!! EROROR\n",
      "*********************************************\n",
      "<buff_1000578>\n"
     ]
    },
    {
     "name": "stderr",
     "output_type": "stream",
     "text": [
      "c:\\users\\administrator\\appdata\\local\\programs\\python\\python37\\lib\\site-packages\\pymysql\\cursors.py:329: Warning: (1062, \"Duplicate entry 'buff_1000578-스릴러/호러' for key 'PRIMARY'\")\n",
      "  self._do_get_result()\n",
      "c:\\users\\administrator\\appdata\\local\\programs\\python\\python37\\lib\\site-packages\\pymysql\\cursors.py:329: Warning: (1062, \"Duplicate entry 'buff_1000578-로맨스' for key 'PRIMARY'\")\n",
      "  self._do_get_result()\n"
     ]
    },
    {
     "name": "stdout",
     "output_type": "stream",
     "text": [
      "!!!!!!! EROROR\n",
      "*********************************************\n",
      "<buff_1000579>\n",
      "!!!!!!! EROROR\n",
      "*********************************************\n",
      "<buff_1000580>\n"
     ]
    },
    {
     "name": "stderr",
     "output_type": "stream",
     "text": [
      "c:\\users\\administrator\\appdata\\local\\programs\\python\\python37\\lib\\site-packages\\pymysql\\cursors.py:329: Warning: (1062, \"Duplicate entry 'buff_1000580-드라마' for key 'PRIMARY'\")\n",
      "  self._do_get_result()\n",
      "c:\\users\\administrator\\appdata\\local\\programs\\python\\python37\\lib\\site-packages\\pymysql\\cursors.py:329: Warning: (1062, \"Duplicate entry 'buff_1000580-시대극' for key 'PRIMARY'\")\n",
      "  self._do_get_result()\n"
     ]
    },
    {
     "name": "stdout",
     "output_type": "stream",
     "text": [
      "!!!!!!! EROROR\n",
      "*********************************************\n",
      "<buff_1000581>\n",
      "!!!!!!! EROROR\n",
      "*********************************************\n",
      "<buff_1000582>\n",
      "!!!!!!! EROROR\n",
      "*********************************************\n",
      "<buff_1000583>\n"
     ]
    },
    {
     "name": "stderr",
     "output_type": "stream",
     "text": [
      "c:\\users\\administrator\\appdata\\local\\programs\\python\\python37\\lib\\site-packages\\pymysql\\cursors.py:329: Warning: (1062, \"Duplicate entry 'buff_1000583-드라마' for key 'PRIMARY'\")\n",
      "  self._do_get_result()\n",
      "c:\\users\\administrator\\appdata\\local\\programs\\python\\python37\\lib\\site-packages\\pymysql\\cursors.py:329: Warning: (1062, \"Duplicate entry 'buff_1000583-게임' for key 'PRIMARY'\")\n",
      "  self._do_get_result()\n"
     ]
    },
    {
     "name": "stdout",
     "output_type": "stream",
     "text": [
      "!!!!!!! EROROR\n",
      "*********************************************\n",
      "<buff_1000608>\n"
     ]
    },
    {
     "name": "stderr",
     "output_type": "stream",
     "text": [
      "c:\\users\\administrator\\appdata\\local\\programs\\python\\python37\\lib\\site-packages\\pymysql\\cursors.py:329: Warning: (1062, \"Duplicate entry 'buff_1000608-로맨스' for key 'PRIMARY'\")\n",
      "  self._do_get_result()\n",
      "c:\\users\\administrator\\appdata\\local\\programs\\python\\python37\\lib\\site-packages\\pymysql\\cursors.py:329: Warning: (1062, \"Duplicate entry 'buff_1000608-드라마' for key 'PRIMARY'\")\n",
      "  self._do_get_result()\n"
     ]
    },
    {
     "name": "stdout",
     "output_type": "stream",
     "text": [
      "!!!!!!! EROROR\n",
      "*********************************************\n",
      "<buff_1000610>\n",
      "!!!!!!! EROROR\n",
      "*********************************************\n",
      "<buff_1000638>\n",
      "!!!!!!! EROROR\n",
      "*********************************************\n",
      "<buff_1000640>\n",
      "!!!!!!! EROROR\n",
      "*********************************************\n",
      "<buff_1000833>\n",
      "!!!!!!! EROROR\n",
      "*********************************************\n",
      "<buff_1000834>\n"
     ]
    },
    {
     "name": "stderr",
     "output_type": "stream",
     "text": [
      "c:\\users\\administrator\\appdata\\local\\programs\\python\\python37\\lib\\site-packages\\pymysql\\cursors.py:329: Warning: (1062, \"Duplicate entry 'buff_1000834-드라마' for key 'PRIMARY'\")\n",
      "  self._do_get_result()\n",
      "c:\\users\\administrator\\appdata\\local\\programs\\python\\python37\\lib\\site-packages\\pymysql\\cursors.py:329: Warning: (1062, \"Duplicate entry 'buff_1000834-게임' for key 'PRIMARY'\")\n",
      "  self._do_get_result()\n"
     ]
    },
    {
     "name": "stdout",
     "output_type": "stream",
     "text": [
      "!!!!!!! EROROR\n",
      "*********************************************\n",
      "<buff_1000972>\n",
      "!!!!!!! EROROR\n",
      "*********************************************\n",
      "<buff_1001111>\n",
      "!!!!!!! EROROR\n",
      "*********************************************\n",
      "<buff_1001200>\n",
      "!!!!!!! EROROR\n",
      "*********************************************\n",
      "<buff_1001204>\n",
      "!!!!!!! EROROR\n",
      "*********************************************\n",
      "<buff_1001207>\n",
      "!!!!!!! EROROR\n",
      "*********************************************\n",
      "<buff_1001211>\n",
      "!!!!!!! EROROR\n",
      "*********************************************\n",
      "<buff_1001213>\n",
      "!!!!!!! EROROR\n",
      "*********************************************\n",
      "<buff_1001215>\n"
     ]
    },
    {
     "name": "stderr",
     "output_type": "stream",
     "text": [
      "c:\\users\\administrator\\appdata\\local\\programs\\python\\python37\\lib\\site-packages\\pymysql\\cursors.py:329: Warning: (1062, \"Duplicate entry 'buff_1001215-NC COMIX' for key 'PRIMARY'\")\n",
      "  self._do_get_result()\n",
      "c:\\users\\administrator\\appdata\\local\\programs\\python\\python37\\lib\\site-packages\\pymysql\\cursors.py:329: Warning: (1062, \"Duplicate entry 'buff_1001215-게임' for key 'PRIMARY'\")\n",
      "  self._do_get_result()\n",
      "c:\\users\\administrator\\appdata\\local\\programs\\python\\python37\\lib\\site-packages\\pymysql\\cursors.py:329: Warning: (1062, \"Duplicate entry 'buff_1001215-일상' for key 'PRIMARY'\")\n",
      "  self._do_get_result()\n"
     ]
    },
    {
     "name": "stdout",
     "output_type": "stream",
     "text": [
      "!!!!!!! EROROR\n",
      "*********************************************\n",
      "<buff_1001216>\n",
      "!!!!!!! EROROR\n",
      "*********************************************\n",
      "<buff_1001231>\n",
      "!!!!!!! EROROR\n",
      "*********************************************\n",
      "<buff_1001233>\n",
      "!!!!!!! EROROR\n",
      "*********************************************\n",
      "<buff_1001234>\n",
      "!!!!!!! EROROR\n",
      "*********************************************\n",
      "<buff_1001243>\n",
      "!!!!!!! EROROR\n",
      "*********************************************\n",
      "<buff_1001249>\n",
      "!!!!!!! EROROR\n",
      "*********************************************\n",
      "<buff_1001251>\n",
      "!!!!!!! EROROR\n",
      "*********************************************\n",
      "<buff_1001302>\n",
      "!!!!!!! EROROR\n",
      "*********************************************\n",
      "<buff_1001307>\n",
      "!!!!!!! EROROR\n",
      "*********************************************\n",
      "<buff_1001308>\n",
      "!!!!!!! EROROR\n",
      "*********************************************\n",
      "<buff_1001309>\n",
      "!!!!!!! EROROR\n",
      "*********************************************\n",
      "<buff_1001319>\n"
     ]
    },
    {
     "name": "stderr",
     "output_type": "stream",
     "text": [
      "c:\\users\\administrator\\appdata\\local\\programs\\python\\python37\\lib\\site-packages\\pymysql\\cursors.py:329: Warning: (1062, \"Duplicate entry 'buff_1001319-판타지' for key 'PRIMARY'\")\n",
      "  self._do_get_result()\n",
      "c:\\users\\administrator\\appdata\\local\\programs\\python\\python37\\lib\\site-packages\\pymysql\\cursors.py:329: Warning: (1062, \"Duplicate entry 'buff_1001319-게임' for key 'PRIMARY'\")\n",
      "  self._do_get_result()\n",
      "c:\\users\\administrator\\appdata\\local\\programs\\python\\python37\\lib\\site-packages\\pymysql\\cursors.py:329: Warning: (1062, \"Duplicate entry 'buff_1001319-무협' for key 'PRIMARY'\")\n",
      "  self._do_get_result()\n"
     ]
    },
    {
     "name": "stdout",
     "output_type": "stream",
     "text": [
      "!!!!!!! EROROR\n",
      "*********************************************\n",
      "<buff_1001320>\n",
      "!!!!!!! EROROR\n",
      "*********************************************\n",
      "<buff_1001321>\n",
      "!!!!!!! EROROR\n",
      "*********************************************\n",
      "<buff_1001323>\n",
      "!!!!!!! EROROR\n",
      "*********************************************\n",
      "<buff_1001324>\n",
      "!!!!!!! EROROR\n",
      "*********************************************\n",
      "<buff_1001326>\n",
      "!!!!!!! EROROR\n",
      "*********************************************\n",
      "<buff_1001329>\n",
      "!!!!!!! EROROR\n",
      "*********************************************\n",
      "<buff_1001335>\n"
     ]
    },
    {
     "name": "stderr",
     "output_type": "stream",
     "text": [
      "c:\\users\\administrator\\appdata\\local\\programs\\python\\python37\\lib\\site-packages\\pymysql\\cursors.py:329: Warning: (1062, \"Duplicate entry 'buff_1001335-드라마' for key 'PRIMARY'\")\n",
      "  self._do_get_result()\n",
      "c:\\users\\administrator\\appdata\\local\\programs\\python\\python37\\lib\\site-packages\\pymysql\\cursors.py:329: Warning: (1062, \"Duplicate entry 'buff_1001335-순정' for key 'PRIMARY'\")\n",
      "  self._do_get_result()\n"
     ]
    },
    {
     "name": "stdout",
     "output_type": "stream",
     "text": [
      "!!!!!!! EROROR\n",
      "*********************************************\n",
      "<buff_1001348>\n",
      "!!!!!!! EROROR\n",
      "*********************************************\n",
      "<buff_1001351>\n",
      "!!!!!!! EROROR\n",
      "*********************************************\n",
      "<buff_1001352>\n",
      "!!!!!!! EROROR\n",
      "*********************************************\n",
      "<buff_1001354>\n",
      "!!!!!!! EROROR\n",
      "*********************************************\n",
      "<buff_1001365>\n",
      "!!!!!!! EROROR\n",
      "*********************************************\n",
      "<buff_1001369>\n",
      "!!!!!!! EROROR\n",
      "*********************************************\n",
      "<buff_1001372>\n",
      "!!!!!!! EROROR\n",
      "*********************************************\n",
      "<buff_1001373>\n",
      "!!!!!!! EROROR\n",
      "*********************************************\n",
      "<buff_1001376>\n",
      "!!!!!!! EROROR\n",
      "*********************************************\n",
      "<buff_1001378>\n",
      "!!!!!!! EROROR\n",
      "*********************************************\n",
      "<buff_1001379>\n",
      "!!!!!!! EROROR\n",
      "*********************************************\n",
      "<buff_1001404>\n",
      "!!!!!!! EROROR\n",
      "*********************************************\n",
      "<buff_1001442>\n",
      "!!!!!!! EROROR\n",
      "*********************************************\n",
      "<buff_1001463>\n"
     ]
    },
    {
     "name": "stderr",
     "output_type": "stream",
     "text": [
      "c:\\users\\administrator\\appdata\\local\\programs\\python\\python37\\lib\\site-packages\\pymysql\\cursors.py:329: Warning: (1062, \"Duplicate entry 'buff_1001463-판타지' for key 'PRIMARY'\")\n",
      "  self._do_get_result()\n",
      "c:\\users\\administrator\\appdata\\local\\programs\\python\\python37\\lib\\site-packages\\pymysql\\cursors.py:329: Warning: (1062, \"Duplicate entry 'buff_1001463-로맨스' for key 'PRIMARY'\")\n",
      "  self._do_get_result()\n",
      "c:\\users\\administrator\\appdata\\local\\programs\\python\\python37\\lib\\site-packages\\pymysql\\cursors.py:329: Warning: (1062, \"Duplicate entry 'buff_1001463-학원' for key 'PRIMARY'\")\n",
      "  self._do_get_result()\n"
     ]
    },
    {
     "name": "stdout",
     "output_type": "stream",
     "text": [
      "!!!!!!! EROROR\n",
      "*********************************************\n",
      "<buff_1001470>\n"
     ]
    },
    {
     "name": "stderr",
     "output_type": "stream",
     "text": [
      "c:\\users\\administrator\\appdata\\local\\programs\\python\\python37\\lib\\site-packages\\pymysql\\cursors.py:329: Warning: (1062, \"Duplicate entry 'buff_1001470-개그' for key 'PRIMARY'\")\n",
      "  self._do_get_result()\n",
      "c:\\users\\administrator\\appdata\\local\\programs\\python\\python37\\lib\\site-packages\\pymysql\\cursors.py:329: Warning: (1062, \"Duplicate entry 'buff_1001470-드라마' for key 'PRIMARY'\")\n",
      "  self._do_get_result()\n"
     ]
    },
    {
     "name": "stdout",
     "output_type": "stream",
     "text": [
      "!!!!!!! EROROR\n",
      "*********************************************\n",
      "<buff_1001724>\n"
     ]
    },
    {
     "name": "stderr",
     "output_type": "stream",
     "text": [
      "c:\\users\\administrator\\appdata\\local\\programs\\python\\python37\\lib\\site-packages\\pymysql\\cursors.py:329: Warning: (1062, \"Duplicate entry 'buff_1001724-개그' for key 'PRIMARY'\")\n",
      "  self._do_get_result()\n",
      "c:\\users\\administrator\\appdata\\local\\programs\\python\\python37\\lib\\site-packages\\pymysql\\cursors.py:329: Warning: (1062, \"Duplicate entry 'buff_1001724-SF' for key 'PRIMARY'\")\n",
      "  self._do_get_result()\n",
      "c:\\users\\administrator\\appdata\\local\\programs\\python\\python37\\lib\\site-packages\\pymysql\\cursors.py:329: Warning: (1062, \"Duplicate entry 'buff_1001724-NC COMIX' for key 'PRIMARY'\")\n",
      "  self._do_get_result()\n"
     ]
    },
    {
     "name": "stdout",
     "output_type": "stream",
     "text": [
      "!!!!!!! EROROR\n",
      "*********************************************\n",
      "<buff_1001726>\n"
     ]
    },
    {
     "name": "stderr",
     "output_type": "stream",
     "text": [
      "c:\\users\\administrator\\appdata\\local\\programs\\python\\python37\\lib\\site-packages\\pymysql\\cursors.py:329: Warning: (1062, \"Duplicate entry 'buff_1001726-학원' for key 'PRIMARY'\")\n",
      "  self._do_get_result()\n",
      "c:\\users\\administrator\\appdata\\local\\programs\\python\\python37\\lib\\site-packages\\pymysql\\cursors.py:329: Warning: (1062, \"Duplicate entry 'buff_1001726-스릴러/호러' for key 'PRIMARY'\")\n",
      "  self._do_get_result()\n",
      "c:\\users\\administrator\\appdata\\local\\programs\\python\\python37\\lib\\site-packages\\pymysql\\cursors.py:329: Warning: (1062, \"Duplicate entry 'buff_1001726-드라마' for key 'PRIMARY'\")\n",
      "  self._do_get_result()\n"
     ]
    },
    {
     "name": "stdout",
     "output_type": "stream",
     "text": [
      "!!!!!!! EROROR\n",
      "*********************************************\n",
      "<buff_1001728>\n",
      "!!!!!!! EROROR\n",
      "*********************************************\n",
      "<buff_1001739>\n",
      "!!!!!!! EROROR\n",
      "*********************************************\n",
      "<buff_1001740>\n"
     ]
    },
    {
     "name": "stderr",
     "output_type": "stream",
     "text": [
      "c:\\users\\administrator\\appdata\\local\\programs\\python\\python37\\lib\\site-packages\\pymysql\\cursors.py:329: Warning: (1062, \"Duplicate entry 'buff_1001740-로맨스' for key 'PRIMARY'\")\n",
      "  self._do_get_result()\n",
      "c:\\users\\administrator\\appdata\\local\\programs\\python\\python37\\lib\\site-packages\\pymysql\\cursors.py:329: Warning: (1062, \"Duplicate entry 'buff_1001740-드라마' for key 'PRIMARY'\")\n",
      "  self._do_get_result()\n"
     ]
    },
    {
     "name": "stdout",
     "output_type": "stream",
     "text": [
      "!!!!!!! EROROR\n",
      "*********************************************\n",
      "<buff_1001742>\n"
     ]
    },
    {
     "name": "stderr",
     "output_type": "stream",
     "text": [
      "c:\\users\\administrator\\appdata\\local\\programs\\python\\python37\\lib\\site-packages\\pymysql\\cursors.py:329: Warning: (1062, \"Duplicate entry 'buff_1001742-로맨스' for key 'PRIMARY'\")\n",
      "  self._do_get_result()\n",
      "c:\\users\\administrator\\appdata\\local\\programs\\python\\python37\\lib\\site-packages\\pymysql\\cursors.py:329: Warning: (1062, \"Duplicate entry 'buff_1001742-드라마' for key 'PRIMARY'\")\n",
      "  self._do_get_result()\n",
      "c:\\users\\administrator\\appdata\\local\\programs\\python\\python37\\lib\\site-packages\\pymysql\\cursors.py:329: Warning: (1062, \"Duplicate entry 'buff_1001742-판타지' for key 'PRIMARY'\")\n",
      "  self._do_get_result()\n"
     ]
    },
    {
     "name": "stdout",
     "output_type": "stream",
     "text": [
      "!!!!!!! EROROR\n",
      "*********************************************\n",
      "<buff_1001743>\n"
     ]
    },
    {
     "name": "stderr",
     "output_type": "stream",
     "text": [
      "c:\\users\\administrator\\appdata\\local\\programs\\python\\python37\\lib\\site-packages\\pymysql\\cursors.py:329: Warning: (1062, \"Duplicate entry 'buff_1001743-드라마' for key 'PRIMARY'\")\n",
      "  self._do_get_result()\n",
      "c:\\users\\administrator\\appdata\\local\\programs\\python\\python37\\lib\\site-packages\\pymysql\\cursors.py:329: Warning: (1062, \"Duplicate entry 'buff_1001743-로맨스' for key 'PRIMARY'\")\n",
      "  self._do_get_result()\n",
      "c:\\users\\administrator\\appdata\\local\\programs\\python\\python37\\lib\\site-packages\\pymysql\\cursors.py:329: Warning: (1062, \"Duplicate entry 'buff_1001743-시대극' for key 'PRIMARY'\")\n",
      "  self._do_get_result()\n"
     ]
    },
    {
     "name": "stdout",
     "output_type": "stream",
     "text": [
      "!!!!!!! EROROR\n",
      "*********************************************\n",
      "<buff_1001744>\n",
      "!!!!!!! EROROR\n",
      "*********************************************\n",
      "<buff_1001745>\n",
      "!!!!!!! EROROR\n",
      "*********************************************\n",
      "<buff_1001767>\n"
     ]
    },
    {
     "name": "stderr",
     "output_type": "stream",
     "text": [
      "c:\\users\\administrator\\appdata\\local\\programs\\python\\python37\\lib\\site-packages\\pymysql\\cursors.py:329: Warning: (1062, \"Duplicate entry 'buff_1001767-로맨스' for key 'PRIMARY'\")\n",
      "  self._do_get_result()\n",
      "c:\\users\\administrator\\appdata\\local\\programs\\python\\python37\\lib\\site-packages\\pymysql\\cursors.py:329: Warning: (1062, \"Duplicate entry 'buff_1001767-순정' for key 'PRIMARY'\")\n",
      "  self._do_get_result()\n"
     ]
    },
    {
     "name": "stdout",
     "output_type": "stream",
     "text": [
      "!!!!!!! EROROR\n",
      "*********************************************\n",
      "<buff_1001768>\n"
     ]
    },
    {
     "name": "stderr",
     "output_type": "stream",
     "text": [
      "c:\\users\\administrator\\appdata\\local\\programs\\python\\python37\\lib\\site-packages\\pymysql\\cursors.py:329: Warning: (1062, \"Duplicate entry 'buff_1001768-판타지' for key 'PRIMARY'\")\n",
      "  self._do_get_result()\n",
      "c:\\users\\administrator\\appdata\\local\\programs\\python\\python37\\lib\\site-packages\\pymysql\\cursors.py:329: Warning: (1062, \"Duplicate entry 'buff_1001768-액션' for key 'PRIMARY'\")\n",
      "  self._do_get_result()\n",
      "c:\\users\\administrator\\appdata\\local\\programs\\python\\python37\\lib\\site-packages\\pymysql\\cursors.py:329: Warning: (1062, \"Duplicate entry 'buff_1001768-드라마' for key 'PRIMARY'\")\n",
      "  self._do_get_result()\n",
      "c:\\users\\administrator\\appdata\\local\\programs\\python\\python37\\lib\\site-packages\\pymysql\\cursors.py:329: Warning: (1062, \"Duplicate entry 'buff_1001768-NC COMIX' for key 'PRIMARY'\")\n",
      "  self._do_get_result()\n"
     ]
    },
    {
     "name": "stdout",
     "output_type": "stream",
     "text": [
      "!!!!!!! EROROR\n",
      "*********************************************\n",
      "<buff_1001803>\n"
     ]
    },
    {
     "name": "stderr",
     "output_type": "stream",
     "text": [
      "c:\\users\\administrator\\appdata\\local\\programs\\python\\python37\\lib\\site-packages\\pymysql\\cursors.py:329: Warning: (1062, \"Duplicate entry 'buff_1001803-일상' for key 'PRIMARY'\")\n",
      "  self._do_get_result()\n",
      "c:\\users\\administrator\\appdata\\local\\programs\\python\\python37\\lib\\site-packages\\pymysql\\cursors.py:329: Warning: (1062, \"Duplicate entry 'buff_1001803-드라마' for key 'PRIMARY'\")\n",
      "  self._do_get_result()\n",
      "c:\\users\\administrator\\appdata\\local\\programs\\python\\python37\\lib\\site-packages\\pymysql\\cursors.py:329: Warning: (1062, \"Duplicate entry 'buff_1001803-현대물' for key 'PRIMARY'\")\n",
      "  self._do_get_result()\n"
     ]
    },
    {
     "name": "stdout",
     "output_type": "stream",
     "text": [
      "!!!!!!! EROROR\n",
      "*********************************************\n",
      "<buff_1001817>\n"
     ]
    },
    {
     "name": "stderr",
     "output_type": "stream",
     "text": [
      "c:\\users\\administrator\\appdata\\local\\programs\\python\\python37\\lib\\site-packages\\pymysql\\cursors.py:329: Warning: (1062, \"Duplicate entry 'buff_1001817-판타지' for key 'PRIMARY'\")\n",
      "  self._do_get_result()\n",
      "c:\\users\\administrator\\appdata\\local\\programs\\python\\python37\\lib\\site-packages\\pymysql\\cursors.py:329: Warning: (1062, \"Duplicate entry 'buff_1001817-액션' for key 'PRIMARY'\")\n",
      "  self._do_get_result()\n",
      "c:\\users\\administrator\\appdata\\local\\programs\\python\\python37\\lib\\site-packages\\pymysql\\cursors.py:329: Warning: (1062, \"Duplicate entry 'buff_1001817-로맨스' for key 'PRIMARY'\")\n",
      "  self._do_get_result()\n"
     ]
    },
    {
     "name": "stdout",
     "output_type": "stream",
     "text": [
      "!!!!!!! EROROR\n",
      "*********************************************\n",
      "<buff_1001826>\n"
     ]
    },
    {
     "name": "stderr",
     "output_type": "stream",
     "text": [
      "c:\\users\\administrator\\appdata\\local\\programs\\python\\python37\\lib\\site-packages\\pymysql\\cursors.py:329: Warning: (1062, \"Duplicate entry 'buff_1001826-판타지' for key 'PRIMARY'\")\n",
      "  self._do_get_result()\n",
      "c:\\users\\administrator\\appdata\\local\\programs\\python\\python37\\lib\\site-packages\\pymysql\\cursors.py:329: Warning: (1062, \"Duplicate entry 'buff_1001826-액션' for key 'PRIMARY'\")\n",
      "  self._do_get_result()\n"
     ]
    },
    {
     "name": "stdout",
     "output_type": "stream",
     "text": [
      "!!!!!!! EROROR\n",
      "*********************************************\n",
      "<buff_1001827>\n",
      "!!!!!!! EROROR\n",
      "*********************************************\n",
      "<buff_1001828>\n",
      "!!!!!!! EROROR\n",
      "*********************************************\n",
      "<buff_1001829>\n"
     ]
    },
    {
     "name": "stderr",
     "output_type": "stream",
     "text": [
      "c:\\users\\administrator\\appdata\\local\\programs\\python\\python37\\lib\\site-packages\\pymysql\\cursors.py:329: Warning: (1062, \"Duplicate entry 'buff_1001829-판타지' for key 'PRIMARY'\")\n",
      "  self._do_get_result()\n",
      "c:\\users\\administrator\\appdata\\local\\programs\\python\\python37\\lib\\site-packages\\pymysql\\cursors.py:329: Warning: (1062, \"Duplicate entry 'buff_1001829-드라마' for key 'PRIMARY'\")\n",
      "  self._do_get_result()\n"
     ]
    },
    {
     "name": "stdout",
     "output_type": "stream",
     "text": [
      "!!!!!!! EROROR\n",
      "*********************************************\n",
      "<buff_1001830>\n",
      "!!!!!!! EROROR\n",
      "*********************************************\n",
      "<buff_1001836>\n"
     ]
    },
    {
     "name": "stderr",
     "output_type": "stream",
     "text": [
      "c:\\users\\administrator\\appdata\\local\\programs\\python\\python37\\lib\\site-packages\\pymysql\\cursors.py:329: Warning: (1062, \"Duplicate entry 'buff_1001836-판타지' for key 'PRIMARY'\")\n",
      "  self._do_get_result()\n",
      "c:\\users\\administrator\\appdata\\local\\programs\\python\\python37\\lib\\site-packages\\pymysql\\cursors.py:329: Warning: (1062, \"Duplicate entry 'buff_1001836-개그' for key 'PRIMARY'\")\n",
      "  self._do_get_result()\n"
     ]
    },
    {
     "name": "stdout",
     "output_type": "stream",
     "text": [
      "!!!!!!! EROROR\n",
      "*********************************************\n",
      "<buff_1001838>\n"
     ]
    },
    {
     "name": "stderr",
     "output_type": "stream",
     "text": [
      "c:\\users\\administrator\\appdata\\local\\programs\\python\\python37\\lib\\site-packages\\pymysql\\cursors.py:329: Warning: (1062, \"Duplicate entry 'buff_1001838-판타지' for key 'PRIMARY'\")\n",
      "  self._do_get_result()\n",
      "c:\\users\\administrator\\appdata\\local\\programs\\python\\python37\\lib\\site-packages\\pymysql\\cursors.py:329: Warning: (1062, \"Duplicate entry 'buff_1001838-순정' for key 'PRIMARY'\")\n",
      "  self._do_get_result()\n"
     ]
    },
    {
     "name": "stdout",
     "output_type": "stream",
     "text": [
      "!!!!!!! EROROR\n",
      "*********************************************\n",
      "<buff_1001864>\n"
     ]
    },
    {
     "name": "stderr",
     "output_type": "stream",
     "text": [
      "c:\\users\\administrator\\appdata\\local\\programs\\python\\python37\\lib\\site-packages\\pymysql\\cursors.py:329: Warning: (1062, \"Duplicate entry 'buff_1001864-판타지' for key 'PRIMARY'\")\n",
      "  self._do_get_result()\n",
      "c:\\users\\administrator\\appdata\\local\\programs\\python\\python37\\lib\\site-packages\\pymysql\\cursors.py:329: Warning: (1062, \"Duplicate entry 'buff_1001864-액션' for key 'PRIMARY'\")\n",
      "  self._do_get_result()\n"
     ]
    },
    {
     "name": "stdout",
     "output_type": "stream",
     "text": [
      "!!!!!!! EROROR\n",
      "*********************************************\n",
      "<buff_1001867>\n"
     ]
    },
    {
     "name": "stderr",
     "output_type": "stream",
     "text": [
      "c:\\users\\administrator\\appdata\\local\\programs\\python\\python37\\lib\\site-packages\\pymysql\\cursors.py:329: Warning: (1062, \"Duplicate entry 'buff_1001867-판타지' for key 'PRIMARY'\")\n",
      "  self._do_get_result()\n",
      "c:\\users\\administrator\\appdata\\local\\programs\\python\\python37\\lib\\site-packages\\pymysql\\cursors.py:329: Warning: (1062, \"Duplicate entry 'buff_1001867-로맨스' for key 'PRIMARY'\")\n",
      "  self._do_get_result()\n"
     ]
    },
    {
     "name": "stdout",
     "output_type": "stream",
     "text": [
      "!!!!!!! EROROR\n",
      "*********************************************\n",
      "<buff_1001888>\n",
      "!!!!!!! EROROR\n",
      "*********************************************\n",
      "<buff_1001889>\n",
      "!!!!!!! EROROR\n",
      "*********************************************\n",
      "<buff_1001890>\n",
      "!!!!!!! EROROR\n",
      "*********************************************\n",
      "<buff_1001891>\n",
      "!!!!!!! EROROR\n",
      "*********************************************\n",
      "<buff_1001917>\n",
      "!!!!!!! EROROR\n",
      "*********************************************\n",
      "<buff_1001918>\n"
     ]
    },
    {
     "name": "stderr",
     "output_type": "stream",
     "text": [
      "c:\\users\\administrator\\appdata\\local\\programs\\python\\python37\\lib\\site-packages\\pymysql\\cursors.py:329: Warning: (1062, \"Duplicate entry 'buff_1001918-로맨스' for key 'PRIMARY'\")\n",
      "  self._do_get_result()\n",
      "c:\\users\\administrator\\appdata\\local\\programs\\python\\python37\\lib\\site-packages\\pymysql\\cursors.py:329: Warning: (1062, \"Duplicate entry 'buff_1001918-학원' for key 'PRIMARY'\")\n",
      "  self._do_get_result()\n",
      "c:\\users\\administrator\\appdata\\local\\programs\\python\\python37\\lib\\site-packages\\pymysql\\cursors.py:329: Warning: (1062, \"Duplicate entry 'buff_1001918-게임' for key 'PRIMARY'\")\n",
      "  self._do_get_result()\n"
     ]
    },
    {
     "name": "stdout",
     "output_type": "stream",
     "text": [
      "!!!!!!! EROROR\n",
      "*********************************************\n",
      "<buff_1001947>\n",
      "!!!!!!! EROROR\n",
      "*********************************************\n",
      "<buff_1001948>\n",
      "!!!!!!! EROROR\n",
      "*********************************************\n",
      "<buff_1001949>\n",
      "!!!!!!! EROROR\n",
      "*********************************************\n",
      "<buff_10073>\n"
     ]
    },
    {
     "name": "stderr",
     "output_type": "stream",
     "text": [
      "c:\\users\\administrator\\appdata\\local\\programs\\python\\python37\\lib\\site-packages\\pymysql\\cursors.py:329: Warning: (1062, \"Duplicate entry 'buff_10073-로맨스' for key 'PRIMARY'\")\n",
      "  self._do_get_result()\n",
      "c:\\users\\administrator\\appdata\\local\\programs\\python\\python37\\lib\\site-packages\\pymysql\\cursors.py:329: Warning: (1062, \"Duplicate entry 'buff_10073-판타지' for key 'PRIMARY'\")\n",
      "  self._do_get_result()\n",
      "c:\\users\\administrator\\appdata\\local\\programs\\python\\python37\\lib\\site-packages\\pymysql\\cursors.py:329: Warning: (1062, \"Duplicate entry 'buff_10073-학원' for key 'PRIMARY'\")\n",
      "  self._do_get_result()\n"
     ]
    },
    {
     "name": "stdout",
     "output_type": "stream",
     "text": [
      "!!!!!!! EROROR\n",
      "*********************************************\n",
      "<buff_10076>\n",
      "!!!!!!! EROROR\n",
      "*********************************************\n",
      "<buff_10077>\n",
      "!!!!!!! EROROR\n",
      "*********************************************\n",
      "<buff_10078>\n",
      "!!!!!!! EROROR\n",
      "*********************************************\n",
      "<buff_10079>\n",
      "!!!!!!! EROROR\n",
      "*********************************************\n",
      "<buff_10080>\n",
      "!!!!!!! EROROR\n",
      "*********************************************\n",
      "<buff_10081>\n"
     ]
    },
    {
     "name": "stderr",
     "output_type": "stream",
     "text": [
      "c:\\users\\administrator\\appdata\\local\\programs\\python\\python37\\lib\\site-packages\\pymysql\\cursors.py:329: Warning: (1062, \"Duplicate entry 'buff_10081-판타지' for key 'PRIMARY'\")\n",
      "  self._do_get_result()\n",
      "c:\\users\\administrator\\appdata\\local\\programs\\python\\python37\\lib\\site-packages\\pymysql\\cursors.py:329: Warning: (1062, \"Duplicate entry 'buff_10081-개그' for key 'PRIMARY'\")\n",
      "  self._do_get_result()\n"
     ]
    },
    {
     "name": "stdout",
     "output_type": "stream",
     "text": [
      "!!!!!!! EROROR\n",
      "*********************************************\n",
      "<buff_10082>\n"
     ]
    },
    {
     "name": "stderr",
     "output_type": "stream",
     "text": [
      "c:\\users\\administrator\\appdata\\local\\programs\\python\\python37\\lib\\site-packages\\pymysql\\cursors.py:329: Warning: (1062, \"Duplicate entry 'buff_10082-판타지' for key 'PRIMARY'\")\n",
      "  self._do_get_result()\n",
      "c:\\users\\administrator\\appdata\\local\\programs\\python\\python37\\lib\\site-packages\\pymysql\\cursors.py:329: Warning: (1062, \"Duplicate entry 'buff_10082-NC COMIX' for key 'PRIMARY'\")\n",
      "  self._do_get_result()\n"
     ]
    },
    {
     "name": "stdout",
     "output_type": "stream",
     "text": [
      "!!!!!!! EROROR\n",
      "*********************************************\n",
      "<buff_10085>\n",
      "!!!!!!! EROROR\n",
      "*********************************************\n",
      "<buff_10086>\n",
      "!!!!!!! EROROR\n",
      "*********************************************\n",
      "<buff_100871>\n",
      "!!!!!!! EROROR\n",
      "*********************************************\n",
      "<buff_10088>\n",
      "!!!!!!! EROROR\n",
      "*********************************************\n",
      "<buff_10089>\n"
     ]
    },
    {
     "name": "stderr",
     "output_type": "stream",
     "text": [
      "c:\\users\\administrator\\appdata\\local\\programs\\python\\python37\\lib\\site-packages\\pymysql\\cursors.py:329: Warning: (1062, \"Duplicate entry 'buff_10089-판타지' for key 'PRIMARY'\")\n",
      "  self._do_get_result()\n",
      "c:\\users\\administrator\\appdata\\local\\programs\\python\\python37\\lib\\site-packages\\pymysql\\cursors.py:329: Warning: (1062, \"Duplicate entry 'buff_10089-학원' for key 'PRIMARY'\")\n",
      "  self._do_get_result()\n"
     ]
    },
    {
     "name": "stdout",
     "output_type": "stream",
     "text": [
      "!!!!!!! EROROR\n",
      "*********************************************\n",
      "<buff_10090>\n",
      "!!!!!!! EROROR\n",
      "*********************************************\n",
      "<buff_10092>\n"
     ]
    },
    {
     "name": "stderr",
     "output_type": "stream",
     "text": [
      "c:\\users\\administrator\\appdata\\local\\programs\\python\\python37\\lib\\site-packages\\pymysql\\cursors.py:329: Warning: (1062, \"Duplicate entry 'buff_10092-드라마' for key 'PRIMARY'\")\n",
      "  self._do_get_result()\n",
      "c:\\users\\administrator\\appdata\\local\\programs\\python\\python37\\lib\\site-packages\\pymysql\\cursors.py:329: Warning: (1062, \"Duplicate entry 'buff_10092-로맨스' for key 'PRIMARY'\")\n",
      "  self._do_get_result()\n"
     ]
    },
    {
     "name": "stdout",
     "output_type": "stream",
     "text": [
      "!!!!!!! EROROR\n",
      "*********************************************\n",
      "<buff_10094>\n"
     ]
    },
    {
     "name": "stderr",
     "output_type": "stream",
     "text": [
      "c:\\users\\administrator\\appdata\\local\\programs\\python\\python37\\lib\\site-packages\\pymysql\\cursors.py:329: Warning: (1062, \"Duplicate entry 'buff_10094-개그' for key 'PRIMARY'\")\n",
      "  self._do_get_result()\n",
      "c:\\users\\administrator\\appdata\\local\\programs\\python\\python37\\lib\\site-packages\\pymysql\\cursors.py:329: Warning: (1062, \"Duplicate entry 'buff_10094-학원' for key 'PRIMARY'\")\n",
      "  self._do_get_result()\n"
     ]
    },
    {
     "name": "stdout",
     "output_type": "stream",
     "text": [
      "!!!!!!! EROROR\n",
      "*********************************************\n",
      "<buff_10096>\n"
     ]
    },
    {
     "name": "stderr",
     "output_type": "stream",
     "text": [
      "c:\\users\\administrator\\appdata\\local\\programs\\python\\python37\\lib\\site-packages\\pymysql\\cursors.py:329: Warning: (1062, \"Duplicate entry 'buff_10096-개그' for key 'PRIMARY'\")\n",
      "  self._do_get_result()\n",
      "c:\\users\\administrator\\appdata\\local\\programs\\python\\python37\\lib\\site-packages\\pymysql\\cursors.py:329: Warning: (1062, \"Duplicate entry 'buff_10096-기타' for key 'PRIMARY'\")\n",
      "  self._do_get_result()\n"
     ]
    },
    {
     "name": "stdout",
     "output_type": "stream",
     "text": [
      "!!!!!!! EROROR\n",
      "*********************************************\n",
      "<buff_10099>\n",
      "!!!!!!! EROROR\n",
      "*********************************************\n",
      "<buff_10100>\n"
     ]
    },
    {
     "name": "stderr",
     "output_type": "stream",
     "text": [
      "c:\\users\\administrator\\appdata\\local\\programs\\python\\python37\\lib\\site-packages\\pymysql\\cursors.py:329: Warning: (1062, \"Duplicate entry 'buff_10100-개그' for key 'PRIMARY'\")\n",
      "  self._do_get_result()\n",
      "c:\\users\\administrator\\appdata\\local\\programs\\python\\python37\\lib\\site-packages\\pymysql\\cursors.py:329: Warning: (1062, \"Duplicate entry 'buff_10100-학원' for key 'PRIMARY'\")\n",
      "  self._do_get_result()\n"
     ]
    },
    {
     "name": "stdout",
     "output_type": "stream",
     "text": [
      "!!!!!!! EROROR\n",
      "*********************************************\n",
      "<buff_10102>\n"
     ]
    },
    {
     "name": "stderr",
     "output_type": "stream",
     "text": [
      "c:\\users\\administrator\\appdata\\local\\programs\\python\\python37\\lib\\site-packages\\pymysql\\cursors.py:329: Warning: (1062, \"Duplicate entry 'buff_10102-로맨스' for key 'PRIMARY'\")\n",
      "  self._do_get_result()\n",
      "c:\\users\\administrator\\appdata\\local\\programs\\python\\python37\\lib\\site-packages\\pymysql\\cursors.py:329: Warning: (1062, \"Duplicate entry 'buff_10102-드라마' for key 'PRIMARY'\")\n",
      "  self._do_get_result()\n"
     ]
    },
    {
     "name": "stdout",
     "output_type": "stream",
     "text": [
      "!!!!!!! EROROR\n",
      "*********************************************\n",
      "<buff_10105>\n",
      "!!!!!!! EROROR\n",
      "*********************************************\n",
      "<buff_10106>\n"
     ]
    },
    {
     "name": "stderr",
     "output_type": "stream",
     "text": [
      "c:\\users\\administrator\\appdata\\local\\programs\\python\\python37\\lib\\site-packages\\pymysql\\cursors.py:329: Warning: (1062, \"Duplicate entry 'buff_10106-판타지' for key 'PRIMARY'\")\n",
      "  self._do_get_result()\n",
      "c:\\users\\administrator\\appdata\\local\\programs\\python\\python37\\lib\\site-packages\\pymysql\\cursors.py:329: Warning: (1062, \"Duplicate entry 'buff_10106-학원' for key 'PRIMARY'\")\n",
      "  self._do_get_result()\n"
     ]
    },
    {
     "name": "stdout",
     "output_type": "stream",
     "text": [
      "!!!!!!! EROROR\n",
      "*********************************************\n",
      "<buff_665749>\n",
      "!!!!!!! EROROR\n",
      "*********************************************\n",
      "<buff_672930>\n",
      "!!!!!!! EROROR\n",
      "*********************************************\n",
      "<buff_672931>\n",
      "!!!!!!! EROROR\n",
      "*********************************************\n",
      "<buff_697057>\n",
      "!!!!!!! EROROR\n",
      "*********************************************\n",
      "<buff_698318>\n",
      "!!!!!!! EROROR\n",
      "*********************************************\n",
      "<buff_745052>\n",
      "!!!!!!! EROROR\n",
      "*********************************************\n",
      "<buff_745053>\n",
      "!!!!!!! EROROR\n",
      "*********************************************\n",
      "<buff_745054>\n",
      "!!!!!!! EROROR\n",
      "*********************************************\n",
      "<buff_758331>\n",
      "!!!!!!! EROROR\n",
      "*********************************************\n",
      "<buff_758341>\n"
     ]
    },
    {
     "name": "stderr",
     "output_type": "stream",
     "text": [
      "c:\\users\\administrator\\appdata\\local\\programs\\python\\python37\\lib\\site-packages\\pymysql\\cursors.py:329: Warning: (1062, \"Duplicate entry 'buff_758341-판타지' for key 'PRIMARY'\")\n",
      "  self._do_get_result()\n",
      "c:\\users\\administrator\\appdata\\local\\programs\\python\\python37\\lib\\site-packages\\pymysql\\cursors.py:329: Warning: (1062, \"Duplicate entry 'buff_758341-로맨스' for key 'PRIMARY'\")\n",
      "  self._do_get_result()\n",
      "c:\\users\\administrator\\appdata\\local\\programs\\python\\python37\\lib\\site-packages\\pymysql\\cursors.py:329: Warning: (1062, \"Duplicate entry 'buff_758341-학원' for key 'PRIMARY'\")\n",
      "  self._do_get_result()\n"
     ]
    },
    {
     "name": "stdout",
     "output_type": "stream",
     "text": [
      "!!!!!!! EROROR\n",
      "*********************************************\n",
      "<buff_759046>\n",
      "!!!!!!! EROROR\n",
      "*********************************************\n",
      "<buff_773433>\n",
      "!!!!!!! EROROR\n"
     ]
    }
   ],
   "source": [
    "# ------ 3. 회차 정보\n",
    "browser = webdriver.Chrome('C:/Users/Administrator/OneDrive/Readers/Crawling/chromedriver.exe')\n",
    "\n",
    "sel_url_sql = 'select toon_id, toon_url from toon_info where toon_site = \"buff\"'\n",
    "sel_dup_sql = 'select toon_id, epi_name from epi_info where toon_id = %s and epi_name = %s'\n",
    "ins_epi_info_sql = 'insert into epi_info(toon_id, epi_name, epi_url, epi_thumb_url, epi_date)\\\n",
    "                    values (%s, %s, %s, %s, %s)'\n",
    "\n",
    "desc_sql = \"update toon_info set toon_desc = %s where toon_id = %s and toon_desc = ''\"\n",
    "genre_sql = \"insert ignore into toon_genre(toon_id, genre_name)\\\n",
    "             values (%s, %s)\"\n",
    "\n",
    "\n",
    "\n",
    "cursor1.execute(sel_url_sql)\n",
    "result = cursor1.fetchall()\n",
    "   \n",
    "for row in result:\n",
    "    toon_id = row['toon_id']\n",
    "    toon_url = row['toon_url']\n",
    "    \n",
    "    browser.get(toon_url)\n",
    "    print('*********************************************')\n",
    "    print('<' + toon_id + '>')\n",
    "    browser.get(toon_url)\n",
    "    browser.implicitly_wait(3)\n",
    "\n",
    "    #장르\n",
    "    gn = browser.find_element_by_class_name(\"ellipsis\")\n",
    "    genres = gn.text\n",
    "    genre_list = genres.split(', ')\n",
    "    for genre_name in genre_list:\n",
    "        cursor2.execute(genre_sql, (toon_id, genre_name))\n",
    "\n",
    "    #설명\n",
    "    desc = browser.find_element_by_class_name(\"des-one\")\n",
    "    toon_desc = desc.text\n",
    "    cursor3.execute(desc_sql,(toon_desc, toon_id))\n",
    "    \n",
    "    num = 1 # episode 개수 탐색\n",
    "    while num < 999999:\n",
    "        try:\n",
    "            epilist = browser.find_element_by_class_name('available')\n",
    "            episode = epilist.find_element_by_xpath(\"li[\" + str(num) + \"]/div/a\")\n",
    "            browser.execute_script(\"arguments[0].scrollIntoView(true);\", episode) # Scroll to this episode\n",
    "            \n",
    "            # URL\n",
    "            epi_url = episode.get_attribute('href')\n",
    "            \n",
    "            # 썸네일 링크\n",
    "            thumb = episode.find_element_by_xpath(\"div[1]/div[1]/img\")\n",
    "            epi_thumb_url = thumb.get_attribute('data-src')\n",
    "            \n",
    "            # 에피소드 제목\n",
    "            epi_name = thumb.get_attribute('alt')\n",
    "            \n",
    "            # 업데이트 날짜 추출\n",
    "            date = episode.find_element_by_xpath(\"div[2]/div[2]/div/span\")\n",
    "            epi_date = date.text.replace(\".\", \"-\")\n",
    "            \n",
    "            cursor2.execute(sel_dup_sql, (toon_id, epi_name))\n",
    "            if cursor2.fetchall():\n",
    "                num += 1\n",
    "                continue\n",
    "            else:\n",
    "                cursor3.execute(ins_epi_info_sql, (toon_id, epi_name, epi_url, epi_thumb_url, epi_date))\n",
    "                db.commit()\n",
    "            num += 1\n",
    "            \n",
    "        except:\n",
    "            print(\"!!!!!!! EROROR\")\n",
    "            break\n",
    "#db.close()"
   ]
  },
  {
   "cell_type": "code",
   "execution_count": null,
   "metadata": {},
   "outputs": [],
   "source": []
  }
 ],
 "metadata": {
  "kernelspec": {
   "display_name": "Python 3",
   "language": "python",
   "name": "python3"
  },
  "language_info": {
   "codemirror_mode": {
    "name": "ipython",
    "version": 3
   },
   "file_extension": ".py",
   "mimetype": "text/x-python",
   "name": "python",
   "nbconvert_exporter": "python",
   "pygments_lexer": "ipython3",
   "version": "3.7.2"
  }
 },
 "nbformat": 4,
 "nbformat_minor": 2
}
