{
 "cells": [
  {
   "cell_type": "code",
   "execution_count": 6,
   "metadata": {},
   "outputs": [],
   "source": [
    "from bs4 import BeautifulSoup\n",
    "import requests\n",
    "from selenium import webdriver\n",
    "from selenium.common.exceptions import NoSuchElementException\n",
    "import pymysql\n",
    "from urllib.parse import urlparse, parse_qs\n",
    "\n",
    "# mysql db connect\n",
    "db = pymysql.connect(host='52.78.23.232', user='root', password='readers7', port=3306, db='readers', charset='utf8', cursorclass=pymysql.cursors.DictCursor)\n",
    "cursor1 = db.cursor()\n",
    "cursor2 = db.cursor()\n",
    "cursor3 = db.cursor()\n",
    "cursor4 = db.cursor()"
   ]
  },
  {
   "cell_type": "code",
   "execution_count": 3,
   "metadata": {
    "scrolled": true
   },
   "outputs": [
    {
     "name": "stderr",
     "output_type": "stream",
     "text": [
      "c:\\users\\administrator\\appdata\\local\\programs\\python\\python37\\lib\\site-packages\\pymysql\\cursors.py:329: Warning: (1452, 'Cannot add or update a child row: a foreign key constraint fails (`readers`.`toon_weekday`, CONSTRAINT `week_toon_id` FOREIGN KEY (`toon_id`) REFERENCES `toon_info` (`toon_id`) ON DELETE CASCADE ON UPDATE CASCADE)')\n",
      "  self._do_get_result()\n",
      "c:\\users\\administrator\\appdata\\local\\programs\\python\\python37\\lib\\site-packages\\pymysql\\cursors.py:329: Warning: (1062, \"Duplicate entry 'bomtoon_tmflstm-mon' for key 'PRIMARY'\")\n",
      "  self._do_get_result()\n"
     ]
    },
    {
     "name": "stdout",
     "output_type": "stream",
     "text": [
      "ERROROROORR\n"
     ]
    },
    {
     "name": "stderr",
     "output_type": "stream",
     "text": [
      "c:\\users\\administrator\\appdata\\local\\programs\\python\\python37\\lib\\site-packages\\pymysql\\cursors.py:329: Warning: (1062, \"Duplicate entry 'bomtoon_krasgaoka-tue' for key 'PRIMARY'\")\n",
      "  self._do_get_result()\n"
     ]
    },
    {
     "name": "stdout",
     "output_type": "stream",
     "text": [
      "ERROROROORR\n"
     ]
    },
    {
     "name": "stderr",
     "output_type": "stream",
     "text": [
      "c:\\users\\administrator\\appdata\\local\\programs\\python\\python37\\lib\\site-packages\\pymysql\\cursors.py:329: Warning: (1062, \"Duplicate entry 'bomtoon_dkrgkacna-wed' for key 'PRIMARY'\")\n",
      "  self._do_get_result()\n",
      "c:\\users\\administrator\\appdata\\local\\programs\\python\\python37\\lib\\site-packages\\pymysql\\cursors.py:329: Warning: (1062, \"Duplicate entry 'bomtoon_sotptkddps' for key 'PRIMARY'\")\n",
      "  self._do_get_result()\n"
     ]
    },
    {
     "name": "stdout",
     "output_type": "stream",
     "text": [
      "ERROROROORR\n"
     ]
    },
    {
     "name": "stderr",
     "output_type": "stream",
     "text": [
      "c:\\users\\administrator\\appdata\\local\\programs\\python\\python37\\lib\\site-packages\\pymysql\\cursors.py:329: Warning: (1062, \"Duplicate entry 'bomtoon_gksmfrksur-thu' for key 'PRIMARY'\")\n",
      "  self._do_get_result()\n",
      "c:\\users\\administrator\\appdata\\local\\programs\\python\\python37\\lib\\site-packages\\pymysql\\cursors.py:329: Warning: (1062, \"Duplicate entry 'bomtoon_WOULD_U_D' for key 'PRIMARY'\")\n",
      "  self._do_get_result()\n"
     ]
    },
    {
     "name": "stdout",
     "output_type": "stream",
     "text": [
      "ERROROROORR\n"
     ]
    },
    {
     "name": "stderr",
     "output_type": "stream",
     "text": [
      "c:\\users\\administrator\\appdata\\local\\programs\\python\\python37\\lib\\site-packages\\pymysql\\cursors.py:329: Warning: (1062, \"Duplicate entry 'bomtoon_dkkkdldpaa-fri' for key 'PRIMARY'\")\n",
      "  self._do_get_result()\n"
     ]
    },
    {
     "name": "stdout",
     "output_type": "stream",
     "text": [
      "ERROROROORR\n"
     ]
    },
    {
     "name": "stderr",
     "output_type": "stream",
     "text": [
      "c:\\users\\administrator\\appdata\\local\\programs\\python\\python37\\lib\\site-packages\\pymysql\\cursors.py:329: Warning: (1062, \"Duplicate entry 'bomtoon_Between_us-sat' for key 'PRIMARY'\")\n",
      "  self._do_get_result()\n"
     ]
    },
    {
     "name": "stdout",
     "output_type": "stream",
     "text": [
      "ERROROROORR\n"
     ]
    },
    {
     "name": "stderr",
     "output_type": "stream",
     "text": [
      "c:\\users\\administrator\\appdata\\local\\programs\\python\\python37\\lib\\site-packages\\pymysql\\cursors.py:329: Warning: (1062, \"Duplicate entry 'bomtoon_Daily_F-sun' for key 'PRIMARY'\")\n",
      "  self._do_get_result()\n",
      "c:\\users\\administrator\\appdata\\local\\programs\\python\\python37\\lib\\site-packages\\pymysql\\cursors.py:329: Warning: (1062, \"Duplicate entry 'bomtoon_gotongGODm' for key 'PRIMARY'\")\n",
      "  self._do_get_result()\n"
     ]
    },
    {
     "name": "stdout",
     "output_type": "stream",
     "text": [
      "ERROROROORR\n"
     ]
    }
   ],
   "source": [
    "# ------ 1. 연재 웹툰 크롤링\n",
    "\n",
    "sel_sql = \"select toon_id from toon_info\"\n",
    "ins_sql = \"insert ignore into toon_info(toon_id, toon_name, toon_url, toon_desc, toon_site, wrt_name, is_end, toon_thumb_url)\\\n",
    "           values (%s, %s, %s, %s, %s, %s, %s, %s)\"\n",
    "weekday_sql = \"insert ignore into toon_weekday(toon_id, toon_weekday)\\\n",
    "               values (%s, %s)\"\n",
    "\n",
    "# 요일 탭 클릭\n",
    "def setDay(dayvalue):\n",
    "    browser.execute_script(\"window.scrollTo(document.body.scrollHeight, 0)\") # Scroll to top\n",
    "    day = browser.find_element_by_class_name('weekly-tab')\n",
    "    button = day.find_element_by_xpath(\"a[\"+ str(dayvalue) +\"]\")\n",
    "    button.click()\n",
    "    browser.implicitly_wait(3)\n",
    "\n",
    "browser = webdriver.Chrome('C:/Users/Administrator/OneDrive/Readers/Crawling/chromedriver.exe')\n",
    "browser.get('https://bomtoon.com/main/weekly')\n",
    "\n",
    "for day in range(1, 8):\n",
    "    setDay(day)\n",
    "    #print('*********************')\n",
    "    #print(day, 'day')\n",
    "    for num in range(1, 100):\n",
    "        try:\n",
    "            # 요일 추출\n",
    "            if day == 1: weekday = 'mon'\n",
    "            if day == 2: weekday = 'tue'\n",
    "            if day == 3: weekday = 'wed'\n",
    "            if day == 4: weekday = 'thu'\n",
    "            if day == 5: weekday = 'fri'\n",
    "            if day == 6: weekday = 'sat'\n",
    "            if day == 7: weekday = 'sun'\n",
    "            cursor1.execute(weekday_sql, (toon_id, weekday))\n",
    "            \n",
    "            webtoon = browser.find_element_by_xpath(\"//*[@id=\\\"bt-weekly-list-\" + weekday + \"\\\"]/li[\"+ str(num) +\"]\")\n",
    "            browser.execute_script(\"arguments[0].scrollIntoView(true);\", webtoon) # Scroll to this webtoon element\n",
    "            \n",
    "            if 'big' in webtoon.get_attribute(\"class\"):\n",
    "                num += 1\n",
    "                continue\n",
    "            \n",
    "            webtoon = webtoon.find_element_by_xpath('a')\n",
    "            \n",
    "            # URL\n",
    "            toon_url = webtoon.get_attribute('href')\n",
    "            \n",
    "            \n",
    "            # ID\n",
    "            toon_id = 'bomtoon_' + str(toon_url).replace(\"https://bomtoon.com/comic/ep_list/\", '')\n",
    "            \n",
    "            # 썸네일 주소\n",
    "            thumb = webtoon.find_element_by_xpath('div[1]/span')\n",
    "            thumb_url = thumb.get_attribute('style')\n",
    "            toon_thumb_url = thumb_url.split('\\\"')[1]\n",
    "            \n",
    "            # 제목\n",
    "            name = webtoon.find_element_by_xpath(\"div[2]/p[1]\")\n",
    "            toon_name = name.text\n",
    "            \n",
    "            # 작가\n",
    "            wrt = webtoon.find_element_by_xpath(\"div[2]/p[2]\")\n",
    "            wrt = wrt.text\n",
    "            wrt_name = wrt.split(\" | \")[1]\n",
    "            \n",
    "            toon_desc = ''\n",
    "            \n",
    "            # toon_info\n",
    "            cursor1.execute(sel_sql)\n",
    "            result = cursor1.fetchall()\n",
    "            if (toon_id not in result):\n",
    "                cursor2.execute(ins_sql, (toon_id, toon_name, toon_url, toon_desc, 'bomtoon', wrt_name, 'X', toon_thumb_url))\n",
    "            db.commit()\n",
    "            num += 1\n",
    "            \n",
    "        except NoSuchElementException:\n",
    "            print(\"ERROROROORR\")\n",
    "            break\n",
    "db.close()"
   ]
  },
  {
   "cell_type": "code",
   "execution_count": 8,
   "metadata": {},
   "outputs": [
    {
     "name": "stderr",
     "output_type": "stream",
     "text": [
      "c:\\users\\administrator\\appdata\\local\\programs\\python\\python37\\lib\\site-packages\\pymysql\\cursors.py:329: Warning: (1062, \"Duplicate entry 'bomtoon_my_h_login' for key 'PRIMARY'\")\n",
      "  self._do_get_result()\n",
      "c:\\users\\administrator\\appdata\\local\\programs\\python\\python37\\lib\\site-packages\\pymysql\\cursors.py:329: Warning: (1062, \"Duplicate entry 'bomtoon_skadml_BL' for key 'PRIMARY'\")\n",
      "  self._do_get_result()\n",
      "c:\\users\\administrator\\appdata\\local\\programs\\python\\python37\\lib\\site-packages\\pymysql\\cursors.py:329: Warning: (1062, \"Duplicate entry 'bomtoon_Between_us' for key 'PRIMARY'\")\n",
      "  self._do_get_result()\n",
      "c:\\users\\administrator\\appdata\\local\\programs\\python\\python37\\lib\\site-packages\\pymysql\\cursors.py:329: Warning: (1062, \"Duplicate entry 'bomtoon_love_love0' for key 'PRIMARY'\")\n",
      "  self._do_get_result()\n",
      "c:\\users\\administrator\\appdata\\local\\programs\\python\\python37\\lib\\site-packages\\pymysql\\cursors.py:329: Warning: (1062, \"Duplicate entry 'bomtoon_45seconds' for key 'PRIMARY'\")\n",
      "  self._do_get_result()\n",
      "c:\\users\\administrator\\appdata\\local\\programs\\python\\python37\\lib\\site-packages\\pymysql\\cursors.py:329: Warning: (1062, \"Duplicate entry 'bomtoon_evil_lady' for key 'PRIMARY'\")\n",
      "  self._do_get_result()\n",
      "c:\\users\\administrator\\appdata\\local\\programs\\python\\python37\\lib\\site-packages\\pymysql\\cursors.py:329: Warning: (1062, \"Duplicate entry 'bomtoon_krasgaoka' for key 'PRIMARY'\")\n",
      "  self._do_get_result()\n",
      "c:\\users\\administrator\\appdata\\local\\programs\\python\\python37\\lib\\site-packages\\pymysql\\cursors.py:329: Warning: (1062, \"Duplicate entry 'bomtoon_NamCheop' for key 'PRIMARY'\")\n",
      "  self._do_get_result()\n",
      "c:\\users\\administrator\\appdata\\local\\programs\\python\\python37\\lib\\site-packages\\pymysql\\cursors.py:329: Warning: (1062, \"Duplicate entry 'bomtoon_dlgoqnfsmd' for key 'PRIMARY'\")\n",
      "  self._do_get_result()\n",
      "c:\\users\\administrator\\appdata\\local\\programs\\python\\python37\\lib\\site-packages\\pymysql\\cursors.py:329: Warning: (1062, \"Duplicate entry 'bomtoon_E_of_gaze' for key 'PRIMARY'\")\n",
      "  self._do_get_result()\n",
      "c:\\users\\administrator\\appdata\\local\\programs\\python\\python37\\lib\\site-packages\\pymysql\\cursors.py:329: Warning: (1062, \"Duplicate entry 'bomtoon_doaogkrp_' for key 'PRIMARY'\")\n",
      "  self._do_get_result()\n",
      "c:\\users\\administrator\\appdata\\local\\programs\\python\\python37\\lib\\site-packages\\pymysql\\cursors.py:329: Warning: (1062, \"Duplicate entry 'bomtoon_allday_you' for key 'PRIMARY'\")\n",
      "  self._do_get_result()\n",
      "c:\\users\\administrator\\appdata\\local\\programs\\python\\python37\\lib\\site-packages\\pymysql\\cursors.py:329: Warning: (1062, \"Duplicate entry 'bomtoon_rufqur_qnf' for key 'PRIMARY'\")\n",
      "  self._do_get_result()\n",
      "c:\\users\\administrator\\appdata\\local\\programs\\python\\python37\\lib\\site-packages\\pymysql\\cursors.py:329: Warning: (1062, \"Duplicate entry 'bomtoon_star_sleep' for key 'PRIMARY'\")\n",
      "  self._do_get_result()\n",
      "c:\\users\\administrator\\appdata\\local\\programs\\python\\python37\\lib\\site-packages\\pymysql\\cursors.py:329: Warning: (1062, \"Duplicate entry 'bomtoon_lips_touch' for key 'PRIMARY'\")\n",
      "  self._do_get_result()\n",
      "c:\\users\\administrator\\appdata\\local\\programs\\python\\python37\\lib\\site-packages\\pymysql\\cursors.py:329: Warning: (1062, \"Duplicate entry 'bomtoon_Sieohae' for key 'PRIMARY'\")\n",
      "  self._do_get_result()\n",
      "c:\\users\\administrator\\appdata\\local\\programs\\python\\python37\\lib\\site-packages\\pymysql\\cursors.py:329: Warning: (1062, \"Duplicate entry 'bomtoon_zkfrhkemem' for key 'PRIMARY'\")\n",
      "  self._do_get_result()\n",
      "c:\\users\\administrator\\appdata\\local\\programs\\python\\python37\\lib\\site-packages\\pymysql\\cursors.py:329: Warning: (1062, \"Duplicate entry 'bomtoon_XwndX' for key 'PRIMARY'\")\n",
      "  self._do_get_result()\n",
      "c:\\users\\administrator\\appdata\\local\\programs\\python\\python37\\lib\\site-packages\\pymysql\\cursors.py:329: Warning: (1062, \"Duplicate entry 'bomtoon_dkkkdldpaa' for key 'PRIMARY'\")\n",
      "  self._do_get_result()\n",
      "c:\\users\\administrator\\appdata\\local\\programs\\python\\python37\\lib\\site-packages\\pymysql\\cursors.py:329: Warning: (1062, \"Duplicate entry 'bomtoon_BulP_hama' for key 'PRIMARY'\")\n",
      "  self._do_get_result()\n",
      "c:\\users\\administrator\\appdata\\local\\programs\\python\\python37\\lib\\site-packages\\pymysql\\cursors.py:329: Warning: (1062, \"Duplicate entry 'bomtoon_flqld_dnlf' for key 'PRIMARY'\")\n",
      "  self._do_get_result()\n",
      "c:\\users\\administrator\\appdata\\local\\programs\\python\\python37\\lib\\site-packages\\pymysql\\cursors.py:329: Warning: (1062, \"Duplicate entry 'bomtoon_dear_my_u' for key 'PRIMARY'\")\n",
      "  self._do_get_result()\n",
      "c:\\users\\administrator\\appdata\\local\\programs\\python\\python37\\lib\\site-packages\\pymysql\\cursors.py:329: Warning: (1062, \"Duplicate entry 'bomtoon_real_simk' for key 'PRIMARY'\")\n",
      "  self._do_get_result()\n",
      "c:\\users\\administrator\\appdata\\local\\programs\\python\\python37\\lib\\site-packages\\pymysql\\cursors.py:329: Warning: (1062, \"Duplicate entry 'bomtoon_j_u_w' for key 'PRIMARY'\")\n",
      "  self._do_get_result()\n",
      "c:\\users\\administrator\\appdata\\local\\programs\\python\\python37\\lib\\site-packages\\pymysql\\cursors.py:329: Warning: (1062, \"Duplicate entry 'bomtoon_ucd_marry' for key 'PRIMARY'\")\n",
      "  self._do_get_result()\n"
     ]
    },
    {
     "name": "stdout",
     "output_type": "stream",
     "text": [
      "ERROROROORR\n"
     ]
    }
   ],
   "source": [
    "# ------ 2. 완결 웹툰 크롤링\n",
    "\n",
    "sel_sql = \"select toon_id from toon_info\"\n",
    "ins_sql = \"insert ignore into toon_info(toon_id, toon_name, toon_url, toon_desc, toon_site, wrt_name, is_end, toon_thumb_url)\\\n",
    "           values (%s, %s, %s, %s, %s, %s, %s, %s)\"\n",
    "weekday_sql = \"insert ignore into toon_weekday(toon_id, toon_weekday)\\\n",
    "               values (%s, %s)\"\n",
    "\n",
    "browser = webdriver.Chrome('C:/Users/Administrator/OneDrive/Readers/Crawling/chromedriver.exe')\n",
    "browser.get('https://bomtoon.com/main/complete')\n",
    "\n",
    "\n",
    "for num in range(1, 999999):\n",
    "    try:\n",
    "        webtoon = browser.find_element_by_xpath(\"//*[@id=\\\"bt-complete-list-1\\\"]/li[\"+ str(num) +\"]/a\")\n",
    "        browser.execute_script(\"arguments[0].scrollIntoView(true);\", webtoon) # Scroll to this webtoon element\n",
    "\n",
    "        # URL\n",
    "        toon_url = webtoon.get_attribute('href')\n",
    "        \n",
    "        # ID\n",
    "        toon_id = 'bomtoon_' + str(toon_url).replace(\"https://bomtoon.com/comic/ep_list/\", '')\n",
    "\n",
    "        # 썸네일 주소\n",
    "        thumb = webtoon.find_element_by_xpath('div[1]/span')\n",
    "        thumb_url = thumb.get_attribute('style')\n",
    "        toon_thumb_url = thumb_url.split('\\\"')[1]\n",
    "\n",
    "        # 제목\n",
    "        name = webtoon.find_element_by_xpath(\"div[2]/p[1]\")\n",
    "        toon_name = name.text\n",
    "\n",
    "        # 작가\n",
    "        wrt = webtoon.find_element_by_xpath(\"div[2]/p[2]\")\n",
    "        wrt = wrt.text\n",
    "        wrt_name = wrt.split(\" | \")[1]\n",
    "\n",
    "        toon_desc = ''\n",
    "        \n",
    "        \n",
    "        # toon_info\n",
    "        cursor1.execute(sel_sql)\n",
    "        result = cursor1.fetchall()\n",
    "        if (toon_id not in result):\n",
    "            cursor2.execute(ins_sql, (toon_id, toon_name, toon_url, toon_desc, 'bomtoon', wrt_name, 'O', toon_thumb_url))\n",
    "        db.commit()\n",
    "        \n",
    "        num += 1\n",
    "\n",
    "    except NoSuchElementException:\n",
    "        print(\"ERROROROORR\")\n",
    "        break\n",
    "db.close()"
   ]
  },
  {
   "cell_type": "code",
   "execution_count": null,
   "metadata": {},
   "outputs": [],
   "source": [
    "##### 연재중이었다가 완결된 작품이 연재탭에 존재하는 경우가 있는데\n",
    "##### 작품상세페이지에서 #__연재 이런 태그 없으면 완결된거임\n",
    "##### 그거 판단하는 코드는 안 짰고... 걍 노가다로 일다 완결처리함ㅋ"
   ]
  },
  {
   "cell_type": "code",
   "execution_count": 17,
   "metadata": {},
   "outputs": [],
   "source": [
    "# ------ 3. 회차 정보\n",
    "browser = webdriver.Chrome('C:/Users/Administrator/OneDrive/Readers/Crawling/chromedriver.exe')\n",
    "\n",
    "sel_url_sql = 'select toon_id, toon_url from toon_info where toon_site = \"bomtoon\"'\n",
    "sel_dup_sql = 'select toon_id, epi_name from epi_info where toon_id = %s and epi_name = %s'\n",
    "ins_epi_info_sql = 'insert into epi_info(toon_id, epi_name, epi_url, epi_thumb_url, epi_date)\\\n",
    "                    values (%s, %s, %s, %s, %s)'\n",
    "\n",
    "desc_sql = \"update toon_info set toon_desc = %s where toon_id = %s and toon_desc = ''\"\n",
    "genre_sql = \"insert ignore into toon_genre(toon_id, genre_name)\\\n",
    "             values (%s, %s)\"\n",
    "\n",
    "cursor1.execute(sel_url_sql)\n",
    "result = cursor1.fetchall()\n",
    "   \n",
    "for row in result:\n",
    "    toon_id = row['toon_id']\n",
    "    toon_url = row['toon_url']\n",
    "    \n",
    "    browser.get(toon_url)\n",
    "    browser.implicitly_wait(3)\n",
    "    \n",
    "    #print('*********************************************')\n",
    "    #print('<' + toon_id + '>')\n",
    "\n",
    "    #장르\n",
    "    gn = browser.find_element_by_xpath(\"/html/body/article/div[1]/div[2]/div[2]\") # class_name is \"tag\"\n",
    "    tag = 1\n",
    "    while 1:\n",
    "        try:\n",
    "            genres = gn.find_element_by_xpath(\"a[\"+ str(tag) +\"]\")\n",
    "            genre = genres.text\n",
    "            if \"연재\" in genre: \n",
    "                tag += 1\n",
    "                continue\n",
    "            else:\n",
    "                genre = genre.replace(\"#\", '')\n",
    "                tag +=1\n",
    "                cursor2.execute(genre_sql, (toon_id, genre))\n",
    "        except: break\n",
    "\n",
    "    #설명\n",
    "    desc = browser.find_element_by_class_name(\"desc\")\n",
    "    toon_desc = desc.text\n",
    "    if len(toon_desc) > 500:\n",
    "        #toon_desc = toon_desc[:490] + '...'\n",
    "        toon_desc = ''\n",
    "        \n",
    "        ######### 넣는데 자꾸 timeout 걸림;;;;;;;;;;;;;;;;;;;;;\n",
    "        # description이 500자 넘으면 엌케요 ㅠㅠ?\n",
    "    cursor3.execute(desc_sql,(toon_desc, toon_id))\n",
    "    \n",
    "    num = 1 # episode 개수 탐색\n",
    "    while num < 999999:\n",
    "        try:\n",
    "            epilist = browser.find_element_by_xpath(\"//*[@id=\\\"bt-episode-list\\\"]\")\n",
    "            episode = epilist.find_element_by_xpath(\"li[\" + str(num) + \"]/a\")\n",
    "            #browser.execute_script(\"arguments[0].scrollIntoView(true);\", episode) # Scroll to this episode\n",
    "            \n",
    "            epi_id = episode.get_attribute('id')\n",
    "            epi_page_id = epilist.find_element_by_xpath(\"li[\" + str(num) + \"]\").get_attribute('data-episode-id')\n",
    "            \n",
    "            # URL\n",
    "            epi_url = \"https://bomtoon.com/comic/ep_view/\" + toon_id.replace(\"bomtoon_\", '') + \"/\" + epi_page_id\n",
    "            \n",
    "            # 썸네일 링크\n",
    "            thumb = episode.find_element_by_xpath(\"//*[@id=\\\"\" + epi_id + \"\\\"]/div[1]/span\")\n",
    "            thumb_url = thumb.get_attribute('style')\n",
    "            epi_thumb_url = thumb_url.split('\\\"')[1]\n",
    "            \n",
    "            # 에피소드 제목\n",
    "            name = episode.find_element_by_xpath(\"//*[@id=\\\"\" + epi_id + \"\\\"]/div[2]/p[1]\")\n",
    "            epi_name = name.text\n",
    "            \n",
    "            # 업데이트 날짜\n",
    "            date = episode.find_element_by_xpath(\"//*[@id=\\\"\" + epi_id + \"\\\"]/div[2]/p[3]\")\n",
    "            epi_date = date.text.replace(\".\", \"-\")\n",
    "            \n",
    "            \n",
    "            cursor2.execute(sel_dup_sql, (toon_id, epi_name))\n",
    "            if cursor2.fetchall():\n",
    "                num += 1\n",
    "                continue\n",
    "            else:\n",
    "                cursor3.execute(ins_epi_info_sql, (toon_id, epi_name, epi_url, epi_thumb_url, epi_date))\n",
    "                db.commit()\n",
    "            \n",
    "            num += 1\n",
    "            \n",
    "        except:\n",
    "            #print(\"!!!!!!! EROROR\")\n",
    "            break\n",
    "        \n",
    "db.close()"
   ]
  },
  {
   "cell_type": "code",
   "execution_count": null,
   "metadata": {},
   "outputs": [],
   "source": []
  }
 ],
 "metadata": {
  "kernelspec": {
   "display_name": "Python 3",
   "language": "python",
   "name": "python3"
  },
  "language_info": {
   "codemirror_mode": {
    "name": "ipython",
    "version": 3
   },
   "file_extension": ".py",
   "mimetype": "text/x-python",
   "name": "python",
   "nbconvert_exporter": "python",
   "pygments_lexer": "ipython3",
   "version": "3.7.2"
  }
 },
 "nbformat": 4,
 "nbformat_minor": 2
}
