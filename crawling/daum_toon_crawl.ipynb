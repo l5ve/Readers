{
 "cells": [
  {
   "cell_type": "code",
   "execution_count": 122,
   "metadata": {},
   "outputs": [],
   "source": [
    "from bs4 import BeautifulSoup\n",
    "from pprint import pprint\n",
    "import requests\n",
    "from selenium import webdriver\n",
    "import pymysql\n",
    "import re\n",
    "import json\n",
    "from urllib.parse import urlparse, parse_qs\n",
    "\n",
    "# mysql db connect\n",
    "db = pymysql.connect(host='52.78.23.232', user='root', password='readers7', port=3306, db='readers', charset='utf8', cursorclass=pymysql.cursors.DictCursor)\n",
    "# browser = webdriver.Chrome('C:/Users/KSY/Documents/GitHub/Readers/crawling/chromedriver.exe')\n",
    "cursor1 = db.cursor()\n",
    "cursor2 = db.cursor()\n",
    "cursor3 = db.cursor()\n",
    "cursor4 = db.cursor()\n",
    "\n",
    "#웹 페이지를 열고 소스코드를 읽어오는 작업\n",
    "def readHtml(url):\n",
    "    # print(url)\n",
    "    html = requests.get(url)\n",
    "    soup = BeautifulSoup(html.text, 'html.parser')\n",
    "    html.close()\n",
    "    return soup\n"
   ]
  },
  {
   "cell_type": "code",
   "execution_count": 143,
   "metadata": {},
   "outputs": [
    {
     "name": "stderr",
     "output_type": "stream",
     "text": [
      "C:\\Users\\KSY\\Anaconda3\\lib\\site-packages\\pymysql\\cursors.py:329: Warning: (1062, \"Duplicate entry 'daum_1716-스릴러' for key 'PRIMARY'\")\n",
      "  self._do_get_result()\n",
      "C:\\Users\\KSY\\Anaconda3\\lib\\site-packages\\pymysql\\cursors.py:329: Warning: (1062, \"Duplicate entry 'daum_1705-스릴러' for key 'PRIMARY'\")\n",
      "  self._do_get_result()\n",
      "C:\\Users\\KSY\\Anaconda3\\lib\\site-packages\\pymysql\\cursors.py:329: Warning: (1062, \"Duplicate entry 'daum_1815-mon' for key 'PRIMARY'\")\n",
      "  self._do_get_result()\n",
      "C:\\Users\\KSY\\Anaconda3\\lib\\site-packages\\pymysql\\cursors.py:329: Warning: (1062, \"Duplicate entry 'daum_1815-sat' for key 'PRIMARY'\")\n",
      "  self._do_get_result()\n",
      "C:\\Users\\KSY\\Anaconda3\\lib\\site-packages\\pymysql\\cursors.py:329: Warning: (1062, \"Duplicate entry 'daum_1815-개그' for key 'PRIMARY'\")\n",
      "  self._do_get_result()\n",
      "C:\\Users\\KSY\\Anaconda3\\lib\\site-packages\\pymysql\\cursors.py:329: Warning: (1062, \"Duplicate entry 'daum_1815-액션' for key 'PRIMARY'\")\n",
      "  self._do_get_result()\n",
      "C:\\Users\\KSY\\Anaconda3\\lib\\site-packages\\pymysql\\cursors.py:329: Warning: (1062, \"Duplicate entry 'daum_1815' for key 'PRIMARY'\")\n",
      "  self._do_get_result()\n",
      "C:\\Users\\KSY\\Anaconda3\\lib\\site-packages\\pymysql\\cursors.py:329: Warning: (1062, \"Duplicate entry 'daum_1658-스릴러' for key 'PRIMARY'\")\n",
      "  self._do_get_result()\n",
      "C:\\Users\\KSY\\Anaconda3\\lib\\site-packages\\pymysql\\cursors.py:329: Warning: (1062, \"Duplicate entry 'daum_1351-sat' for key 'PRIMARY'\")\n",
      "  self._do_get_result()\n",
      "C:\\Users\\KSY\\Anaconda3\\lib\\site-packages\\pymysql\\cursors.py:329: Warning: (1062, \"Duplicate entry 'daum_1351-sun' for key 'PRIMARY'\")\n",
      "  self._do_get_result()\n",
      "C:\\Users\\KSY\\Anaconda3\\lib\\site-packages\\pymysql\\cursors.py:329: Warning: (1062, \"Duplicate entry 'daum_1351-드라마' for key 'PRIMARY'\")\n",
      "  self._do_get_result()\n",
      "C:\\Users\\KSY\\Anaconda3\\lib\\site-packages\\pymysql\\cursors.py:329: Warning: (1062, \"Duplicate entry 'daum_1351-성인' for key 'PRIMARY'\")\n",
      "  self._do_get_result()\n",
      "C:\\Users\\KSY\\Anaconda3\\lib\\site-packages\\pymysql\\cursors.py:329: Warning: (1062, \"Duplicate entry 'daum_1351' for key 'PRIMARY'\")\n",
      "  self._do_get_result()\n",
      "C:\\Users\\KSY\\Anaconda3\\lib\\site-packages\\pymysql\\cursors.py:329: Warning: (1062, \"Duplicate entry 'daum_1295-fri' for key 'PRIMARY'\")\n",
      "  self._do_get_result()\n",
      "C:\\Users\\KSY\\Anaconda3\\lib\\site-packages\\pymysql\\cursors.py:329: Warning: (1062, \"Duplicate entry 'daum_1295-sun' for key 'PRIMARY'\")\n",
      "  self._do_get_result()\n",
      "C:\\Users\\KSY\\Anaconda3\\lib\\site-packages\\pymysql\\cursors.py:329: Warning: (1062, \"Duplicate entry 'daum_1295-개그' for key 'PRIMARY'\")\n",
      "  self._do_get_result()\n",
      "C:\\Users\\KSY\\Anaconda3\\lib\\site-packages\\pymysql\\cursors.py:329: Warning: (1062, \"Duplicate entry 'daum_1295-일상' for key 'PRIMARY'\")\n",
      "  self._do_get_result()\n",
      "C:\\Users\\KSY\\Anaconda3\\lib\\site-packages\\pymysql\\cursors.py:329: Warning: (1062, \"Duplicate entry 'daum_1295' for key 'PRIMARY'\")\n",
      "  self._do_get_result()\n"
     ]
    }
   ],
   "source": [
    "# 연재 중 웹툰 크롤링\n",
    "\n",
    "sel_sql = \"select toon_id from toon_info\"\n",
    "ins_sql = \"insert ignore into toon_info(toon_id, toon_name, toon_url, toon_desc, toon_site, wrt_name, is_end, toon_thumb_url)\\\n",
    "           values (%s, %s, %s, %s, %s, %s, %s, %s)\"\n",
    "genre_sql = \"insert ignore into toon_genre(toon_id, genre_name)\\\n",
    "             values (%s, %s)\"\n",
    "weekday_sql = \"insert ignore into toon_weekday(toon_id, toon_weekday)\\\n",
    "               values (%s, %s)\"\n",
    "\n",
    "weekday = ['mon', 'tue', 'wed', 'thu', 'fri', 'sat', 'sun']\n",
    "\n",
    "for day in weekday:\n",
    "    week_data_url = 'http://webtoon.daum.net/data/pc/webtoon/list_serialized/' + day + '?timeStamp='\n",
    "    soup = readHtml(week_data_url)\n",
    "    str_soup = str(soup)\n",
    "    dict_soup = json.loads(str_soup)\n",
    "    \n",
    "    for toon in dict_soup['data']:\n",
    "        toon_id = 'daum_' + str(toon['id'])\n",
    "        toon_url = 'http://webtoon.daum.net/data/pc/webtoon/view/' + toon['nickname'] + '?timeStamp'\n",
    "        toon_name = toon['title']  \n",
    "        toon_thumb_url = toon['pcThumbnailImage']['url']\n",
    "        toon_site = 'daum'\n",
    "        toon_desc = toon['introduction'].replace(\"  \", \" \")\n",
    "        \n",
    "        # 완결 여부\n",
    "        if toon['finishYn'] == 'Y':\n",
    "            is_end = 'O'\n",
    "        else:\n",
    "            is_end = 'X'\n",
    "        \n",
    "        # 작가 이름\n",
    "        wrt_name_list = list()\n",
    "        for names in toon['cartoon']['artists']:\n",
    "            wrt_name_list.append(names['name'])\n",
    "        wrt_name_list = list(set(wrt_name_list))\n",
    "        wrt_name = '/'.join(wrt_name_list)\n",
    "        \n",
    "        # 요일 정보\n",
    "        for days in toon['webtoonWeeks']:\n",
    "            cursor1.execute(weekday_sql, (toon_id, days['weekDay']))\n",
    "        \n",
    "        # 장르 정보\n",
    "        for genres in toon['cartoon']['genres']:\n",
    "            genre_name = genres['name'].replace('순정', '로맨스').replace('코믹', '개그').replace('공포', '스릴러')\n",
    "            cursor2.execute(genre_sql, (toon_id, genre_name))\n",
    "        \n",
    "        # toon_info\n",
    "        cursor3.execute(sel_sql)\n",
    "        result = cursor3.fetchall()\n",
    "        if (toon_id not in result):\n",
    "            cursor4.execute(ins_sql, (toon_id, toon_name, toon_url, toon_desc, toon_site, wrt_name, is_end, toon_thumb_url))\n",
    "        \n",
    "        db.commit()\n",
    "    \n",
    "db.close()\n",
    "\n",
    "\n",
    "\n",
    "\n",
    "\n",
    "\n",
    "\n",
    "\n"
   ]
  },
  {
   "cell_type": "code",
   "execution_count": 124,
   "metadata": {},
   "outputs": [
    {
     "name": "stdout",
     "output_type": "stream",
     "text": [
      "[{'id': 22444, 'episode': 2, 'title': '1화', 'shortTitle': '1화', 'thumbnailImage': {'id': 22444, 'url': 'http://i1.cartoon.daumcdn.net/svc/image/U03/cartoon/52364C60013C2F0001', 'name': None, 'size': None, 'width': 0, 'height': 0, 'mediaType': None, 'encryptKey': None, 'serviceStatus': 'service'}, 'episodeImage': None, 'encryptUseYn': 'Y', 'serviceStatus': 'service', 'articleId': 22444, 'commentUseYn': 'Y', 'dateCreated': '20190123000000', 'webtoon': None, 'serviceType': 'free', 'multiType': None, 'multiBgm': None, 'multiBackgroundImage': None, 'price': 0, 'padtoonImage': None, 'voteTarget': {'id': 140444, 'voteServiceId': 15, 'serviceTargetId': 22444, 'voteCount': 16687, 'ranking': 0, 'diff': 0, 'voteTotalScore': 16687, 'dateCreated': '20130916091058', 'lastUpdated': '20191111160011'}, 'shareVoteTarget': {'id': 197673, 'voteServiceId': 23, 'serviceTargetId': 22444, 'voteCount': 28, 'ranking': 0, 'diff': 0, 'voteTotalScore': 28, 'dateCreated': '20141027150913', 'lastUpdated': '20190123125634'}, 'isTopRecommend': False, 'simpleUrl': None, 'specialSearchString': None, 'specialSearchUrl': None, 'previewEndDate': None, 'isPaid': False, 'payWebtoonEpisode': None, 'product': None, 'ticketAvailable': False, 'ageGrade': 0}, {'id': 22502, 'episode': 3, 'title': '2화', 'shortTitle': '2화', 'thumbnailImage': {'id': 22502, 'url': 'http://i1.cartoon.daumcdn.net/svc/image/U03/cartoon/523F8606012C240001', 'name': None, 'size': None, 'width': 0, 'height': 0, 'mediaType': None, 'encryptKey': None, 'serviceStatus': 'service'}, 'episodeImage': None, 'encryptUseYn': 'Y', 'serviceStatus': 'service', 'articleId': 22502, 'commentUseYn': 'Y', 'dateCreated': '20190124000100', 'webtoon': None, 'serviceType': 'free', 'multiType': None, 'multiBgm': None, 'multiBackgroundImage': None, 'price': 0, 'padtoonImage': None, 'voteTarget': {'id': 140882, 'voteServiceId': 15, 'serviceTargetId': 22502, 'voteCount': 9640, 'ranking': 0, 'diff': 0, 'voteTotalScore': 9640, 'dateCreated': '20130923090641', 'lastUpdated': '20191111160434'}, 'shareVoteTarget': {'id': 197674, 'voteServiceId': 23, 'serviceTargetId': 22502, 'voteCount': 19, 'ranking': 0, 'diff': 0, 'voteTotalScore': 19, 'dateCreated': '20141027150913', 'lastUpdated': '20160822011414'}, 'isTopRecommend': False, 'simpleUrl': None, 'specialSearchString': None, 'specialSearchUrl': None, 'previewEndDate': None, 'isPaid': False, 'payWebtoonEpisode': None, 'product': None, 'ticketAvailable': False, 'ageGrade': 0}, {'id': 22586, 'episode': 4, 'title': '3화', 'shortTitle': '3화', 'thumbnailImage': {'id': 22586, 'url': 'http://i1.cartoon.daumcdn.net/svc/image/U03/cartoon/5248CBBF054E440001', 'name': None, 'size': None, 'width': 0, 'height': 0, 'mediaType': None, 'encryptKey': None, 'serviceStatus': 'service'}, 'episodeImage': None, 'encryptUseYn': 'Y', 'serviceStatus': 'service', 'articleId': 22586, 'commentUseYn': 'Y', 'dateCreated': '20190130000100', 'webtoon': None, 'serviceType': 'free', 'multiType': None, 'multiBgm': None, 'multiBackgroundImage': None, 'price': 0, 'padtoonImage': None, 'voteTarget': {'id': 141480, 'voteServiceId': 15, 'serviceTargetId': 22586, 'voteCount': 8183, 'ranking': 0, 'diff': 0, 'voteTotalScore': 8183, 'dateCreated': '20130930095435', 'lastUpdated': '20191111160640'}, 'shareVoteTarget': {'id': 197675, 'voteServiceId': 23, 'serviceTargetId': 22586, 'voteCount': 31, 'ranking': 0, 'diff': 0, 'voteTotalScore': 31, 'dateCreated': '20141027150913', 'lastUpdated': '20160823190930'}, 'isTopRecommend': False, 'simpleUrl': None, 'specialSearchString': '1호선 노선도', 'specialSearchUrl': 'http://m.search.daum.net/search?w=tot&nil_mtopsearch=btn&DA=YZRR&q=1%ED%98%B8%EC%84%A0+%EB%85%B8%EC%84%A0%EB%8F%84', 'previewEndDate': None, 'isPaid': False, 'payWebtoonEpisode': None, 'product': None, 'ticketAvailable': False, 'ageGrade': 0}, {'id': 22653, 'episode': 5, 'title': '4화', 'shortTitle': '4화', 'thumbnailImage': {'id': 22653, 'url': 'http://i1.cartoon.daumcdn.net/svc/image/U03/cartoon/5251FA730413630001', 'name': None, 'size': None, 'width': 0, 'height': 0, 'mediaType': None, 'encryptKey': None, 'serviceStatus': 'service'}, 'episodeImage': None, 'encryptUseYn': 'Y', 'serviceStatus': 'service', 'articleId': 22653, 'commentUseYn': 'Y', 'dateCreated': '20190131000100', 'webtoon': None, 'serviceType': 'free', 'multiType': None, 'multiBgm': None, 'multiBackgroundImage': None, 'price': 0, 'padtoonImage': None, 'voteTarget': {'id': 141978, 'voteServiceId': 15, 'serviceTargetId': 22653, 'voteCount': 7786, 'ranking': 0, 'diff': 0, 'voteTotalScore': 7786, 'dateCreated': '20131007090414', 'lastUpdated': '20191111160828'}, 'shareVoteTarget': {'id': 197676, 'voteServiceId': 23, 'serviceTargetId': 22653, 'voteCount': 31, 'ranking': 0, 'diff': 0, 'voteTotalScore': 31, 'dateCreated': '20141027150913', 'lastUpdated': '20161018053342'}, 'isTopRecommend': False, 'simpleUrl': None, 'specialSearchString': None, 'specialSearchUrl': None, 'previewEndDate': None, 'isPaid': False, 'payWebtoonEpisode': None, 'product': None, 'ticketAvailable': False, 'ageGrade': 0}, {'id': 22737, 'episode': 6, 'title': '5화', 'shortTitle': '5화', 'thumbnailImage': {'id': 22737, 'url': 'http://i1.cartoon.daumcdn.net/svc/image/U03/cartoon/525B38BA063FD00001', 'name': None, 'size': None, 'width': 0, 'height': 0, 'mediaType': None, 'encryptKey': None, 'serviceStatus': 'service'}, 'episodeImage': None, 'encryptUseYn': 'Y', 'serviceStatus': 'service', 'articleId': 22737, 'commentUseYn': 'Y', 'dateCreated': '20190206000100', 'webtoon': None, 'serviceType': 'free', 'multiType': None, 'multiBgm': None, 'multiBackgroundImage': None, 'price': 0, 'padtoonImage': None, 'voteTarget': {'id': 142557, 'voteServiceId': 15, 'serviceTargetId': 22737, 'voteCount': 7689, 'ranking': 0, 'diff': 0, 'voteTotalScore': 7689, 'dateCreated': '20131014092025', 'lastUpdated': '20191111161105'}, 'shareVoteTarget': {'id': 197677, 'voteServiceId': 23, 'serviceTargetId': 22737, 'voteCount': 41, 'ranking': 0, 'diff': 0, 'voteTotalScore': 41, 'dateCreated': '20141027150913', 'lastUpdated': '20170421135522'}, 'isTopRecommend': False, 'simpleUrl': None, 'specialSearchString': '노숙자 관련 다큐멘터리 ', 'specialSearchUrl': 'http://m.search.daum.net/search?w=tot&q=%B3%EB%BC%F7%C0%DA+%B4%D9%C5%A5%B8%E0%C5%CD%B8%AE&fsn=more&fpage=1', 'previewEndDate': None, 'isPaid': False, 'payWebtoonEpisode': None, 'product': None, 'ticketAvailable': False, 'ageGrade': 0}, {'id': 22833, 'episode': 7, 'title': '6화', 'shortTitle': '6화', 'thumbnailImage': {'id': 22833, 'url': 'http://i1.cartoon.daumcdn.net/svc/image/U03/cartoon/52646EEE047F480001', 'name': None, 'size': None, 'width': 0, 'height': 0, 'mediaType': None, 'encryptKey': None, 'serviceStatus': 'service'}, 'episodeImage': None, 'encryptUseYn': 'Y', 'serviceStatus': 'service', 'articleId': 22833, 'commentUseYn': 'Y', 'dateCreated': '20190207000100', 'webtoon': None, 'serviceType': 'free', 'multiType': None, 'multiBgm': None, 'multiBackgroundImage': None, 'price': 0, 'padtoonImage': None, 'voteTarget': {'id': 143119, 'voteServiceId': 15, 'serviceTargetId': 22833, 'voteCount': 7251, 'ranking': 0, 'diff': 0, 'voteTotalScore': 7251, 'dateCreated': '20131021090201', 'lastUpdated': '20191111161245'}, 'shareVoteTarget': {'id': 197678, 'voteServiceId': 23, 'serviceTargetId': 22833, 'voteCount': 25, 'ranking': 0, 'diff': 0, 'voteTotalScore': 25, 'dateCreated': '20141027150913', 'lastUpdated': '20161127200134'}, 'isTopRecommend': False, 'simpleUrl': None, 'specialSearchString': None, 'specialSearchUrl': None, 'previewEndDate': None, 'isPaid': False, 'payWebtoonEpisode': None, 'product': None, 'ticketAvailable': False, 'ageGrade': 0}, {'id': 22900, 'episode': 8, 'title': '7화', 'shortTitle': '7화', 'thumbnailImage': {'id': 22900, 'url': 'http://i1.cartoon.daumcdn.net/svc/image/U03/cartoon/526DA7750341B50001', 'name': None, 'size': None, 'width': 0, 'height': 0, 'mediaType': None, 'encryptKey': None, 'serviceStatus': 'service'}, 'episodeImage': None, 'encryptUseYn': 'Y', 'serviceStatus': 'service', 'articleId': 22900, 'commentUseYn': 'Y', 'dateCreated': '20190213000100', 'webtoon': None, 'serviceType': 'free', 'multiType': None, 'multiBgm': None, 'multiBackgroundImage': None, 'price': 0, 'padtoonImage': None, 'voteTarget': {'id': 143680, 'voteServiceId': 15, 'serviceTargetId': 22900, 'voteCount': 7660, 'ranking': 0, 'diff': 0, 'voteTotalScore': 7660, 'dateCreated': '20131028085337', 'lastUpdated': '20191111161524'}, 'shareVoteTarget': {'id': 197679, 'voteServiceId': 23, 'serviceTargetId': 22900, 'voteCount': 22, 'ranking': 0, 'diff': 0, 'voteTotalScore': 22, 'dateCreated': '20141027150913', 'lastUpdated': '20160107141813'}, 'isTopRecommend': False, 'simpleUrl': None, 'specialSearchString': None, 'specialSearchUrl': None, 'previewEndDate': None, 'isPaid': False, 'payWebtoonEpisode': None, 'product': None, 'ticketAvailable': False, 'ageGrade': 0}, {'id': 22981, 'episode': 9, 'title': '8화', 'shortTitle': '8화', 'thumbnailImage': {'id': 22981, 'url': 'http://i1.cartoon.daumcdn.net/svc/image/U03/cartoon/5276E41A06418B0001', 'name': None, 'size': None, 'width': 0, 'height': 0, 'mediaType': None, 'encryptKey': None, 'serviceStatus': 'service'}, 'episodeImage': None, 'encryptUseYn': 'Y', 'serviceStatus': 'service', 'articleId': 22981, 'commentUseYn': 'Y', 'dateCreated': '20190214000100', 'webtoon': None, 'serviceType': 'free', 'multiType': None, 'multiBgm': None, 'multiBackgroundImage': None, 'price': 0, 'padtoonImage': None, 'voteTarget': {'id': 144235, 'voteServiceId': 15, 'serviceTargetId': 22981, 'voteCount': 7432, 'ranking': 0, 'diff': 0, 'voteTotalScore': 7432, 'dateCreated': '20131104090244', 'lastUpdated': '20191111161829'}, 'shareVoteTarget': {'id': 197680, 'voteServiceId': 23, 'serviceTargetId': 22981, 'voteCount': 13, 'ranking': 0, 'diff': 0, 'voteTotalScore': 13, 'dateCreated': '20141027150913', 'lastUpdated': '20150726050538'}, 'isTopRecommend': False, 'simpleUrl': None, 'specialSearchString': None, 'specialSearchUrl': None, 'previewEndDate': None, 'isPaid': False, 'payWebtoonEpisode': None, 'product': None, 'ticketAvailable': False, 'ageGrade': 0}, {'id': 23068, 'episode': 10, 'title': '9화', 'shortTitle': '9화', 'thumbnailImage': {'id': 23068, 'url': 'http://i1.cartoon.daumcdn.net/svc/image/U03/cartoon/52801DD9043EF60001', 'name': None, 'size': None, 'width': 0, 'height': 0, 'mediaType': None, 'encryptKey': None, 'serviceStatus': 'service'}, 'episodeImage': None, 'encryptUseYn': 'Y', 'serviceStatus': 'service', 'articleId': 23068, 'commentUseYn': 'Y', 'dateCreated': '20190220000100', 'webtoon': None, 'serviceType': 'free', 'multiType': None, 'multiBgm': None, 'multiBackgroundImage': None, 'price': 0, 'padtoonImage': None, 'voteTarget': {'id': 144752, 'voteServiceId': 15, 'serviceTargetId': 23068, 'voteCount': 7037, 'ranking': 0, 'diff': 0, 'voteTotalScore': 7037, 'dateCreated': '20131111085927', 'lastUpdated': '20191111162013'}, 'shareVoteTarget': {'id': 197681, 'voteServiceId': 23, 'serviceTargetId': 23068, 'voteCount': 13, 'ranking': 0, 'diff': 0, 'voteTotalScore': 13, 'dateCreated': '20141027150913', 'lastUpdated': '20150722002352'}, 'isTopRecommend': False, 'simpleUrl': None, 'specialSearchString': None, 'specialSearchUrl': None, 'previewEndDate': None, 'isPaid': False, 'payWebtoonEpisode': None, 'product': None, 'ticketAvailable': False, 'ageGrade': 0}, {'id': 23203, 'episode': 11, 'title': '10화', 'shortTitle': '10화', 'thumbnailImage': {'id': 23203, 'url': 'http://i1.cartoon.daumcdn.net/svc/image/U03/cartoon/52896011041F1D0002', 'name': None, 'size': None, 'width': 0, 'height': 0, 'mediaType': None, 'encryptKey': None, 'serviceStatus': 'service'}, 'episodeImage': None, 'encryptUseYn': 'Y', 'serviceStatus': 'service', 'articleId': 23203, 'commentUseYn': 'Y', 'dateCreated': '20190221000100', 'webtoon': None, 'serviceType': 'free', 'multiType': None, 'multiBgm': None, 'multiBackgroundImage': None, 'price': 0, 'padtoonImage': None, 'voteTarget': {'id': 145317, 'voteServiceId': 15, 'serviceTargetId': 23203, 'voteCount': 7745, 'ranking': 0, 'diff': 0, 'voteTotalScore': 7745, 'dateCreated': '20131118093224', 'lastUpdated': '20191111162232'}, 'shareVoteTarget': {'id': 197682, 'voteServiceId': 23, 'serviceTargetId': 23203, 'voteCount': 18, 'ranking': 0, 'diff': 0, 'voteTotalScore': 18, 'dateCreated': '20141027150913', 'lastUpdated': '20170417124850'}, 'isTopRecommend': False, 'simpleUrl': None, 'specialSearchString': None, 'specialSearchUrl': None, 'previewEndDate': None, 'isPaid': False, 'payWebtoonEpisode': None, 'product': None, 'ticketAvailable': False, 'ageGrade': 0}, {'id': 23280, 'episode': 12, 'title': '11화', 'shortTitle': '11화', 'thumbnailImage': {'id': 23280, 'url': 'http://i1.cartoon.daumcdn.net/svc/image/U03/cartoon/529293A00649170001', 'name': None, 'size': None, 'width': 0, 'height': 0, 'mediaType': None, 'encryptKey': None, 'serviceStatus': 'service'}, 'episodeImage': None, 'encryptUseYn': 'Y', 'serviceStatus': 'service', 'articleId': 23280, 'commentUseYn': 'Y', 'dateCreated': '20190227000000', 'webtoon': None, 'serviceType': 'free', 'multiType': None, 'multiBgm': None, 'multiBackgroundImage': None, 'price': 0, 'padtoonImage': None, 'voteTarget': {'id': 145811, 'voteServiceId': 15, 'serviceTargetId': 23280, 'voteCount': 7185, 'ranking': 0, 'diff': 0, 'voteTotalScore': 7185, 'dateCreated': '20131125090246', 'lastUpdated': '20191111162419'}, 'shareVoteTarget': {'id': 197683, 'voteServiceId': 23, 'serviceTargetId': 23280, 'voteCount': 10, 'ranking': 0, 'diff': 0, 'voteTotalScore': 10, 'dateCreated': '20141027150913', 'lastUpdated': '20170203013038'}, 'isTopRecommend': False, 'simpleUrl': None, 'specialSearchString': None, 'specialSearchUrl': None, 'previewEndDate': None, 'isPaid': False, 'payWebtoonEpisode': None, 'product': None, 'ticketAvailable': False, 'ageGrade': 0}, {'id': 23366, 'episode': 13, 'title': '12화', 'shortTitle': '12화', 'thumbnailImage': {'id': 23366, 'url': 'http://i1.cartoon.daumcdn.net/svc/image/U03/cartoon/529BC91406557E0001', 'name': None, 'size': None, 'width': 0, 'height': 0, 'mediaType': None, 'encryptKey': None, 'serviceStatus': 'service'}, 'episodeImage': None, 'encryptUseYn': 'Y', 'serviceStatus': 'service', 'articleId': 23366, 'commentUseYn': 'Y', 'dateCreated': '20190228000000', 'webtoon': None, 'serviceType': 'free', 'multiType': None, 'multiBgm': None, 'multiBackgroundImage': None, 'price': 0, 'padtoonImage': None, 'voteTarget': {'id': 146316, 'voteServiceId': 15, 'serviceTargetId': 23366, 'voteCount': 7075, 'ranking': 0, 'diff': 0, 'voteTotalScore': 7075, 'dateCreated': '20131202084151', 'lastUpdated': '20191111162630'}, 'shareVoteTarget': {'id': 197684, 'voteServiceId': 23, 'serviceTargetId': 23366, 'voteCount': 22, 'ranking': 0, 'diff': 0, 'voteTotalScore': 22, 'dateCreated': '20141027150913', 'lastUpdated': '20150725120115'}, 'isTopRecommend': False, 'simpleUrl': None, 'specialSearchString': '한국에서 좀비 발생 시 생존가능성', 'specialSearchUrl': 'http://m.search.daum.net/search?nil_profile=btn&w=tot&sq=&rq=&o=&sugo=&DA=SBCO&q=%EC%A2%80%EB%B9%84+%EC%84%9C%EB%B0%94%EC%9D%B4%EB%B2%8C+%ED%95%9C%EA%B5%AD+%EB%B2%84%EC%A0%84', 'previewEndDate': None, 'isPaid': False, 'payWebtoonEpisode': None, 'product': None, 'ticketAvailable': False, 'ageGrade': 0}, {'id': 23446, 'episode': 14, 'title': '13화', 'shortTitle': '13화', 'thumbnailImage': {'id': 23446, 'url': 'http://i1.cartoon.daumcdn.net/svc/image/U03/cartoon/52A50A8D0311270002', 'name': None, 'size': None, 'width': 0, 'height': 0, 'mediaType': None, 'encryptKey': None, 'serviceStatus': 'service'}, 'episodeImage': None, 'encryptUseYn': 'Y', 'serviceStatus': 'service', 'articleId': 23446, 'commentUseYn': 'Y', 'dateCreated': '20190306000100', 'webtoon': None, 'serviceType': 'free', 'multiType': None, 'multiBgm': None, 'multiBackgroundImage': None, 'price': 0, 'padtoonImage': None, 'voteTarget': {'id': 146826, 'voteServiceId': 15, 'serviceTargetId': 23446, 'voteCount': 7277, 'ranking': 0, 'diff': 0, 'voteTotalScore': 7277, 'dateCreated': '20131209091059', 'lastUpdated': '20191111162948'}, 'shareVoteTarget': {'id': 197685, 'voteServiceId': 23, 'serviceTargetId': 23446, 'voteCount': 15, 'ranking': 0, 'diff': 0, 'voteTotalScore': 15, 'dateCreated': '20141027150913', 'lastUpdated': '20161027004712'}, 'isTopRecommend': False, 'simpleUrl': None, 'specialSearchString': None, 'specialSearchUrl': None, 'previewEndDate': None, 'isPaid': False, 'payWebtoonEpisode': None, 'product': None, 'ticketAvailable': False, 'ageGrade': 0}, {'id': 23525, 'episode': 15, 'title': '14화', 'shortTitle': '14화', 'thumbnailImage': {'id': 23525, 'url': 'http://i1.cartoon.daumcdn.net/svc/image/U03/cartoon/52AE43AB021B170001', 'name': None, 'size': None, 'width': 0, 'height': 0, 'mediaType': None, 'encryptKey': None, 'serviceStatus': 'service'}, 'episodeImage': None, 'encryptUseYn': 'Y', 'serviceStatus': 'service', 'articleId': 23525, 'commentUseYn': 'Y', 'dateCreated': '20190307000100', 'webtoon': None, 'serviceType': 'free', 'multiType': None, 'multiBgm': None, 'multiBackgroundImage': None, 'price': 0, 'padtoonImage': None, 'voteTarget': {'id': 147315, 'voteServiceId': 15, 'serviceTargetId': 23525, 'voteCount': 7175, 'ranking': 0, 'diff': 0, 'voteTotalScore': 7175, 'dateCreated': '20131216090459', 'lastUpdated': '20191111163224'}, 'shareVoteTarget': {'id': 197686, 'voteServiceId': 23, 'serviceTargetId': 23525, 'voteCount': 22, 'ranking': 0, 'diff': 0, 'voteTotalScore': 22, 'dateCreated': '20141027150913', 'lastUpdated': '20150720224112'}, 'isTopRecommend': False, 'simpleUrl': None, 'specialSearchString': '[웹툰 시상식] 커플상, 멘붕상, 신인상을 뽑아주세요', 'specialSearchUrl': 'http://m.webtoon.daum.net/m/event/view/4794', 'previewEndDate': None, 'isPaid': False, 'payWebtoonEpisode': None, 'product': None, 'ticketAvailable': False, 'ageGrade': 0}, {'id': 23613, 'episode': 16, 'title': '15화', 'shortTitle': '15화', 'thumbnailImage': {'id': 23613, 'url': 'http://i1.cartoon.daumcdn.net/svc/image/U03/cartoon/52B77ED40252620001', 'name': None, 'size': None, 'width': 0, 'height': 0, 'mediaType': None, 'encryptKey': None, 'serviceStatus': 'service'}, 'episodeImage': None, 'encryptUseYn': 'Y', 'serviceStatus': 'service', 'articleId': 23613, 'commentUseYn': 'Y', 'dateCreated': '20190313000100', 'webtoon': None, 'serviceType': 'free', 'multiType': None, 'multiBgm': None, 'multiBackgroundImage': None, 'price': 0, 'padtoonImage': None, 'voteTarget': {'id': 147860, 'voteServiceId': 15, 'serviceTargetId': 23613, 'voteCount': 7269, 'ranking': 0, 'diff': 0, 'voteTotalScore': 7269, 'dateCreated': '20131223090759', 'lastUpdated': '20191111163356'}, 'shareVoteTarget': {'id': 197687, 'voteServiceId': 23, 'serviceTargetId': 23613, 'voteCount': 6, 'ranking': 0, 'diff': 0, 'voteTotalScore': 6, 'dateCreated': '20141027150913', 'lastUpdated': '20150627142116'}, 'isTopRecommend': False, 'simpleUrl': None, 'specialSearchString': None, 'specialSearchUrl': None, 'previewEndDate': None, 'isPaid': False, 'payWebtoonEpisode': None, 'product': None, 'ticketAvailable': False, 'ageGrade': 0}, {'id': 23696, 'episode': 17, 'title': '16화', 'shortTitle': '16화', 'thumbnailImage': {'id': 23696, 'url': 'http://i1.cartoon.daumcdn.net/svc/image/U03/cartoon/52C0B960032ACB0001', 'name': None, 'size': None, 'width': 0, 'height': 0, 'mediaType': None, 'encryptKey': None, 'serviceStatus': 'service'}, 'episodeImage': None, 'encryptUseYn': 'Y', 'serviceStatus': 'service', 'articleId': 23696, 'commentUseYn': 'Y', 'dateCreated': '20190314000100', 'webtoon': None, 'serviceType': 'free', 'multiType': None, 'multiBgm': None, 'multiBackgroundImage': None, 'price': 0, 'padtoonImage': None, 'voteTarget': {'id': 148341, 'voteServiceId': 15, 'serviceTargetId': 23696, 'voteCount': 7155, 'ranking': 0, 'diff': 0, 'voteTotalScore': 7155, 'dateCreated': '20131230090806', 'lastUpdated': '20191111163553'}, 'shareVoteTarget': {'id': 197688, 'voteServiceId': 23, 'serviceTargetId': 23696, 'voteCount': 8, 'ranking': 0, 'diff': 0, 'voteTotalScore': 8, 'dateCreated': '20141027150913', 'lastUpdated': '20150505154823'}, 'isTopRecommend': False, 'simpleUrl': None, 'specialSearchString': None, 'specialSearchUrl': None, 'previewEndDate': None, 'isPaid': False, 'payWebtoonEpisode': None, 'product': None, 'ticketAvailable': False, 'ageGrade': 0}, {'id': 23772, 'episode': 18, 'title': '17화', 'shortTitle': '17화', 'thumbnailImage': {'id': 23772, 'url': 'http://i1.cartoon.daumcdn.net/svc/image/U03/cartoon/52C9F3A406744D0001', 'name': None, 'size': None, 'width': 0, 'height': 0, 'mediaType': None, 'encryptKey': None, 'serviceStatus': 'service'}, 'episodeImage': None, 'encryptUseYn': 'Y', 'serviceStatus': 'service', 'articleId': 23772, 'commentUseYn': 'Y', 'dateCreated': '20190320000100', 'webtoon': None, 'serviceType': 'free', 'multiType': None, 'multiBgm': None, 'multiBackgroundImage': None, 'price': 0, 'padtoonImage': None, 'voteTarget': {'id': 148913, 'voteServiceId': 15, 'serviceTargetId': 23772, 'voteCount': 7063, 'ranking': 0, 'diff': 0, 'voteTotalScore': 7063, 'dateCreated': '20140106090707', 'lastUpdated': '20191111163904'}, 'shareVoteTarget': {'id': 197689, 'voteServiceId': 23, 'serviceTargetId': 23772, 'voteCount': 17, 'ranking': 0, 'diff': 0, 'voteTotalScore': 17, 'dateCreated': '20141027150913', 'lastUpdated': '20150708031833'}, 'isTopRecommend': False, 'simpleUrl': None, 'specialSearchString': None, 'specialSearchUrl': None, 'previewEndDate': None, 'isPaid': False, 'payWebtoonEpisode': None, 'product': None, 'ticketAvailable': False, 'ageGrade': 0}, {'id': 23844, 'episode': 19, 'title': '18화', 'shortTitle': '18화', 'thumbnailImage': {'id': 23844, 'url': 'http://i1.cartoon.daumcdn.net/svc/image/U03/cartoon/52D330DA033E6F0001', 'name': None, 'size': None, 'width': 0, 'height': 0, 'mediaType': None, 'encryptKey': None, 'serviceStatus': 'service'}, 'episodeImage': None, 'encryptUseYn': 'Y', 'serviceStatus': 'service', 'articleId': 23844, 'commentUseYn': 'Y', 'dateCreated': '20190321000100', 'webtoon': None, 'serviceType': 'free', 'multiType': None, 'multiBgm': None, 'multiBackgroundImage': None, 'price': 0, 'padtoonImage': None, 'voteTarget': {'id': 149485, 'voteServiceId': 15, 'serviceTargetId': 23844, 'voteCount': 6639, 'ranking': 0, 'diff': 0, 'voteTotalScore': 6639, 'dateCreated': '20140113091916', 'lastUpdated': '20191111165049'}, 'shareVoteTarget': {'id': 197690, 'voteServiceId': 23, 'serviceTargetId': 23844, 'voteCount': 7, 'ranking': 0, 'diff': 0, 'voteTotalScore': 7, 'dateCreated': '20141027150913', 'lastUpdated': '20150723025027'}, 'isTopRecommend': False, 'simpleUrl': None, 'specialSearchString': None, 'specialSearchUrl': None, 'previewEndDate': None, 'isPaid': False, 'payWebtoonEpisode': None, 'product': None, 'ticketAvailable': False, 'ageGrade': 0}, {'id': 23922, 'episode': 20, 'title': '19화', 'shortTitle': '19화', 'thumbnailImage': {'id': 23922, 'url': 'http://i1.cartoon.daumcdn.net/svc/image/U03/cartoon/52DC6788021D140001', 'name': None, 'size': None, 'width': 0, 'height': 0, 'mediaType': None, 'encryptKey': None, 'serviceStatus': 'service'}, 'episodeImage': None, 'encryptUseYn': 'Y', 'serviceStatus': 'service', 'articleId': 23922, 'commentUseYn': 'Y', 'dateCreated': '20190327000100', 'webtoon': None, 'serviceType': 'free', 'multiType': None, 'multiBgm': None, 'multiBackgroundImage': None, 'price': 0, 'padtoonImage': None, 'voteTarget': {'id': 150038, 'voteServiceId': 15, 'serviceTargetId': 23922, 'voteCount': 6742, 'ranking': 0, 'diff': 0, 'voteTotalScore': 6742, 'dateCreated': '20140120090656', 'lastUpdated': '20191111165247'}, 'shareVoteTarget': {'id': 197691, 'voteServiceId': 23, 'serviceTargetId': 23922, 'voteCount': 17, 'ranking': 0, 'diff': 0, 'voteTotalScore': 17, 'dateCreated': '20141027150913', 'lastUpdated': '20150725212035'}, 'isTopRecommend': False, 'simpleUrl': None, 'specialSearchString': None, 'specialSearchUrl': None, 'previewEndDate': None, 'isPaid': False, 'payWebtoonEpisode': None, 'product': None, 'ticketAvailable': False, 'ageGrade': 0}, {'id': 24003, 'episode': 21, 'title': '20화', 'shortTitle': '20화', 'thumbnailImage': {'id': 24003, 'url': 'http://i1.cartoon.daumcdn.net/svc/image/U03/cartoon/52E5A5A00274950001', 'name': None, 'size': None, 'width': 0, 'height': 0, 'mediaType': None, 'encryptKey': None, 'serviceStatus': 'service'}, 'episodeImage': None, 'encryptUseYn': 'Y', 'serviceStatus': 'service', 'articleId': 24003, 'commentUseYn': 'Y', 'dateCreated': '20190328000100', 'webtoon': None, 'serviceType': 'free', 'multiType': None, 'multiBgm': None, 'multiBackgroundImage': None, 'price': 0, 'padtoonImage': None, 'voteTarget': {'id': 150673, 'voteServiceId': 15, 'serviceTargetId': 24003, 'voteCount': 7229, 'ranking': 0, 'diff': 0, 'voteTotalScore': 7229, 'dateCreated': '20140127091742', 'lastUpdated': '20191111165515'}, 'shareVoteTarget': {'id': 197692, 'voteServiceId': 23, 'serviceTargetId': 24003, 'voteCount': 6, 'ranking': 0, 'diff': 0, 'voteTotalScore': 6, 'dateCreated': '20141027150913', 'lastUpdated': '20150528081236'}, 'isTopRecommend': False, 'simpleUrl': None, 'specialSearchString': None, 'specialSearchUrl': None, 'previewEndDate': None, 'isPaid': False, 'payWebtoonEpisode': None, 'product': None, 'ticketAvailable': False, 'ageGrade': 0}, {'id': 24070, 'episode': 22, 'title': '21화', 'shortTitle': '21화', 'thumbnailImage': {'id': 24070, 'url': 'http://i1.cartoon.daumcdn.net/svc/image/U03/cartoon/52EEE6270213DC0002', 'name': None, 'size': None, 'width': 0, 'height': 0, 'mediaType': None, 'encryptKey': None, 'serviceStatus': 'service'}, 'episodeImage': None, 'encryptUseYn': 'Y', 'serviceStatus': 'service', 'articleId': 24070, 'commentUseYn': 'Y', 'dateCreated': '20190403000100', 'webtoon': None, 'serviceType': 'free', 'multiType': None, 'multiBgm': None, 'multiBackgroundImage': None, 'price': 0, 'padtoonImage': None, 'voteTarget': {'id': 151195, 'voteServiceId': 15, 'serviceTargetId': 24070, 'voteCount': 6825, 'ranking': 0, 'diff': 0, 'voteTotalScore': 6825, 'dateCreated': '20140203094340', 'lastUpdated': '20191111165739'}, 'shareVoteTarget': {'id': 197693, 'voteServiceId': 23, 'serviceTargetId': 24070, 'voteCount': 8, 'ranking': 0, 'diff': 0, 'voteTotalScore': 8, 'dateCreated': '20141027150913', 'lastUpdated': '20150410124550'}, 'isTopRecommend': False, 'simpleUrl': None, 'specialSearchString': None, 'specialSearchUrl': None, 'previewEndDate': None, 'isPaid': False, 'payWebtoonEpisode': None, 'product': None, 'ticketAvailable': False, 'ageGrade': 0}, {'id': 24149, 'episode': 23, 'title': '22화', 'shortTitle': '22화', 'thumbnailImage': {'id': 24149, 'url': 'http://i1.cartoon.daumcdn.net/svc/image/U03/cartoon/52F818C5021C8E0001', 'name': None, 'size': None, 'width': 0, 'height': 0, 'mediaType': None, 'encryptKey': None, 'serviceStatus': 'service'}, 'episodeImage': None, 'encryptUseYn': 'Y', 'serviceStatus': 'service', 'articleId': 24149, 'commentUseYn': 'Y', 'dateCreated': '20190404000100', 'webtoon': None, 'serviceType': 'free', 'multiType': None, 'multiBgm': None, 'multiBackgroundImage': None, 'price': 0, 'padtoonImage': None, 'voteTarget': {'id': 151771, 'voteServiceId': 15, 'serviceTargetId': 24149, 'voteCount': 6984, 'ranking': 0, 'diff': 0, 'voteTotalScore': 6984, 'dateCreated': '20140210091127', 'lastUpdated': '20191111165955'}, 'shareVoteTarget': {'id': 197694, 'voteServiceId': 23, 'serviceTargetId': 24149, 'voteCount': 10, 'ranking': 0, 'diff': 0, 'voteTotalScore': 10, 'dateCreated': '20141027150913', 'lastUpdated': '20150717073027'}, 'isTopRecommend': False, 'simpleUrl': None, 'specialSearchString': None, 'specialSearchUrl': None, 'previewEndDate': None, 'isPaid': False, 'payWebtoonEpisode': None, 'product': None, 'ticketAvailable': False, 'ageGrade': 0}, {'id': 24224, 'episode': 24, 'title': '23화', 'shortTitle': '23화', 'thumbnailImage': {'id': 24224, 'url': 'http://i1.cartoon.daumcdn.net/svc/image/U03/cartoon/530150F8020F720001', 'name': None, 'size': None, 'width': 0, 'height': 0, 'mediaType': None, 'encryptKey': None, 'serviceStatus': 'service'}, 'episodeImage': None, 'encryptUseYn': 'Y', 'serviceStatus': 'service', 'articleId': 24224, 'commentUseYn': 'Y', 'dateCreated': '20190410000100', 'webtoon': None, 'serviceType': 'free', 'multiType': None, 'multiBgm': None, 'multiBackgroundImage': None, 'price': 0, 'padtoonImage': None, 'voteTarget': {'id': 152274, 'voteServiceId': 15, 'serviceTargetId': 24224, 'voteCount': 7146, 'ranking': 0, 'diff': 0, 'voteTotalScore': 7146, 'dateCreated': '20140217090008', 'lastUpdated': '20191111170250'}, 'shareVoteTarget': {'id': 197695, 'voteServiceId': 23, 'serviceTargetId': 24224, 'voteCount': 9, 'ranking': 0, 'diff': 0, 'voteTotalScore': 9, 'dateCreated': '20141027150913', 'lastUpdated': '20150708003934'}, 'isTopRecommend': False, 'simpleUrl': None, 'specialSearchString': None, 'specialSearchUrl': None, 'previewEndDate': None, 'isPaid': False, 'payWebtoonEpisode': None, 'product': None, 'ticketAvailable': False, 'ageGrade': 0}, {'id': 24302, 'episode': 25, 'title': '24화', 'shortTitle': '24화', 'thumbnailImage': {'id': 24302, 'url': 'http://i1.cartoon.daumcdn.net/svc/image/U03/cartoon/530A8D200637C10001', 'name': None, 'size': None, 'width': 0, 'height': 0, 'mediaType': None, 'encryptKey': None, 'serviceStatus': 'service'}, 'episodeImage': None, 'encryptUseYn': 'Y', 'serviceStatus': 'service', 'articleId': 24302, 'commentUseYn': 'Y', 'dateCreated': '20190411000100', 'webtoon': None, 'serviceType': 'free', 'multiType': None, 'multiBgm': None, 'multiBackgroundImage': None, 'price': 0, 'padtoonImage': None, 'voteTarget': {'id': 152813, 'voteServiceId': 15, 'serviceTargetId': 24302, 'voteCount': 7329, 'ranking': 0, 'diff': 0, 'voteTotalScore': 7329, 'dateCreated': '20140224090446', 'lastUpdated': '20191111172918'}, 'shareVoteTarget': {'id': 197696, 'voteServiceId': 23, 'serviceTargetId': 24302, 'voteCount': 14, 'ranking': 0, 'diff': 0, 'voteTotalScore': 14, 'dateCreated': '20141027150913', 'lastUpdated': '20150723142121'}, 'isTopRecommend': False, 'simpleUrl': None, 'specialSearchString': None, 'specialSearchUrl': None, 'previewEndDate': None, 'isPaid': False, 'payWebtoonEpisode': None, 'product': None, 'ticketAvailable': False, 'ageGrade': 0}, {'id': 24656, 'episode': 27, 'title': '25화', 'shortTitle': '25화', 'thumbnailImage': {'id': 24656, 'url': 'http://i1.cartoon.daumcdn.net/svc/image/U03/cartoon/532F7EFF050AC20003', 'name': None, 'size': None, 'width': 0, 'height': 0, 'mediaType': None, 'encryptKey': None, 'serviceStatus': 'service'}, 'episodeImage': None, 'encryptUseYn': 'Y', 'serviceStatus': 'service', 'articleId': 24656, 'commentUseYn': 'Y', 'dateCreated': '20190417000100', 'webtoon': None, 'serviceType': 'free', 'multiType': None, 'multiBgm': None, 'multiBackgroundImage': None, 'price': 0, 'padtoonImage': None, 'voteTarget': {'id': 154973, 'voteServiceId': 15, 'serviceTargetId': 24656, 'voteCount': 6988, 'ranking': 0, 'diff': 0, 'voteTotalScore': 6988, 'dateCreated': '20140324093423', 'lastUpdated': '20191111173154'}, 'shareVoteTarget': {'id': 197698, 'voteServiceId': 23, 'serviceTargetId': 24656, 'voteCount': 6, 'ranking': 0, 'diff': 0, 'voteTotalScore': 6, 'dateCreated': '20141027150913', 'lastUpdated': '20150726004541'}, 'isTopRecommend': False, 'simpleUrl': None, 'specialSearchString': None, 'specialSearchUrl': None, 'previewEndDate': None, 'isPaid': False, 'payWebtoonEpisode': None, 'product': None, 'ticketAvailable': False, 'ageGrade': 0}, {'id': 24745, 'episode': 28, 'title': '26화', 'shortTitle': '26화', 'thumbnailImage': {'id': 24745, 'url': 'http://i1.cartoon.daumcdn.net/svc/image/U03/cartoon/5338AF1A011E9C0001', 'name': None, 'size': None, 'width': 0, 'height': 0, 'mediaType': None, 'encryptKey': None, 'serviceStatus': 'service'}, 'episodeImage': None, 'encryptUseYn': 'Y', 'serviceStatus': 'service', 'articleId': 24745, 'commentUseYn': 'Y', 'dateCreated': '20190418000100', 'webtoon': None, 'serviceType': 'free', 'multiType': None, 'multiBgm': None, 'multiBackgroundImage': None, 'price': 0, 'padtoonImage': None, 'voteTarget': {'id': 155546, 'voteServiceId': 15, 'serviceTargetId': 24745, 'voteCount': 6940, 'ranking': 0, 'diff': 0, 'voteTotalScore': 6940, 'dateCreated': '20140331085642', 'lastUpdated': '20191111173358'}, 'shareVoteTarget': {'id': 197699, 'voteServiceId': 23, 'serviceTargetId': 24745, 'voteCount': 1, 'ranking': 0, 'diff': 0, 'voteTotalScore': 1, 'dateCreated': '20141027150913', 'lastUpdated': '20150329003458'}, 'isTopRecommend': False, 'simpleUrl': None, 'specialSearchString': None, 'specialSearchUrl': None, 'previewEndDate': None, 'isPaid': False, 'payWebtoonEpisode': None, 'product': None, 'ticketAvailable': False, 'ageGrade': 0}, {'id': 24838, 'episode': 29, 'title': '27화', 'shortTitle': '27화', 'thumbnailImage': {'id': 24838, 'url': 'http://i1.cartoon.daumcdn.net/svc/image/U03/cartoon/5341EEA702250C0001', 'name': None, 'size': None, 'width': 0, 'height': 0, 'mediaType': None, 'encryptKey': None, 'serviceStatus': 'service'}, 'episodeImage': None, 'encryptUseYn': 'Y', 'serviceStatus': 'service', 'articleId': 24838, 'commentUseYn': 'Y', 'dateCreated': '20190424000100', 'webtoon': None, 'serviceType': 'free', 'multiType': None, 'multiBgm': None, 'multiBackgroundImage': None, 'price': 0, 'padtoonImage': None, 'voteTarget': {'id': 156096, 'voteServiceId': 15, 'serviceTargetId': 24838, 'voteCount': 6493, 'ranking': 0, 'diff': 0, 'voteTotalScore': 6493, 'dateCreated': '20140407091828', 'lastUpdated': '20191111173621'}, 'shareVoteTarget': {'id': 197700, 'voteServiceId': 23, 'serviceTargetId': 24838, 'voteCount': 8, 'ranking': 0, 'diff': 0, 'voteTotalScore': 8, 'dateCreated': '20141027150913', 'lastUpdated': '20150718174405'}, 'isTopRecommend': False, 'simpleUrl': None, 'specialSearchString': '좀비가 실제로 나타났을 때 생존법', 'specialSearchUrl': 'http://m.search.daum.net/search?w=tot&q=%EC%A2%80%EB%B9%84+%EC%83%9D%EC%A1%B4%EB%B2%95&DA=TATO', 'previewEndDate': None, 'isPaid': False, 'payWebtoonEpisode': None, 'product': None, 'ticketAvailable': False, 'ageGrade': 0}, {'id': 24924, 'episode': 30, 'title': '28화', 'shortTitle': '28화', 'thumbnailImage': {'id': 24924, 'url': 'http://i1.cartoon.daumcdn.net/svc/image/U03/cartoon/534B19E1020D0C0001', 'name': None, 'size': None, 'width': 0, 'height': 0, 'mediaType': None, 'encryptKey': None, 'serviceStatus': 'service'}, 'episodeImage': None, 'encryptUseYn': 'Y', 'serviceStatus': 'service', 'articleId': 24924, 'commentUseYn': 'Y', 'dateCreated': '20190425000100', 'webtoon': None, 'serviceType': 'free', 'multiType': None, 'multiBgm': None, 'multiBackgroundImage': None, 'price': 0, 'padtoonImage': None, 'voteTarget': {'id': 156678, 'voteServiceId': 15, 'serviceTargetId': 24924, 'voteCount': 6539, 'ranking': 0, 'diff': 0, 'voteTotalScore': 6539, 'dateCreated': '20140414081532', 'lastUpdated': '20191111173853'}, 'shareVoteTarget': {'id': 197701, 'voteServiceId': 23, 'serviceTargetId': 24924, 'voteCount': 11, 'ranking': 0, 'diff': 0, 'voteTotalScore': 11, 'dateCreated': '20141027150913', 'lastUpdated': '20161124013414'}, 'isTopRecommend': False, 'simpleUrl': None, 'specialSearchString': '국가 별 좀비 대처법', 'specialSearchUrl': 'http://m.search.daum.net/search?w=tot&q=%EA%B5%AD%EA%B0%80%EB%B3%84+%EC%A2%80%EB%B9%84+%EB%8C%80%EC%B2%98%EB%B2%95&DA=TATO', 'previewEndDate': None, 'isPaid': False, 'payWebtoonEpisode': None, 'product': None, 'ticketAvailable': False, 'ageGrade': 0}, {'id': 25013, 'episode': 31, 'title': '29화', 'shortTitle': '29화', 'thumbnailImage': {'id': 25013, 'url': 'http://i1.cartoon.daumcdn.net/svc/image/U03/cartoon/535462B9020C820002', 'name': None, 'size': None, 'width': 0, 'height': 0, 'mediaType': None, 'encryptKey': None, 'serviceStatus': 'service'}, 'episodeImage': None, 'encryptUseYn': 'Y', 'serviceStatus': 'service', 'articleId': 25013, 'commentUseYn': 'Y', 'dateCreated': '20190501000100', 'webtoon': None, 'serviceType': 'free', 'multiType': None, 'multiBgm': None, 'multiBackgroundImage': None, 'price': 0, 'padtoonImage': None, 'voteTarget': {'id': 157111, 'voteServiceId': 15, 'serviceTargetId': 25013, 'voteCount': 6785, 'ranking': 0, 'diff': 0, 'voteTotalScore': 6785, 'dateCreated': '20140421091352', 'lastUpdated': '20191111174103'}, 'shareVoteTarget': {'id': 197702, 'voteServiceId': 23, 'serviceTargetId': 25013, 'voteCount': 6, 'ranking': 0, 'diff': 0, 'voteTotalScore': 6, 'dateCreated': '20141027150913', 'lastUpdated': '20150706173315'}, 'isTopRecommend': False, 'simpleUrl': None, 'specialSearchString': None, 'specialSearchUrl': None, 'previewEndDate': None, 'isPaid': False, 'payWebtoonEpisode': None, 'product': None, 'ticketAvailable': False, 'ageGrade': 0}, {'id': 25106, 'episode': 32, 'title': '30화', 'shortTitle': '30화', 'thumbnailImage': {'id': 25106, 'url': 'http://i1.cartoon.daumcdn.net/svc/image/U03/cartoon/535D93DC0101660001', 'name': None, 'size': None, 'width': 0, 'height': 0, 'mediaType': None, 'encryptKey': None, 'serviceStatus': 'service'}, 'episodeImage': None, 'encryptUseYn': 'Y', 'serviceStatus': 'service', 'articleId': 25106, 'commentUseYn': 'Y', 'dateCreated': '20190502000100', 'webtoon': None, 'serviceType': 'free', 'multiType': None, 'multiBgm': None, 'multiBackgroundImage': None, 'price': 0, 'padtoonImage': None, 'voteTarget': {'id': 157601, 'voteServiceId': 15, 'serviceTargetId': 25106, 'voteCount': 6635, 'ranking': 0, 'diff': 0, 'voteTotalScore': 6635, 'dateCreated': '20140428083425', 'lastUpdated': '20191111174509'}, 'shareVoteTarget': {'id': 197703, 'voteServiceId': 23, 'serviceTargetId': 25106, 'voteCount': 5, 'ranking': 0, 'diff': 0, 'voteTotalScore': 5, 'dateCreated': '20141027150913', 'lastUpdated': '20161201002924'}, 'isTopRecommend': False, 'simpleUrl': None, 'specialSearchString': None, 'specialSearchUrl': None, 'previewEndDate': None, 'isPaid': False, 'payWebtoonEpisode': None, 'product': None, 'ticketAvailable': False, 'ageGrade': 0}, {'id': 25191, 'episode': 33, 'title': '31화', 'shortTitle': '31화', 'thumbnailImage': {'id': 25191, 'url': 'http://i1.cartoon.daumcdn.net/svc/image/U03/cartoon/5366CEF8034BCA0001', 'name': None, 'size': None, 'width': 0, 'height': 0, 'mediaType': None, 'encryptKey': None, 'serviceStatus': 'service'}, 'episodeImage': None, 'encryptUseYn': 'Y', 'serviceStatus': 'service', 'articleId': 25191, 'commentUseYn': 'Y', 'dateCreated': '20190508000100', 'webtoon': None, 'serviceType': 'free', 'multiType': None, 'multiBgm': None, 'multiBackgroundImage': None, 'price': 0, 'padtoonImage': None, 'voteTarget': {'id': 158162, 'voteServiceId': 15, 'serviceTargetId': 25191, 'voteCount': 6721, 'ranking': 0, 'diff': 0, 'voteTotalScore': 6721, 'dateCreated': '20140505083655', 'lastUpdated': '20191111174800'}, 'shareVoteTarget': {'id': 197704, 'voteServiceId': 23, 'serviceTargetId': 25191, 'voteCount': 5, 'ranking': 0, 'diff': 0, 'voteTotalScore': 5, 'dateCreated': '20141027150913', 'lastUpdated': '20150722222828'}, 'isTopRecommend': False, 'simpleUrl': None, 'specialSearchString': None, 'specialSearchUrl': None, 'previewEndDate': None, 'isPaid': False, 'payWebtoonEpisode': None, 'product': None, 'ticketAvailable': False, 'ageGrade': 0}, {'id': 25275, 'episode': 34, 'title': '32화', 'shortTitle': '32화', 'thumbnailImage': {'id': 25275, 'url': 'http://i1.cartoon.daumcdn.net/svc/image/U03/cartoon/537017ED020BBE0002', 'name': None, 'size': None, 'width': 0, 'height': 0, 'mediaType': None, 'encryptKey': None, 'serviceStatus': 'service'}, 'episodeImage': None, 'encryptUseYn': 'Y', 'serviceStatus': 'service', 'articleId': 25275, 'commentUseYn': 'Y', 'dateCreated': '20190509000100', 'webtoon': None, 'serviceType': 'free', 'multiType': None, 'multiBgm': None, 'multiBackgroundImage': None, 'price': 0, 'padtoonImage': None, 'voteTarget': {'id': 158762, 'voteServiceId': 15, 'serviceTargetId': 25275, 'voteCount': 6754, 'ranking': 0, 'diff': 0, 'voteTotalScore': 6754, 'dateCreated': '20140512092914', 'lastUpdated': '20191111175039'}, 'shareVoteTarget': {'id': 197705, 'voteServiceId': 23, 'serviceTargetId': 25275, 'voteCount': 6, 'ranking': 0, 'diff': 0, 'voteTotalScore': 6, 'dateCreated': '20141027150913', 'lastUpdated': '20160911151817'}, 'isTopRecommend': False, 'simpleUrl': None, 'specialSearchString': None, 'specialSearchUrl': None, 'previewEndDate': None, 'isPaid': False, 'payWebtoonEpisode': None, 'product': None, 'ticketAvailable': False, 'ageGrade': 0}, {'id': 25358, 'episode': 35, 'title': '33화', 'shortTitle': '33화', 'thumbnailImage': {'id': 25358, 'url': 'http://i1.cartoon.daumcdn.net/svc/image/U03/cartoon/53794BB50252500002', 'name': None, 'size': None, 'width': 0, 'height': 0, 'mediaType': None, 'encryptKey': None, 'serviceStatus': 'service'}, 'episodeImage': None, 'encryptUseYn': 'Y', 'serviceStatus': 'service', 'articleId': 25358, 'commentUseYn': 'Y', 'dateCreated': '20190515000100', 'webtoon': None, 'serviceType': 'free', 'multiType': None, 'multiBgm': None, 'multiBackgroundImage': None, 'price': 0, 'padtoonImage': None, 'voteTarget': {'id': 159305, 'voteServiceId': 15, 'serviceTargetId': 25358, 'voteCount': 8738, 'ranking': 0, 'diff': 0, 'voteTotalScore': 8738, 'dateCreated': '20140519090952', 'lastUpdated': '20191111175306'}, 'shareVoteTarget': {'id': 197706, 'voteServiceId': 23, 'serviceTargetId': 25358, 'voteCount': 8, 'ranking': 0, 'diff': 0, 'voteTotalScore': 8, 'dateCreated': '20141027150913', 'lastUpdated': '20150604223139'}, 'isTopRecommend': False, 'simpleUrl': None, 'specialSearchString': None, 'specialSearchUrl': None, 'previewEndDate': None, 'isPaid': False, 'payWebtoonEpisode': None, 'product': None, 'ticketAvailable': False, 'ageGrade': 0}, {'id': 25435, 'episode': 36, 'title': '34화', 'shortTitle': '34화', 'thumbnailImage': {'id': 25435, 'url': 'http://i1.cartoon.daumcdn.net/svc/image/U03/cartoon/538285B70566E30003', 'name': None, 'size': None, 'width': 0, 'height': 0, 'mediaType': None, 'encryptKey': None, 'serviceStatus': 'service'}, 'episodeImage': None, 'encryptUseYn': 'Y', 'serviceStatus': 'service', 'articleId': 25435, 'commentUseYn': 'Y', 'dateCreated': '20190516000100', 'webtoon': None, 'serviceType': 'free', 'multiType': None, 'multiBgm': None, 'multiBackgroundImage': None, 'price': 0, 'padtoonImage': None, 'voteTarget': {'id': 159898, 'voteServiceId': 15, 'serviceTargetId': 25435, 'voteCount': 6993, 'ranking': 0, 'diff': 0, 'voteTotalScore': 6993, 'dateCreated': '20140526085442', 'lastUpdated': '20191111175535'}, 'shareVoteTarget': {'id': 197707, 'voteServiceId': 23, 'serviceTargetId': 25435, 'voteCount': 3, 'ranking': 0, 'diff': 0, 'voteTotalScore': 3, 'dateCreated': '20141027150913', 'lastUpdated': '20150305013801'}, 'isTopRecommend': False, 'simpleUrl': None, 'specialSearchString': None, 'specialSearchUrl': None, 'previewEndDate': None, 'isPaid': False, 'payWebtoonEpisode': None, 'product': None, 'ticketAvailable': False, 'ageGrade': 0}, {'id': 25519, 'episode': 37, 'title': '35화', 'shortTitle': '35화', 'thumbnailImage': {'id': 25519, 'url': 'http://i1.cartoon.daumcdn.net/svc/image/U03/cartoon/538BBE08027D510001', 'name': None, 'size': None, 'width': 0, 'height': 0, 'mediaType': None, 'encryptKey': None, 'serviceStatus': 'service'}, 'episodeImage': None, 'encryptUseYn': 'Y', 'serviceStatus': 'service', 'articleId': 25519, 'commentUseYn': 'Y', 'dateCreated': '20190522000100', 'webtoon': None, 'serviceType': 'free', 'multiType': None, 'multiBgm': None, 'multiBackgroundImage': None, 'price': 0, 'padtoonImage': None, 'voteTarget': {'id': 160534, 'voteServiceId': 15, 'serviceTargetId': 25519, 'voteCount': 7054, 'ranking': 0, 'diff': 0, 'voteTotalScore': 7054, 'dateCreated': '20140602090209', 'lastUpdated': '20191111175731'}, 'shareVoteTarget': {'id': 197708, 'voteServiceId': 23, 'serviceTargetId': 25519, 'voteCount': 6, 'ranking': 0, 'diff': 0, 'voteTotalScore': 6, 'dateCreated': '20141027150913', 'lastUpdated': '20150718102747'}, 'isTopRecommend': False, 'simpleUrl': None, 'specialSearchString': '종로5가역에서 신설동역까지 걸어가기!', 'specialSearchUrl': 'http://m.map.daum.net/actions/walkRoute?startLoc=%EC%A2%85%EB%A1%9C5%EA%B0%80%EC%97%AD+1%ED%98%B8%EC%84%A0&sxEnc=MONNPM&syEnc=QNMMUPR&endLoc=%EC%8B%A0%EC%84%A4%EB%8F%99%EC%97%AD+1%ED%98%B8%EC%84%A0&exEnc=MOSQLL&eyEnc=QNMOOPQ&ids=P21160791%2CP21160522&service=', 'previewEndDate': None, 'isPaid': False, 'payWebtoonEpisode': None, 'product': None, 'ticketAvailable': False, 'ageGrade': 0}, {'id': 25604, 'episode': 38, 'title': '36화', 'shortTitle': '36화', 'thumbnailImage': {'id': 25604, 'url': 'http://i1.cartoon.daumcdn.net/svc/image/U03/cartoon/5394F00F02542A0002', 'name': None, 'size': None, 'width': 0, 'height': 0, 'mediaType': None, 'encryptKey': None, 'serviceStatus': 'service'}, 'episodeImage': None, 'encryptUseYn': 'Y', 'serviceStatus': 'service', 'articleId': 25604, 'commentUseYn': 'Y', 'dateCreated': '20190523000100', 'webtoon': None, 'serviceType': 'free', 'multiType': None, 'multiBgm': None, 'multiBackgroundImage': None, 'price': 0, 'padtoonImage': None, 'voteTarget': {'id': 161116, 'voteServiceId': 15, 'serviceTargetId': 25604, 'voteCount': 7010, 'ranking': 0, 'diff': 0, 'voteTotalScore': 7010, 'dateCreated': '20140609082221', 'lastUpdated': '20191111180005'}, 'shareVoteTarget': {'id': 197709, 'voteServiceId': 23, 'serviceTargetId': 25604, 'voteCount': 10, 'ranking': 0, 'diff': 0, 'voteTotalScore': 10, 'dateCreated': '20141027150913', 'lastUpdated': '20161120091755'}, 'isTopRecommend': False, 'simpleUrl': None, 'specialSearchString': None, 'specialSearchUrl': None, 'previewEndDate': None, 'isPaid': False, 'payWebtoonEpisode': None, 'product': None, 'ticketAvailable': False, 'ageGrade': 0}, {'id': 25698, 'episode': 39, 'title': '37화', 'shortTitle': '37화', 'thumbnailImage': {'id': 25698, 'url': 'http://i1.cartoon.daumcdn.net/svc/image/U03/cartoon/539E2F6F0216310001', 'name': None, 'size': None, 'width': 0, 'height': 0, 'mediaType': None, 'encryptKey': None, 'serviceStatus': 'service'}, 'episodeImage': None, 'encryptUseYn': 'Y', 'serviceStatus': 'service', 'articleId': 25698, 'commentUseYn': 'Y', 'dateCreated': '20190529000100', 'webtoon': None, 'serviceType': 'free', 'multiType': None, 'multiBgm': None, 'multiBackgroundImage': None, 'price': 0, 'padtoonImage': None, 'voteTarget': {'id': 161815, 'voteServiceId': 15, 'serviceTargetId': 25698, 'voteCount': 7333, 'ranking': 0, 'diff': 0, 'voteTotalScore': 7333, 'dateCreated': '20140616084303', 'lastUpdated': '20191111180144'}, 'shareVoteTarget': {'id': 197710, 'voteServiceId': 23, 'serviceTargetId': 25698, 'voteCount': 6, 'ranking': 0, 'diff': 0, 'voteTotalScore': 6, 'dateCreated': '20141027150913', 'lastUpdated': '20150722000430'}, 'isTopRecommend': False, 'simpleUrl': None, 'specialSearchString': None, 'specialSearchUrl': None, 'previewEndDate': None, 'isPaid': False, 'payWebtoonEpisode': None, 'product': None, 'ticketAvailable': False, 'ageGrade': 0}, {'id': 25788, 'episode': 40, 'title': '38화', 'shortTitle': '38화', 'thumbnailImage': {'id': 25788, 'url': 'http://i1.cartoon.daumcdn.net/svc/image/U03/cartoon/53A7676E02643A0002', 'name': None, 'size': None, 'width': 0, 'height': 0, 'mediaType': None, 'encryptKey': None, 'serviceStatus': 'service'}, 'episodeImage': None, 'encryptUseYn': 'Y', 'serviceStatus': 'service', 'articleId': 25788, 'commentUseYn': 'Y', 'dateCreated': '20190530000100', 'webtoon': None, 'serviceType': 'free', 'multiType': None, 'multiBgm': None, 'multiBackgroundImage': None, 'price': 0, 'padtoonImage': None, 'voteTarget': {'id': 162404, 'voteServiceId': 15, 'serviceTargetId': 25788, 'voteCount': 7152, 'ranking': 0, 'diff': 0, 'voteTotalScore': 7152, 'dateCreated': '20140623083609', 'lastUpdated': '20191111180337'}, 'shareVoteTarget': {'id': 197711, 'voteServiceId': 23, 'serviceTargetId': 25788, 'voteCount': 6, 'ranking': 0, 'diff': 0, 'voteTotalScore': 6, 'dateCreated': '20141027150913', 'lastUpdated': '20151030040735'}, 'isTopRecommend': False, 'simpleUrl': None, 'specialSearchString': None, 'specialSearchUrl': None, 'previewEndDate': None, 'isPaid': False, 'payWebtoonEpisode': None, 'product': None, 'ticketAvailable': False, 'ageGrade': 0}, {'id': 25889, 'episode': 41, 'title': '39화', 'shortTitle': '39화', 'thumbnailImage': {'id': 25889, 'url': 'http://i1.cartoon.daumcdn.net/svc/image/U03/cartoon/53B0AADB0259710001', 'name': None, 'size': None, 'width': 0, 'height': 0, 'mediaType': None, 'encryptKey': None, 'serviceStatus': 'service'}, 'episodeImage': None, 'encryptUseYn': 'Y', 'serviceStatus': 'service', 'articleId': 25889, 'commentUseYn': 'Y', 'dateCreated': '20190605000100', 'webtoon': None, 'serviceType': 'free', 'multiType': None, 'multiBgm': None, 'multiBackgroundImage': None, 'price': 0, 'padtoonImage': None, 'voteTarget': {'id': 162988, 'voteServiceId': 15, 'serviceTargetId': 25889, 'voteCount': 7510, 'ranking': 0, 'diff': 0, 'voteTotalScore': 7510, 'dateCreated': '20140630091455', 'lastUpdated': '20191111180515'}, 'shareVoteTarget': {'id': 197712, 'voteServiceId': 23, 'serviceTargetId': 25889, 'voteCount': 7, 'ranking': 0, 'diff': 0, 'voteTotalScore': 7, 'dateCreated': '20141027150913', 'lastUpdated': '20150712134536'}, 'isTopRecommend': False, 'simpleUrl': None, 'specialSearchString': None, 'specialSearchUrl': None, 'previewEndDate': None, 'isPaid': False, 'payWebtoonEpisode': None, 'product': None, 'ticketAvailable': False, 'ageGrade': 0}, {'id': 26073, 'episode': 43, 'title': '40화', 'shortTitle': '40화', 'thumbnailImage': {'id': 26073, 'url': 'http://i1.cartoon.daumcdn.net/svc/image/U03/cartoon/53C31691020BEB0001', 'name': None, 'size': None, 'width': 0, 'height': 0, 'mediaType': None, 'encryptKey': None, 'serviceStatus': 'service'}, 'episodeImage': None, 'encryptUseYn': 'Y', 'serviceStatus': 'service', 'articleId': 26073, 'commentUseYn': 'Y', 'dateCreated': '20190606000100', 'webtoon': None, 'serviceType': 'free', 'multiType': None, 'multiBgm': None, 'multiBackgroundImage': None, 'price': 0, 'padtoonImage': None, 'voteTarget': {'id': 164275, 'voteServiceId': 15, 'serviceTargetId': 26073, 'voteCount': 7526, 'ranking': 0, 'diff': 0, 'voteTotalScore': 7526, 'dateCreated': '20140714083535', 'lastUpdated': '20191111180800'}, 'shareVoteTarget': {'id': 197714, 'voteServiceId': 23, 'serviceTargetId': 26073, 'voteCount': 3, 'ranking': 0, 'diff': 0, 'voteTotalScore': 3, 'dateCreated': '20141027150913', 'lastUpdated': '20150510171333'}, 'isTopRecommend': False, 'simpleUrl': None, 'specialSearchString': None, 'specialSearchUrl': None, 'previewEndDate': None, 'isPaid': False, 'payWebtoonEpisode': None, 'product': None, 'ticketAvailable': False, 'ageGrade': 0}, {'id': 26167, 'episode': 44, 'title': '41화', 'shortTitle': '41화', 'thumbnailImage': {'id': 26167, 'url': 'http://i1.cartoon.daumcdn.net/svc/image/U03/cartoon/53CC54D5027B420002', 'name': None, 'size': None, 'width': 0, 'height': 0, 'mediaType': None, 'encryptKey': None, 'serviceStatus': 'service'}, 'episodeImage': None, 'encryptUseYn': 'Y', 'serviceStatus': 'service', 'articleId': 26167, 'commentUseYn': 'Y', 'dateCreated': '20190612000100', 'webtoon': None, 'serviceType': 'free', 'multiType': None, 'multiBgm': None, 'multiBackgroundImage': None, 'price': 0, 'padtoonImage': None, 'voteTarget': {'id': 164957, 'voteServiceId': 15, 'serviceTargetId': 26167, 'voteCount': 7970, 'ranking': 0, 'diff': 0, 'voteTotalScore': 7970, 'dateCreated': '20140721084656', 'lastUpdated': '20191111181020'}, 'shareVoteTarget': {'id': 197715, 'voteServiceId': 23, 'serviceTargetId': 26167, 'voteCount': 4, 'ranking': 0, 'diff': 0, 'voteTotalScore': 4, 'dateCreated': '20141027150913', 'lastUpdated': '20150714184407'}, 'isTopRecommend': False, 'simpleUrl': None, 'specialSearchString': None, 'specialSearchUrl': None, 'previewEndDate': None, 'isPaid': False, 'payWebtoonEpisode': None, 'product': None, 'ticketAvailable': False, 'ageGrade': 0}, {'id': 26277, 'episode': 45, 'title': '42화', 'shortTitle': '42화', 'thumbnailImage': {'id': 26277, 'url': 'http://i1.cartoon.daumcdn.net/svc/image/U03/cartoon/53D5951D0206A70001', 'name': None, 'size': None, 'width': 0, 'height': 0, 'mediaType': None, 'encryptKey': None, 'serviceStatus': 'service'}, 'episodeImage': None, 'encryptUseYn': 'Y', 'serviceStatus': 'service', 'articleId': 26277, 'commentUseYn': 'Y', 'dateCreated': '20190613000100', 'webtoon': None, 'serviceType': 'free', 'multiType': None, 'multiBgm': None, 'multiBackgroundImage': None, 'price': 0, 'padtoonImage': None, 'voteTarget': {'id': 165534, 'voteServiceId': 15, 'serviceTargetId': 26277, 'voteCount': 7183, 'ranking': 0, 'diff': 0, 'voteTotalScore': 7183, 'dateCreated': '20140728091848', 'lastUpdated': '20191111181204'}, 'shareVoteTarget': {'id': 197716, 'voteServiceId': 23, 'serviceTargetId': 26277, 'voteCount': 21, 'ranking': 0, 'diff': 0, 'voteTotalScore': 21, 'dateCreated': '20141027150913', 'lastUpdated': '20161226204037'}, 'isTopRecommend': False, 'simpleUrl': None, 'specialSearchString': '[서울도심게임] 생존 아이템을 찾아라!', 'specialSearchUrl': 'http://m.webtoon.daum.net/m/event/view/4921', 'previewEndDate': None, 'isPaid': False, 'payWebtoonEpisode': None, 'product': None, 'ticketAvailable': False, 'ageGrade': 0}, {'id': 26374, 'episode': 46, 'title': '43화', 'shortTitle': '43화', 'thumbnailImage': {'id': 26374, 'url': 'http://i1.cartoon.daumcdn.net/svc/image/U03/cartoon/53DECF020222FD0001', 'name': None, 'size': None, 'width': 0, 'height': 0, 'mediaType': None, 'encryptKey': None, 'serviceStatus': 'service'}, 'episodeImage': None, 'encryptUseYn': 'Y', 'serviceStatus': 'service', 'articleId': 26374, 'commentUseYn': 'Y', 'dateCreated': '20190619000100', 'webtoon': None, 'serviceType': 'free', 'multiType': None, 'multiBgm': None, 'multiBackgroundImage': None, 'price': 0, 'padtoonImage': None, 'voteTarget': {'id': 166367, 'voteServiceId': 15, 'serviceTargetId': 26374, 'voteCount': 6420, 'ranking': 0, 'diff': 0, 'voteTotalScore': 6420, 'dateCreated': '20140804091133', 'lastUpdated': '20191111181525'}, 'shareVoteTarget': {'id': 197717, 'voteServiceId': 23, 'serviceTargetId': 26374, 'voteCount': 11, 'ranking': 0, 'diff': 0, 'voteTotalScore': 11, 'dateCreated': '20141027150913', 'lastUpdated': '20161108184535'}, 'isTopRecommend': False, 'simpleUrl': None, 'specialSearchString': '[서울도심게임] 생존아이템을 찾아라', 'specialSearchUrl': 'http://m.webtoon.daum.net/m/event/view/4921', 'previewEndDate': None, 'isPaid': False, 'payWebtoonEpisode': None, 'product': None, 'ticketAvailable': False, 'ageGrade': 0}, {'id': 26470, 'episode': 47, 'title': '44화', 'shortTitle': '44화', 'thumbnailImage': {'id': 26470, 'url': 'http://i1.cartoon.daumcdn.net/svc/image/U03/cartoon/53E812330253060002', 'name': None, 'size': None, 'width': 0, 'height': 0, 'mediaType': None, 'encryptKey': None, 'serviceStatus': 'service'}, 'episodeImage': None, 'encryptUseYn': 'Y', 'serviceStatus': 'service', 'articleId': 26470, 'commentUseYn': 'Y', 'dateCreated': '20190620000100', 'webtoon': None, 'serviceType': 'free', 'multiType': None, 'multiBgm': None, 'multiBackgroundImage': None, 'price': 0, 'padtoonImage': None, 'voteTarget': {'id': 166936, 'voteServiceId': 15, 'serviceTargetId': 26470, 'voteCount': 6542, 'ranking': 0, 'diff': 0, 'voteTotalScore': 6542, 'dateCreated': '20140811095917', 'lastUpdated': '20191111181747'}, 'shareVoteTarget': {'id': 197718, 'voteServiceId': 23, 'serviceTargetId': 26470, 'voteCount': 10, 'ranking': 0, 'diff': 0, 'voteTotalScore': 10, 'dateCreated': '20141027150913', 'lastUpdated': '20161125093109'}, 'isTopRecommend': False, 'simpleUrl': None, 'specialSearchString': '[서울도심게임] 생존 아이템을 찾아라!', 'specialSearchUrl': 'http://m.webtoon.daum.net/m/event/view/4921', 'previewEndDate': None, 'isPaid': False, 'payWebtoonEpisode': None, 'product': None, 'ticketAvailable': False, 'ageGrade': 0}, {'id': 26563, 'episode': 48, 'title': '45화', 'shortTitle': '45화', 'thumbnailImage': {'id': 26563, 'url': 'http://i1.cartoon.daumcdn.net/svc/image/U03/cartoon/53F140E20222A30002', 'name': None, 'size': None, 'width': 0, 'height': 0, 'mediaType': None, 'encryptKey': None, 'serviceStatus': 'service'}, 'episodeImage': None, 'encryptUseYn': 'Y', 'serviceStatus': 'service', 'articleId': 26563, 'commentUseYn': 'Y', 'dateCreated': '20190626000100', 'webtoon': None, 'serviceType': 'free', 'multiType': None, 'multiBgm': None, 'multiBackgroundImage': None, 'price': 0, 'padtoonImage': None, 'voteTarget': {'id': 167526, 'voteServiceId': 15, 'serviceTargetId': 26563, 'voteCount': 6250, 'ranking': 0, 'diff': 0, 'voteTotalScore': 6250, 'dateCreated': '20140818090149', 'lastUpdated': '20191111181959'}, 'shareVoteTarget': {'id': 197719, 'voteServiceId': 23, 'serviceTargetId': 26563, 'voteCount': 5, 'ranking': 0, 'diff': 0, 'voteTotalScore': 5, 'dateCreated': '20141027150913', 'lastUpdated': '20161228011808'}, 'isTopRecommend': False, 'simpleUrl': None, 'specialSearchString': '1호선 이벤트 10만명 돌파 기념!', 'specialSearchUrl': 'http://m.webtoon.daum.net/m/event/view/4934', 'previewEndDate': None, 'isPaid': False, 'payWebtoonEpisode': None, 'product': None, 'ticketAvailable': False, 'ageGrade': 0}, {'id': 26657, 'episode': 49, 'title': '46화', 'shortTitle': '46화', 'thumbnailImage': {'id': 26657, 'url': 'http://i1.cartoon.daumcdn.net/svc/image/U03/cartoon/53FA79A60564420001', 'name': None, 'size': None, 'width': 0, 'height': 0, 'mediaType': None, 'encryptKey': None, 'serviceStatus': 'service'}, 'episodeImage': None, 'encryptUseYn': 'Y', 'serviceStatus': 'service', 'articleId': 26657, 'commentUseYn': 'Y', 'dateCreated': '20190627000100', 'webtoon': None, 'serviceType': 'free', 'multiType': None, 'multiBgm': None, 'multiBackgroundImage': None, 'price': 0, 'padtoonImage': None, 'voteTarget': {'id': 168065, 'voteServiceId': 15, 'serviceTargetId': 26657, 'voteCount': 7106, 'ranking': 0, 'diff': 0, 'voteTotalScore': 7106, 'dateCreated': '20140825082744', 'lastUpdated': '20191111182135'}, 'shareVoteTarget': {'id': 197720, 'voteServiceId': 23, 'serviceTargetId': 26657, 'voteCount': 2, 'ranking': 0, 'diff': 0, 'voteTotalScore': 2, 'dateCreated': '20141027150913', 'lastUpdated': '20150413194559'}, 'isTopRecommend': False, 'simpleUrl': None, 'specialSearchString': None, 'specialSearchUrl': None, 'previewEndDate': None, 'isPaid': False, 'payWebtoonEpisode': None, 'product': None, 'ticketAvailable': False, 'ageGrade': 0}, {'id': 26765, 'episode': 50, 'title': '47화', 'shortTitle': '47화', 'thumbnailImage': {'id': 26765, 'url': 'http://i1.cartoon.daumcdn.net/svc/image/U03/cartoon/5403B9CC03712F0001', 'name': None, 'size': None, 'width': 0, 'height': 0, 'mediaType': None, 'encryptKey': None, 'serviceStatus': 'service'}, 'episodeImage': None, 'encryptUseYn': 'Y', 'serviceStatus': 'service', 'articleId': 26765, 'commentUseYn': 'Y', 'dateCreated': '20190703000100', 'webtoon': None, 'serviceType': 'free', 'multiType': None, 'multiBgm': None, 'multiBackgroundImage': None, 'price': 0, 'padtoonImage': None, 'voteTarget': {'id': 168672, 'voteServiceId': 15, 'serviceTargetId': 26765, 'voteCount': 7795, 'ranking': 0, 'diff': 0, 'voteTotalScore': 7795, 'dateCreated': '20140901091234', 'lastUpdated': '20191111182340'}, 'shareVoteTarget': {'id': 197721, 'voteServiceId': 23, 'serviceTargetId': 26765, 'voteCount': 1, 'ranking': 0, 'diff': 0, 'voteTotalScore': 1, 'dateCreated': '20141027150913', 'lastUpdated': '20150217204638'}, 'isTopRecommend': False, 'simpleUrl': None, 'specialSearchString': None, 'specialSearchUrl': None, 'previewEndDate': None, 'isPaid': False, 'payWebtoonEpisode': None, 'product': None, 'ticketAvailable': False, 'ageGrade': 0}, {'id': 27246, 'episode': 52, 'title': '48화', 'shortTitle': '48화', 'thumbnailImage': {'id': 27246, 'url': 'http://i1.cartoon.daumcdn.net/svc/image/U03/cartoon/5431DD730434900001', 'name': None, 'size': None, 'width': 0, 'height': 0, 'mediaType': None, 'encryptKey': None, 'serviceStatus': 'service'}, 'episodeImage': None, 'encryptUseYn': 'Y', 'serviceStatus': 'service', 'articleId': 27246, 'commentUseYn': 'Y', 'dateCreated': '20190704000100', 'webtoon': None, 'serviceType': 'free', 'multiType': None, 'multiBgm': None, 'multiBackgroundImage': None, 'price': 0, 'padtoonImage': None, 'voteTarget': {'id': 171478, 'voteServiceId': 15, 'serviceTargetId': 27246, 'voteCount': 7101, 'ranking': 0, 'diff': 0, 'voteTotalScore': 7101, 'dateCreated': '20141006090826', 'lastUpdated': '20191111183043'}, 'shareVoteTarget': {'id': 197723, 'voteServiceId': 23, 'serviceTargetId': 27246, 'voteCount': 7, 'ranking': 0, 'diff': 0, 'voteTotalScore': 7, 'dateCreated': '20141027150913', 'lastUpdated': '20150613091255'}, 'isTopRecommend': False, 'simpleUrl': None, 'specialSearchString': None, 'specialSearchUrl': None, 'previewEndDate': None, 'isPaid': False, 'payWebtoonEpisode': None, 'product': None, 'ticketAvailable': False, 'ageGrade': 0}, {'id': 27357, 'episode': 53, 'title': '49화', 'shortTitle': '49화', 'thumbnailImage': {'id': 27357, 'url': 'http://i1.cartoon.daumcdn.net/svc/image/U03/cartoon/543B0CCA0211B70001', 'name': None, 'size': None, 'width': 0, 'height': 0, 'mediaType': None, 'encryptKey': None, 'serviceStatus': 'service'}, 'episodeImage': None, 'encryptUseYn': 'Y', 'serviceStatus': 'service', 'articleId': 27357, 'commentUseYn': 'Y', 'dateCreated': '20190710000100', 'webtoon': None, 'serviceType': 'free', 'multiType': None, 'multiBgm': None, 'multiBackgroundImage': None, 'price': 0, 'padtoonImage': None, 'voteTarget': {'id': 172083, 'voteServiceId': 15, 'serviceTargetId': 27357, 'voteCount': 7694, 'ranking': 0, 'diff': 0, 'voteTotalScore': 7694, 'dateCreated': '20141013082430', 'lastUpdated': '20191111183200'}, 'shareVoteTarget': {'id': 197724, 'voteServiceId': 23, 'serviceTargetId': 27357, 'voteCount': 5, 'ranking': 0, 'diff': 0, 'voteTotalScore': 5, 'dateCreated': '20141027150913', 'lastUpdated': '20150614221240'}, 'isTopRecommend': False, 'simpleUrl': None, 'specialSearchString': None, 'specialSearchUrl': None, 'previewEndDate': None, 'isPaid': False, 'payWebtoonEpisode': None, 'product': None, 'ticketAvailable': False, 'ageGrade': 0}, {'id': 27464, 'episode': 54, 'title': '50화', 'shortTitle': '50화', 'thumbnailImage': {'id': 27464, 'url': 'http://i1.cartoon.daumcdn.net/svc/image/U03/cartoon/544450FD02444D0001', 'name': None, 'size': None, 'width': 0, 'height': 0, 'mediaType': None, 'encryptKey': None, 'serviceStatus': 'service'}, 'episodeImage': None, 'encryptUseYn': 'Y', 'serviceStatus': 'service', 'articleId': 27464, 'commentUseYn': 'Y', 'dateCreated': '20190711000100', 'webtoon': None, 'serviceType': 'free', 'multiType': None, 'multiBgm': None, 'multiBackgroundImage': None, 'price': 0, 'padtoonImage': None, 'voteTarget': {'id': 172572, 'voteServiceId': 15, 'serviceTargetId': 27464, 'voteCount': 7154, 'ranking': 0, 'diff': 0, 'voteTotalScore': 7154, 'dateCreated': '20141020090212', 'lastUpdated': '20191111183324'}, 'shareVoteTarget': {'id': 197725, 'voteServiceId': 23, 'serviceTargetId': 27464, 'voteCount': 8, 'ranking': 0, 'diff': 0, 'voteTotalScore': 8, 'dateCreated': '20141027150913', 'lastUpdated': '20150620224141'}, 'isTopRecommend': False, 'simpleUrl': None, 'specialSearchString': None, 'specialSearchUrl': None, 'previewEndDate': None, 'isPaid': False, 'payWebtoonEpisode': None, 'product': None, 'ticketAvailable': False, 'ageGrade': 0}, {'id': 27571, 'episode': 55, 'title': '51화', 'shortTitle': '51화', 'thumbnailImage': {'id': 27571, 'url': 'http://i1.cartoon.daumcdn.net/svc/image/U03/cartoon/544D8D7D043FCA0002', 'name': None, 'size': None, 'width': 0, 'height': 0, 'mediaType': None, 'encryptKey': None, 'serviceStatus': 'service'}, 'episodeImage': None, 'encryptUseYn': 'Y', 'serviceStatus': 'service', 'articleId': 27571, 'commentUseYn': 'Y', 'dateCreated': '20190717000100', 'webtoon': None, 'serviceType': 'free', 'multiType': None, 'multiBgm': None, 'multiBackgroundImage': None, 'price': 0, 'padtoonImage': None, 'voteTarget': {'id': 173144, 'voteServiceId': 15, 'serviceTargetId': 27571, 'voteCount': 6513, 'ranking': 0, 'diff': 0, 'voteTotalScore': 6513, 'dateCreated': '20141027091104', 'lastUpdated': '20191111183453'}, 'shareVoteTarget': {'id': 197726, 'voteServiceId': 23, 'serviceTargetId': 27571, 'voteCount': 7, 'ranking': 0, 'diff': 0, 'voteTotalScore': 7, 'dateCreated': '20141027150913', 'lastUpdated': '20150310021212'}, 'isTopRecommend': False, 'simpleUrl': None, 'specialSearchString': \"또다른 좀비 웹툰 '데미지 오버 타임'\", 'specialSearchUrl': 'http://m.webtoon.daum.net/link/app_view/damageovertime', 'previewEndDate': None, 'isPaid': False, 'payWebtoonEpisode': None, 'product': None, 'ticketAvailable': False, 'ageGrade': 0}, {'id': 27678, 'episode': 56, 'title': '52화', 'shortTitle': '52화', 'thumbnailImage': {'id': 27678, 'url': 'http://i1.cartoon.daumcdn.net/svc/image/U03/cartoon/5456C76F022F760002', 'name': None, 'size': None, 'width': 0, 'height': 0, 'mediaType': None, 'encryptKey': None, 'serviceStatus': 'service'}, 'episodeImage': None, 'encryptUseYn': 'Y', 'serviceStatus': 'service', 'articleId': 27678, 'commentUseYn': 'Y', 'dateCreated': '20190718000100', 'webtoon': None, 'serviceType': 'free', 'multiType': None, 'multiBgm': None, 'multiBackgroundImage': None, 'price': 0, 'padtoonImage': None, 'voteTarget': {'id': 206547, 'voteServiceId': 15, 'serviceTargetId': 27678, 'voteCount': 6547, 'ranking': 0, 'diff': 0, 'voteTotalScore': 6547, 'dateCreated': '20141103091634', 'lastUpdated': '20191111183631'}, 'shareVoteTarget': {'id': 206548, 'voteServiceId': 23, 'serviceTargetId': 27678, 'voteCount': 6, 'ranking': 0, 'diff': 0, 'voteTotalScore': 6, 'dateCreated': '20141103091634', 'lastUpdated': '20150225040740'}, 'isTopRecommend': False, 'simpleUrl': None, 'specialSearchString': None, 'specialSearchUrl': None, 'previewEndDate': None, 'isPaid': False, 'payWebtoonEpisode': None, 'product': None, 'ticketAvailable': False, 'ageGrade': 0}, {'id': 27791, 'episode': 57, 'title': '53화', 'shortTitle': '53화', 'thumbnailImage': {'id': 27791, 'url': 'http://i1.cartoon.daumcdn.net/svc/image/U03/cartoon/546006C20155540003', 'name': None, 'size': None, 'width': 0, 'height': 0, 'mediaType': None, 'encryptKey': None, 'serviceStatus': 'service'}, 'episodeImage': None, 'encryptUseYn': 'Y', 'serviceStatus': 'service', 'articleId': 27791, 'commentUseYn': 'Y', 'dateCreated': '20190724000100', 'webtoon': None, 'serviceType': 'free', 'multiType': None, 'multiBgm': None, 'multiBackgroundImage': None, 'price': 0, 'padtoonImage': None, 'voteTarget': {'id': 207227, 'voteServiceId': 15, 'serviceTargetId': 27791, 'voteCount': 6227, 'ranking': 0, 'diff': 0, 'voteTotalScore': 6227, 'dateCreated': '20141110092922', 'lastUpdated': '20191111183801'}, 'shareVoteTarget': {'id': 207228, 'voteServiceId': 23, 'serviceTargetId': 27791, 'voteCount': 7, 'ranking': 0, 'diff': 0, 'voteTotalScore': 7, 'dateCreated': '20141110092922', 'lastUpdated': '20150707181903'}, 'isTopRecommend': False, 'simpleUrl': None, 'specialSearchString': None, 'specialSearchUrl': None, 'previewEndDate': None, 'isPaid': False, 'payWebtoonEpisode': None, 'product': None, 'ticketAvailable': False, 'ageGrade': 0}, {'id': 27927, 'episode': 58, 'title': '54화', 'shortTitle': '54화', 'thumbnailImage': {'id': 27927, 'url': 'http://i1.cartoon.daumcdn.net/svc/image/U03/cartoon/546941780449DA0001', 'name': None, 'size': None, 'width': 0, 'height': 0, 'mediaType': None, 'encryptKey': None, 'serviceStatus': 'service'}, 'episodeImage': None, 'encryptUseYn': 'Y', 'serviceStatus': 'service', 'articleId': 27927, 'commentUseYn': 'Y', 'dateCreated': '20190725000100', 'webtoon': None, 'serviceType': 'free', 'multiType': None, 'multiBgm': None, 'multiBackgroundImage': None, 'price': 0, 'padtoonImage': None, 'voteTarget': {'id': 207995, 'voteServiceId': 15, 'serviceTargetId': 27927, 'voteCount': 5966, 'ranking': 0, 'diff': 0, 'voteTotalScore': 5966, 'dateCreated': '20141117093009', 'lastUpdated': '20191111183951'}, 'shareVoteTarget': {'id': 207996, 'voteServiceId': 23, 'serviceTargetId': 27927, 'voteCount': 12, 'ranking': 0, 'diff': 0, 'voteTotalScore': 12, 'dateCreated': '20141117093009', 'lastUpdated': '20150719164048'}, 'isTopRecommend': False, 'simpleUrl': None, 'specialSearchString': None, 'specialSearchUrl': None, 'previewEndDate': None, 'isPaid': False, 'payWebtoonEpisode': None, 'product': None, 'ticketAvailable': False, 'ageGrade': 0}, {'id': 28051, 'episode': 59, 'title': '55화', 'shortTitle': '55화', 'thumbnailImage': {'id': 28051, 'url': 'http://i1.cartoon.daumcdn.net/svc/image/U03/cartoon/54728076056FA70002', 'name': None, 'size': None, 'width': 0, 'height': 0, 'mediaType': None, 'encryptKey': None, 'serviceStatus': 'service'}, 'episodeImage': None, 'encryptUseYn': 'Y', 'serviceStatus': 'service', 'articleId': 28051, 'commentUseYn': 'Y', 'dateCreated': '20190731000100', 'webtoon': None, 'serviceType': 'free', 'multiType': None, 'multiBgm': None, 'multiBackgroundImage': None, 'price': 0, 'padtoonImage': None, 'voteTarget': {'id': 208728, 'voteServiceId': 15, 'serviceTargetId': 28051, 'voteCount': 5984, 'ranking': 0, 'diff': 0, 'voteTotalScore': 5984, 'dateCreated': '20141124092059', 'lastUpdated': '20191111184142'}, 'shareVoteTarget': {'id': 208729, 'voteServiceId': 23, 'serviceTargetId': 28051, 'voteCount': 22, 'ranking': 0, 'diff': 0, 'voteTotalScore': 22, 'dateCreated': '20141124092059', 'lastUpdated': '20150710193546'}, 'isTopRecommend': False, 'simpleUrl': None, 'specialSearchString': \"공포 웹툰 '괴담콜렉터' 보러가기\", 'specialSearchUrl': 'http://m.webtoon.daum.net/link/app_view/collector', 'previewEndDate': None, 'isPaid': False, 'payWebtoonEpisode': None, 'product': None, 'ticketAvailable': False, 'ageGrade': 0}, {'id': 28165, 'episode': 60, 'title': '56화', 'shortTitle': '56화', 'thumbnailImage': {'id': 28165, 'url': 'http://i1.cartoon.daumcdn.net/svc/image/U03/cartoon/547BB10C023D450001', 'name': None, 'size': None, 'width': 0, 'height': 0, 'mediaType': None, 'encryptKey': None, 'serviceStatus': 'service'}, 'episodeImage': None, 'encryptUseYn': 'Y', 'serviceStatus': 'service', 'articleId': 28165, 'commentUseYn': 'Y', 'dateCreated': '20190801000100', 'webtoon': None, 'serviceType': 'free', 'multiType': None, 'multiBgm': None, 'multiBackgroundImage': None, 'price': 0, 'padtoonImage': None, 'voteTarget': {'id': 209504, 'voteServiceId': 15, 'serviceTargetId': 28165, 'voteCount': 6183, 'ranking': 0, 'diff': 0, 'voteTotalScore': 6183, 'dateCreated': '20141201090644', 'lastUpdated': '20191111184332'}, 'shareVoteTarget': {'id': 209505, 'voteServiceId': 23, 'serviceTargetId': 28165, 'voteCount': 12, 'ranking': 0, 'diff': 0, 'voteTotalScore': 12, 'dateCreated': '20141201090644', 'lastUpdated': '20150503090641'}, 'isTopRecommend': False, 'simpleUrl': None, 'specialSearchString': None, 'specialSearchUrl': None, 'previewEndDate': None, 'isPaid': False, 'payWebtoonEpisode': None, 'product': None, 'ticketAvailable': False, 'ageGrade': 0}, {'id': 28281, 'episode': 61, 'title': '57화', 'shortTitle': '57화', 'thumbnailImage': {'id': 28281, 'url': 'http://i1.cartoon.daumcdn.net/svc/image/U03/cartoon/5484ED31063A0F0002', 'name': None, 'size': None, 'width': 0, 'height': 0, 'mediaType': None, 'encryptKey': None, 'serviceStatus': 'service'}, 'episodeImage': None, 'encryptUseYn': 'Y', 'serviceStatus': 'service', 'articleId': 28281, 'commentUseYn': 'Y', 'dateCreated': '20190807000100', 'webtoon': None, 'serviceType': 'free', 'multiType': None, 'multiBgm': None, 'multiBackgroundImage': None, 'price': 0, 'padtoonImage': None, 'voteTarget': {'id': 210220, 'voteServiceId': 15, 'serviceTargetId': 28281, 'voteCount': 5978, 'ranking': 0, 'diff': 0, 'voteTotalScore': 5978, 'dateCreated': '20141208091344', 'lastUpdated': '20191111184523'}, 'shareVoteTarget': {'id': 210221, 'voteServiceId': 23, 'serviceTargetId': 28281, 'voteCount': 14, 'ranking': 0, 'diff': 0, 'voteTotalScore': 14, 'dateCreated': '20141208091344', 'lastUpdated': '20150517221820'}, 'isTopRecommend': False, 'simpleUrl': None, 'specialSearchString': None, 'specialSearchUrl': None, 'previewEndDate': None, 'isPaid': False, 'payWebtoonEpisode': None, 'product': None, 'ticketAvailable': False, 'ageGrade': 0}, {'id': 28395, 'episode': 62, 'title': '58화', 'shortTitle': '58화', 'thumbnailImage': {'id': 28395, 'url': 'http://i1.cartoon.daumcdn.net/svc/image/U03/cartoon/548E277D021F8E0001', 'name': None, 'size': None, 'width': 0, 'height': 0, 'mediaType': None, 'encryptKey': None, 'serviceStatus': 'service'}, 'episodeImage': None, 'encryptUseYn': 'Y', 'serviceStatus': 'service', 'articleId': 28395, 'commentUseYn': 'Y', 'dateCreated': '20190808000100', 'webtoon': None, 'serviceType': 'free', 'multiType': None, 'multiBgm': None, 'multiBackgroundImage': None, 'price': 0, 'padtoonImage': None, 'voteTarget': {'id': 210910, 'voteServiceId': 15, 'serviceTargetId': 28395, 'voteCount': 5925, 'ranking': 0, 'diff': 0, 'voteTotalScore': 5925, 'dateCreated': '20141215091252', 'lastUpdated': '20191111184700'}, 'shareVoteTarget': {'id': 210911, 'voteServiceId': 23, 'serviceTargetId': 28395, 'voteCount': 15, 'ranking': 0, 'diff': 0, 'voteTotalScore': 15, 'dateCreated': '20141215091252', 'lastUpdated': '20160321123912'}, 'isTopRecommend': False, 'simpleUrl': None, 'specialSearchString': None, 'specialSearchUrl': None, 'previewEndDate': None, 'isPaid': False, 'payWebtoonEpisode': None, 'product': None, 'ticketAvailable': False, 'ageGrade': 0}, {'id': 28504, 'episode': 63, 'title': '59화', 'shortTitle': '59화', 'thumbnailImage': {'id': 28504, 'url': 'http://i1.cartoon.daumcdn.net/svc/image/U03/cartoon/54975EA50260BD0001', 'name': None, 'size': None, 'width': 0, 'height': 0, 'mediaType': None, 'encryptKey': None, 'serviceStatus': 'service'}, 'episodeImage': None, 'encryptUseYn': 'Y', 'serviceStatus': 'service', 'articleId': 28504, 'commentUseYn': 'Y', 'dateCreated': '20190814000100', 'webtoon': None, 'serviceType': 'free', 'multiType': None, 'multiBgm': None, 'multiBackgroundImage': None, 'price': 0, 'padtoonImage': None, 'voteTarget': {'id': 244533, 'voteServiceId': 15, 'serviceTargetId': 28504, 'voteCount': 5710, 'ranking': 0, 'diff': 0, 'voteTotalScore': 5710, 'dateCreated': '20141222085836', 'lastUpdated': '20191111184835'}, 'shareVoteTarget': {'id': 244534, 'voteServiceId': 23, 'serviceTargetId': 28504, 'voteCount': 15, 'ranking': 0, 'diff': 0, 'voteTotalScore': 15, 'dateCreated': '20141222085836', 'lastUpdated': '20150705161805'}, 'isTopRecommend': False, 'simpleUrl': None, 'specialSearchString': None, 'specialSearchUrl': None, 'previewEndDate': None, 'isPaid': False, 'payWebtoonEpisode': None, 'product': None, 'ticketAvailable': False, 'ageGrade': 0}, {'id': 28623, 'episode': 64, 'title': '60화', 'shortTitle': '60화', 'thumbnailImage': {'id': 28623, 'url': 'http://i1.cartoon.daumcdn.net/svc/image/U03/cartoon/54A0A635064E110003', 'name': None, 'size': None, 'width': 0, 'height': 0, 'mediaType': None, 'encryptKey': None, 'serviceStatus': 'service'}, 'episodeImage': None, 'encryptUseYn': 'Y', 'serviceStatus': 'service', 'articleId': 28623, 'commentUseYn': 'Y', 'dateCreated': '20190815000100', 'webtoon': None, 'serviceType': 'free', 'multiType': None, 'multiBgm': None, 'multiBackgroundImage': None, 'price': 0, 'padtoonImage': None, 'voteTarget': {'id': 245475, 'voteServiceId': 15, 'serviceTargetId': 28623, 'voteCount': 6031, 'ranking': 0, 'diff': 0, 'voteTotalScore': 6031, 'dateCreated': '20141229095421', 'lastUpdated': '20191111185011'}, 'shareVoteTarget': {'id': 245476, 'voteServiceId': 23, 'serviceTargetId': 28623, 'voteCount': 27, 'ranking': 0, 'diff': 0, 'voteTotalScore': 27, 'dateCreated': '20141229095421', 'lastUpdated': '20150712020948'}, 'isTopRecommend': False, 'simpleUrl': None, 'specialSearchString': None, 'specialSearchUrl': None, 'previewEndDate': None, 'isPaid': False, 'payWebtoonEpisode': None, 'product': None, 'ticketAvailable': False, 'ageGrade': 0}, {'id': 28731, 'episode': 65, 'title': '61화', 'shortTitle': None, 'thumbnailImage': {'id': 28731, 'url': 'http://i1.cartoon.daumcdn.net/svc/image/U03/cartoon/54A8236D02460E0001', 'name': None, 'size': None, 'width': 0, 'height': 0, 'mediaType': None, 'encryptKey': None, 'serviceStatus': 'service'}, 'episodeImage': None, 'encryptUseYn': 'N', 'serviceStatus': 'service', 'articleId': 28731, 'commentUseYn': 'Y', 'dateCreated': '20190821000100', 'webtoon': None, 'serviceType': 'free', 'multiType': None, 'multiBgm': None, 'multiBackgroundImage': None, 'price': 0, 'padtoonImage': None, 'voteTarget': {'id': 246465, 'voteServiceId': 15, 'serviceTargetId': 28731, 'voteCount': 6985, 'ranking': 0, 'diff': 0, 'voteTotalScore': 6985, 'dateCreated': '20150104121833', 'lastUpdated': '20191111185116'}, 'shareVoteTarget': {'id': 246466, 'voteServiceId': 23, 'serviceTargetId': 28731, 'voteCount': 31, 'ranking': 0, 'diff': 0, 'voteTotalScore': 31, 'dateCreated': '20150104121833', 'lastUpdated': '20150722091648'}, 'isTopRecommend': False, 'simpleUrl': None, 'specialSearchString': None, 'specialSearchUrl': None, 'previewEndDate': None, 'isPaid': False, 'payWebtoonEpisode': None, 'product': None, 'ticketAvailable': False, 'ageGrade': 0}, {'id': 28842, 'episode': 66, 'title': '62화', 'shortTitle': None, 'thumbnailImage': {'id': 28842, 'url': 'http://i1.cartoon.daumcdn.net/svc/image/U03/cartoon/54B157360544250002', 'name': None, 'size': None, 'width': 0, 'height': 0, 'mediaType': None, 'encryptKey': None, 'serviceStatus': 'service'}, 'episodeImage': None, 'encryptUseYn': 'N', 'serviceStatus': 'service', 'articleId': 28842, 'commentUseYn': 'Y', 'dateCreated': '20190822000100', 'webtoon': None, 'serviceType': 'free', 'multiType': None, 'multiBgm': None, 'multiBackgroundImage': None, 'price': 0, 'padtoonImage': None, 'voteTarget': {'id': 247340, 'voteServiceId': 15, 'serviceTargetId': 28842, 'voteCount': 8454, 'ranking': 0, 'diff': 0, 'voteTotalScore': 8454, 'dateCreated': '20150111110801', 'lastUpdated': '20191111191151'}, 'shareVoteTarget': {'id': 247341, 'voteServiceId': 23, 'serviceTargetId': 28842, 'voteCount': 31, 'ranking': 0, 'diff': 0, 'voteTotalScore': 31, 'dateCreated': '20150111110801', 'lastUpdated': '20150705140733'}, 'isTopRecommend': False, 'simpleUrl': None, 'specialSearchString': None, 'specialSearchUrl': None, 'previewEndDate': None, 'isPaid': False, 'payWebtoonEpisode': None, 'product': None, 'ticketAvailable': False, 'ageGrade': 0}, {'id': 28943, 'episode': 67, 'title': '63화', 'shortTitle': None, 'thumbnailImage': {'id': 28943, 'url': 'http://i1.cartoon.daumcdn.net/svc/image/U03/cartoon/54BB5C340241D80001', 'name': None, 'size': None, 'width': 0, 'height': 0, 'mediaType': None, 'encryptKey': None, 'serviceStatus': 'service'}, 'episodeImage': None, 'encryptUseYn': 'N', 'serviceStatus': 'service', 'articleId': 28943, 'commentUseYn': 'Y', 'dateCreated': '20190828000100', 'webtoon': None, 'serviceType': 'free', 'multiType': None, 'multiBgm': None, 'multiBackgroundImage': None, 'price': 0, 'padtoonImage': None, 'voteTarget': {'id': 248256, 'voteServiceId': 15, 'serviceTargetId': 28943, 'voteCount': 6217, 'ranking': 0, 'diff': 0, 'voteTotalScore': 6217, 'dateCreated': '20150118235125', 'lastUpdated': '20191111191402'}, 'shareVoteTarget': {'id': 248257, 'voteServiceId': 23, 'serviceTargetId': 28943, 'voteCount': 30, 'ranking': 0, 'diff': 0, 'voteTotalScore': 30, 'dateCreated': '20150118235125', 'lastUpdated': '20150510222511'}, 'isTopRecommend': False, 'simpleUrl': None, 'specialSearchString': None, 'specialSearchUrl': None, 'previewEndDate': None, 'isPaid': False, 'payWebtoonEpisode': None, 'product': None, 'ticketAvailable': False, 'ageGrade': 0}, {'id': 29148, 'episode': 69, 'title': '64화', 'shortTitle': None, 'thumbnailImage': {'id': 29148, 'url': 'http://i1.cartoon.daumcdn.net/svc/image/U03/cartoon/54CE2FD6026AAC0002', 'name': None, 'size': None, 'width': 0, 'height': 0, 'mediaType': None, 'encryptKey': None, 'serviceStatus': 'service'}, 'episodeImage': None, 'encryptUseYn': 'N', 'serviceStatus': 'service', 'articleId': 29148, 'commentUseYn': 'Y', 'dateCreated': '20190829000100', 'webtoon': None, 'serviceType': 'free', 'multiType': None, 'multiBgm': None, 'multiBackgroundImage': None, 'price': 0, 'padtoonImage': None, 'voteTarget': {'id': 250028, 'voteServiceId': 15, 'serviceTargetId': 29148, 'voteCount': 6799, 'ranking': 0, 'diff': 0, 'voteTotalScore': 6799, 'dateCreated': '20150201235059', 'lastUpdated': '20191111221505'}, 'shareVoteTarget': {'id': 250029, 'voteServiceId': 23, 'serviceTargetId': 29148, 'voteCount': 37, 'ranking': 0, 'diff': 0, 'voteTotalScore': 37, 'dateCreated': '20150201235059', 'lastUpdated': '20150718020818'}, 'isTopRecommend': False, 'simpleUrl': None, 'specialSearchString': None, 'specialSearchUrl': None, 'previewEndDate': None, 'isPaid': False, 'payWebtoonEpisode': None, 'product': None, 'ticketAvailable': False, 'ageGrade': 0}, {'id': 29251, 'episode': 70, 'title': '65화', 'shortTitle': None, 'thumbnailImage': {'id': 29251, 'url': 'http://i1.cartoon.daumcdn.net/svc/image/U03/cartoon/54D749320271960002', 'name': None, 'size': None, 'width': 0, 'height': 0, 'mediaType': None, 'encryptKey': None, 'serviceStatus': 'service'}, 'episodeImage': None, 'encryptUseYn': 'N', 'serviceStatus': 'service', 'articleId': 29251, 'commentUseYn': 'Y', 'dateCreated': '20190904000100', 'webtoon': None, 'serviceType': 'free', 'multiType': None, 'multiBgm': None, 'multiBackgroundImage': None, 'price': 0, 'padtoonImage': None, 'voteTarget': {'id': 250854, 'voteServiceId': 15, 'serviceTargetId': 29251, 'voteCount': 7166, 'ranking': 0, 'diff': 0, 'voteTotalScore': 7166, 'dateCreated': '20150208235131', 'lastUpdated': '20191111222028'}, 'shareVoteTarget': {'id': 250855, 'voteServiceId': 23, 'serviceTargetId': 29251, 'voteCount': 31, 'ranking': 0, 'diff': 0, 'voteTotalScore': 31, 'dateCreated': '20150208235131', 'lastUpdated': '20150725120808'}, 'isTopRecommend': False, 'simpleUrl': None, 'specialSearchString': None, 'specialSearchUrl': None, 'previewEndDate': None, 'isPaid': False, 'payWebtoonEpisode': None, 'product': None, 'ticketAvailable': False, 'ageGrade': 0}, {'id': 29357, 'episode': 71, 'title': '마지막화', 'shortTitle': None, 'thumbnailImage': {'id': 29357, 'url': 'http://i1.cartoon.daumcdn.net/svc/image/U03/cartoon/54E098580260850002', 'name': None, 'size': None, 'width': 0, 'height': 0, 'mediaType': None, 'encryptKey': None, 'serviceStatus': 'service'}, 'episodeImage': None, 'encryptUseYn': 'N', 'serviceStatus': 'service', 'articleId': 29357, 'commentUseYn': 'Y', 'dateCreated': '20190905000100', 'webtoon': None, 'serviceType': 'free', 'multiType': None, 'multiBgm': None, 'multiBackgroundImage': None, 'price': 0, 'padtoonImage': None, 'voteTarget': {'id': 251718, 'voteServiceId': 15, 'serviceTargetId': 29357, 'voteCount': 7076, 'ranking': 0, 'diff': 0, 'voteTotalScore': 7076, 'dateCreated': '20150215234027', 'lastUpdated': '20191111222203'}, 'shareVoteTarget': {'id': 251719, 'voteServiceId': 23, 'serviceTargetId': 29357, 'voteCount': 64, 'ranking': 0, 'diff': 0, 'voteTotalScore': 64, 'dateCreated': '20150215234027', 'lastUpdated': '20150723020047'}, 'isTopRecommend': False, 'simpleUrl': None, 'specialSearchString': None, 'specialSearchUrl': None, 'previewEndDate': None, 'isPaid': False, 'payWebtoonEpisode': None, 'product': None, 'ticketAvailable': False, 'ageGrade': 0}, {'id': 29445, 'episode': 72, 'title': '후기', 'shortTitle': None, 'thumbnailImage': {'id': 29445, 'url': 'http://i1.cartoon.daumcdn.net/svc/image/U03/cartoon/54E9CE0B0154020001', 'name': None, 'size': None, 'width': 0, 'height': 0, 'mediaType': None, 'encryptKey': None, 'serviceStatus': 'service'}, 'episodeImage': None, 'encryptUseYn': 'N', 'serviceStatus': 'service', 'articleId': 29445, 'commentUseYn': 'Y', 'dateCreated': '20190911000000', 'webtoon': None, 'serviceType': 'free', 'multiType': None, 'multiBgm': None, 'multiBackgroundImage': None, 'price': 0, 'padtoonImage': None, 'voteTarget': {'id': 252436, 'voteServiceId': 15, 'serviceTargetId': 29445, 'voteCount': 4837, 'ranking': 0, 'diff': 0, 'voteTotalScore': 4837, 'dateCreated': '20150222234143', 'lastUpdated': '20191110203914'}, 'shareVoteTarget': {'id': 252437, 'voteServiceId': 23, 'serviceTargetId': 29445, 'voteCount': 46, 'ranking': 0, 'diff': 0, 'voteTotalScore': 46, 'dateCreated': '20150222234143', 'lastUpdated': '20170123092204'}, 'isTopRecommend': False, 'simpleUrl': None, 'specialSearchString': None, 'specialSearchUrl': None, 'previewEndDate': None, 'isPaid': False, 'payWebtoonEpisode': None, 'product': None, 'ticketAvailable': False, 'ageGrade': 0}]\n"
     ]
    }
   ],
   "source": [
    "### 회차정보 크롤링 ###\n",
    "#소연아 왜 안했어\n",
    "\n",
    "#def episode_crawl(toon_data_url):\n",
    "sel_url_sql = 'select toon_id, toon_url from toon_info where toon_site = \"daum\"'\n",
    "sel_dup_sql = 'select toon_id, epi_name from epi_info where toon_id = %s and epi_name = %s'\n",
    "ins_epi_info_sql = 'insert into epi_info(toon_id, epi_name, epi_url, epi_thumb_url, epi_date)\\\n",
    "                        values (%s, %s, %s, %s, %s)'\n",
    "\n",
    "toon_data_url = 'http://webtoon.daum.net/data/pc/webtoon/view/subwayline1?timeStamp'\n",
    "\n",
    "cursor1.execute(sel_url_sql)\n",
    "result = cursor1.fetchall()\n",
    "    \n",
    "soup = readHtml(toon_data_url)\n",
    "str_soup = str(soup)\n",
    "dict_soup = json.loads(str_soup)\n",
    "episode = dict_soup['data']['webtoon']['webtoonEpisodes']\n",
    "print(episode)\n",
    "    "
   ]
  },
  {
   "cell_type": "code",
   "execution_count": 6,
   "metadata": {},
   "outputs": [
    {
     "name": "stdout",
     "output_type": "stream",
     "text": [
      "{'id': 1824, 'nickname': 'iljin', 'webtoonType': 'series', 'title': '일진', 'finishYn': 'Y', 'thumbnailImage2': {'id': 0, 'url': 'http://t1.daumcdn.net/webtoon/op/6248b92a5f7d7744e6c5653d42f2797a53a06db3'}, 'pcThumbnailImage': {'id': 0, 'url': 'http://t1.daumcdn.net/webtoon/op/5f152d94b4346c190eb4a06660ed5cd39bb52f03'}, 'finishDate': '20191112000000', 'ageGrade': 19, 'dateCreated': '20191024185628', 'cartoon': {'artists': [{'name': '김성모', 'penName': '김성모'}, {'name': '김성모', 'penName': '김성모'}]}, 'latestWebtoonEpisode': {'id': 76684, 'episode': 4, 'title': '4화', 'thumbnailImage': {'id': 76684, 'url': 'http://t1.daumcdn.net/webtoon/bulk/ea2cfdd467e7048f21a97d25755869d7aa15f591'}, 'encryptUseYn': 'N', 'serviceStatus': 'service', 'articleId': 0, 'dateCreated': '20191111113401', 'price': 0, 'isTopRecommend': False, 'isPaid': False, 'ticketAvailable': False, 'ageGrade': 19}, 'webtoonServices': [{'serviceTarget': 'series'}, {'serviceTarget': 'padtoon'}, {'serviceTarget': 'mobile'}, {'serviceTarget': 'app'}], 'isNew': False, 'averageScore': 10.0, 'gidamoo': {'id': 360, 'webtoonId': 1824, 'interval': 12, 'period': 3, 'excludeEpisodes': 0, 'ended': False, 'dateCreated': '20191108180055'}}\n"
     ]
    }
   ],
   "source": [
    "## 완결 웹툰 ##\n",
    "## 소연아 왜 안했어 ^^\n",
    "\n",
    "sel_sql = \"select toon_id from toon_info\"\n",
    "ins_sql = \"insert ignore into toon_info(toon_id, toon_name, toon_url, toon_desc, toon_site, wrt_name, is_end, toon_thumb_url)\\\n",
    "           values (%s, %s, %s, %s, %s, %s, %s, %s)\"\n",
    "genre_sql = \"insert ignore into toon_genre(toon_id, genre_name)\\\n",
    "             values (%s, %s)\"\n",
    "weekday_sql = \"insert ignore into toon_weekday(toon_id, toon_weekday)\\\n",
    "               values (%s, %s)\"\n",
    "\n",
    "soup = readHtml('http://webtoon.daum.net/data/pc/webtoon/list_finished/?genre_id=&timeStamp=')\n",
    "str_soup = str(soup)\n",
    "dict_soup = json.loads(str_soup)\n",
    "   \n",
    "toon = dict_soup['data'][0]\n",
    "print(toon)\n",
    "# for toon in dict_soup['data']:\n",
    "#     toon_id = 'daum_' + str(toon['id'])\n",
    "#     toon_url = 'http://webtoon.daum.net/data/pc/webtoon/view/' + toon['nickname'] + '?timeStamp'\n",
    "#     toon_name = toon['title']  \n",
    "#     toon_thumb_url = toon['pcThumbnailImage']['url']\n",
    "#     toon_site = 'daum'\n",
    "#     toon_desc = toon['introduction'].replace(\"  \", \" \")\n",
    "        \n",
    "#     # 완결 여부\n",
    "#     if toon['finishYn'] == 'Y':\n",
    "#         is_end = 'O'\n",
    "#     else:\n",
    "#         is_end = 'X'\n",
    "        \n",
    "#     # 작가 이름\n",
    "#     wrt_name_list = list()\n",
    "#     for names in toon['cartoon']['artists']:\n",
    "#         wrt_name_list.append(names['name'])\n",
    "#     wrt_name_list = list(set(wrt_name_list))\n",
    "#     wrt_name = '/'.join(wrt_name_list)\n",
    "        \n",
    "#     # 요일 정보\n",
    "#     for days in toon['webtoonWeeks']:\n",
    "#         cursor1.execute(weekday_sql, (toon_id, days['weekDay']))\n",
    "        \n",
    "#     # 장르 정보\n",
    "#     for genres in toon['cartoon']['genres']:\n",
    "#         genre_name = genres['name'].replace('순정', '로맨스').replace('코믹', '개그').replace('공포', '스릴러')\n",
    "#         cursor2.execute(genre_sql, (toon_id, genre_name))\n",
    "        \n",
    "#     # toon_info\n",
    "#     cursor3.execute(sel_sql)\n",
    "#     result = cursor3.fetchall()\n",
    "#     if (toon_id not in result):\n",
    "#         cursor4.execute(ins_sql, (toon_id, toon_name, toon_url, toon_desc, toon_site, wrt_name, is_end, toon_thumb_url))\n",
    "        \n",
    "#     db.commit()\n",
    "    \n",
    "# db.close()\n"
   ]
  },
  {
   "cell_type": "code",
   "execution_count": null,
   "metadata": {},
   "outputs": [],
   "source": []
  },
  {
   "cell_type": "code",
   "execution_count": null,
   "metadata": {},
   "outputs": [],
   "source": []
  },
  {
   "cell_type": "code",
   "execution_count": null,
   "metadata": {},
   "outputs": [],
   "source": [
    "### 아래부터 지효가 한 완결/에피소드 크롤링 코드"
   ]
  },
  {
   "cell_type": "code",
   "execution_count": 70,
   "metadata": {
    "scrolled": true
   },
   "outputs": [
    {
     "name": "stdout",
     "output_type": "stream",
     "text": [
      "1 1\n",
      "2 1\n",
      "3 1\n",
      "4 1\n",
      "5 1\n",
      "6 1\n",
      "7 1\n",
      "8 1\n",
      "9 1\n",
      "10 1\n",
      "11 1\n",
      "12 1\n",
      "13 1\n",
      "14 1\n",
      "15 1\n",
      "16 1\n",
      "17 1\n",
      "18 1\n",
      "19 1\n",
      "20 1\n"
     ]
    },
    {
     "ename": "AttributeError",
     "evalue": "'NoneType' object has no attribute 'get_attribute'",
     "output_type": "error",
     "traceback": [
      "\u001b[1;31m---------------------------------------------------------------------------\u001b[0m",
      "\u001b[1;31mAttributeError\u001b[0m                            Traceback (most recent call last)",
      "\u001b[1;32m<ipython-input-70-1835ff6bdd57>\u001b[0m in \u001b[0;36m<module>\u001b[1;34m\u001b[0m\n\u001b[0;32m     23\u001b[0m \u001b[1;33m\u001b[0m\u001b[0m\n\u001b[0;32m     24\u001b[0m         \u001b[1;31m# URL\u001b[0m\u001b[1;33m\u001b[0m\u001b[1;33m\u001b[0m\u001b[1;33m\u001b[0m\u001b[0m\n\u001b[1;32m---> 25\u001b[1;33m         \u001b[0mtoon_url\u001b[0m \u001b[1;33m=\u001b[0m \u001b[0minfo\u001b[0m\u001b[1;33m.\u001b[0m\u001b[0mget_attribute\u001b[0m\u001b[1;33m(\u001b[0m\u001b[1;34m'href'\u001b[0m\u001b[1;33m)\u001b[0m\u001b[1;33m\u001b[0m\u001b[1;33m\u001b[0m\u001b[0m\n\u001b[0m\u001b[0;32m     26\u001b[0m         \u001b[0mtoon_url\u001b[0m \u001b[1;33m=\u001b[0m \u001b[0mtoon_url\u001b[0m\u001b[1;33m.\u001b[0m\u001b[0mreplace\u001b[0m\u001b[1;33m(\u001b[0m\u001b[1;34m'm.webtoon'\u001b[0m\u001b[1;33m,\u001b[0m \u001b[1;34m'webtoon'\u001b[0m\u001b[1;33m)\u001b[0m\u001b[1;33m\u001b[0m\u001b[1;33m\u001b[0m\u001b[0m\n\u001b[0;32m     27\u001b[0m         \u001b[0mtoon_url\u001b[0m \u001b[1;33m=\u001b[0m \u001b[0mtoon_url\u001b[0m\u001b[1;33m.\u001b[0m\u001b[0mreplace\u001b[0m\u001b[1;33m(\u001b[0m\u001b[1;34m'm/'\u001b[0m\u001b[1;33m,\u001b[0m \u001b[1;34m''\u001b[0m\u001b[1;33m)\u001b[0m\u001b[1;33m\u001b[0m\u001b[1;33m\u001b[0m\u001b[0m\n",
      "\u001b[1;31mAttributeError\u001b[0m: 'NoneType' object has no attribute 'get_attribute'"
     ]
    }
   ],
   "source": [
    "# ------ 2. 완결 웹툰 크롤링\n",
    "# 에휴 너무 개같아서 안되는거 걍 포기했습니다 누락 작품 700여개 ㅋ\n",
    "\n",
    "from selenium.common.exceptions import NoSuchElementException\n",
    "\n",
    "sel_sql = \"select toon_id from toon_info\"\n",
    "ins_sql = \"insert ignore into toon_info(toon_id, toon_name, toon_url, toon_desc, toon_site, wrt_name, is_end, toon_thumb_url)\\\n",
    "           values (%s, %s, %s, %s, %s, %s, %s, %s)\"\n",
    "\n",
    "browser = webdriver.Chrome('C:/Users/Administrator/OneDrive/Readers/Crawling/chromedriver.exe')\n",
    "browser.get('http://m.webtoon.daum.net/m/webtoon/category.html#sort=finish')\n",
    "browser.implicitly_wait(10)\n",
    "########## PC버전 완결 탭 속 아이템을 도저히 불러올 방법이 없어서 모바일 버전으로 우회함 ㅋ\n",
    "######### 대신 썸네일 비율이 쓰레기\n",
    "\n",
    "page = 1\n",
    "num = 1\n",
    "while num < 999999:\n",
    "    try:\n",
    "        browser.implicitly_wait(10)\n",
    "        print(page, num)\n",
    "        info = browser.find_element_by_xpath(\"//*[@id=\\\"daumContent\\\"]/div[2]/ul[\"+str(page)+\"]/li[\"+str(num)+\"]/a\")\n",
    "\n",
    "        #browser.execute_script(\"arguments[0].scrollIntoView(true);\", webtoon) # Scroll to this webtoon element\n",
    "\n",
    "        # URL\n",
    "        toon_url = info.get_attribute('href')\n",
    "        toon_url = toon_url.replace('m.webtoon', 'webtoon')\n",
    "        toon_url = toon_url.replace('m/', '')\n",
    "        \n",
    "        # ID\n",
    "        toon_id = 'daum_' + toon_url.replace(\"http://webtoon.daum.net/webtoon/view/\", '')\n",
    "        \n",
    "        # 썸네일 주소\n",
    "        thumb = info.find_element_by_xpath('span[1]/img')\n",
    "        toon_thumb_url = thumb.get_attribute('data-src')\n",
    "        \n",
    "        # 제목\n",
    "        name = info.find_element_by_class_name('tit')\n",
    "        toon_name = name.text\n",
    "        \n",
    "        # 작가\n",
    "        name = info.find_element_by_class_name('txt_name')\n",
    "        wrt_name = name.text\n",
    "        \n",
    "        \n",
    "        toon_desc = ''\n",
    "        '''\n",
    "        print(toon_id, toon_name, wrt_name)\n",
    "        print(toon_url)\n",
    "        print(toon_thumb_url)\n",
    "        print(\"--\")\n",
    "        '''\n",
    "        # toon_info\n",
    "        cursor1.execute(sel_sql)\n",
    "        result = cursor1.fetchall()\n",
    "        if (toon_id not in result):\n",
    "            cursor2.execute(ins_sql, (toon_id, toon_name, toon_url, toon_desc, 'daum', wrt_name, 'O', toon_thumb_url))\n",
    "        db.commit()\n",
    "        \n",
    "        num += 1\n",
    "\n",
    "    except NoSuchElementException:\n",
    "        if browser.find_element_by_class_name('btn'):\n",
    "            browser.find_element_by_class_name('btn').click() # 더보기 버튼 클릭\n",
    "            page +=1\n",
    "            num = 1\n",
    "            continue\n",
    "        else:\n",
    "            print(\"ERROROROORR\")\n",
    "            break\n",
    "#db.close()"
   ]
  },
  {
   "cell_type": "code",
   "execution_count": 128,
   "metadata": {},
   "outputs": [
    {
     "name": "stdout",
     "output_type": "stream",
     "text": [
      "*********************************************\n",
      "<daum_1047>\n",
      "*********************************************\n",
      "<daum_107>\n",
      "*********************************************\n",
      "<daum_1078>\n",
      "*********************************************\n",
      "<daum_1133>\n",
      "*********************************************\n",
      "<daum_1185>\n",
      "*********************************************\n",
      "<daum_1190>\n",
      "*********************************************\n",
      "<daum_11yearafterour>\n",
      "*********************************************\n",
      "<daum_1229>\n",
      "*********************************************\n",
      "<daum_1258>\n",
      "*********************************************\n",
      "<daum_1273>\n"
     ]
    },
    {
     "name": "stderr",
     "output_type": "stream",
     "text": [
      "c:\\users\\administrator\\appdata\\local\\programs\\python\\python37\\lib\\site-packages\\pymysql\\cursors.py:329: Warning: (1062, \"Duplicate entry 'daum_1273-전생' for key 'PRIMARY'\")\n",
      "  self._do_get_result()\n"
     ]
    },
    {
     "name": "stdout",
     "output_type": "stream",
     "text": [
      "*********************************************\n",
      "<daum_1291>\n"
     ]
    },
    {
     "name": "stderr",
     "output_type": "stream",
     "text": [
      "c:\\users\\administrator\\appdata\\local\\programs\\python\\python37\\lib\\site-packages\\pymysql\\cursors.py:329: Warning: (1062, \"Duplicate entry 'daum_1291-갱스터' for key 'PRIMARY'\")\n",
      "  self._do_get_result()\n"
     ]
    },
    {
     "name": "stdout",
     "output_type": "stream",
     "text": [
      "*********************************************\n",
      "<daum_1295>\n"
     ]
    },
    {
     "name": "stderr",
     "output_type": "stream",
     "text": [
      "c:\\users\\administrator\\appdata\\local\\programs\\python\\python37\\lib\\site-packages\\pymysql\\cursors.py:329: Warning: (1062, \"Duplicate entry 'daum_1295-코믹' for key 'PRIMARY'\")\n",
      "  self._do_get_result()\n",
      "c:\\users\\administrator\\appdata\\local\\programs\\python\\python37\\lib\\site-packages\\pymysql\\cursors.py:329: Warning: (1062, \"Duplicate entry 'daum_1295-여자들' for key 'PRIMARY'\")\n",
      "  self._do_get_result()\n"
     ]
    },
    {
     "name": "stdout",
     "output_type": "stream",
     "text": [
      "*********************************************\n",
      "<daum_1299>\n"
     ]
    },
    {
     "name": "stderr",
     "output_type": "stream",
     "text": [
      "c:\\users\\administrator\\appdata\\local\\programs\\python\\python37\\lib\\site-packages\\pymysql\\cursors.py:329: Warning: (1062, \"Duplicate entry 'daum_1299-음식' for key 'PRIMARY'\")\n",
      "  self._do_get_result()\n"
     ]
    },
    {
     "name": "stdout",
     "output_type": "stream",
     "text": [
      "*********************************************\n",
      "<daum_1301>\n"
     ]
    },
    {
     "name": "stderr",
     "output_type": "stream",
     "text": [
      "c:\\users\\administrator\\appdata\\local\\programs\\python\\python37\\lib\\site-packages\\pymysql\\cursors.py:329: Warning: (1062, \"Duplicate entry 'daum_1301-모험' for key 'PRIMARY'\")\n",
      "  self._do_get_result()\n"
     ]
    },
    {
     "name": "stdout",
     "output_type": "stream",
     "text": [
      "*********************************************\n",
      "<daum_1339>\n"
     ]
    },
    {
     "name": "stderr",
     "output_type": "stream",
     "text": [
      "c:\\users\\administrator\\appdata\\local\\programs\\python\\python37\\lib\\site-packages\\pymysql\\cursors.py:329: Warning: (1062, \"Duplicate entry 'daum_1339-순정' for key 'PRIMARY'\")\n",
      "  self._do_get_result()\n",
      "c:\\users\\administrator\\appdata\\local\\programs\\python\\python37\\lib\\site-packages\\pymysql\\cursors.py:329: Warning: (1062, \"Duplicate entry 'daum_1339-재벌' for key 'PRIMARY'\")\n",
      "  self._do_get_result()\n"
     ]
    },
    {
     "name": "stdout",
     "output_type": "stream",
     "text": [
      "*********************************************\n",
      "<daum_1342>\n"
     ]
    },
    {
     "name": "stderr",
     "output_type": "stream",
     "text": [
      "c:\\users\\administrator\\appdata\\local\\programs\\python\\python37\\lib\\site-packages\\pymysql\\cursors.py:329: Warning: (1062, \"Duplicate entry 'daum_1342-코믹' for key 'PRIMARY'\")\n",
      "  self._do_get_result()\n",
      "c:\\users\\administrator\\appdata\\local\\programs\\python\\python37\\lib\\site-packages\\pymysql\\cursors.py:329: Warning: (1062, \"Duplicate entry 'daum_1342-역사' for key 'PRIMARY'\")\n",
      "  self._do_get_result()\n"
     ]
    },
    {
     "name": "stdout",
     "output_type": "stream",
     "text": [
      "*********************************************\n",
      "<daum_1345>\n"
     ]
    },
    {
     "name": "stderr",
     "output_type": "stream",
     "text": [
      "c:\\users\\administrator\\appdata\\local\\programs\\python\\python37\\lib\\site-packages\\pymysql\\cursors.py:329: Warning: (1062, \"Duplicate entry 'daum_1345-스릴러' for key 'PRIMARY'\")\n",
      "  self._do_get_result()\n",
      "c:\\users\\administrator\\appdata\\local\\programs\\python\\python37\\lib\\site-packages\\pymysql\\cursors.py:329: Warning: (1062, \"Duplicate entry 'daum_1345-추리' for key 'PRIMARY'\")\n",
      "  self._do_get_result()\n"
     ]
    },
    {
     "name": "stdout",
     "output_type": "stream",
     "text": [
      "*********************************************\n",
      "<daum_1347>\n"
     ]
    },
    {
     "name": "stderr",
     "output_type": "stream",
     "text": [
      "c:\\users\\administrator\\appdata\\local\\programs\\python\\python37\\lib\\site-packages\\pymysql\\cursors.py:329: Warning: (1062, \"Duplicate entry 'daum_1347-코믹' for key 'PRIMARY'\")\n",
      "  self._do_get_result()\n",
      "c:\\users\\administrator\\appdata\\local\\programs\\python\\python37\\lib\\site-packages\\pymysql\\cursors.py:329: Warning: (1062, \"Duplicate entry 'daum_1347-자매' for key 'PRIMARY'\")\n",
      "  self._do_get_result()\n"
     ]
    },
    {
     "name": "stdout",
     "output_type": "stream",
     "text": [
      "*********************************************\n",
      "<daum_1350>\n"
     ]
    },
    {
     "name": "stderr",
     "output_type": "stream",
     "text": [
      "c:\\users\\administrator\\appdata\\local\\programs\\python\\python37\\lib\\site-packages\\pymysql\\cursors.py:329: Warning: (1062, \"Duplicate entry 'daum_1350-판타지' for key 'PRIMARY'\")\n",
      "  self._do_get_result()\n",
      "c:\\users\\administrator\\appdata\\local\\programs\\python\\python37\\lib\\site-packages\\pymysql\\cursors.py:329: Warning: (1062, \"Duplicate entry 'daum_1350-모험' for key 'PRIMARY'\")\n",
      "  self._do_get_result()\n"
     ]
    },
    {
     "name": "stdout",
     "output_type": "stream",
     "text": [
      "*********************************************\n",
      "<daum_1354>\n"
     ]
    },
    {
     "name": "stderr",
     "output_type": "stream",
     "text": [
      "c:\\users\\administrator\\appdata\\local\\programs\\python\\python37\\lib\\site-packages\\pymysql\\cursors.py:329: Warning: (1062, \"Duplicate entry 'daum_1354-갱스터' for key 'PRIMARY'\")\n",
      "  self._do_get_result()\n"
     ]
    },
    {
     "name": "stdout",
     "output_type": "stream",
     "text": [
      "*********************************************\n",
      "<daum_1360>\n"
     ]
    },
    {
     "name": "stderr",
     "output_type": "stream",
     "text": [
      "c:\\users\\administrator\\appdata\\local\\programs\\python\\python37\\lib\\site-packages\\pymysql\\cursors.py:329: Warning: (1062, \"Duplicate entry 'daum_1360-모험' for key 'PRIMARY'\")\n",
      "  self._do_get_result()\n"
     ]
    },
    {
     "name": "stdout",
     "output_type": "stream",
     "text": [
      "*********************************************\n",
      "<daum_1361>\n"
     ]
    },
    {
     "name": "stderr",
     "output_type": "stream",
     "text": [
      "c:\\users\\administrator\\appdata\\local\\programs\\python\\python37\\lib\\site-packages\\pymysql\\cursors.py:329: Warning: (1062, \"Duplicate entry 'daum_1361-드라마' for key 'PRIMARY'\")\n",
      "  self._do_get_result()\n",
      "c:\\users\\administrator\\appdata\\local\\programs\\python\\python37\\lib\\site-packages\\pymysql\\cursors.py:329: Warning: (1062, \"Duplicate entry 'daum_1361-테니스' for key 'PRIMARY'\")\n",
      "  self._do_get_result()\n"
     ]
    },
    {
     "name": "stdout",
     "output_type": "stream",
     "text": [
      "*********************************************\n",
      "<daum_1368>\n"
     ]
    },
    {
     "name": "stderr",
     "output_type": "stream",
     "text": [
      "c:\\users\\administrator\\appdata\\local\\programs\\python\\python37\\lib\\site-packages\\pymysql\\cursors.py:329: Warning: (1062, \"Duplicate entry 'daum_1368-히어로' for key 'PRIMARY'\")\n",
      "  self._do_get_result()\n"
     ]
    },
    {
     "name": "stdout",
     "output_type": "stream",
     "text": [
      "*********************************************\n",
      "<daum_1370>\n"
     ]
    },
    {
     "name": "stderr",
     "output_type": "stream",
     "text": [
      "c:\\users\\administrator\\appdata\\local\\programs\\python\\python37\\lib\\site-packages\\pymysql\\cursors.py:329: Warning: (1062, \"Duplicate entry 'daum_1370-코믹' for key 'PRIMARY'\")\n",
      "  self._do_get_result()\n",
      "c:\\users\\administrator\\appdata\\local\\programs\\python\\python37\\lib\\site-packages\\pymysql\\cursors.py:329: Warning: (1062, \"Duplicate entry 'daum_1370-자매' for key 'PRIMARY'\")\n",
      "  self._do_get_result()\n"
     ]
    },
    {
     "name": "stdout",
     "output_type": "stream",
     "text": [
      "*********************************************\n",
      "<daum_1372>\n"
     ]
    },
    {
     "name": "stderr",
     "output_type": "stream",
     "text": [
      "c:\\users\\administrator\\appdata\\local\\programs\\python\\python37\\lib\\site-packages\\pymysql\\cursors.py:329: Warning: (1062, \"Duplicate entry 'daum_1372-스릴러' for key 'PRIMARY'\")\n",
      "  self._do_get_result()\n",
      "c:\\users\\administrator\\appdata\\local\\programs\\python\\python37\\lib\\site-packages\\pymysql\\cursors.py:329: Warning: (1062, \"Duplicate entry 'daum_1372-현대사' for key 'PRIMARY'\")\n",
      "  self._do_get_result()\n"
     ]
    },
    {
     "name": "stdout",
     "output_type": "stream",
     "text": [
      "*********************************************\n",
      "<daum_1374>\n"
     ]
    },
    {
     "name": "stderr",
     "output_type": "stream",
     "text": [
      "c:\\users\\administrator\\appdata\\local\\programs\\python\\python37\\lib\\site-packages\\pymysql\\cursors.py:329: Warning: (1062, \"Duplicate entry 'daum_1374-코믹' for key 'PRIMARY'\")\n",
      "  self._do_get_result()\n",
      "c:\\users\\administrator\\appdata\\local\\programs\\python\\python37\\lib\\site-packages\\pymysql\\cursors.py:329: Warning: (1062, \"Duplicate entry 'daum_1374-취업' for key 'PRIMARY'\")\n",
      "  self._do_get_result()\n"
     ]
    },
    {
     "name": "stdout",
     "output_type": "stream",
     "text": [
      "*********************************************\n",
      "<daum_1381>\n"
     ]
    },
    {
     "name": "stderr",
     "output_type": "stream",
     "text": [
      "c:\\users\\administrator\\appdata\\local\\programs\\python\\python37\\lib\\site-packages\\pymysql\\cursors.py:329: Warning: (1062, \"Duplicate entry 'daum_1381-혁명' for key 'PRIMARY'\")\n",
      "  self._do_get_result()\n"
     ]
    },
    {
     "name": "stdout",
     "output_type": "stream",
     "text": [
      "*********************************************\n",
      "<daum_1386>\n"
     ]
    },
    {
     "name": "stderr",
     "output_type": "stream",
     "text": [
      "c:\\users\\administrator\\appdata\\local\\programs\\python\\python37\\lib\\site-packages\\pymysql\\cursors.py:329: Warning: (1062, \"Duplicate entry 'daum_1386-순정' for key 'PRIMARY'\")\n",
      "  self._do_get_result()\n",
      "c:\\users\\administrator\\appdata\\local\\programs\\python\\python37\\lib\\site-packages\\pymysql\\cursors.py:329: Warning: (1062, \"Duplicate entry 'daum_1386-선생님' for key 'PRIMARY'\")\n",
      "  self._do_get_result()\n"
     ]
    },
    {
     "name": "stdout",
     "output_type": "stream",
     "text": [
      "*********************************************\n",
      "<daum_1395>\n"
     ]
    },
    {
     "name": "stderr",
     "output_type": "stream",
     "text": [
      "c:\\users\\administrator\\appdata\\local\\programs\\python\\python37\\lib\\site-packages\\pymysql\\cursors.py:329: Warning: (1062, \"Duplicate entry 'daum_1395-무장' for key 'PRIMARY'\")\n",
      "  self._do_get_result()\n"
     ]
    },
    {
     "name": "stdout",
     "output_type": "stream",
     "text": [
      "*********************************************\n",
      "<daum_1397>\n"
     ]
    },
    {
     "name": "stderr",
     "output_type": "stream",
     "text": [
      "c:\\users\\administrator\\appdata\\local\\programs\\python\\python37\\lib\\site-packages\\pymysql\\cursors.py:329: Warning: (1062, \"Duplicate entry 'daum_1397-유머' for key 'PRIMARY'\")\n",
      "  self._do_get_result()\n"
     ]
    },
    {
     "name": "stdout",
     "output_type": "stream",
     "text": [
      "*********************************************\n",
      "<daum_1405>\n"
     ]
    },
    {
     "name": "stderr",
     "output_type": "stream",
     "text": [
      "c:\\users\\administrator\\appdata\\local\\programs\\python\\python37\\lib\\site-packages\\pymysql\\cursors.py:329: Warning: (1062, \"Duplicate entry 'daum_1405-판타지' for key 'PRIMARY'\")\n",
      "  self._do_get_result()\n",
      "c:\\users\\administrator\\appdata\\local\\programs\\python\\python37\\lib\\site-packages\\pymysql\\cursors.py:329: Warning: (1062, \"Duplicate entry 'daum_1405-신화' for key 'PRIMARY'\")\n",
      "  self._do_get_result()\n"
     ]
    },
    {
     "name": "stdout",
     "output_type": "stream",
     "text": [
      "*********************************************\n",
      "<daum_1417>\n"
     ]
    },
    {
     "name": "stderr",
     "output_type": "stream",
     "text": [
      "c:\\users\\administrator\\appdata\\local\\programs\\python\\python37\\lib\\site-packages\\pymysql\\cursors.py:329: Warning: (1062, \"Duplicate entry 'daum_1417-정치' for key 'PRIMARY'\")\n",
      "  self._do_get_result()\n",
      "c:\\users\\administrator\\appdata\\local\\programs\\python\\python37\\lib\\site-packages\\pymysql\\cursors.py:329: Warning: (1062, \"Duplicate entry 'daum_1417-도전' for key 'PRIMARY'\")\n",
      "  self._do_get_result()\n"
     ]
    },
    {
     "name": "stdout",
     "output_type": "stream",
     "text": [
      "*********************************************\n",
      "<daum_1418>\n"
     ]
    },
    {
     "name": "stderr",
     "output_type": "stream",
     "text": [
      "c:\\users\\administrator\\appdata\\local\\programs\\python\\python37\\lib\\site-packages\\pymysql\\cursors.py:329: Warning: (1062, \"Duplicate entry 'daum_1418-육아' for key 'PRIMARY'\")\n",
      "  self._do_get_result()\n"
     ]
    },
    {
     "name": "stdout",
     "output_type": "stream",
     "text": [
      "*********************************************\n",
      "<daum_1419>\n"
     ]
    },
    {
     "name": "stderr",
     "output_type": "stream",
     "text": [
      "c:\\users\\administrator\\appdata\\local\\programs\\python\\python37\\lib\\site-packages\\pymysql\\cursors.py:329: Warning: (1062, \"Duplicate entry 'daum_1419-노동자' for key 'PRIMARY'\")\n",
      "  self._do_get_result()\n"
     ]
    },
    {
     "name": "stdout",
     "output_type": "stream",
     "text": [
      "*********************************************\n",
      "<daum_1439>\n"
     ]
    },
    {
     "name": "stderr",
     "output_type": "stream",
     "text": [
      "c:\\users\\administrator\\appdata\\local\\programs\\python\\python37\\lib\\site-packages\\pymysql\\cursors.py:329: Warning: (1062, \"Duplicate entry 'daum_1439-코믹' for key 'PRIMARY'\")\n",
      "  self._do_get_result()\n",
      "c:\\users\\administrator\\appdata\\local\\programs\\python\\python37\\lib\\site-packages\\pymysql\\cursors.py:329: Warning: (1062, \"Duplicate entry 'daum_1439-고등학생' for key 'PRIMARY'\")\n",
      "  self._do_get_result()\n"
     ]
    },
    {
     "name": "stdout",
     "output_type": "stream",
     "text": [
      "*********************************************\n",
      "<daum_1450>\n"
     ]
    },
    {
     "name": "stderr",
     "output_type": "stream",
     "text": [
      "c:\\users\\administrator\\appdata\\local\\programs\\python\\python37\\lib\\site-packages\\pymysql\\cursors.py:329: Warning: (1062, \"Duplicate entry 'daum_1450-사랑' for key 'PRIMARY'\")\n",
      "  self._do_get_result()\n"
     ]
    },
    {
     "name": "stdout",
     "output_type": "stream",
     "text": [
      "*********************************************\n",
      "<daum_1454>\n"
     ]
    },
    {
     "name": "stderr",
     "output_type": "stream",
     "text": [
      "c:\\users\\administrator\\appdata\\local\\programs\\python\\python37\\lib\\site-packages\\pymysql\\cursors.py:329: Warning: (1062, \"Duplicate entry 'daum_1454-고등학생' for key 'PRIMARY'\")\n",
      "  self._do_get_result()\n"
     ]
    },
    {
     "name": "stdout",
     "output_type": "stream",
     "text": [
      "*********************************************\n",
      "<daum_1459>\n"
     ]
    },
    {
     "name": "stderr",
     "output_type": "stream",
     "text": [
      "c:\\users\\administrator\\appdata\\local\\programs\\python\\python37\\lib\\site-packages\\pymysql\\cursors.py:329: Warning: (1062, \"Duplicate entry 'daum_1459-성형수술' for key 'PRIMARY'\")\n",
      "  self._do_get_result()\n"
     ]
    },
    {
     "name": "stdout",
     "output_type": "stream",
     "text": [
      "*********************************************\n",
      "<daum_1460>\n"
     ]
    },
    {
     "name": "stderr",
     "output_type": "stream",
     "text": [
      "c:\\users\\administrator\\appdata\\local\\programs\\python\\python37\\lib\\site-packages\\pymysql\\cursors.py:329: Warning: (1062, \"Duplicate entry 'daum_1460-노인' for key 'PRIMARY'\")\n",
      "  self._do_get_result()\n",
      "c:\\users\\administrator\\appdata\\local\\programs\\python\\python37\\lib\\site-packages\\pymysql\\cursors.py:329: Warning: (1062, \"Duplicate entry 'daum_1460-청소년' for key 'PRIMARY'\")\n",
      "  self._do_get_result()\n"
     ]
    },
    {
     "name": "stdout",
     "output_type": "stream",
     "text": [
      "*********************************************\n",
      "<daum_1467>\n"
     ]
    },
    {
     "name": "stderr",
     "output_type": "stream",
     "text": [
      "c:\\users\\administrator\\appdata\\local\\programs\\python\\python37\\lib\\site-packages\\pymysql\\cursors.py:329: Warning: (1062, \"Duplicate entry 'daum_1467-코믹' for key 'PRIMARY'\")\n",
      "  self._do_get_result()\n",
      "c:\\users\\administrator\\appdata\\local\\programs\\python\\python37\\lib\\site-packages\\pymysql\\cursors.py:329: Warning: (1062, \"Duplicate entry 'daum_1467-생활툰' for key 'PRIMARY'\")\n",
      "  self._do_get_result()\n"
     ]
    },
    {
     "name": "stdout",
     "output_type": "stream",
     "text": [
      "*********************************************\n",
      "<daum_1468>\n"
     ]
    },
    {
     "name": "stderr",
     "output_type": "stream",
     "text": [
      "c:\\users\\administrator\\appdata\\local\\programs\\python\\python37\\lib\\site-packages\\pymysql\\cursors.py:329: Warning: (1062, \"Duplicate entry 'daum_1468-짝사랑' for key 'PRIMARY'\")\n",
      "  self._do_get_result()\n",
      "c:\\users\\administrator\\appdata\\local\\programs\\python\\python37\\lib\\site-packages\\pymysql\\cursors.py:329: Warning: (1062, \"Duplicate entry 'daum_1468-아이돌' for key 'PRIMARY'\")\n",
      "  self._do_get_result()\n"
     ]
    },
    {
     "name": "stdout",
     "output_type": "stream",
     "text": [
      "*********************************************\n",
      "<daum_1479>\n"
     ]
    },
    {
     "name": "stderr",
     "output_type": "stream",
     "text": [
      "c:\\users\\administrator\\appdata\\local\\programs\\python\\python37\\lib\\site-packages\\pymysql\\cursors.py:329: Warning: (1062, \"Duplicate entry 'daum_1479-연애' for key 'PRIMARY'\")\n",
      "  self._do_get_result()\n"
     ]
    },
    {
     "name": "stdout",
     "output_type": "stream",
     "text": [
      "*********************************************\n",
      "<daum_1495>\n"
     ]
    },
    {
     "name": "stderr",
     "output_type": "stream",
     "text": [
      "c:\\users\\administrator\\appdata\\local\\programs\\python\\python37\\lib\\site-packages\\pymysql\\cursors.py:329: Warning: (1062, \"Duplicate entry 'daum_1495-스릴러' for key 'PRIMARY'\")\n",
      "  self._do_get_result()\n",
      "c:\\users\\administrator\\appdata\\local\\programs\\python\\python37\\lib\\site-packages\\pymysql\\cursors.py:329: Warning: (1062, \"Duplicate entry 'daum_1495-권력' for key 'PRIMARY'\")\n",
      "  self._do_get_result()\n"
     ]
    },
    {
     "name": "stdout",
     "output_type": "stream",
     "text": [
      "*********************************************\n",
      "<daum_1497>\n"
     ]
    },
    {
     "name": "stderr",
     "output_type": "stream",
     "text": [
      "c:\\users\\administrator\\appdata\\local\\programs\\python\\python37\\lib\\site-packages\\pymysql\\cursors.py:329: Warning: (1062, \"Duplicate entry 'daum_1497-격투' for key 'PRIMARY'\")\n",
      "  self._do_get_result()\n"
     ]
    },
    {
     "name": "stdout",
     "output_type": "stream",
     "text": [
      "*********************************************\n",
      "<daum_1500>\n"
     ]
    },
    {
     "name": "stderr",
     "output_type": "stream",
     "text": [
      "c:\\users\\administrator\\appdata\\local\\programs\\python\\python37\\lib\\site-packages\\pymysql\\cursors.py:329: Warning: (1062, \"Duplicate entry 'daum_1500-취업' for key 'PRIMARY'\")\n",
      "  self._do_get_result()\n",
      "c:\\users\\administrator\\appdata\\local\\programs\\python\\python37\\lib\\site-packages\\pymysql\\cursors.py:329: Warning: (1062, \"Duplicate entry 'daum_1500-성장드라마' for key 'PRIMARY'\")\n",
      "  self._do_get_result()\n"
     ]
    },
    {
     "name": "stdout",
     "output_type": "stream",
     "text": [
      "*********************************************\n",
      "<daum_1502>\n"
     ]
    },
    {
     "name": "stderr",
     "output_type": "stream",
     "text": [
      "c:\\users\\administrator\\appdata\\local\\programs\\python\\python37\\lib\\site-packages\\pymysql\\cursors.py:329: Warning: (1062, \"Duplicate entry 'daum_1502-첫사랑' for key 'PRIMARY'\")\n",
      "  self._do_get_result()\n"
     ]
    },
    {
     "name": "stdout",
     "output_type": "stream",
     "text": [
      "*********************************************\n",
      "<daum_1513>\n"
     ]
    },
    {
     "name": "stderr",
     "output_type": "stream",
     "text": [
      "c:\\users\\administrator\\appdata\\local\\programs\\python\\python37\\lib\\site-packages\\pymysql\\cursors.py:329: Warning: (1062, \"Duplicate entry 'daum_1513-음식' for key 'PRIMARY'\")\n",
      "  self._do_get_result()\n"
     ]
    },
    {
     "name": "stdout",
     "output_type": "stream",
     "text": [
      "*********************************************\n",
      "<daum_1525>\n"
     ]
    },
    {
     "name": "stderr",
     "output_type": "stream",
     "text": [
      "c:\\users\\administrator\\appdata\\local\\programs\\python\\python37\\lib\\site-packages\\pymysql\\cursors.py:329: Warning: (1062, \"Duplicate entry 'daum_1525-가족' for key 'PRIMARY'\")\n",
      "  self._do_get_result()\n"
     ]
    },
    {
     "name": "stdout",
     "output_type": "stream",
     "text": [
      "*********************************************\n",
      "<daum_1526>\n"
     ]
    },
    {
     "name": "stderr",
     "output_type": "stream",
     "text": [
      "c:\\users\\administrator\\appdata\\local\\programs\\python\\python37\\lib\\site-packages\\pymysql\\cursors.py:329: Warning: (1062, \"Duplicate entry 'daum_1526-메이크업' for key 'PRIMARY'\")\n",
      "  self._do_get_result()\n"
     ]
    },
    {
     "name": "stdout",
     "output_type": "stream",
     "text": [
      "*********************************************\n",
      "<daum_1533>\n"
     ]
    },
    {
     "name": "stderr",
     "output_type": "stream",
     "text": [
      "c:\\users\\administrator\\appdata\\local\\programs\\python\\python37\\lib\\site-packages\\pymysql\\cursors.py:329: Warning: (1062, \"Duplicate entry 'daum_1533-타임슬립' for key 'PRIMARY'\")\n",
      "  self._do_get_result()\n"
     ]
    },
    {
     "name": "stdout",
     "output_type": "stream",
     "text": [
      "*********************************************\n",
      "<daum_1544>\n"
     ]
    },
    {
     "name": "stderr",
     "output_type": "stream",
     "text": [
      "c:\\users\\administrator\\appdata\\local\\programs\\python\\python37\\lib\\site-packages\\pymysql\\cursors.py:329: Warning: (1062, \"Duplicate entry 'daum_1544-스릴러' for key 'PRIMARY'\")\n",
      "  self._do_get_result()\n",
      "c:\\users\\administrator\\appdata\\local\\programs\\python\\python37\\lib\\site-packages\\pymysql\\cursors.py:329: Warning: (1062, \"Duplicate entry 'daum_1544-도플갱어' for key 'PRIMARY'\")\n",
      "  self._do_get_result()\n"
     ]
    },
    {
     "name": "stdout",
     "output_type": "stream",
     "text": [
      "*********************************************\n",
      "<daum_1545>\n"
     ]
    },
    {
     "name": "stderr",
     "output_type": "stream",
     "text": [
      "c:\\users\\administrator\\appdata\\local\\programs\\python\\python37\\lib\\site-packages\\pymysql\\cursors.py:329: Warning: (1062, \"Duplicate entry 'daum_1545-동양' for key 'PRIMARY'\")\n",
      "  self._do_get_result()\n"
     ]
    },
    {
     "name": "stdout",
     "output_type": "stream",
     "text": [
      "*********************************************\n",
      "<daum_1546>\n"
     ]
    },
    {
     "name": "stderr",
     "output_type": "stream",
     "text": [
      "c:\\users\\administrator\\appdata\\local\\programs\\python\\python37\\lib\\site-packages\\pymysql\\cursors.py:329: Warning: (1062, \"Duplicate entry 'daum_1546-연애' for key 'PRIMARY'\")\n",
      "  self._do_get_result()\n"
     ]
    },
    {
     "name": "stdout",
     "output_type": "stream",
     "text": [
      "*********************************************\n",
      "<daum_1563>\n"
     ]
    },
    {
     "name": "stderr",
     "output_type": "stream",
     "text": [
      "c:\\users\\administrator\\appdata\\local\\programs\\python\\python37\\lib\\site-packages\\pymysql\\cursors.py:329: Warning: (1062, \"Duplicate entry 'daum_1563-첫사랑' for key 'PRIMARY'\")\n",
      "  self._do_get_result()\n"
     ]
    },
    {
     "name": "stdout",
     "output_type": "stream",
     "text": [
      "*********************************************\n",
      "<daum_1568>\n"
     ]
    },
    {
     "name": "stderr",
     "output_type": "stream",
     "text": [
      "c:\\users\\administrator\\appdata\\local\\programs\\python\\python37\\lib\\site-packages\\pymysql\\cursors.py:329: Warning: (1062, \"Duplicate entry 'daum_1568-학원' for key 'PRIMARY'\")\n",
      "  self._do_get_result()\n",
      "c:\\users\\administrator\\appdata\\local\\programs\\python\\python37\\lib\\site-packages\\pymysql\\cursors.py:329: Warning: (1062, \"Duplicate entry 'daum_1568-축구' for key 'PRIMARY'\")\n",
      "  self._do_get_result()\n"
     ]
    },
    {
     "name": "stdout",
     "output_type": "stream",
     "text": [
      "*********************************************\n",
      "<daum_1572>\n"
     ]
    },
    {
     "name": "stderr",
     "output_type": "stream",
     "text": [
      "c:\\users\\administrator\\appdata\\local\\programs\\python\\python37\\lib\\site-packages\\pymysql\\cursors.py:329: Warning: (1062, \"Duplicate entry 'daum_1572-학원' for key 'PRIMARY'\")\n",
      "  self._do_get_result()\n",
      "c:\\users\\administrator\\appdata\\local\\programs\\python\\python37\\lib\\site-packages\\pymysql\\cursors.py:329: Warning: (1062, \"Duplicate entry 'daum_1572-첫사랑' for key 'PRIMARY'\")\n",
      "  self._do_get_result()\n"
     ]
    },
    {
     "name": "stdout",
     "output_type": "stream",
     "text": [
      "*********************************************\n",
      "<daum_1573>\n"
     ]
    },
    {
     "name": "stderr",
     "output_type": "stream",
     "text": [
      "c:\\users\\administrator\\appdata\\local\\programs\\python\\python37\\lib\\site-packages\\pymysql\\cursors.py:329: Warning: (1062, \"Duplicate entry 'daum_1573-운명' for key 'PRIMARY'\")\n",
      "  self._do_get_result()\n"
     ]
    },
    {
     "name": "stdout",
     "output_type": "stream",
     "text": [
      "*********************************************\n",
      "<daum_1575>\n"
     ]
    },
    {
     "name": "stderr",
     "output_type": "stream",
     "text": [
      "c:\\users\\administrator\\appdata\\local\\programs\\python\\python37\\lib\\site-packages\\pymysql\\cursors.py:329: Warning: (1062, \"Duplicate entry 'daum_1575-코믹' for key 'PRIMARY'\")\n",
      "  self._do_get_result()\n",
      "c:\\users\\administrator\\appdata\\local\\programs\\python\\python37\\lib\\site-packages\\pymysql\\cursors.py:329: Warning: (1062, \"Duplicate entry 'daum_1575-직장생활' for key 'PRIMARY'\")\n",
      "  self._do_get_result()\n"
     ]
    },
    {
     "name": "stdout",
     "output_type": "stream",
     "text": [
      "*********************************************\n",
      "<daum_1577>\n"
     ]
    },
    {
     "name": "stderr",
     "output_type": "stream",
     "text": [
      "c:\\users\\administrator\\appdata\\local\\programs\\python\\python37\\lib\\site-packages\\pymysql\\cursors.py:329: Warning: (1062, \"Duplicate entry 'daum_1577-코믹' for key 'PRIMARY'\")\n",
      "  self._do_get_result()\n",
      "c:\\users\\administrator\\appdata\\local\\programs\\python\\python37\\lib\\site-packages\\pymysql\\cursors.py:329: Warning: (1062, \"Duplicate entry 'daum_1577-유머' for key 'PRIMARY'\")\n",
      "  self._do_get_result()\n"
     ]
    },
    {
     "name": "stdout",
     "output_type": "stream",
     "text": [
      "*********************************************\n",
      "<daum_1584>\n"
     ]
    },
    {
     "name": "stderr",
     "output_type": "stream",
     "text": [
      "c:\\users\\administrator\\appdata\\local\\programs\\python\\python37\\lib\\site-packages\\pymysql\\cursors.py:329: Warning: (1062, \"Duplicate entry 'daum_1584-좀비' for key 'PRIMARY'\")\n",
      "  self._do_get_result()\n"
     ]
    },
    {
     "name": "stdout",
     "output_type": "stream",
     "text": [
      "*********************************************\n",
      "<daum_1596>\n"
     ]
    },
    {
     "name": "stderr",
     "output_type": "stream",
     "text": [
      "c:\\users\\administrator\\appdata\\local\\programs\\python\\python37\\lib\\site-packages\\pymysql\\cursors.py:329: Warning: (1062, \"Duplicate entry 'daum_1596-연애' for key 'PRIMARY'\")\n",
      "  self._do_get_result()\n"
     ]
    },
    {
     "name": "stdout",
     "output_type": "stream",
     "text": [
      "*********************************************\n",
      "<daum_1606>\n"
     ]
    },
    {
     "name": "stderr",
     "output_type": "stream",
     "text": [
      "c:\\users\\administrator\\appdata\\local\\programs\\python\\python37\\lib\\site-packages\\pymysql\\cursors.py:329: Warning: (1062, \"Duplicate entry 'daum_1606-돈' for key 'PRIMARY'\")\n",
      "  self._do_get_result()\n"
     ]
    },
    {
     "name": "stdout",
     "output_type": "stream",
     "text": [
      "*********************************************\n",
      "<daum_1613>\n"
     ]
    },
    {
     "name": "stderr",
     "output_type": "stream",
     "text": [
      "c:\\users\\administrator\\appdata\\local\\programs\\python\\python37\\lib\\site-packages\\pymysql\\cursors.py:329: Warning: (1062, \"Duplicate entry 'daum_1613-궁' for key 'PRIMARY'\")\n",
      "  self._do_get_result()\n"
     ]
    },
    {
     "name": "stdout",
     "output_type": "stream",
     "text": [
      "*********************************************\n",
      "<daum_1614>\n"
     ]
    },
    {
     "name": "stderr",
     "output_type": "stream",
     "text": [
      "c:\\users\\administrator\\appdata\\local\\programs\\python\\python37\\lib\\site-packages\\pymysql\\cursors.py:329: Warning: (1062, \"Duplicate entry 'daum_1614-미스터리' for key 'PRIMARY'\")\n",
      "  self._do_get_result()\n",
      "c:\\users\\administrator\\appdata\\local\\programs\\python\\python37\\lib\\site-packages\\pymysql\\cursors.py:329: Warning: (1062, \"Duplicate entry 'daum_1614-기담' for key 'PRIMARY'\")\n",
      "  self._do_get_result()\n"
     ]
    },
    {
     "name": "stdout",
     "output_type": "stream",
     "text": [
      "*********************************************\n",
      "<daum_1620>\n"
     ]
    },
    {
     "name": "stderr",
     "output_type": "stream",
     "text": [
      "c:\\users\\administrator\\appdata\\local\\programs\\python\\python37\\lib\\site-packages\\pymysql\\cursors.py:329: Warning: (1062, \"Duplicate entry 'daum_1620-학원' for key 'PRIMARY'\")\n",
      "  self._do_get_result()\n",
      "c:\\users\\administrator\\appdata\\local\\programs\\python\\python37\\lib\\site-packages\\pymysql\\cursors.py:329: Warning: (1062, \"Duplicate entry 'daum_1620-학교생활' for key 'PRIMARY'\")\n",
      "  self._do_get_result()\n"
     ]
    },
    {
     "name": "stdout",
     "output_type": "stream",
     "text": [
      "*********************************************\n",
      "<daum_1621>\n"
     ]
    },
    {
     "name": "stderr",
     "output_type": "stream",
     "text": [
      "c:\\users\\administrator\\appdata\\local\\programs\\python\\python37\\lib\\site-packages\\pymysql\\cursors.py:329: Warning: (1062, \"Duplicate entry 'daum_1621-엑소시스트' for key 'PRIMARY'\")\n",
      "  self._do_get_result()\n"
     ]
    },
    {
     "name": "stdout",
     "output_type": "stream",
     "text": [
      "*********************************************\n",
      "<daum_1622>\n"
     ]
    },
    {
     "name": "stderr",
     "output_type": "stream",
     "text": [
      "c:\\users\\administrator\\appdata\\local\\programs\\python\\python37\\lib\\site-packages\\pymysql\\cursors.py:329: Warning: (1062, \"Duplicate entry 'daum_1622-교도소' for key 'PRIMARY'\")\n",
      "  self._do_get_result()\n"
     ]
    },
    {
     "name": "stdout",
     "output_type": "stream",
     "text": [
      "*********************************************\n",
      "<daum_1626>\n"
     ]
    },
    {
     "name": "stderr",
     "output_type": "stream",
     "text": [
      "c:\\users\\administrator\\appdata\\local\\programs\\python\\python37\\lib\\site-packages\\pymysql\\cursors.py:329: Warning: (1062, \"Duplicate entry 'daum_1626-패션' for key 'PRIMARY'\")\n",
      "  self._do_get_result()\n"
     ]
    },
    {
     "name": "stdout",
     "output_type": "stream",
     "text": [
      "*********************************************\n",
      "<daum_1636>\n"
     ]
    },
    {
     "name": "stderr",
     "output_type": "stream",
     "text": [
      "c:\\users\\administrator\\appdata\\local\\programs\\python\\python37\\lib\\site-packages\\pymysql\\cursors.py:329: Warning: (1062, \"Duplicate entry 'daum_1636-미스터리' for key 'PRIMARY'\")\n",
      "  self._do_get_result()\n",
      "c:\\users\\administrator\\appdata\\local\\programs\\python\\python37\\lib\\site-packages\\pymysql\\cursors.py:329: Warning: (1062, \"Duplicate entry 'daum_1636-남편' for key 'PRIMARY'\")\n",
      "  self._do_get_result()\n",
      "c:\\users\\administrator\\appdata\\local\\programs\\python\\python37\\lib\\site-packages\\pymysql\\cursors.py:329: Warning: (1062, \"Duplicate entry 'daum_1636-죽음' for key 'PRIMARY'\")\n",
      "  self._do_get_result()\n"
     ]
    },
    {
     "name": "stdout",
     "output_type": "stream",
     "text": [
      "*********************************************\n",
      "<daum_1643>\n"
     ]
    },
    {
     "name": "stderr",
     "output_type": "stream",
     "text": [
      "c:\\users\\administrator\\appdata\\local\\programs\\python\\python37\\lib\\site-packages\\pymysql\\cursors.py:329: Warning: (1062, \"Duplicate entry 'daum_1643-첫사랑' for key 'PRIMARY'\")\n",
      "  self._do_get_result()\n"
     ]
    },
    {
     "name": "stdout",
     "output_type": "stream",
     "text": [
      "*********************************************\n",
      "<daum_1654>\n"
     ]
    },
    {
     "name": "stderr",
     "output_type": "stream",
     "text": [
      "c:\\users\\administrator\\appdata\\local\\programs\\python\\python37\\lib\\site-packages\\pymysql\\cursors.py:329: Warning: (1062, \"Duplicate entry 'daum_1654-순정' for key 'PRIMARY'\")\n",
      "  self._do_get_result()\n",
      "c:\\users\\administrator\\appdata\\local\\programs\\python\\python37\\lib\\site-packages\\pymysql\\cursors.py:329: Warning: (1062, \"Duplicate entry 'daum_1654-판타지' for key 'PRIMARY'\")\n",
      "  self._do_get_result()\n"
     ]
    },
    {
     "name": "stdout",
     "output_type": "stream",
     "text": [
      "*********************************************\n",
      "<daum_1655>\n"
     ]
    },
    {
     "name": "stderr",
     "output_type": "stream",
     "text": [
      "c:\\users\\administrator\\appdata\\local\\programs\\python\\python37\\lib\\site-packages\\pymysql\\cursors.py:329: Warning: (1062, \"Duplicate entry 'daum_1655-액션' for key 'PRIMARY'\")\n",
      "  self._do_get_result()\n"
     ]
    },
    {
     "name": "stdout",
     "output_type": "stream",
     "text": [
      "*********************************************\n",
      "<daum_1657>\n"
     ]
    },
    {
     "name": "stderr",
     "output_type": "stream",
     "text": [
      "c:\\users\\administrator\\appdata\\local\\programs\\python\\python37\\lib\\site-packages\\pymysql\\cursors.py:329: Warning: (1062, \"Duplicate entry 'daum_1657-액션' for key 'PRIMARY'\")\n",
      "  self._do_get_result()\n"
     ]
    },
    {
     "name": "stdout",
     "output_type": "stream",
     "text": [
      "*********************************************\n",
      "<daum_1658>\n"
     ]
    },
    {
     "name": "stderr",
     "output_type": "stream",
     "text": [
      "c:\\users\\administrator\\appdata\\local\\programs\\python\\python37\\lib\\site-packages\\pymysql\\cursors.py:329: Warning: (1062, \"Duplicate entry 'daum_1658-스릴러' for key 'PRIMARY'\")\n",
      "  self._do_get_result()\n"
     ]
    },
    {
     "name": "stdout",
     "output_type": "stream",
     "text": [
      "*********************************************\n",
      "<daum_1659>\n"
     ]
    },
    {
     "name": "stderr",
     "output_type": "stream",
     "text": [
      "c:\\users\\administrator\\appdata\\local\\programs\\python\\python37\\lib\\site-packages\\pymysql\\cursors.py:329: Warning: (1062, \"Duplicate entry 'daum_1659-드라마' for key 'PRIMARY'\")\n",
      "  self._do_get_result()\n"
     ]
    },
    {
     "name": "stdout",
     "output_type": "stream",
     "text": [
      "*********************************************\n",
      "<daum_1671>\n"
     ]
    },
    {
     "name": "stderr",
     "output_type": "stream",
     "text": [
      "c:\\users\\administrator\\appdata\\local\\programs\\python\\python37\\lib\\site-packages\\pymysql\\cursors.py:329: Warning: (1062, \"Duplicate entry 'daum_1671-액션' for key 'PRIMARY'\")\n",
      "  self._do_get_result()\n",
      "c:\\users\\administrator\\appdata\\local\\programs\\python\\python37\\lib\\site-packages\\pymysql\\cursors.py:329: Warning: (1062, \"Duplicate entry 'daum_1671-판타지' for key 'PRIMARY'\")\n",
      "  self._do_get_result()\n"
     ]
    },
    {
     "name": "stdout",
     "output_type": "stream",
     "text": [
      "*********************************************\n",
      "<daum_1673>\n"
     ]
    },
    {
     "name": "stderr",
     "output_type": "stream",
     "text": [
      "c:\\users\\administrator\\appdata\\local\\programs\\python\\python37\\lib\\site-packages\\pymysql\\cursors.py:329: Warning: (1062, \"Duplicate entry 'daum_1673-순정' for key 'PRIMARY'\")\n",
      "  self._do_get_result()\n",
      "c:\\users\\administrator\\appdata\\local\\programs\\python\\python37\\lib\\site-packages\\pymysql\\cursors.py:329: Warning: (1062, \"Duplicate entry 'daum_1673-드라마' for key 'PRIMARY'\")\n",
      "  self._do_get_result()\n"
     ]
    },
    {
     "name": "stdout",
     "output_type": "stream",
     "text": [
      "*********************************************\n",
      "<daum_1678>\n"
     ]
    },
    {
     "name": "stderr",
     "output_type": "stream",
     "text": [
      "c:\\users\\administrator\\appdata\\local\\programs\\python\\python37\\lib\\site-packages\\pymysql\\cursors.py:329: Warning: (1062, \"Duplicate entry 'daum_1678-순정' for key 'PRIMARY'\")\n",
      "  self._do_get_result()\n",
      "c:\\users\\administrator\\appdata\\local\\programs\\python\\python37\\lib\\site-packages\\pymysql\\cursors.py:329: Warning: (1062, \"Duplicate entry 'daum_1678-판타지' for key 'PRIMARY'\")\n",
      "  self._do_get_result()\n"
     ]
    },
    {
     "name": "stdout",
     "output_type": "stream",
     "text": [
      "*********************************************\n",
      "<daum_1682>\n"
     ]
    },
    {
     "name": "stderr",
     "output_type": "stream",
     "text": [
      "c:\\users\\administrator\\appdata\\local\\programs\\python\\python37\\lib\\site-packages\\pymysql\\cursors.py:329: Warning: (1062, \"Duplicate entry 'daum_1682-액션' for key 'PRIMARY'\")\n",
      "  self._do_get_result()\n",
      "c:\\users\\administrator\\appdata\\local\\programs\\python\\python37\\lib\\site-packages\\pymysql\\cursors.py:329: Warning: (1062, \"Duplicate entry 'daum_1682-스릴러' for key 'PRIMARY'\")\n",
      "  self._do_get_result()\n"
     ]
    },
    {
     "name": "stdout",
     "output_type": "stream",
     "text": [
      "*********************************************\n",
      "<daum_1688>\n"
     ]
    },
    {
     "name": "stderr",
     "output_type": "stream",
     "text": [
      "c:\\users\\administrator\\appdata\\local\\programs\\python\\python37\\lib\\site-packages\\pymysql\\cursors.py:329: Warning: (1062, \"Duplicate entry 'daum_1688-판타지' for key 'PRIMARY'\")\n",
      "  self._do_get_result()\n",
      "c:\\users\\administrator\\appdata\\local\\programs\\python\\python37\\lib\\site-packages\\pymysql\\cursors.py:329: Warning: (1062, \"Duplicate entry 'daum_1688-순정' for key 'PRIMARY'\")\n",
      "  self._do_get_result()\n"
     ]
    },
    {
     "name": "stdout",
     "output_type": "stream",
     "text": [
      "*********************************************\n",
      "<daum_1689>\n"
     ]
    },
    {
     "name": "stderr",
     "output_type": "stream",
     "text": [
      "c:\\users\\administrator\\appdata\\local\\programs\\python\\python37\\lib\\site-packages\\pymysql\\cursors.py:329: Warning: (1062, \"Duplicate entry 'daum_1689-순정' for key 'PRIMARY'\")\n",
      "  self._do_get_result()\n",
      "c:\\users\\administrator\\appdata\\local\\programs\\python\\python37\\lib\\site-packages\\pymysql\\cursors.py:329: Warning: (1062, \"Duplicate entry 'daum_1689-드라마' for key 'PRIMARY'\")\n",
      "  self._do_get_result()\n"
     ]
    },
    {
     "name": "stdout",
     "output_type": "stream",
     "text": [
      "*********************************************\n",
      "<daum_1692>\n"
     ]
    },
    {
     "name": "stderr",
     "output_type": "stream",
     "text": [
      "c:\\users\\administrator\\appdata\\local\\programs\\python\\python37\\lib\\site-packages\\pymysql\\cursors.py:329: Warning: (1062, \"Duplicate entry 'daum_1692-드라마' for key 'PRIMARY'\")\n",
      "  self._do_get_result()\n",
      "c:\\users\\administrator\\appdata\\local\\programs\\python\\python37\\lib\\site-packages\\pymysql\\cursors.py:329: Warning: (1062, \"Duplicate entry 'daum_1692-순정' for key 'PRIMARY'\")\n",
      "  self._do_get_result()\n"
     ]
    },
    {
     "name": "stdout",
     "output_type": "stream",
     "text": [
      "*********************************************\n",
      "<daum_1694>\n"
     ]
    },
    {
     "name": "stderr",
     "output_type": "stream",
     "text": [
      "c:\\users\\administrator\\appdata\\local\\programs\\python\\python37\\lib\\site-packages\\pymysql\\cursors.py:329: Warning: (1062, \"Duplicate entry 'daum_1694-순정' for key 'PRIMARY'\")\n",
      "  self._do_get_result()\n",
      "c:\\users\\administrator\\appdata\\local\\programs\\python\\python37\\lib\\site-packages\\pymysql\\cursors.py:329: Warning: (1062, \"Duplicate entry 'daum_1694-드라마' for key 'PRIMARY'\")\n",
      "  self._do_get_result()\n"
     ]
    },
    {
     "name": "stdout",
     "output_type": "stream",
     "text": [
      "*********************************************\n",
      "<daum_1696>\n"
     ]
    },
    {
     "name": "stderr",
     "output_type": "stream",
     "text": [
      "c:\\users\\administrator\\appdata\\local\\programs\\python\\python37\\lib\\site-packages\\pymysql\\cursors.py:329: Warning: (1062, \"Duplicate entry 'daum_1696-순정' for key 'PRIMARY'\")\n",
      "  self._do_get_result()\n",
      "c:\\users\\administrator\\appdata\\local\\programs\\python\\python37\\lib\\site-packages\\pymysql\\cursors.py:329: Warning: (1062, \"Duplicate entry 'daum_1696-드라마' for key 'PRIMARY'\")\n",
      "  self._do_get_result()\n"
     ]
    },
    {
     "name": "stdout",
     "output_type": "stream",
     "text": [
      "*********************************************\n",
      "<daum_1697>\n"
     ]
    },
    {
     "name": "stderr",
     "output_type": "stream",
     "text": [
      "c:\\users\\administrator\\appdata\\local\\programs\\python\\python37\\lib\\site-packages\\pymysql\\cursors.py:329: Warning: (1062, \"Duplicate entry 'daum_1697-드라마' for key 'PRIMARY'\")\n",
      "  self._do_get_result()\n",
      "c:\\users\\administrator\\appdata\\local\\programs\\python\\python37\\lib\\site-packages\\pymysql\\cursors.py:329: Warning: (1062, \"Duplicate entry 'daum_1697-순정' for key 'PRIMARY'\")\n",
      "  self._do_get_result()\n"
     ]
    },
    {
     "name": "stdout",
     "output_type": "stream",
     "text": [
      "*********************************************\n",
      "<daum_1703>\n",
      "*********************************************\n",
      "<daum_1705>\n"
     ]
    },
    {
     "name": "stderr",
     "output_type": "stream",
     "text": [
      "c:\\users\\administrator\\appdata\\local\\programs\\python\\python37\\lib\\site-packages\\pymysql\\cursors.py:329: Warning: (1062, \"Duplicate entry 'daum_1705-스릴러' for key 'PRIMARY'\")\n",
      "  self._do_get_result()\n"
     ]
    },
    {
     "name": "stdout",
     "output_type": "stream",
     "text": [
      "*********************************************\n",
      "<daum_1710>\n"
     ]
    },
    {
     "name": "stderr",
     "output_type": "stream",
     "text": [
      "c:\\users\\administrator\\appdata\\local\\programs\\python\\python37\\lib\\site-packages\\pymysql\\cursors.py:329: Warning: (1062, \"Duplicate entry 'daum_1710-드라마' for key 'PRIMARY'\")\n",
      "  self._do_get_result()\n"
     ]
    },
    {
     "name": "stdout",
     "output_type": "stream",
     "text": [
      "*********************************************\n",
      "<daum_1713>\n"
     ]
    },
    {
     "name": "stderr",
     "output_type": "stream",
     "text": [
      "c:\\users\\administrator\\appdata\\local\\programs\\python\\python37\\lib\\site-packages\\pymysql\\cursors.py:329: Warning: (1062, \"Duplicate entry 'daum_1713-드라마' for key 'PRIMARY'\")\n",
      "  self._do_get_result()\n"
     ]
    },
    {
     "name": "stdout",
     "output_type": "stream",
     "text": [
      "*********************************************\n",
      "<daum_1714>\n"
     ]
    },
    {
     "name": "stderr",
     "output_type": "stream",
     "text": [
      "c:\\users\\administrator\\appdata\\local\\programs\\python\\python37\\lib\\site-packages\\pymysql\\cursors.py:329: Warning: (1062, \"Duplicate entry 'daum_1714-드라마' for key 'PRIMARY'\")\n",
      "  self._do_get_result()\n",
      "c:\\users\\administrator\\appdata\\local\\programs\\python\\python37\\lib\\site-packages\\pymysql\\cursors.py:329: Warning: (1062, \"Duplicate entry 'daum_1714-일상' for key 'PRIMARY'\")\n",
      "  self._do_get_result()\n"
     ]
    },
    {
     "name": "stdout",
     "output_type": "stream",
     "text": [
      "*********************************************\n",
      "<daum_1716>\n"
     ]
    },
    {
     "name": "stderr",
     "output_type": "stream",
     "text": [
      "c:\\users\\administrator\\appdata\\local\\programs\\python\\python37\\lib\\site-packages\\pymysql\\cursors.py:329: Warning: (1062, \"Duplicate entry 'daum_1716-스릴러' for key 'PRIMARY'\")\n",
      "  self._do_get_result()\n"
     ]
    },
    {
     "name": "stdout",
     "output_type": "stream",
     "text": [
      "*********************************************\n",
      "<daum_1720>\n"
     ]
    },
    {
     "name": "stderr",
     "output_type": "stream",
     "text": [
      "c:\\users\\administrator\\appdata\\local\\programs\\python\\python37\\lib\\site-packages\\pymysql\\cursors.py:329: Warning: (1062, \"Duplicate entry 'daum_1720-순정' for key 'PRIMARY'\")\n",
      "  self._do_get_result()\n"
     ]
    },
    {
     "name": "stdout",
     "output_type": "stream",
     "text": [
      "*********************************************\n",
      "<daum_1730>\n"
     ]
    },
    {
     "name": "stderr",
     "output_type": "stream",
     "text": [
      "c:\\users\\administrator\\appdata\\local\\programs\\python\\python37\\lib\\site-packages\\pymysql\\cursors.py:329: Warning: (1062, \"Duplicate entry 'daum_1730-드라마' for key 'PRIMARY'\")\n",
      "  self._do_get_result()\n",
      "c:\\users\\administrator\\appdata\\local\\programs\\python\\python37\\lib\\site-packages\\pymysql\\cursors.py:329: Warning: (1062, \"Duplicate entry 'daum_1730-일상' for key 'PRIMARY'\")\n",
      "  self._do_get_result()\n"
     ]
    },
    {
     "name": "stdout",
     "output_type": "stream",
     "text": [
      "*********************************************\n",
      "<daum_1739>\n"
     ]
    },
    {
     "name": "stderr",
     "output_type": "stream",
     "text": [
      "c:\\users\\administrator\\appdata\\local\\programs\\python\\python37\\lib\\site-packages\\pymysql\\cursors.py:329: Warning: (1062, \"Duplicate entry 'daum_1739-드라마' for key 'PRIMARY'\")\n",
      "  self._do_get_result()\n",
      "c:\\users\\administrator\\appdata\\local\\programs\\python\\python37\\lib\\site-packages\\pymysql\\cursors.py:329: Warning: (1062, \"Duplicate entry 'daum_1739-판타지' for key 'PRIMARY'\")\n",
      "  self._do_get_result()\n"
     ]
    },
    {
     "name": "stdout",
     "output_type": "stream",
     "text": [
      "*********************************************\n",
      "<daum_1744>\n"
     ]
    },
    {
     "name": "stderr",
     "output_type": "stream",
     "text": [
      "c:\\users\\administrator\\appdata\\local\\programs\\python\\python37\\lib\\site-packages\\pymysql\\cursors.py:329: Warning: (1062, \"Duplicate entry 'daum_1744-순정' for key 'PRIMARY'\")\n",
      "  self._do_get_result()\n",
      "c:\\users\\administrator\\appdata\\local\\programs\\python\\python37\\lib\\site-packages\\pymysql\\cursors.py:329: Warning: (1062, \"Duplicate entry 'daum_1744-드라마' for key 'PRIMARY'\")\n",
      "  self._do_get_result()\n"
     ]
    },
    {
     "name": "stdout",
     "output_type": "stream",
     "text": [
      "*********************************************\n",
      "<daum_1757>\n"
     ]
    },
    {
     "name": "stderr",
     "output_type": "stream",
     "text": [
      "c:\\users\\administrator\\appdata\\local\\programs\\python\\python37\\lib\\site-packages\\pymysql\\cursors.py:329: Warning: (1062, \"Duplicate entry 'daum_1757-액션' for key 'PRIMARY'\")\n",
      "  self._do_get_result()\n"
     ]
    },
    {
     "name": "stdout",
     "output_type": "stream",
     "text": [
      "*********************************************\n",
      "<daum_1760>\n"
     ]
    },
    {
     "name": "stderr",
     "output_type": "stream",
     "text": [
      "c:\\users\\administrator\\appdata\\local\\programs\\python\\python37\\lib\\site-packages\\pymysql\\cursors.py:329: Warning: (1062, \"Duplicate entry 'daum_1760-순정' for key 'PRIMARY'\")\n",
      "  self._do_get_result()\n",
      "c:\\users\\administrator\\appdata\\local\\programs\\python\\python37\\lib\\site-packages\\pymysql\\cursors.py:329: Warning: (1062, \"Duplicate entry 'daum_1760-드라마' for key 'PRIMARY'\")\n",
      "  self._do_get_result()\n"
     ]
    },
    {
     "name": "stdout",
     "output_type": "stream",
     "text": [
      "*********************************************\n",
      "<daum_1763>\n"
     ]
    },
    {
     "name": "stderr",
     "output_type": "stream",
     "text": [
      "c:\\users\\administrator\\appdata\\local\\programs\\python\\python37\\lib\\site-packages\\pymysql\\cursors.py:329: Warning: (1062, \"Duplicate entry 'daum_1763-판타지' for key 'PRIMARY'\")\n",
      "  self._do_get_result()\n",
      "c:\\users\\administrator\\appdata\\local\\programs\\python\\python37\\lib\\site-packages\\pymysql\\cursors.py:329: Warning: (1062, \"Duplicate entry 'daum_1763-드라마' for key 'PRIMARY'\")\n",
      "  self._do_get_result()\n"
     ]
    },
    {
     "name": "stdout",
     "output_type": "stream",
     "text": [
      "*********************************************\n",
      "<daum_1768>\n"
     ]
    },
    {
     "name": "stderr",
     "output_type": "stream",
     "text": [
      "c:\\users\\administrator\\appdata\\local\\programs\\python\\python37\\lib\\site-packages\\pymysql\\cursors.py:329: Warning: (1062, \"Duplicate entry 'daum_1768-드라마' for key 'PRIMARY'\")\n",
      "  self._do_get_result()\n"
     ]
    },
    {
     "name": "stdout",
     "output_type": "stream",
     "text": [
      "*********************************************\n",
      "<daum_1769>\n"
     ]
    },
    {
     "name": "stderr",
     "output_type": "stream",
     "text": [
      "c:\\users\\administrator\\appdata\\local\\programs\\python\\python37\\lib\\site-packages\\pymysql\\cursors.py:329: Warning: (1062, \"Duplicate entry 'daum_1769-드라마' for key 'PRIMARY'\")\n",
      "  self._do_get_result()\n",
      "c:\\users\\administrator\\appdata\\local\\programs\\python\\python37\\lib\\site-packages\\pymysql\\cursors.py:329: Warning: (1062, \"Duplicate entry 'daum_1769-순정' for key 'PRIMARY'\")\n",
      "  self._do_get_result()\n"
     ]
    },
    {
     "name": "stdout",
     "output_type": "stream",
     "text": [
      "*********************************************\n",
      "<daum_1774>\n"
     ]
    },
    {
     "name": "stderr",
     "output_type": "stream",
     "text": [
      "c:\\users\\administrator\\appdata\\local\\programs\\python\\python37\\lib\\site-packages\\pymysql\\cursors.py:329: Warning: (1062, \"Duplicate entry 'daum_1774-액션' for key 'PRIMARY'\")\n",
      "  self._do_get_result()\n",
      "c:\\users\\administrator\\appdata\\local\\programs\\python\\python37\\lib\\site-packages\\pymysql\\cursors.py:329: Warning: (1062, \"Duplicate entry 'daum_1774-드라마' for key 'PRIMARY'\")\n",
      "  self._do_get_result()\n"
     ]
    },
    {
     "name": "stdout",
     "output_type": "stream",
     "text": [
      "*********************************************\n",
      "<daum_1776>\n"
     ]
    },
    {
     "name": "stderr",
     "output_type": "stream",
     "text": [
      "c:\\users\\administrator\\appdata\\local\\programs\\python\\python37\\lib\\site-packages\\pymysql\\cursors.py:329: Warning: (1062, \"Duplicate entry 'daum_1776-드라마' for key 'PRIMARY'\")\n",
      "  self._do_get_result()\n",
      "c:\\users\\administrator\\appdata\\local\\programs\\python\\python37\\lib\\site-packages\\pymysql\\cursors.py:329: Warning: (1062, \"Duplicate entry 'daum_1776-순정' for key 'PRIMARY'\")\n",
      "  self._do_get_result()\n"
     ]
    },
    {
     "name": "stdout",
     "output_type": "stream",
     "text": [
      "*********************************************\n",
      "<daum_1781>\n"
     ]
    },
    {
     "name": "stderr",
     "output_type": "stream",
     "text": [
      "c:\\users\\administrator\\appdata\\local\\programs\\python\\python37\\lib\\site-packages\\pymysql\\cursors.py:329: Warning: (1062, \"Duplicate entry 'daum_1781-순정' for key 'PRIMARY'\")\n",
      "  self._do_get_result()\n"
     ]
    },
    {
     "name": "stdout",
     "output_type": "stream",
     "text": [
      "*********************************************\n",
      "<daum_1794>\n"
     ]
    },
    {
     "name": "stderr",
     "output_type": "stream",
     "text": [
      "c:\\users\\administrator\\appdata\\local\\programs\\python\\python37\\lib\\site-packages\\pymysql\\cursors.py:329: Warning: (1062, \"Duplicate entry 'daum_1794-드라마' for key 'PRIMARY'\")\n",
      "  self._do_get_result()\n",
      "c:\\users\\administrator\\appdata\\local\\programs\\python\\python37\\lib\\site-packages\\pymysql\\cursors.py:329: Warning: (1062, \"Duplicate entry 'daum_1794-지식' for key 'PRIMARY'\")\n",
      "  self._do_get_result()\n"
     ]
    },
    {
     "name": "stdout",
     "output_type": "stream",
     "text": [
      "*********************************************\n",
      "<daum_1795>\n"
     ]
    },
    {
     "name": "stderr",
     "output_type": "stream",
     "text": [
      "c:\\users\\administrator\\appdata\\local\\programs\\python\\python37\\lib\\site-packages\\pymysql\\cursors.py:329: Warning: (1062, \"Duplicate entry 'daum_1795-스릴러' for key 'PRIMARY'\")\n",
      "  self._do_get_result()\n",
      "c:\\users\\administrator\\appdata\\local\\programs\\python\\python37\\lib\\site-packages\\pymysql\\cursors.py:329: Warning: (1062, \"Duplicate entry 'daum_1795-드라마' for key 'PRIMARY'\")\n",
      "  self._do_get_result()\n"
     ]
    },
    {
     "name": "stdout",
     "output_type": "stream",
     "text": [
      "*********************************************\n",
      "<daum_1796>\n"
     ]
    },
    {
     "name": "stderr",
     "output_type": "stream",
     "text": [
      "c:\\users\\administrator\\appdata\\local\\programs\\python\\python37\\lib\\site-packages\\pymysql\\cursors.py:329: Warning: (1062, \"Duplicate entry 'daum_1796-판타지' for key 'PRIMARY'\")\n",
      "  self._do_get_result()\n",
      "c:\\users\\administrator\\appdata\\local\\programs\\python\\python37\\lib\\site-packages\\pymysql\\cursors.py:329: Warning: (1062, \"Duplicate entry 'daum_1796-순정' for key 'PRIMARY'\")\n",
      "  self._do_get_result()\n"
     ]
    },
    {
     "name": "stdout",
     "output_type": "stream",
     "text": [
      "*********************************************\n",
      "<daum_1799>\n"
     ]
    },
    {
     "name": "stderr",
     "output_type": "stream",
     "text": [
      "c:\\users\\administrator\\appdata\\local\\programs\\python\\python37\\lib\\site-packages\\pymysql\\cursors.py:329: Warning: (1062, \"Duplicate entry 'daum_1799-드라마' for key 'PRIMARY'\")\n",
      "  self._do_get_result()\n",
      "c:\\users\\administrator\\appdata\\local\\programs\\python\\python37\\lib\\site-packages\\pymysql\\cursors.py:329: Warning: (1062, \"Duplicate entry 'daum_1799-판타지' for key 'PRIMARY'\")\n",
      "  self._do_get_result()\n"
     ]
    },
    {
     "name": "stdout",
     "output_type": "stream",
     "text": [
      "*********************************************\n",
      "<daum_1805>\n"
     ]
    },
    {
     "name": "stderr",
     "output_type": "stream",
     "text": [
      "c:\\users\\administrator\\appdata\\local\\programs\\python\\python37\\lib\\site-packages\\pymysql\\cursors.py:329: Warning: (1062, \"Duplicate entry 'daum_1805-순정' for key 'PRIMARY'\")\n",
      "  self._do_get_result()\n"
     ]
    },
    {
     "name": "stdout",
     "output_type": "stream",
     "text": [
      "*********************************************\n",
      "<daum_1806>\n"
     ]
    },
    {
     "name": "stderr",
     "output_type": "stream",
     "text": [
      "c:\\users\\administrator\\appdata\\local\\programs\\python\\python37\\lib\\site-packages\\pymysql\\cursors.py:329: Warning: (1062, \"Duplicate entry 'daum_1806-드라마' for key 'PRIMARY'\")\n",
      "  self._do_get_result()\n",
      "c:\\users\\administrator\\appdata\\local\\programs\\python\\python37\\lib\\site-packages\\pymysql\\cursors.py:329: Warning: (1062, \"Duplicate entry 'daum_1806-액션' for key 'PRIMARY'\")\n",
      "  self._do_get_result()\n"
     ]
    },
    {
     "name": "stdout",
     "output_type": "stream",
     "text": [
      "*********************************************\n",
      "<daum_1807>\n"
     ]
    },
    {
     "name": "stderr",
     "output_type": "stream",
     "text": [
      "c:\\users\\administrator\\appdata\\local\\programs\\python\\python37\\lib\\site-packages\\pymysql\\cursors.py:329: Warning: (1062, \"Duplicate entry 'daum_1807-판타지' for key 'PRIMARY'\")\n",
      "  self._do_get_result()\n",
      "c:\\users\\administrator\\appdata\\local\\programs\\python\\python37\\lib\\site-packages\\pymysql\\cursors.py:329: Warning: (1062, \"Duplicate entry 'daum_1807-순정' for key 'PRIMARY'\")\n",
      "  self._do_get_result()\n"
     ]
    },
    {
     "name": "stdout",
     "output_type": "stream",
     "text": [
      "*********************************************\n",
      "<daum_1809>\n"
     ]
    },
    {
     "name": "stderr",
     "output_type": "stream",
     "text": [
      "c:\\users\\administrator\\appdata\\local\\programs\\python\\python37\\lib\\site-packages\\pymysql\\cursors.py:329: Warning: (1062, \"Duplicate entry 'daum_1809-스릴러' for key 'PRIMARY'\")\n",
      "  self._do_get_result()\n",
      "c:\\users\\administrator\\appdata\\local\\programs\\python\\python37\\lib\\site-packages\\pymysql\\cursors.py:329: Warning: (1062, \"Duplicate entry 'daum_1809-액션' for key 'PRIMARY'\")\n",
      "  self._do_get_result()\n"
     ]
    },
    {
     "name": "stdout",
     "output_type": "stream",
     "text": [
      "*********************************************\n",
      "<daum_1811>\n"
     ]
    },
    {
     "name": "stderr",
     "output_type": "stream",
     "text": [
      "c:\\users\\administrator\\appdata\\local\\programs\\python\\python37\\lib\\site-packages\\pymysql\\cursors.py:329: Warning: (1062, \"Duplicate entry 'daum_1811-드라마' for key 'PRIMARY'\")\n",
      "  self._do_get_result()\n",
      "c:\\users\\administrator\\appdata\\local\\programs\\python\\python37\\lib\\site-packages\\pymysql\\cursors.py:329: Warning: (1062, \"Duplicate entry 'daum_1811-순정' for key 'PRIMARY'\")\n",
      "  self._do_get_result()\n"
     ]
    },
    {
     "name": "stdout",
     "output_type": "stream",
     "text": [
      "*********************************************\n",
      "<daum_1815>\n"
     ]
    },
    {
     "name": "stderr",
     "output_type": "stream",
     "text": [
      "c:\\users\\administrator\\appdata\\local\\programs\\python\\python37\\lib\\site-packages\\pymysql\\cursors.py:329: Warning: (1062, \"Duplicate entry 'daum_1815-액션' for key 'PRIMARY'\")\n",
      "  self._do_get_result()\n"
     ]
    },
    {
     "name": "stdout",
     "output_type": "stream",
     "text": [
      "*********************************************\n",
      "<daum_1816>\n"
     ]
    },
    {
     "name": "stderr",
     "output_type": "stream",
     "text": [
      "c:\\users\\administrator\\appdata\\local\\programs\\python\\python37\\lib\\site-packages\\pymysql\\cursors.py:329: Warning: (1062, \"Duplicate entry 'daum_1816-드라마' for key 'PRIMARY'\")\n",
      "  self._do_get_result()\n",
      "c:\\users\\administrator\\appdata\\local\\programs\\python\\python37\\lib\\site-packages\\pymysql\\cursors.py:329: Warning: (1062, \"Duplicate entry 'daum_1816-판타지' for key 'PRIMARY'\")\n",
      "  self._do_get_result()\n"
     ]
    },
    {
     "name": "stdout",
     "output_type": "stream",
     "text": [
      "*********************************************\n",
      "<daum_1819>\n"
     ]
    },
    {
     "name": "stderr",
     "output_type": "stream",
     "text": [
      "c:\\users\\administrator\\appdata\\local\\programs\\python\\python37\\lib\\site-packages\\pymysql\\cursors.py:329: Warning: (1062, \"Duplicate entry 'daum_1819-드라마' for key 'PRIMARY'\")\n",
      "  self._do_get_result()\n",
      "c:\\users\\administrator\\appdata\\local\\programs\\python\\python37\\lib\\site-packages\\pymysql\\cursors.py:329: Warning: (1062, \"Duplicate entry 'daum_1819-일상' for key 'PRIMARY'\")\n",
      "  self._do_get_result()\n"
     ]
    },
    {
     "name": "stdout",
     "output_type": "stream",
     "text": [
      "*********************************************\n",
      "<daum_1826>\n"
     ]
    },
    {
     "name": "stderr",
     "output_type": "stream",
     "text": [
      "c:\\users\\administrator\\appdata\\local\\programs\\python\\python37\\lib\\site-packages\\pymysql\\cursors.py:329: Warning: (1062, \"Duplicate entry 'daum_1826-스릴러' for key 'PRIMARY'\")\n",
      "  self._do_get_result()\n",
      "c:\\users\\administrator\\appdata\\local\\programs\\python\\python37\\lib\\site-packages\\pymysql\\cursors.py:329: Warning: (1062, \"Duplicate entry 'daum_1826-드라마' for key 'PRIMARY'\")\n",
      "  self._do_get_result()\n"
     ]
    },
    {
     "name": "stdout",
     "output_type": "stream",
     "text": [
      "*********************************************\n",
      "<daum_1827>\n"
     ]
    },
    {
     "name": "stderr",
     "output_type": "stream",
     "text": [
      "c:\\users\\administrator\\appdata\\local\\programs\\python\\python37\\lib\\site-packages\\pymysql\\cursors.py:329: Warning: (1062, \"Duplicate entry 'daum_1827-드라마' for key 'PRIMARY'\")\n",
      "  self._do_get_result()\n",
      "c:\\users\\administrator\\appdata\\local\\programs\\python\\python37\\lib\\site-packages\\pymysql\\cursors.py:329: Warning: (1062, \"Duplicate entry 'daum_1827-판타지' for key 'PRIMARY'\")\n",
      "  self._do_get_result()\n",
      "c:\\users\\administrator\\appdata\\local\\programs\\python\\python37\\lib\\site-packages\\pymysql\\cursors.py:329: Warning: (1062, \"Duplicate entry 'daum_1827-순정' for key 'PRIMARY'\")\n",
      "  self._do_get_result()\n"
     ]
    },
    {
     "name": "stdout",
     "output_type": "stream",
     "text": [
      "*********************************************\n",
      "<daum_1834>\n"
     ]
    },
    {
     "name": "stderr",
     "output_type": "stream",
     "text": [
      "c:\\users\\administrator\\appdata\\local\\programs\\python\\python37\\lib\\site-packages\\pymysql\\cursors.py:329: Warning: (1062, \"Duplicate entry 'daum_1834-드라마' for key 'PRIMARY'\")\n",
      "  self._do_get_result()\n",
      "c:\\users\\administrator\\appdata\\local\\programs\\python\\python37\\lib\\site-packages\\pymysql\\cursors.py:329: Warning: (1062, \"Duplicate entry 'daum_1834-지식' for key 'PRIMARY'\")\n",
      "  self._do_get_result()\n"
     ]
    },
    {
     "name": "stdout",
     "output_type": "stream",
     "text": [
      "*********************************************\n",
      "<daum_1836>\n"
     ]
    },
    {
     "name": "stderr",
     "output_type": "stream",
     "text": [
      "c:\\users\\administrator\\appdata\\local\\programs\\python\\python37\\lib\\site-packages\\pymysql\\cursors.py:329: Warning: (1062, \"Duplicate entry 'daum_1836-액션' for key 'PRIMARY'\")\n",
      "  self._do_get_result()\n",
      "c:\\users\\administrator\\appdata\\local\\programs\\python\\python37\\lib\\site-packages\\pymysql\\cursors.py:329: Warning: (1062, \"Duplicate entry 'daum_1836-판타지' for key 'PRIMARY'\")\n",
      "  self._do_get_result()\n"
     ]
    },
    {
     "name": "stdout",
     "output_type": "stream",
     "text": [
      "*********************************************\n",
      "<daum_198>\n"
     ]
    },
    {
     "name": "stderr",
     "output_type": "stream",
     "text": [
      "c:\\users\\administrator\\appdata\\local\\programs\\python\\python37\\lib\\site-packages\\pymysql\\cursors.py:329: Warning: (1062, \"Duplicate entry 'daum_198-일상' for key 'PRIMARY'\")\n",
      "  self._do_get_result()\n"
     ]
    },
    {
     "name": "stdout",
     "output_type": "stream",
     "text": [
      "*********************************************\n",
      "<daum_340daysdelay>\n",
      "*********************************************\n",
      "<daum_783>\n"
     ]
    },
    {
     "name": "stderr",
     "output_type": "stream",
     "text": [
      "c:\\users\\administrator\\appdata\\local\\programs\\python\\python37\\lib\\site-packages\\pymysql\\cursors.py:329: Warning: (1062, \"Duplicate entry 'daum_783-판타지' for key 'PRIMARY'\")\n",
      "  self._do_get_result()\n",
      "c:\\users\\administrator\\appdata\\local\\programs\\python\\python37\\lib\\site-packages\\pymysql\\cursors.py:329: Warning: (1062, \"Duplicate entry 'daum_783-순정' for key 'PRIMARY'\")\n",
      "  self._do_get_result()\n"
     ]
    },
    {
     "name": "stdout",
     "output_type": "stream",
     "text": [
      "*********************************************\n",
      "<daum_792>\n"
     ]
    },
    {
     "name": "stderr",
     "output_type": "stream",
     "text": [
      "c:\\users\\administrator\\appdata\\local\\programs\\python\\python37\\lib\\site-packages\\pymysql\\cursors.py:329: Warning: (1062, \"Duplicate entry 'daum_792-판타지' for key 'PRIMARY'\")\n",
      "  self._do_get_result()\n",
      "c:\\users\\administrator\\appdata\\local\\programs\\python\\python37\\lib\\site-packages\\pymysql\\cursors.py:329: Warning: (1062, \"Duplicate entry 'daum_792-액션' for key 'PRIMARY'\")\n",
      "  self._do_get_result()\n"
     ]
    },
    {
     "name": "stdout",
     "output_type": "stream",
     "text": [
      "*********************************************\n",
      "<daum_816>\n"
     ]
    },
    {
     "name": "stderr",
     "output_type": "stream",
     "text": [
      "c:\\users\\administrator\\appdata\\local\\programs\\python\\python37\\lib\\site-packages\\pymysql\\cursors.py:329: Warning: (1062, \"Duplicate entry 'daum_816-판타지' for key 'PRIMARY'\")\n",
      "  self._do_get_result()\n",
      "c:\\users\\administrator\\appdata\\local\\programs\\python\\python37\\lib\\site-packages\\pymysql\\cursors.py:329: Warning: (1062, \"Duplicate entry 'daum_816-액션' for key 'PRIMARY'\")\n",
      "  self._do_get_result()\n"
     ]
    },
    {
     "name": "stdout",
     "output_type": "stream",
     "text": [
      "*********************************************\n",
      "<daum_823>\n"
     ]
    },
    {
     "name": "stderr",
     "output_type": "stream",
     "text": [
      "c:\\users\\administrator\\appdata\\local\\programs\\python\\python37\\lib\\site-packages\\pymysql\\cursors.py:329: Warning: (1062, \"Duplicate entry 'daum_823-액션' for key 'PRIMARY'\")\n",
      "  self._do_get_result()\n"
     ]
    },
    {
     "name": "stdout",
     "output_type": "stream",
     "text": [
      "*********************************************\n",
      "<daum_869>\n"
     ]
    },
    {
     "name": "stderr",
     "output_type": "stream",
     "text": [
      "c:\\users\\administrator\\appdata\\local\\programs\\python\\python37\\lib\\site-packages\\pymysql\\cursors.py:329: Warning: (1062, \"Duplicate entry 'daum_869-판타지' for key 'PRIMARY'\")\n",
      "  self._do_get_result()\n",
      "c:\\users\\administrator\\appdata\\local\\programs\\python\\python37\\lib\\site-packages\\pymysql\\cursors.py:329: Warning: (1062, \"Duplicate entry 'daum_869-순정' for key 'PRIMARY'\")\n",
      "  self._do_get_result()\n"
     ]
    },
    {
     "name": "stdout",
     "output_type": "stream",
     "text": [
      "*********************************************\n",
      "<daum_975>\n"
     ]
    },
    {
     "name": "stderr",
     "output_type": "stream",
     "text": [
      "c:\\users\\administrator\\appdata\\local\\programs\\python\\python37\\lib\\site-packages\\pymysql\\cursors.py:329: Warning: (1062, \"Duplicate entry 'daum_975-드라마' for key 'PRIMARY'\")\n",
      "  self._do_get_result()\n"
     ]
    },
    {
     "name": "stdout",
     "output_type": "stream",
     "text": [
      "*********************************************\n",
      "<daum_againflower>\n",
      "*********************************************\n",
      "<daum_airlove>\n",
      "*********************************************\n",
      "<daum_angelhouse>\n",
      "*********************************************\n",
      "<daum_animalhero>\n",
      "*********************************************\n",
      "<daum_artist>\n",
      "*********************************************\n",
      "<daum_backeunaran>\n",
      "*********************************************\n",
      "<daum_bbiguraebong>\n",
      "*********************************************\n",
      "<daum_beltupdown>\n",
      "*********************************************\n",
      "<daum_bindongbindong>\n",
      "*********************************************\n",
      "<daum_blackark>\n",
      "*********************************************\n",
      "<daum_blinker>\n",
      "*********************************************\n",
      "<daum_bliznitch>\n",
      "*********************************************\n",
      "<daum_bluffingguy>\n",
      "*********************************************\n",
      "<daum_bodyforrent>\n",
      "*********************************************\n",
      "<daum_butterflydream>\n",
      "*********************************************\n",
      "<daum_catch>\n",
      "*********************************************\n",
      "<daum_chabong4>\n",
      "*********************************************\n",
      "<daum_cheonryang>\n",
      "*********************************************\n",
      "<daum_chinchilla>\n",
      "*********************************************\n",
      "<daum_chisam>\n",
      "*********************************************\n",
      "<daum_christmaswith>\n",
      "*********************************************\n",
      "<daum_cleanerk>\n",
      "*********************************************\n",
      "<daum_control>\n",
      "*********************************************\n",
      "<daum_cookingguy>\n",
      "*********************************************\n",
      "<daum_crimepuzzle>\n",
      "*********************************************\n",
      "<daum_crisis>\n",
      "*********************************************\n",
      "<daum_crossingcode>\n",
      "*********************************************\n",
      "<daum_dagumbari>\n",
      "*********************************************\n",
      "<daum_dangerouscohabit>\n",
      "*********************************************\n",
      "<daum_danzi>\n",
      "*********************************************\n",
      "<daum_darkspeed>\n",
      "*********************************************\n",
      "<daum_darkworldgo>\n",
      "*********************************************\n",
      "<daum_deadorlife>\n",
      "*********************************************\n",
      "<daum_dearmyuniverse>\n",
      "*********************************************\n",
      "<daum_debenture>\n",
      "*********************************************\n",
      "<daum_deepbluechild>\n",
      "*********************************************\n",
      "<daum_devilqueen>\n",
      "*********************************************\n",
      "<daum_DIVINE>\n",
      "*********************************************\n",
      "<daum_dogungqueen>\n",
      "*********************************************\n",
      "<daum_dokabi>\n",
      "*********************************************\n",
      "<daum_dontforget>\n",
      "*********************************************\n",
      "<daum_doublecasting>\n",
      "*********************************************\n",
      "<daum_dreaming>\n",
      "*********************************************\n",
      "<daum_dryflower>\n",
      "*********************************************\n",
      "<daum_dustgirl>\n",
      "*********************************************\n",
      "<daum_eastfactory>\n",
      "*********************************************\n",
      "<daum_eightyfive>\n",
      "*********************************************\n",
      "<daum_einsteinbridge>\n",
      "*********************************************\n",
      "<daum_eunsangeunsang>\n",
      "*********************************************\n",
      "<daum_europe100days>\n",
      "*********************************************\n",
      "<daum_exorbitantage>\n",
      "*********************************************\n",
      "<daum_fakecouple>\n",
      "*********************************************\n",
      "<daum_fallskyfall>\n",
      "*********************************************\n",
      "<daum_fantasyforest>\n",
      "*********************************************\n",
      "<daum_fantasysale>\n",
      "*********************************************\n",
      "<daum_feelcloser>\n",
      "*********************************************\n",
      "<daum_forElysee>\n",
      "*********************************************\n",
      "<daum_freshfresh>\n",
      "*********************************************\n",
      "<daum_futuretoyou>\n",
      "*********************************************\n",
      "<daum_generalnight>\n",
      "*********************************************\n",
      "<daum_gettoyou>\n",
      "*********************************************\n",
      "<daum_gidongchanour>\n",
      "*********************************************\n",
      "<daum_gobackhome>\n",
      "*********************************************\n",
      "<daum_gobackintime>\n",
      "*********************************************\n",
      "<daum_GoblinRoyale>\n",
      "*********************************************\n",
      "<daum_goodbyemom>\n",
      "*********************************************\n",
      "<daum_greatromance>\n",
      "*********************************************\n",
      "<daum_guangsehero>\n",
      "*********************************************\n",
      "<daum_hadeschool>\n",
      "*********************************************\n",
      "<daum_hamchirr>\n",
      "*********************************************\n",
      "<daum_hamsterandher>\n",
      "*********************************************\n",
      "<daum_happyparadise>\n",
      "*********************************************\n",
      "<daum_hawumgarden>\n",
      "*********************************************\n",
      "<daum_hellowinter>\n",
      "*********************************************\n",
      "<daum_heshehe>\n",
      "*********************************************\n",
      "<daum_hoastory>\n",
      "*********************************************\n",
      "<daum_holder>\n",
      "*********************************************\n",
      "<daum_hopefor>\n",
      "*********************************************\n",
      "<daum_humanskin>\n",
      "*********************************************\n",
      "<daum_hunimal>\n",
      "*********************************************\n",
      "<daum_idoser>\n",
      "*********************************************\n",
      "<daum_illang>\n",
      "*********************************************\n",
      "<daum_i_run>\n",
      "*********************************************\n",
      "<daum_JackieChan>\n",
      "*********************************************\n",
      "<daum_joyportrait>\n",
      "*********************************************\n",
      "<daum_kimong_fairytale>\n",
      "*********************************************\n",
      "<daum_kimsagat>\n",
      "*********************************************\n",
      "<daum_knucklegirlrusty>\n",
      "*********************************************\n",
      "<daum_knuklegirl>\n",
      "*********************************************\n",
      "<daum_koekoi>\n",
      "*********************************************\n",
      "<daum_ladyandzentleman>\n",
      "*********************************************\n",
      "<daum_ladyproject>\n",
      "*********************************************\n",
      "<daum_Lestat>\n",
      "*********************************************\n",
      "<daum_likefire>\n",
      "*********************************************\n",
      "<daum_lineup>\n",
      "*********************************************\n",
      "<daum_livelife>\n",
      "*********************************************\n",
      "<daum_loplop>\n",
      "*********************************************\n",
      "<daum_loveandwish>\n",
      "*********************************************\n",
      "<daum_loveless>\n",
      "*********************************************\n",
      "<daum_lowplace>\n",
      "*********************************************\n",
      "<daum_meetundermoon>\n",
      "*********************************************\n",
      "<daum_merinmermaid>\n",
      "*********************************************\n",
      "<daum_midnightpartner>\n",
      "*********************************************\n",
      "<daum_moralsense>\n",
      "*********************************************\n",
      "<daum_mothers>\n",
      "*********************************************\n",
      "<daum_mywich>\n",
      "*********************************************\n",
      "<daum_neighbordeath>\n",
      "*********************************************\n",
      "<daum_newlifeschool>\n",
      "*********************************************\n",
      "<daum_nicemeettoyou>\n",
      "*********************************************\n",
      "<daum_notseeworld>\n",
      "*********************************************\n",
      "<daum_Now>\n",
      "*********************************************\n",
      "<daum_now372doone>\n",
      "*********************************************\n",
      "<daum_now372dotwo>\n",
      "*********************************************\n",
      "<daum_ofakind>\n",
      "*********************************************\n",
      "<daum_onepieceland>\n",
      "*********************************************\n",
      "<daum_onlythat>\n",
      "*********************************************\n",
      "<daum_oolongaksi>\n",
      "*********************************************\n",
      "<daum_pearl>\n",
      "*********************************************\n",
      "<daum_perfectclass>\n",
      "*********************************************\n",
      "<daum_perfectcrush>\n",
      "*********************************************\n",
      "<daum_perpectdinner>\n",
      "*********************************************\n",
      "<daum_pinkpink>\n",
      "*********************************************\n",
      "<daum_primroseyellow>\n",
      "*********************************************\n",
      "<daum_princebethere>\n",
      "*********************************************\n",
      "<daum_privatefreshman>\n",
      "*********************************************\n",
      "<daum_puremuzisister>\n",
      "*********************************************\n",
      "<daum_purgatorycollege>\n",
      "*********************************************\n",
      "<daum_queenpoket>\n"
     ]
    },
    {
     "name": "stdout",
     "output_type": "stream",
     "text": [
      "*********************************************\n",
      "<daum_rebutdidi>\n",
      "*********************************************\n",
      "<daum_relationship>\n",
      "*********************************************\n",
      "<daum_romeoisjuliet>\n",
      "*********************************************\n",
      "<daum_rooftopdrift>\n",
      "*********************************************\n",
      "<daum_runstarmoon>\n",
      "*********************************************\n",
      "<daum_sadstop>\n",
      "*********************************************\n",
      "<daum_sangod>\n",
      "*********************************************\n",
      "<daum_sasaeng>\n",
      "*********************************************\n",
      "<daum_seoulknight>\n",
      "*********************************************\n",
      "<daum_shadowboy>\n",
      "*********************************************\n",
      "<daum_sheisfull>\n",
      "*********************************************\n",
      "<daum_sheisvip>\n",
      "*********************************************\n",
      "<daum_sherlockqueen>\n",
      "*********************************************\n",
      "<daum_shimchung>\n",
      "*********************************************\n",
      "<daum_shivering>\n",
      "*********************************************\n",
      "<daum_shootingstar>\n",
      "*********************************************\n",
      "<daum_silvergorilla>\n",
      "*********************************************\n",
      "<daum_springwindflower>\n",
      "*********************************************\n",
      "<daum_steelsteel>\n",
      "*********************************************\n",
      "<daum_stellarprince>\n",
      "*********************************************\n",
      "<daum_strangerecipe>\n",
      "*********************************************\n",
      "<daum_sweetfallinlove>\n",
      "*********************************************\n",
      "<daum_tenpm>\n",
      "*********************************************\n",
      "<daum_thatsokgold>\n",
      "*********************************************\n",
      "<daum_threeboys>\n",
      "*********************************************\n",
      "<daum_thrillingstage>\n",
      "*********************************************\n",
      "<daum_toheart>\n",
      "*********************************************\n",
      "<daum_tongedge>\n",
      "*********************************************\n",
      "<daum_trianglenori>\n",
      "*********************************************\n",
      "<daum_twoian>\n",
      "*********************************************\n",
      "<daum_twomen>\n",
      "*********************************************\n",
      "<daum_unluckymention>\n",
      "*********************************************\n",
      "<daum_villains>\n",
      "*********************************************\n",
      "<daum_weddingveil>\n",
      "*********************************************\n",
      "<daum_whereveriwantu>\n",
      "*********************************************\n",
      "<daum_winternight>\n",
      "*********************************************\n",
      "<daum_wolfanddeer>\n",
      "*********************************************\n",
      "<daum_yimyeonsoo>\n",
      "*********************************************\n",
      "<daum_yonghanman>\n",
      "*********************************************\n",
      "<daum_yougsuspring>\n",
      "*********************************************\n",
      "<daum_youngha>\n",
      "*********************************************\n",
      "<daum_yourbeautiful>\n",
      "*********************************************\n",
      "<daum_youwithme>\n",
      "*********************************************\n",
      "<daum_zentlebeast>\n"
     ]
    }
   ],
   "source": [
    "# ------ 3. 회차 정보\n",
    "browser = webdriver.Chrome('C:/Users/Administrator/OneDrive/Readers/Crawling/chromedriver.exe')\n",
    "\n",
    "sel_url_sql = 'select toon_id, toon_url from toon_info where toon_site = \"daum\"'\n",
    "sel_dup_sql = 'select toon_id, epi_name from epi_info where toon_id = %s and epi_name = %s'\n",
    "ins_epi_info_sql = 'insert into epi_info(toon_id, epi_name, epi_url, epi_thumb_url, epi_date)\\\n",
    "                    values (%s, %s, %s, %s, %s)'\n",
    "\n",
    "desc_sql = \"update toon_info set toon_desc = %s where toon_id = %s and toon_desc = ''\"\n",
    "genre_sql = \"insert ignore into toon_genre(toon_id, genre_name)\\\n",
    "             values (%s, %s)\"\n",
    "\n",
    "cursor1.execute(sel_url_sql)\n",
    "result = cursor1.fetchall()\n",
    "   \n",
    "for row in result:\n",
    "    toon_id = row['toon_id']\n",
    "    toon_url = row['toon_url']\n",
    "    \n",
    "    browser.get(toon_url)\n",
    "    browser.implicitly_wait(10)\n",
    "    \n",
    "    # 성인 작품 다 삭제했지만.. 아마 19금이어서 안 열리는 애 pass\n",
    "    if \"logins.daum.net\" in browser.current_url:\n",
    "        continue\n",
    "    \n",
    "    print('*********************************************')\n",
    "    print('<' + toon_id + '>')\n",
    "\n",
    "    #장르\n",
    "    gn = browser.find_element_by_class_name(\"txt_genre\")\n",
    "    tag = 1\n",
    "    while 1:\n",
    "        try:\n",
    "            genres = gn.find_element_by_xpath(\"a[\"+ str(tag) +\"]\")\n",
    "            genre = genres.text\n",
    "            genre = genre.replace(\"#\", '')\n",
    "            tag +=1\n",
    "            cursor2.execute(genre_sql, (toon_id, genre))\n",
    "        except: break\n",
    "\n",
    "    #설명\n",
    "    desc = browser.find_element_by_class_name(\"txt_story\")\n",
    "    toon_desc = desc.text\n",
    "    cursor3.execute(desc_sql,(toon_desc, toon_id))\n",
    "    \n",
    "    num = 1 # episode 개수 탐색\n",
    "    page = 1\n",
    "    while num < 27:\n",
    "        try:\n",
    "            epilist = browser.find_element_by_xpath(\"//*[@id=\\\"episodeList\\\"]/ul/li[\" + str(num) + \"]\")\n",
    "\n",
    "            episode = epilist.find_element_by_xpath(\"a\")\n",
    "            #browser.execute_script(\"arguments[0].scrollIntoView(true);\", episode) # Scroll to this episode\n",
    "\n",
    "            # URL\n",
    "            epi_url = episode.get_attribute('href')\n",
    "\n",
    "            # 썸네일 링크\n",
    "            thumb = episode.find_element_by_class_name('img_thumb')\n",
    "            epi_thumb_url = thumb.get_attribute('src')\n",
    "\n",
    "            # 에피소드 제목\n",
    "            name = episode.find_element_by_class_name(\"tit_wt\")\n",
    "            epi_name = name.text\n",
    "\n",
    "            # 업데이트 날짜\n",
    "            if epilist.get_attribute('class') == \"item_preview\":\n",
    "                #date = epilist.find_element_by_class_name('txt_date') # n일 후 무료 이런 식이라서 디비에 안드감ㅋ\n",
    "                #date = date.text\n",
    "                date = \"2999-12-31\"\n",
    "            else:\n",
    "                date = epilist.find_element_by_xpath(\"div/span\")\n",
    "                if date.get_attribute('class') == \"txt_price\": # 이거 처리 안해주면 \\200 들어감ㅋ\n",
    "                    date = epilist.find_element_by_xpath(\"div/span[3]\")\n",
    "                date = date.text\n",
    "            epi_date = date.replace(\".\", \"-\")\n",
    "\n",
    "            \n",
    "            cursor2.execute(sel_dup_sql, (toon_id, epi_name))\n",
    "            if cursor2.fetchall():\n",
    "                pass\n",
    "            else:\n",
    "                cursor3.execute(ins_epi_info_sql, (toon_id, epi_name, epi_url, epi_thumb_url, epi_date))\n",
    "                db.commit()\n",
    "\n",
    "\n",
    "            num += 1\n",
    "            if num == 26:\n",
    "                page +=1\n",
    "                browser.get(toon_url + \"#pageNo=\" + str(page))\n",
    "                num = 1\n",
    "\n",
    "        except:\n",
    "            #print(\"!!!!!!! EROROR\")\n",
    "            break\n",
    "        \n",
    "db.close()"
   ]
  },
  {
   "cell_type": "code",
   "execution_count": null,
   "metadata": {},
   "outputs": [],
   "source": []
  },
  {
   "cell_type": "code",
   "execution_count": null,
   "metadata": {},
   "outputs": [],
   "source": []
  }
 ],
 "metadata": {
  "kernelspec": {
   "display_name": "Python 3",
   "language": "python",
   "name": "python3"
  },
  "language_info": {
   "codemirror_mode": {
    "name": "ipython",
    "version": 3
   },
   "file_extension": ".py",
   "mimetype": "text/x-python",
   "name": "python",
   "nbconvert_exporter": "python",
   "pygments_lexer": "ipython3",
   "version": "3.7.2"
  }
 },
 "nbformat": 4,
 "nbformat_minor": 2
}
